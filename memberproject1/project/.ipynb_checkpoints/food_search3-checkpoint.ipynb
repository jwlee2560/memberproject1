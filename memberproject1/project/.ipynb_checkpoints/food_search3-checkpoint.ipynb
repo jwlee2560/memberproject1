{
 "cells": [
  {
   "cell_type": "code",
   "execution_count": 19,
   "id": "305e6999-a683-42df-b201-75863445be23",
   "metadata": {},
   "outputs": [],
   "source": [
    "import pandas as pd\n",
    "import numpy as np\n",
    "\n",
    "foods = pd.read_csv('./전국통합식품영양성분정보(가공식품)표준데이터.csv', sep=',', encoding='ms949')"
   ]
  },
  {
   "cell_type": "code",
   "execution_count": 20,
   "id": "25a2e828-1ac5-436b-9b66-7245c4320a0e",
   "metadata": {},
   "outputs": [],
   "source": [
    "# foodSet = pd.DataFrame(foods, columns=['식품코드', '식품명', '에너지(kcal)', '탄수화물(g)', '단백질(g)', '지방(g)', '포화지방산(g)', '나트륨(mg)'])\n",
    "foodSet = pd.DataFrame(foods, columns=['식품코드', '식품명', '대표식품명', '식품대분류명', '식품중분류명', '식품소분류명', '에너지(kcal)', '탄수화물(g)', '단백질(g)', '지방(g)', '포화지방산(g)', '나트륨(mg)'])"
   ]
  },
  {
   "cell_type": "code",
   "execution_count": 21,
   "id": "35d87db2-7c19-4952-806d-c49e7fff7d1a",
   "metadata": {},
   "outputs": [
    {
     "data": {
      "text/plain": [
       "45196"
      ]
     },
     "execution_count": 21,
     "metadata": {},
     "output_type": "execute_result"
    }
   ],
   "source": [
    "# 추가 : '식품대분류명' = '식용유지류', '잼류', '당류', '장류', '조미식품' 배제\n",
    "#print(foodSet['식품대분류명'])\n",
    "\n",
    "foodSet = foodSet.loc[(foodSet['식품대분류명'] != '식용유지류') & \\\n",
    "                      (foodSet['식품대분류명'] != '잼류') & \\\n",
    "                      (foodSet['식품대분류명'] != '당류') & \\\n",
    "                      (foodSet['식품대분류명'] != '장류') & \\\n",
    "                      (foodSet['식품대분류명'] != '조미식품')]\n",
    "len(foodSet)"
   ]
  },
  {
   "cell_type": "code",
   "execution_count": 22,
   "id": "8dbc0be7-6ea6-4e82-a579-3a94e13e6702",
   "metadata": {},
   "outputs": [],
   "source": [
    "# 결측치 제거  : NaN 있을 경우 K Mean 측정에서 문제 발생\n",
    "foodSet.fillna(0, inplace=True)"
   ]
  },
  {
   "cell_type": "code",
   "execution_count": 23,
   "id": "8cec1525-640c-4f8d-89a3-63c44c935db1",
   "metadata": {},
   "outputs": [],
   "source": [
    "#selectedFood = foodSet[foodSet['식품명'].str.contains('된장찌개') & foodSet['식품소분류명'].str.contains('당뇨')].head()\n",
    "#selectedFood"
   ]
  },
  {
   "cell_type": "code",
   "execution_count": 24,
   "id": "58f0dc1d-cfa5-4751-9e7e-701426a7387d",
   "metadata": {},
   "outputs": [],
   "source": [
    "from konlpy.tag import Okt\n",
    "from konlpy.tag import Kkma\n",
    "\n",
    "import re;\n",
    "\n",
    "okt = Okt()\n",
    "kkma = Kkma()"
   ]
  },
  {
   "cell_type": "code",
   "execution_count": 25,
   "id": "86612c70-a9f1-4e94-9023-577c1196a75a",
   "metadata": {},
   "outputs": [
    {
     "data": {
      "text/plain": [
       "['도시락', '반찬', '최고', '스팸', '감자', '조림']"
      ]
     },
     "execution_count": 25,
     "metadata": {},
     "output_type": "execute_result"
    }
   ],
   "source": [
    "searchFoodname = '도시락 반찬으로 최고! 스팸감자조림♡'\n",
    "# 불용어 제거\n",
    "# foodWords = okt.morphs(searchFoodname)\n",
    "\n",
    "foodWords = okt.nouns(searchFoodname)\n",
    "foodWords\n",
    "#type(food_words)"
   ]
  },
  {
   "cell_type": "code",
   "execution_count": 26,
   "id": "b99740bf-b182-4578-9c90-8c271173e410",
   "metadata": {},
   "outputs": [
    {
     "data": {
      "text/html": [
       "<div>\n",
       "<style scoped>\n",
       "    .dataframe tbody tr th:only-of-type {\n",
       "        vertical-align: middle;\n",
       "    }\n",
       "\n",
       "    .dataframe tbody tr th {\n",
       "        vertical-align: top;\n",
       "    }\n",
       "\n",
       "    .dataframe thead th {\n",
       "        text-align: right;\n",
       "    }\n",
       "</style>\n",
       "<table border=\"1\" class=\"dataframe\">\n",
       "  <thead>\n",
       "    <tr style=\"text-align: right;\">\n",
       "      <th></th>\n",
       "      <th>식품코드</th>\n",
       "      <th>식품명</th>\n",
       "      <th>대표식품명</th>\n",
       "      <th>식품대분류명</th>\n",
       "      <th>식품중분류명</th>\n",
       "      <th>식품소분류명</th>\n",
       "      <th>에너지(kcal)</th>\n",
       "      <th>탄수화물(g)</th>\n",
       "      <th>단백질(g)</th>\n",
       "      <th>지방(g)</th>\n",
       "      <th>포화지방산(g)</th>\n",
       "      <th>나트륨(mg)</th>\n",
       "    </tr>\n",
       "  </thead>\n",
       "  <tbody>\n",
       "    <tr>\n",
       "      <th>44642</th>\n",
       "      <td>P111-000030100-0079</td>\n",
       "      <td>환자용 식품_[당뇨식단] 달래된장찌개 세트</td>\n",
       "      <td>환자용 식품</td>\n",
       "      <td>특수의료용도식품</td>\n",
       "      <td>식단형 식사관리식품</td>\n",
       "      <td>당뇨환자용 식단형 식품</td>\n",
       "      <td>100</td>\n",
       "      <td>13.25</td>\n",
       "      <td>4.51</td>\n",
       "      <td>3.25</td>\n",
       "      <td>0.6</td>\n",
       "      <td>180.0</td>\n",
       "    </tr>\n",
       "  </tbody>\n",
       "</table>\n",
       "</div>"
      ],
      "text/plain": [
       "                      식품코드                      식품명   대표식품명    식품대분류명  \\\n",
       "44642  P111-000030100-0079  환자용 식품_[당뇨식단] 달래된장찌개 세트  환자용 식품  특수의료용도식품   \n",
       "\n",
       "           식품중분류명        식품소분류명  에너지(kcal)  탄수화물(g)  단백질(g)  지방(g)  포화지방산(g)  \\\n",
       "44642  식단형 식사관리식품  당뇨환자용 식단형 식품        100    13.25    4.51   3.25       0.6   \n",
       "\n",
       "       나트륨(mg)  \n",
       "44642    180.0  "
      ]
     },
     "execution_count": 26,
     "metadata": {},
     "output_type": "execute_result"
    }
   ],
   "source": [
    "selectedFood = foodSet[foodSet['식품명'].str.contains('된장찌개') & foodSet['식품소분류명'].str.contains('당뇨')].loc[:]\n",
    "selectedFood"
   ]
  },
  {
   "cell_type": "code",
   "execution_count": 30,
   "id": "8b4306ac-84bd-457c-9404-7e96ab03e55c",
   "metadata": {},
   "outputs": [],
   "source": [
    "def extractIngredients():\n",
    "    \n",
    "    # 식약처 음식 목록에서 유효단어(가령 음식 구성 단어들)만 추출\n",
    "    ingredients = set()\n",
    "    \n",
    "    for foodname in foodSet['식품명'] :\n",
    "    \n",
    "        foodWords = okt.nouns(foodname)\n",
    "        \n",
    "        for ingre in foodWords:\n",
    "            ingredients.add(ingre)\n",
    "        \n",
    "    return ingredients"
   ]
  },
  {
   "cell_type": "code",
   "execution_count": 31,
   "id": "ad60c70c-e193-437c-af45-079dba20d9b4",
   "metadata": {},
   "outputs": [
    {
     "data": {
      "text/plain": [
       "'도시락 반찬 최고 스팸 감자 조림'"
      ]
     },
     "execution_count": 31,
     "metadata": {},
     "output_type": "execute_result"
    }
   ],
   "source": [
    "ingreList = extractIngredients()\n",
    "\n",
    "# 불용어 제거\n",
    "def cleanWords(foodname):\n",
    "    \n",
    "    result = ''\n",
    "    foodWords = okt.nouns(foodname)\n",
    "    \n",
    "    for food in foodWords:\n",
    "\n",
    "        if food in ingreList: # 식약처 음식 목록에서 추출한 구성 단어들외에는 제거\n",
    "            result += food + ' '\n",
    "        \n",
    "    return result.strip()\n",
    "\n",
    "cleanWords('도시락 반찬으로 최고! 스팸감자조림♡')"
   ]
  },
  {
   "cell_type": "code",
   "execution_count": 10,
   "id": "a0d1a7d9-3921-430c-b351-2d0d18590f27",
   "metadata": {},
   "outputs": [
    {
     "data": {
      "text/plain": [
       "True"
      ]
     },
     "execution_count": 10,
     "metadata": {},
     "output_type": "execute_result"
    }
   ],
   "source": [
    "targetFood = '도시락 반찬으로 최고! 스팸감자조림♡'\n",
    "targetFood = cleanWords(targetFood)\n",
    "\n",
    "#print(targetFood)\n",
    "\n",
    "'감자' in targetFood\n",
    "\n",
    "# cleanWords('완료기밥흰살생선감자조림밥') in okt.nouns(targetFood)\n",
    "'감자' in okt.nouns(targetFood)"
   ]
  },
  {
   "cell_type": "code",
   "execution_count": 11,
   "id": "588b6d1e-f295-417d-b6e4-9c81b0481383",
   "metadata": {},
   "outputs": [
    {
     "name": "stdout",
     "output_type": "stream",
     "text": [
      "foodname :  완료기밥흰살생선감자조림밥\n",
      "targetFoodnames :  ['도시락', '반찬', '최고', '스팸', '감자', '조림']\n",
      "foodnames :  ['완료', '밥', '살', '생선', '감자', '조림', '밥']\n",
      "타겟 음식 token 길이 :  6\n",
      "소스 음식 token 길이 :  7\n",
      "trueCount :  2\n",
      "wordCompareCountRate 1.1666666666666667\n",
      "단어 match count :  28.57\n"
     ]
    },
    {
     "data": {
      "text/plain": [
       "28.57"
      ]
     },
     "execution_count": 11,
     "metadata": {},
     "output_type": "execute_result"
    }
   ],
   "source": [
    "# foodname : 식약처 음식 목록 ex) 영·유아용 이유식_완료기밥흰살생선감자조림밥\n",
    "# targetFoodname :  만개의 레시피 음식명  ex) 도시락 반찬으로 최고! 스팸감자조림♡\n",
    "def searchSimilarFood(foodname, targetFoodname):\n",
    "    \n",
    "    # 식품명에 \"_\" 포함시 뒤부분은 token만 식품명으로 추출\n",
    "    if \"_\" in foodname:\n",
    "        foodname = foodname.split(\"_\")[1] # 완료기밥흰살생선감자조림밥\n",
    "    \n",
    "    foodnames = okt.nouns(foodname)  \n",
    "    targetFoodnames = okt.nouns(targetFoodname) # 도시락 반찬 최고 스팸 감자 조림\n",
    "\n",
    "    print(\"foodname : \", foodname)\n",
    "    print(\"targetFoodnames : \", targetFoodnames)\n",
    "    print(\"foodnames : \", foodnames)\n",
    "\n",
    "    print(\"타겟 음식 token 길이 : \", len(targetFoodnames))\n",
    "    print(\"소스 음식 token 길이 : \", len(foodnames))\n",
    "\n",
    "    trueCount = 0;\n",
    "    \n",
    "    for food in foodnames:\n",
    "        if food in targetFoodnames:\n",
    "            trueCount += 1\n",
    "            #print(food)\n",
    "\n",
    "    print(\"trueCount : \", trueCount) # 일치하는 단어 갯수\n",
    "\n",
    "    if trueCount == 0:\n",
    "        similarRate = 0\n",
    "    else:            \n",
    "        # 소스/타겟 간의 단어수 비교\n",
    "        wordCompareCountRate = len(foodnames) / len(targetFoodnames)\n",
    "        print(\"wordCompareCountRate\", wordCompareCountRate)        \n",
    "\n",
    "        # 단어 일치비율\n",
    "        similarRate = round(trueCount / len(foodnames) * 100, 2)\n",
    "\n",
    "        print(\"단어 match count : \", similarRate)\n",
    "        \n",
    "        # 일치하는 단어 갯수가 비율이 적으면 배제\n",
    "        # 최소 비율 50%    \n",
    "        if wordCompareCountRate < 0.5:            \n",
    "            similarRate = similarRate * wordCompareCountRate        \n",
    "        \n",
    "    return round(similarRate, 2)\n",
    "\n",
    "targetFoodname = '도시락 반찬으로 최고! 스팸감자조림♡'\n",
    "foodname = '영·유아용 이유식_완료기밥흰살생선감자조림밥'\n",
    "searchSimilarFood(foodname, targetFoodname) # 28.57%"
   ]
  },
  {
   "cell_type": "code",
   "execution_count": 12,
   "id": "f933a4d2-c700-4815-ad70-408c7f532822",
   "metadata": {},
   "outputs": [
    {
     "name": "stdout",
     "output_type": "stream",
     "text": [
      "foodname :  완료기밥흰살생선감자조림밥\n",
      "targetFoodnames :  ['영', '유아', '용', '이유식', '완료', '밥', '살', '생선', '감자', '조림', '밥']\n",
      "foodnames :  ['완료', '밥', '살', '생선', '감자', '조림', '밥']\n",
      "타겟 음식 token 길이 :  11\n",
      "소스 음식 token 길이 :  7\n",
      "trueCount :  7\n",
      "wordCompareCountRate 0.6363636363636364\n",
      "단어 match count :  100.0\n"
     ]
    },
    {
     "data": {
      "text/plain": [
       "100.0"
      ]
     },
     "execution_count": 12,
     "metadata": {},
     "output_type": "execute_result"
    }
   ],
   "source": [
    "searchSimilarFood(foodname, foodname) # 100%"
   ]
  },
  {
   "cell_type": "code",
   "execution_count": 13,
   "id": "c1dd3631-f9bb-4be3-b1b5-91db0eef9957",
   "metadata": {},
   "outputs": [
    {
     "name": "stdout",
     "output_type": "stream",
     "text": [
      "foodname :  넓은감자당면\n",
      "targetFoodnames :  ['도시락', '반찬', '최고', '스팸', '감자', '조림']\n",
      "foodnames :  ['감자']\n",
      "타겟 음식 token 길이 :  6\n",
      "소스 음식 token 길이 :  1\n",
      "trueCount :  1\n",
      "wordCompareCountRate 0.16666666666666666\n",
      "단어 match count :  100.0\n"
     ]
    },
    {
     "data": {
      "text/plain": [
       "16.67"
      ]
     },
     "execution_count": 13,
     "metadata": {},
     "output_type": "execute_result"
    }
   ],
   "source": [
    "targetFoodname = '도시락 반찬으로 최고! 스팸감자조림♡'\n",
    "foodname = '당면_넓은감자당면'\n",
    "searchSimilarFood(foodname, targetFoodname) "
   ]
  },
  {
   "cell_type": "code",
   "execution_count": 14,
   "id": "f3019d67-0ab1-4fa3-a192-c7bb418e2ea4",
   "metadata": {},
   "outputs": [
    {
     "name": "stdout",
     "output_type": "stream",
     "text": [
      "foodname :  감자조림\n",
      "targetFoodnames :  ['도시락', '반찬', '최고', '스팸', '감자', '조림']\n",
      "foodnames :  ['감자', '조림']\n",
      "타겟 음식 token 길이 :  6\n",
      "소스 음식 token 길이 :  2\n",
      "trueCount :  2\n",
      "wordCompareCountRate 0.3333333333333333\n",
      "단어 match count :  100.0\n"
     ]
    },
    {
     "data": {
      "text/plain": [
       "33.33"
      ]
     },
     "execution_count": 14,
     "metadata": {},
     "output_type": "execute_result"
    }
   ],
   "source": [
    "targetFoodname = '도시락 반찬으로 최고! 스팸감자조림♡'\n",
    "foodname = '기타 조림_감자조림'\n",
    "searchSimilarFood(foodname, targetFoodname) "
   ]
  },
  {
   "cell_type": "code",
   "execution_count": 15,
   "id": "ef9b1850-1990-4c0e-b4e6-5d8c922fb64d",
   "metadata": {},
   "outputs": [
    {
     "data": {
      "text/plain": [
       "True"
      ]
     },
     "execution_count": 15,
     "metadata": {},
     "output_type": "execute_result"
    }
   ],
   "source": [
    "\"_\" in \"과·채주스_프룻밀토마토\""
   ]
  },
  {
   "cell_type": "code",
   "execution_count": 16,
   "id": "3be8d0de-858e-4ca4-9a29-0e311c33465b",
   "metadata": {},
   "outputs": [],
   "source": [
    "# foodname : 식약처 음식 목록 ex) 영·유아용 이유식_완료기밥흰살생선감자조림밥\n",
    "# targetFoodname :  만개의 레시피 음식명  ex) 도시락 반찬으로 최고! 스팸감자조림♡\n",
    "def searchSimilarFoodNotComment(foodname, targetFoodname):\n",
    "    \n",
    "    # 식품명에 \"_\" 포함시 뒤부분은 token만 식품명으로 추출\n",
    "    if \"_\" in foodname:\n",
    "        foodname = foodname.split(\"_\")[1] # 완료기밥흰살생선감자조림밥\n",
    "    \n",
    "    foodnames = okt.nouns(foodname)  \n",
    "    targetFoodnames = okt.nouns(targetFoodname) # 도시락 반찬 최고 스팸 감자 조림\n",
    "\n",
    "    #print(\"foodname : \", foodname)\n",
    "    #print(\"targetFoodnames : \", targetFoodnames)\n",
    "    #print(\"foodnames : \", foodnames)\n",
    "\n",
    "    #print(\"타겟 음식 token 길이 : \", len(targetFoodnames))\n",
    "    #print(\"소스 음식 token 길이 : \", len(foodnames))\n",
    "\n",
    "    trueCount = 0;\n",
    "    \n",
    "    for food in foodnames:\n",
    "        if food in targetFoodnames:\n",
    "            trueCount += 1\n",
    "            #print(food)\n",
    "\n",
    "    #print(\"trueCount : \", trueCount) # 일치하는 단어 갯수\n",
    "\n",
    "    if trueCount == 0:\n",
    "        similarRate = 0\n",
    "    else:            \n",
    "        # 소스/타겟 간의 단어수 비교\n",
    "        wordCompareCountRate = len(foodnames) / len(targetFoodnames)\n",
    "        #print(\"wordCompareCountRate\", wordCompareCountRate)        \n",
    "\n",
    "        # 단어 일치비율\n",
    "        similarRate = round(trueCount / len(foodnames) * 100, 2)\n",
    "\n",
    "        #print(\"단어 match count : \", similarRate)\n",
    "        \n",
    "        # 일치하는 단어 갯수가 비율이 적으면 배제\n",
    "        # 최소 비율 30%    \n",
    "        if wordCompareCountRate < 0.5:            \n",
    "            similarRate = similarRate * wordCompareCountRate        \n",
    "        \n",
    "    return round(similarRate, 2)"
   ]
  },
  {
   "cell_type": "code",
   "execution_count": 18,
   "id": "89c4379e-4298-4ea3-980b-4dba2e30b556",
   "metadata": {},
   "outputs": [
    {
     "name": "stdout",
     "output_type": "stream",
     "text": [
      "0\n",
      "[]\n"
     ]
    }
   ],
   "source": [
    "targetFoodname = '도시락 반찬으로 최고! 스팸감자조림♡'\n",
    "\n",
    "for foodname in foodSet['식품명']:\n",
    "\n",
    "    #print(\"foodname : \", foodname)\n",
    "    similarRate = searchSimilarFoodNotComment(foodname, targetFoodname)\n",
    "\n",
    "    result = list()\n",
    "    \n",
    "    if similarRate > 50:\n",
    "        print(\"단어 일치율 : %.2f, 음식 : %s\" % (similarRate, foodname))\n",
    "        result.append(foodname)        \n",
    "\n",
    "print(len(result))\n",
    "print(result)"
   ]
  }
 ],
 "metadata": {
  "kernelspec": {
   "display_name": "Python 3 (ipykernel)",
   "language": "python",
   "name": "python3"
  },
  "language_info": {
   "codemirror_mode": {
    "name": "ipython",
    "version": 3
   },
   "file_extension": ".py",
   "mimetype": "text/x-python",
   "name": "python",
   "nbconvert_exporter": "python",
   "pygments_lexer": "ipython3",
   "version": "3.12.0"
  }
 },
 "nbformat": 4,
 "nbformat_minor": 5
}
