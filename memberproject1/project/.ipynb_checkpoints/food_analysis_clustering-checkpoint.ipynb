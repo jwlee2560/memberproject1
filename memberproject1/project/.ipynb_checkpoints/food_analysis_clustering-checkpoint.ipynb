{
 "cells": [
  {
   "cell_type": "code",
   "execution_count": 1,
   "id": "adcf1aaa-9e47-4559-8f42-2103bf258742",
   "metadata": {},
   "outputs": [],
   "source": [
    "import pandas as pd\n",
    "\n",
    "# SOM(Self-Organizing Map) : https://blog.naver.com/tutumd96/221712405650\n",
    "\n",
    "foods = pd.read_csv('./전국통합식품영양성분정보(가공식품)표준데이터.csv', sep=',', encoding='ms949')"
   ]
  },
  {
   "cell_type": "code",
   "execution_count": 2,
   "id": "135e52ca-bcdb-451c-b920-4fb6e1a016a7",
   "metadata": {},
   "outputs": [
    {
     "data": {
      "text/html": [
       "<div>\n",
       "<style scoped>\n",
       "    .dataframe tbody tr th:only-of-type {\n",
       "        vertical-align: middle;\n",
       "    }\n",
       "\n",
       "    .dataframe tbody tr th {\n",
       "        vertical-align: top;\n",
       "    }\n",
       "\n",
       "    .dataframe thead th {\n",
       "        text-align: right;\n",
       "    }\n",
       "</style>\n",
       "<table border=\"1\" class=\"dataframe\">\n",
       "  <thead>\n",
       "    <tr style=\"text-align: right;\">\n",
       "      <th></th>\n",
       "      <th>식품코드</th>\n",
       "      <th>식품명</th>\n",
       "      <th>데이터구분코드</th>\n",
       "      <th>데이터구분명</th>\n",
       "      <th>식품기원코드</th>\n",
       "      <th>식품기원명</th>\n",
       "      <th>식품대분류코드</th>\n",
       "      <th>식품대분류명</th>\n",
       "      <th>대표식품코드</th>\n",
       "      <th>대표식품명</th>\n",
       "      <th>...</th>\n",
       "      <th>유통업체명</th>\n",
       "      <th>수입여부</th>\n",
       "      <th>원산지국코드</th>\n",
       "      <th>원산지국명</th>\n",
       "      <th>데이터생성방법코드</th>\n",
       "      <th>데이터생성방법명</th>\n",
       "      <th>데이터생성일자</th>\n",
       "      <th>데이터기준일자</th>\n",
       "      <th>제공기관코드</th>\n",
       "      <th>제공기관명</th>\n",
       "    </tr>\n",
       "  </thead>\n",
       "  <tbody>\n",
       "    <tr>\n",
       "      <th>0</th>\n",
       "      <td>P109-302030200-2176</td>\n",
       "      <td>과·채주스_프룻밀토마토</td>\n",
       "      <td>P</td>\n",
       "      <td>가공식품</td>\n",
       "      <td>1</td>\n",
       "      <td>가공식품</td>\n",
       "      <td>9</td>\n",
       "      <td>음료류</td>\n",
       "      <td>9302</td>\n",
       "      <td>과·채주스</td>\n",
       "      <td>...</td>\n",
       "      <td>해당없음</td>\n",
       "      <td>N</td>\n",
       "      <td>36.0</td>\n",
       "      <td>해당없음</td>\n",
       "      <td>2</td>\n",
       "      <td>수집</td>\n",
       "      <td>2021-06-30</td>\n",
       "      <td>2024-02-23</td>\n",
       "      <td>1471000</td>\n",
       "      <td>식품의약품안전처</td>\n",
       "    </tr>\n",
       "    <tr>\n",
       "      <th>1</th>\n",
       "      <td>P109-302030200-2177</td>\n",
       "      <td>과·채주스_프리마5후르츠칵테일주스</td>\n",
       "      <td>P</td>\n",
       "      <td>가공식품</td>\n",
       "      <td>1</td>\n",
       "      <td>가공식품</td>\n",
       "      <td>9</td>\n",
       "      <td>음료류</td>\n",
       "      <td>9302</td>\n",
       "      <td>과·채주스</td>\n",
       "      <td>...</td>\n",
       "      <td>해당없음</td>\n",
       "      <td>Y</td>\n",
       "      <td>36.0</td>\n",
       "      <td>사이프러스</td>\n",
       "      <td>2</td>\n",
       "      <td>수집</td>\n",
       "      <td>2020-06-30</td>\n",
       "      <td>2024-02-23</td>\n",
       "      <td>1471000</td>\n",
       "      <td>식품의약품안전처</td>\n",
       "    </tr>\n",
       "    <tr>\n",
       "      <th>2</th>\n",
       "      <td>P109-302030200-2178</td>\n",
       "      <td>과·채주스_프리마셀렉션사과주스</td>\n",
       "      <td>P</td>\n",
       "      <td>가공식품</td>\n",
       "      <td>1</td>\n",
       "      <td>가공식품</td>\n",
       "      <td>9</td>\n",
       "      <td>음료류</td>\n",
       "      <td>9302</td>\n",
       "      <td>과·채주스</td>\n",
       "      <td>...</td>\n",
       "      <td>해당없음</td>\n",
       "      <td>Y</td>\n",
       "      <td>36.0</td>\n",
       "      <td>사이프러스</td>\n",
       "      <td>2</td>\n",
       "      <td>수집</td>\n",
       "      <td>2020-06-30</td>\n",
       "      <td>2024-02-23</td>\n",
       "      <td>1471000</td>\n",
       "      <td>식품의약품안전처</td>\n",
       "    </tr>\n",
       "  </tbody>\n",
       "</table>\n",
       "<p>3 rows × 57 columns</p>\n",
       "</div>"
      ],
      "text/plain": [
       "                  식품코드                 식품명 데이터구분코드 데이터구분명  식품기원코드 식품기원명  \\\n",
       "0  P109-302030200-2176        과·채주스_프룻밀토마토       P   가공식품       1  가공식품   \n",
       "1  P109-302030200-2177  과·채주스_프리마5후르츠칵테일주스       P   가공식품       1  가공식품   \n",
       "2  P109-302030200-2178    과·채주스_프리마셀렉션사과주스       P   가공식품       1  가공식품   \n",
       "\n",
       "   식품대분류코드 식품대분류명  대표식품코드  대표식품명  ...  유통업체명 수입여부  원산지국코드  원산지국명  데이터생성방법코드  \\\n",
       "0        9    음료류    9302  과·채주스  ...   해당없음    N    36.0   해당없음          2   \n",
       "1        9    음료류    9302  과·채주스  ...   해당없음    Y    36.0  사이프러스          2   \n",
       "2        9    음료류    9302  과·채주스  ...   해당없음    Y    36.0  사이프러스          2   \n",
       "\n",
       "  데이터생성방법명     데이터생성일자     데이터기준일자   제공기관코드     제공기관명  \n",
       "0       수집  2021-06-30  2024-02-23  1471000  식품의약품안전처  \n",
       "1       수집  2020-06-30  2024-02-23  1471000  식품의약품안전처  \n",
       "2       수집  2020-06-30  2024-02-23  1471000  식품의약품안전처  \n",
       "\n",
       "[3 rows x 57 columns]"
      ]
     },
     "execution_count": 2,
     "metadata": {},
     "output_type": "execute_result"
    }
   ],
   "source": [
    "foods.head(3)"
   ]
  },
  {
   "cell_type": "code",
   "execution_count": 3,
   "id": "38d0c805-5309-4629-98e5-76bbc0510820",
   "metadata": {},
   "outputs": [
    {
     "data": {
      "text/plain": [
       "식품코드              object\n",
       "식품명               object\n",
       "데이터구분코드           object\n",
       "데이터구분명            object\n",
       "식품기원코드             int64\n",
       "식품기원명             object\n",
       "식품대분류코드            int64\n",
       "식품대분류명            object\n",
       "대표식품코드             int64\n",
       "대표식품명             object\n",
       "식품중분류코드            int64\n",
       "식품중분류명            object\n",
       "식품소분류코드            int64\n",
       "식품소분류명            object\n",
       "식품세분류코드            int64\n",
       "식품세분류명            object\n",
       "영양성분함량기준량         object\n",
       "에너지(kcal)          int64\n",
       "수분(g)            float64\n",
       "단백질(g)           float64\n",
       "지방(g)            float64\n",
       "회분(g)            float64\n",
       "탄수화물(g)          float64\n",
       "당류(g)            float64\n",
       "식이섬유(g)          float64\n",
       "칼슘(mg)           float64\n",
       "철(mg)            float64\n",
       "인(mg)            float64\n",
       "칼륨(mg)           float64\n",
       "나트륨(mg)          float64\n",
       "비타민 A(μg RAE)    float64\n",
       "레티놀(μg)          float64\n",
       "베타카로틴(μg)        float64\n",
       "티아민(mg)          float64\n",
       "리보플라빈(mg)        float64\n",
       "니아신(mg)          float64\n",
       "비타민 C(mg)        float64\n",
       "비타민 D(μg)        float64\n",
       "콜레스테롤(mg)        float64\n",
       "포화지방산(g)         float64\n",
       "트랜스지방산(g)        float64\n",
       "출처코드               int64\n",
       "출처명               object\n",
       "1회 섭취참고량          object\n",
       "제조사명              object\n",
       "식품중량              object\n",
       "수입업체명             object\n",
       "유통업체명             object\n",
       "수입여부              object\n",
       "원산지국코드           float64\n",
       "원산지국명             object\n",
       "데이터생성방법코드          int64\n",
       "데이터생성방법명          object\n",
       "데이터생성일자           object\n",
       "데이터기준일자           object\n",
       "제공기관코드             int64\n",
       "제공기관명             object\n",
       "dtype: object"
      ]
     },
     "execution_count": 3,
     "metadata": {},
     "output_type": "execute_result"
    }
   ],
   "source": [
    "foods.dtypes"
   ]
  },
  {
   "cell_type": "code",
   "execution_count": 4,
   "id": "60e5a3e0-ca0f-43e0-a136-acaec05ba6cb",
   "metadata": {},
   "outputs": [
    {
     "data": {
      "text/plain": [
       "식품코드          object\n",
       "식품명           object\n",
       "에너지(kcal)      int64\n",
       "단백질(g)       float64\n",
       "지방(g)        float64\n",
       "탄수화물(g)      float64\n",
       "나트륨(mg)      float64\n",
       "dtype: object"
      ]
     },
     "execution_count": 4,
     "metadata": {},
     "output_type": "execute_result"
    }
   ],
   "source": [
    "foodSet = pd.DataFrame(foods, columns=['식품코드', '식품명', '에너지(kcal)', '단백질(g)', '지방(g)', '탄수화물(g)', '나트륨(mg)'])\n",
    "foodSet.dtypes"
   ]
  },
  {
   "cell_type": "code",
   "execution_count": 5,
   "id": "8c34fdc5-02f9-471e-bf8d-be2f7ac8a118",
   "metadata": {},
   "outputs": [],
   "source": [
    "# 결측치 제거  : NaN 있을 경우 K Mean 측정에서 문제 발생\n",
    "foodSet.fillna(0, inplace=True)"
   ]
  },
  {
   "cell_type": "code",
   "execution_count": 6,
   "id": "fc3e04d0-91b4-4442-adf9-214b776c56be",
   "metadata": {},
   "outputs": [
    {
     "data": {
      "text/html": [
       "<div>\n",
       "<style scoped>\n",
       "    .dataframe tbody tr th:only-of-type {\n",
       "        vertical-align: middle;\n",
       "    }\n",
       "\n",
       "    .dataframe tbody tr th {\n",
       "        vertical-align: top;\n",
       "    }\n",
       "\n",
       "    .dataframe thead th {\n",
       "        text-align: right;\n",
       "    }\n",
       "</style>\n",
       "<table border=\"1\" class=\"dataframe\">\n",
       "  <thead>\n",
       "    <tr style=\"text-align: right;\">\n",
       "      <th></th>\n",
       "      <th>식품코드</th>\n",
       "      <th>식품명</th>\n",
       "      <th>에너지(kcal)</th>\n",
       "      <th>단백질(g)</th>\n",
       "      <th>지방(g)</th>\n",
       "      <th>탄수화물(g)</th>\n",
       "      <th>나트륨(mg)</th>\n",
       "    </tr>\n",
       "  </thead>\n",
       "  <tbody>\n",
       "    <tr>\n",
       "      <th>0</th>\n",
       "      <td>P109-302030200-2176</td>\n",
       "      <td>과·채주스_프룻밀토마토</td>\n",
       "      <td>43</td>\n",
       "      <td>0.47</td>\n",
       "      <td>0.0</td>\n",
       "      <td>10.0</td>\n",
       "      <td>17.0</td>\n",
       "    </tr>\n",
       "    <tr>\n",
       "      <th>1</th>\n",
       "      <td>P109-302030200-2177</td>\n",
       "      <td>과·채주스_프리마5후르츠칵테일주스</td>\n",
       "      <td>45</td>\n",
       "      <td>0.30</td>\n",
       "      <td>0.0</td>\n",
       "      <td>10.7</td>\n",
       "      <td>0.0</td>\n",
       "    </tr>\n",
       "    <tr>\n",
       "      <th>2</th>\n",
       "      <td>P109-302030200-2178</td>\n",
       "      <td>과·채주스_프리마셀렉션사과주스</td>\n",
       "      <td>45</td>\n",
       "      <td>0.20</td>\n",
       "      <td>0.2</td>\n",
       "      <td>11.0</td>\n",
       "      <td>0.0</td>\n",
       "    </tr>\n",
       "  </tbody>\n",
       "</table>\n",
       "</div>"
      ],
      "text/plain": [
       "                  식품코드                 식품명  에너지(kcal)  단백질(g)  지방(g)  탄수화물(g)  \\\n",
       "0  P109-302030200-2176        과·채주스_프룻밀토마토         43    0.47    0.0     10.0   \n",
       "1  P109-302030200-2177  과·채주스_프리마5후르츠칵테일주스         45    0.30    0.0     10.7   \n",
       "2  P109-302030200-2178    과·채주스_프리마셀렉션사과주스         45    0.20    0.2     11.0   \n",
       "\n",
       "   나트륨(mg)  \n",
       "0     17.0  \n",
       "1      0.0  \n",
       "2      0.0  "
      ]
     },
     "execution_count": 6,
     "metadata": {},
     "output_type": "execute_result"
    }
   ],
   "source": [
    "foodSet.head(3)"
   ]
  },
  {
   "cell_type": "code",
   "execution_count": 7,
   "id": "dfe85c49-2a5e-4b8f-b2e7-a53bca5fdcb0",
   "metadata": {},
   "outputs": [
    {
     "data": {
      "text/html": [
       "<div>\n",
       "<style scoped>\n",
       "    .dataframe tbody tr th:only-of-type {\n",
       "        vertical-align: middle;\n",
       "    }\n",
       "\n",
       "    .dataframe tbody tr th {\n",
       "        vertical-align: top;\n",
       "    }\n",
       "\n",
       "    .dataframe thead th {\n",
       "        text-align: right;\n",
       "    }\n",
       "</style>\n",
       "<table border=\"1\" class=\"dataframe\">\n",
       "  <thead>\n",
       "    <tr style=\"text-align: right;\">\n",
       "      <th></th>\n",
       "      <th>에너지(kcal)</th>\n",
       "    </tr>\n",
       "  </thead>\n",
       "  <tbody>\n",
       "    <tr>\n",
       "      <th>0</th>\n",
       "      <td>43</td>\n",
       "    </tr>\n",
       "    <tr>\n",
       "      <th>1</th>\n",
       "      <td>45</td>\n",
       "    </tr>\n",
       "    <tr>\n",
       "      <th>2</th>\n",
       "      <td>45</td>\n",
       "    </tr>\n",
       "    <tr>\n",
       "      <th>3</th>\n",
       "      <td>54</td>\n",
       "    </tr>\n",
       "    <tr>\n",
       "      <th>4</th>\n",
       "      <td>38</td>\n",
       "    </tr>\n",
       "    <tr>\n",
       "      <th>...</th>\n",
       "      <td>...</td>\n",
       "    </tr>\n",
       "    <tr>\n",
       "      <th>49995</th>\n",
       "      <td>134</td>\n",
       "    </tr>\n",
       "    <tr>\n",
       "      <th>49996</th>\n",
       "      <td>138</td>\n",
       "    </tr>\n",
       "    <tr>\n",
       "      <th>49997</th>\n",
       "      <td>197</td>\n",
       "    </tr>\n",
       "    <tr>\n",
       "      <th>49998</th>\n",
       "      <td>121</td>\n",
       "    </tr>\n",
       "    <tr>\n",
       "      <th>49999</th>\n",
       "      <td>200</td>\n",
       "    </tr>\n",
       "  </tbody>\n",
       "</table>\n",
       "<p>50000 rows × 1 columns</p>\n",
       "</div>"
      ],
      "text/plain": [
       "       에너지(kcal)\n",
       "0             43\n",
       "1             45\n",
       "2             45\n",
       "3             54\n",
       "4             38\n",
       "...          ...\n",
       "49995        134\n",
       "49996        138\n",
       "49997        197\n",
       "49998        121\n",
       "49999        200\n",
       "\n",
       "[50000 rows x 1 columns]"
      ]
     },
     "execution_count": 7,
     "metadata": {},
     "output_type": "execute_result"
    }
   ],
   "source": [
    "X = foodSet[['에너지(kcal)', '단백질(g)', '지방(g)', '탄수화물(g)', '나트륨(mg)']].values\n",
    "#type(X)\n",
    "\n",
    "# 에너지(kcal)\n",
    "X_energy = foodSet[['에너지(kcal)']]\n",
    "X_energy"
   ]
  },
  {
   "cell_type": "code",
   "execution_count": 8,
   "id": "affd80ac-515d-42fa-8c6b-6ca59bb92ec4",
   "metadata": {},
   "outputs": [],
   "source": [
    "#Y = foodSet.iloc[:, -1].values\n",
    "#Y"
   ]
  },
  {
   "cell_type": "code",
   "execution_count": 9,
   "id": "5a9cf058-a308-4485-ae61-9fc27ec06450",
   "metadata": {},
   "outputs": [
    {
     "name": "stdout",
     "output_type": "stream",
     "text": [
      "Requirement already satisfied: scikit-learn in d:\\lsh\\works\\python2\\pythonproject2\\.venv\\lib\\site-packages (1.4.1.post1)\n",
      "Requirement already satisfied: numpy<2.0,>=1.19.5 in d:\\lsh\\works\\python2\\pythonproject2\\.venv\\lib\\site-packages (from scikit-learn) (1.26.4)\n",
      "Requirement already satisfied: scipy>=1.6.0 in d:\\lsh\\works\\python2\\pythonproject2\\.venv\\lib\\site-packages (from scikit-learn) (1.12.0)\n",
      "Requirement already satisfied: joblib>=1.2.0 in d:\\lsh\\works\\python2\\pythonproject2\\.venv\\lib\\site-packages (from scikit-learn) (1.3.2)\n",
      "Requirement already satisfied: threadpoolctl>=2.0.0 in d:\\lsh\\works\\python2\\pythonproject2\\.venv\\lib\\site-packages (from scikit-learn) (3.3.0)\n",
      "Requirement already satisfied: sklearn.preprocessing in d:\\lsh\\works\\python2\\pythonproject2\\.venv\\lib\\site-packages (0.1.0)\n"
     ]
    }
   ],
   "source": [
    "!pip install scikit-learn\n",
    "!pip install sklearn.preprocessing"
   ]
  },
  {
   "cell_type": "code",
   "execution_count": 10,
   "id": "e7e29297-853c-436b-a304-827485965724",
   "metadata": {},
   "outputs": [],
   "source": [
    "import matplotlib.pyplot as plt\n",
    "\n",
    "%matplotlib inline\n",
    "# feature scaling\n",
    "from sklearn.preprocessing import MinMaxScaler\n",
    "\n",
    "scaler = MinMaxScaler(feature_range = (0,1))\n",
    "X_energy = scaler.fit_transform(X_energy)"
   ]
  },
  {
   "cell_type": "code",
   "execution_count": 11,
   "id": "728db10e-c7fb-4697-bc73-2b42ab066828",
   "metadata": {},
   "outputs": [
    {
     "data": {
      "text/plain": [
       "[<matplotlib.lines.Line2D at 0x246159006b0>]"
      ]
     },
     "execution_count": 11,
     "metadata": {},
     "output_type": "execute_result"
    },
    {
     "data": {
      "image/png": "[encoded data removed]",
      "text/plain": [
       "<Figure size 640x480 with 1 Axes>"
      ]
     },
     "metadata": {},
     "output_type": "display_data"
    }
   ],
   "source": [
    "plt.plot(X_energy[:])"
   ]
  },
  {
   "cell_type": "code",
   "execution_count": 12,
   "id": "182aa588-c1f7-43b6-897c-dd4b7912ab9a",
   "metadata": {},
   "outputs": [],
   "source": [
    "#!pip install sklearn_som"
   ]
  },
  {
   "cell_type": "code",
   "execution_count": 13,
   "id": "097ffea7-0bad-4cf0-a37f-9277e07552f0",
   "metadata": {},
   "outputs": [
    {
     "name": "stdout",
     "output_type": "stream",
     "text": [
      "Requirement already satisfied: minisom in d:\\lsh\\works\\python2\\pythonproject2\\.venv\\lib\\site-packages (2.3.2)\n"
     ]
    }
   ],
   "source": [
    "!pip install minisom"
   ]
  },
  {
   "cell_type": "code",
   "execution_count": 14,
   "id": "bfe9a140-32e6-4f7c-a25a-74b898da6aa3",
   "metadata": {},
   "outputs": [
    {
     "data": {
      "text/plain": [
       "<matplotlib.colorbar.Colorbar at 0x24615c57650>"
      ]
     },
     "execution_count": 14,
     "metadata": {},
     "output_type": "execute_result"
    },
    {
     "data": {
      "image/png": "[encoded data removed]",
      "text/plain": [
       "<Figure size 640x480 with 2 Axes>"
      ]
     },
     "metadata": {},
     "output_type": "display_data"
    }
   ],
   "source": [
    "#from sklearn_som.som import SOM\n",
    "\n",
    "# 자기조직화지도(SOM, Self-Organizing Map)\n",
    "# : https://hyerimir.tistory.com/194\n",
    "from minisom import MiniSom\n",
    "from pylab import plot, axis, show, pcolor, colorbar, bone\n",
    "\n",
    "# 16 : SOM의 X축에 대한 자원\n",
    "# 1200 : SOM의 Y축에 대한 자원\n",
    "# 1 : 입력 vector(feature) 수\n",
    "# sigma : 이웃 노드의 인접 반경\n",
    "# learning_rate : 한번 학습할 때 얼마큼 변화를 주는지에 대한 상수\n",
    "foodsSOM = MiniSom(20, 20, 1,sigma=1,learning_rate=0.5,topology='hexagonal',neighborhood_function='gaussian',activation_distance='euclidean', random_seed=0)\n",
    "\n",
    "#초기값설정\n",
    "foodsSOM.random_weights_init(X_energy) # 초기화\n",
    "foodsSOM.train(X_energy,1000,random_order=True) # 진행\n",
    "\n",
    "bone()\n",
    "pcolor(foodsSOM.distance_map().T)\n",
    "colorbar()"
   ]
  },
  {
   "cell_type": "code",
   "execution_count": 15,
   "id": "de951d9f-35f0-4f3d-8952-648de4f9aaf6",
   "metadata": {},
   "outputs": [
    {
     "data": {
      "text/plain": [
       "<sklearn_som.som.SOM at 0x24615c9dc10>"
      ]
     },
     "execution_count": 15,
     "metadata": {},
     "output_type": "execute_result"
    }
   ],
   "source": [
    "from sklearn_som.som import SOM\n",
    "\n",
    "foodsSOM2 = SOM(m=20, n=20, dim=X_energy[:].shape[1])\n",
    "foodsSOM2"
   ]
  },
  {
   "cell_type": "markdown",
   "id": "815cc0de-5d46-42c3-a9dc-1c87300df0e0",
   "metadata": {},
   "source": [
    "---"
   ]
  },
  {
   "cell_type": "code",
   "execution_count": 16,
   "id": "ef090f99-9255-4baa-8710-84b95afc9c4b",
   "metadata": {},
   "outputs": [],
   "source": [
    "#  K Mean(평균) 군집화\n",
    "\n",
    "#[Link] K-평균(K-Means) 알고리즘 및 KNN(Nearest Neighbor Classifier : K-최근접 이웃)과의 차이점\n",
    "#: https://velog.io/@jhlee508/%EB%A8%B8%EC%8B%A0%EB%9F%AC%EB%8B%9D-K-%ED%8F%89%EA%B7%A0K-Means-%EC%95%8C%EA%B3%A0%EB%A6%AC%EC%A6%98"
   ]
  },
  {
   "cell_type": "code",
   "execution_count": 17,
   "id": "0257bb7c-28f0-4f9d-a5ae-c769a8efcff0",
   "metadata": {},
   "outputs": [],
   "source": [
    "from sklearn.cluster import KMeans\n",
    "from sklearn.metrics import silhouette_score, silhouette_samples"
   ]
  },
  {
   "cell_type": "code",
   "execution_count": 18,
   "id": "8c784843-6b33-4208-aa35-6faa690bcc4e",
   "metadata": {},
   "outputs": [
    {
     "data": {
      "text/plain": [
       "array([[4.300e+01, 4.700e-01, 0.000e+00, 1.000e+01, 1.700e+01],\n",
       "       [4.500e+01, 3.000e-01, 0.000e+00, 1.070e+01, 0.000e+00],\n",
       "       [4.500e+01, 2.000e-01, 2.000e-01, 1.100e+01, 0.000e+00],\n",
       "       ...,\n",
       "       [1.970e+02, 1.543e+01, 1.153e+01, 7.920e+00, 7.780e+02],\n",
       "       [1.210e+02, 2.357e+01, 1.430e+00, 3.570e+00, 2.570e+02],\n",
       "       [2.000e+02, 2.200e+01, 1.100e+01, 4.000e+00, 3.030e+02]])"
      ]
     },
     "execution_count": 18,
     "metadata": {},
     "output_type": "execute_result"
    }
   ],
   "source": [
    "X_features = foodSet[['에너지(kcal)', '단백질(g)', '지방(g)', '탄수화물(g)', '나트륨(mg)']].values\n",
    "X_features"
   ]
  },
  {
   "cell_type": "code",
   "execution_count": 23,
   "id": "3846ccfe-9d37-4fb2-bc9e-4cb219232397",
   "metadata": {},
   "outputs": [],
   "source": [
    "#import numpy as np\n",
    "#np.nan_to_num(X_features) # 결측치 제거"
   ]
  },
  {
   "cell_type": "code",
   "execution_count": 24,
   "id": "7237b734-8123-43f5-9a6d-4607a43e2213",
   "metadata": {},
   "outputs": [
    {
     "data": {
      "text/plain": [
       "array([[-1.25924224, -0.75439291, -0.65370556, -1.12931103, -0.31579481],\n",
       "       [-1.2493167 , -0.7814128 , -0.65370556, -1.10388469, -0.33528142],\n",
       "       [-1.2493167 , -0.79730685, -0.64321067, -1.0929877 , -0.33528142],\n",
       "       ...,\n",
       "       [-0.4949759 ,  1.6233572 , -0.04867517, -1.20486355,  0.55651722],\n",
       "       [-0.8721463 ,  2.917133  , -0.5786671 , -1.36287004, -0.04068984],\n",
       "       [-0.4800876 ,  2.66759639, -0.07648663, -1.34725101,  0.01203862]])"
      ]
     },
     "execution_count": 24,
     "metadata": {},
     "output_type": "execute_result"
    }
   ],
   "source": [
    "# 정규 분포로 다시 스케일링하기\n",
    "from sklearn.preprocessing import StandardScaler\n",
    "\n",
    "X_features_scaled = StandardScaler().fit_transform(X_features)\n",
    "X_features_scaled"
   ]
  },
  {
   "cell_type": "code",
   "execution_count": 25,
   "id": "c085e83a-8325-4485-8e1c-124d09971dbf",
   "metadata": {},
   "outputs": [],
   "source": [
    "# 참고) 엘보 메소드(방법 : elbow method)\n",
    "#: Cluster 간의 거리의 합을 나타내는 inertia가 급격히 떨어지는<b>(꺾이는 = 엘보(elbow)) 구간</b>이 생기는데, 이 지점의 K 값을 군집의 개수로 사용<br>\n",
    "#\n",
    "#[Link] : https://steadiness-193.tistory.com/285"
   ]
  },
  {
   "cell_type": "code",
   "execution_count": 36,
   "id": "411e4692-a082-4cb2-9103-a523ca3fe9a1",
   "metadata": {},
   "outputs": [
    {
     "data": {
      "image/png": "[encoded data removed]",
      "text/plain": [
       "<Figure size 640x480 with 1 Axes>"
      ]
     },
     "metadata": {},
     "output_type": "display_data"
    }
   ],
   "source": [
    "# 최적의 k 찾기 (1) 엘보우 방법\n",
    "import matplotlib.pyplot as plt\n",
    "from matplotlib import font_manager, rc # 폰트 세팅을 위한 모듈 추가\n",
    "\n",
    "font_path = \"malgun.ttf\" # 사용할 폰트명 경로 삽입\n",
    "font = font_manager.FontProperties(fname = font_path).get_name()\n",
    "rc('font', family = font)\n",
    "\n",
    "distortions = [] # 왜곡\n",
    "\n",
    "for i in range(2, 15):\n",
    "    kmeans_i = KMeans(n_clusters=i, random_state=0)  # 모델 생성\n",
    "    kmeans_i.fit(X_features_scaled)   # 모델 훈련\n",
    "    distortions.append(kmeans_i.inertia_)\n",
    "    \n",
    "plt.plot(range(2, 15), distortions, marker='o')\n",
    "plt.xlabel('클러스터의 수')\n",
    "plt.ylabel('왜곡(Distortion)')\n",
    "plt.show()"
   ]
  },
  {
   "cell_type": "code",
   "execution_count": 35,
   "id": "90087396-001c-4889-a988-d02ac670d8ac",
   "metadata": {},
   "outputs": [
    {
     "data": {
      "text/html": [
       "<div>\n",
       "<style scoped>\n",
       "    .dataframe tbody tr th:only-of-type {\n",
       "        vertical-align: middle;\n",
       "    }\n",
       "\n",
       "    .dataframe tbody tr th {\n",
       "        vertical-align: top;\n",
       "    }\n",
       "\n",
       "    .dataframe thead th {\n",
       "        text-align: right;\n",
       "    }\n",
       "</style>\n",
       "<table border=\"1\" class=\"dataframe\">\n",
       "  <thead>\n",
       "    <tr style=\"text-align: right;\">\n",
       "      <th></th>\n",
       "      <th>식품코드</th>\n",
       "      <th>식품명</th>\n",
       "      <th>에너지(kcal)</th>\n",
       "      <th>단백질(g)</th>\n",
       "      <th>지방(g)</th>\n",
       "      <th>탄수화물(g)</th>\n",
       "      <th>나트륨(mg)</th>\n",
       "      <th>clusterLabel</th>\n",
       "    </tr>\n",
       "  </thead>\n",
       "  <tbody>\n",
       "    <tr>\n",
       "      <th>0</th>\n",
       "      <td>P109-302030200-2176</td>\n",
       "      <td>과·채주스_프룻밀토마토</td>\n",
       "      <td>43</td>\n",
       "      <td>0.47</td>\n",
       "      <td>0.00</td>\n",
       "      <td>10.0</td>\n",
       "      <td>17.0</td>\n",
       "      <td>1</td>\n",
       "    </tr>\n",
       "    <tr>\n",
       "      <th>1</th>\n",
       "      <td>P109-302030200-2177</td>\n",
       "      <td>과·채주스_프리마5후르츠칵테일주스</td>\n",
       "      <td>45</td>\n",
       "      <td>0.30</td>\n",
       "      <td>0.00</td>\n",
       "      <td>10.7</td>\n",
       "      <td>0.0</td>\n",
       "      <td>1</td>\n",
       "    </tr>\n",
       "    <tr>\n",
       "      <th>2</th>\n",
       "      <td>P109-302030200-2178</td>\n",
       "      <td>과·채주스_프리마셀렉션사과주스</td>\n",
       "      <td>45</td>\n",
       "      <td>0.20</td>\n",
       "      <td>0.20</td>\n",
       "      <td>11.0</td>\n",
       "      <td>0.0</td>\n",
       "      <td>1</td>\n",
       "    </tr>\n",
       "    <tr>\n",
       "      <th>3</th>\n",
       "      <td>P109-302030200-2179</td>\n",
       "      <td>과·채주스_프리마셀렉션파인애플주스</td>\n",
       "      <td>54</td>\n",
       "      <td>0.50</td>\n",
       "      <td>0.20</td>\n",
       "      <td>12.5</td>\n",
       "      <td>0.0</td>\n",
       "      <td>1</td>\n",
       "    </tr>\n",
       "    <tr>\n",
       "      <th>4</th>\n",
       "      <td>P109-302030200-2180</td>\n",
       "      <td>과·채주스_프리미엄 애플망고주스</td>\n",
       "      <td>38</td>\n",
       "      <td>0.19</td>\n",
       "      <td>0.56</td>\n",
       "      <td>8.0</td>\n",
       "      <td>1.0</td>\n",
       "      <td>1</td>\n",
       "    </tr>\n",
       "  </tbody>\n",
       "</table>\n",
       "</div>"
      ],
      "text/plain": [
       "                  식품코드                 식품명  에너지(kcal)  단백질(g)  지방(g)  탄수화물(g)  \\\n",
       "0  P109-302030200-2176        과·채주스_프룻밀토마토         43    0.47   0.00     10.0   \n",
       "1  P109-302030200-2177  과·채주스_프리마5후르츠칵테일주스         45    0.30   0.00     10.7   \n",
       "2  P109-302030200-2178    과·채주스_프리마셀렉션사과주스         45    0.20   0.20     11.0   \n",
       "3  P109-302030200-2179  과·채주스_프리마셀렉션파인애플주스         54    0.50   0.20     12.5   \n",
       "4  P109-302030200-2180   과·채주스_프리미엄 애플망고주스         38    0.19   0.56      8.0   \n",
       "\n",
       "   나트륨(mg)  clusterLabel  \n",
       "0     17.0             1  \n",
       "1      0.0             1  \n",
       "2      0.0             1  \n",
       "3      0.0             1  \n",
       "4      1.0             1  "
      ]
     },
     "execution_count": 35,
     "metadata": {},
     "output_type": "execute_result"
    }
   ],
   "source": [
    "# 엘보 후보군 : 4,5,6 => 논문에 근거하여 6으로 할당\n",
    "kmeans = KMeans(n_clusters=6, random_state=0) # 클러스터의 개수를 엘보인 6에 맞추어 K-Mean 군집화 모델을 생성\n",
    "# 모델 학습과 결과 예측(클러스터 레이블생성)\n",
    "Y_labels = kmeans.fit_predict(X_features_scaled)\n",
    "\n",
    "foodSet['clusterLabel'] = Y_labels\n",
    "foodSet.head()"
   ]
  },
  {
   "cell_type": "code",
   "execution_count": null,
   "id": "dbd4f195-a457-4746-970e-329f2550ed69",
   "metadata": {},
   "outputs": [],
   "source": [
    "# 군집 결과\n"
   ]
  }
 ],
 "metadata": {
  "kernelspec": {
   "display_name": "Python 3 (ipykernel)",
   "language": "python",
   "name": "python3"
  },
  "language_info": {
   "codemirror_mode": {
    "name": "ipython",
    "version": 3
   },
   "file_extension": ".py",
   "mimetype": "text/x-python",
   "name": "python",
   "nbconvert_exporter": "python",
   "pygments_lexer": "ipython3",
   "version": "3.12.0"
  }
 },
 "nbformat": 4,
 "nbformat_minor": 5
}
