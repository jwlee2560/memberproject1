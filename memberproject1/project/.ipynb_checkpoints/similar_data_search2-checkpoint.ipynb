{
 "cells": [
  {
   "cell_type": "code",
   "execution_count": 1,
   "id": "1c6860d0-2d84-4cd4-9cc0-6ca4850089c1",
   "metadata": {},
   "outputs": [],
   "source": [
    "#!pip install sklearn"
   ]
  },
  {
   "cell_type": "code",
   "execution_count": 5,
   "id": "8ff260dc-f27f-48e3-a6eb-ef1be33790fe",
   "metadata": {},
   "outputs": [],
   "source": [
    "import pandas as pd\n",
    "import numpy as np\n",
    "from numpy.linalg import norm\n",
    "\n",
    "from sklearn.feature_extraction.text import CountVectorizer\n",
    "from sklearn.metrics.pairwise import cosine_similarity\n",
    "import warnings"
   ]
  },
  {
   "cell_type": "code",
   "execution_count": 6,
   "id": "be931577-031d-4bb3-941d-c6f9a16c90ab",
   "metadata": {},
   "outputs": [],
   "source": [
    "warnings.filterwarnings('ignore')\n",
    "\n",
    "foods = pd.read_csv('./전국통합식품영양성분정보(가공식품)표준데이터.csv', sep=',', encoding='ms949')"
   ]
  },
  {
   "cell_type": "code",
   "execution_count": 7,
   "id": "6b372b4c-f8b1-432e-a020-1e96ffe392ac",
   "metadata": {},
   "outputs": [],
   "source": [
    "foodSet = pd.DataFrame(foods, columns=['식품코드', '식품명', '대표식품명', '식품대분류명', '식품중분류명', '식품소분류명', '에너지(kcal)', '탄수화물(g)', '단백질(g)', '지방(g)', '포화지방산(g)', '나트륨(mg)'])"
   ]
  },
  {
   "cell_type": "code",
   "execution_count": 8,
   "id": "f0661ede-440e-4123-be53-71dea302f093",
   "metadata": {},
   "outputs": [
    {
     "data": {
      "text/plain": [
       "45196"
      ]
     },
     "execution_count": 8,
     "metadata": {},
     "output_type": "execute_result"
    }
   ],
   "source": [
    "# 추가 : '식품대분류명' = '식용유지류', '잼류', '당류', '장류', '조미식품' 배제\n",
    "# 식사와 직접 관련이 없는 재료류는 제외\n",
    "#print(foodSet['식품대분류명'])\n",
    "\n",
    "foodSet = foodSet.loc[(foodSet['식품대분류명'] != '식용유지류') & \\\n",
    "                      (foodSet['식품대분류명'] != '잼류') & \\\n",
    "                      (foodSet['식품대분류명'] != '당류') & \\\n",
    "                      (foodSet['식품대분류명'] != '장류') & \\\n",
    "                      (foodSet['식품대분류명'] != '조미식품')]\n",
    "len(foodSet)"
   ]
  },
  {
   "cell_type": "code",
   "execution_count": 9,
   "id": "45a3a0cf-d3d8-4bc2-af09-d6b69a5e174f",
   "metadata": {},
   "outputs": [],
   "source": [
    "# 결측치 제거  : NaN 있을 경우 K Mean 측정에서 문제 발생\n",
    "foodSet.fillna(0, inplace=True)"
   ]
  },
  {
   "cell_type": "code",
   "execution_count": 7,
   "id": "e93b47a3-188c-4c97-8177-b844aa8552cb",
   "metadata": {},
   "outputs": [
    {
     "data": {
      "text/plain": [
       "0          과·채주스_프룻밀토마토\n",
       "1    과·채주스_프리마5후르츠칵테일주스\n",
       "2      과·채주스_프리마셀렉션사과주스\n",
       "3    과·채주스_프리마셀렉션파인애플주스\n",
       "4     과·채주스_프리미엄 애플망고주스\n",
       "Name: 식품명, dtype: object"
      ]
     },
     "execution_count": 7,
     "metadata": {},
     "output_type": "execute_result"
    }
   ],
   "source": [
    "foodSetNames = foodSet['식품명']\n",
    "foodSetNames.head()"
   ]
  },
  {
   "cell_type": "markdown",
   "id": "78ee4001-5186-4832-a7df-644f46abad17",
   "metadata": {},
   "source": [
    "---"
   ]
  },
  {
   "cell_type": "code",
   "execution_count": null,
   "id": "c43e5bdf-6b91-4957-986a-2dc037e5a69a",
   "metadata": {},
   "outputs": [],
   "source": [
    "# lialg(Linear Algebra : 선형대수 함수) 라이브러리\n",
    "# norm : 벡터의 크기(magnitude) 또는 길이(length)를 측정하는 방법. \n",
    "# 벡터 공간을 어떤 양의 실수 값으로 매핑하는 함수와 유사함.\n",
    "# norm : https://numpy.org/doc/stable/reference/generated/numpy.linalg.norm.html\n",
    "\n",
    "# 코사인 유사도(cosine similarity) 측정 함수\n",
    "def get_cosine_similarity(m1, m2):\n",
    "    return dot(m1, m2)/(norm(m1)*norm(m2))"
   ]
  },
  {
   "cell_type": "code",
   "execution_count": 20,
   "id": "d4dbadc5-74af-42a4-9d98-8c12ecedac2d",
   "metadata": {},
   "outputs": [
    {
     "data": {
      "text/html": [
       "<div>\n",
       "<style scoped>\n",
       "    .dataframe tbody tr th:only-of-type {\n",
       "        vertical-align: middle;\n",
       "    }\n",
       "\n",
       "    .dataframe tbody tr th {\n",
       "        vertical-align: top;\n",
       "    }\n",
       "\n",
       "    .dataframe thead th {\n",
       "        text-align: right;\n",
       "    }\n",
       "</style>\n",
       "<table border=\"1\" class=\"dataframe\">\n",
       "  <thead>\n",
       "    <tr style=\"text-align: right;\">\n",
       "      <th></th>\n",
       "      <th>식품코드</th>\n",
       "      <th>식품명</th>\n",
       "      <th>대표식품명</th>\n",
       "      <th>식품대분류명</th>\n",
       "      <th>식품중분류명</th>\n",
       "      <th>식품소분류명</th>\n",
       "      <th>에너지(kcal)</th>\n",
       "      <th>탄수화물(g)</th>\n",
       "      <th>단백질(g)</th>\n",
       "      <th>지방(g)</th>\n",
       "      <th>포화지방산(g)</th>\n",
       "      <th>나트륨(mg)</th>\n",
       "    </tr>\n",
       "  </thead>\n",
       "  <tbody>\n",
       "    <tr>\n",
       "      <th>6807</th>\n",
       "      <td>P108-003000400-0196</td>\n",
       "      <td>라면_요린이의보글보글된장라면</td>\n",
       "      <td>라면</td>\n",
       "      <td>면류</td>\n",
       "      <td>해당없음</td>\n",
       "      <td>유탕면</td>\n",
       "      <td>423</td>\n",
       "      <td>68.18</td>\n",
       "      <td>9.09</td>\n",
       "      <td>12.73</td>\n",
       "      <td>6.36</td>\n",
       "      <td>1264.0</td>\n",
       "    </tr>\n",
       "    <tr>\n",
       "      <th>6931</th>\n",
       "      <td>P108-003000400-0068</td>\n",
       "      <td>라면_된장라면</td>\n",
       "      <td>라면</td>\n",
       "      <td>면류</td>\n",
       "      <td>해당없음</td>\n",
       "      <td>유탕면</td>\n",
       "      <td>413</td>\n",
       "      <td>65.00</td>\n",
       "      <td>8.33</td>\n",
       "      <td>13.33</td>\n",
       "      <td>6.67</td>\n",
       "      <td>1425.0</td>\n",
       "    </tr>\n",
       "    <tr>\n",
       "      <th>11902</th>\n",
       "      <td>P108-002000100-0009</td>\n",
       "      <td>기타면_랜선식당 보리된장 마제소바</td>\n",
       "      <td>기타면</td>\n",
       "      <td>면류</td>\n",
       "      <td>해당없음</td>\n",
       "      <td>생면</td>\n",
       "      <td>266</td>\n",
       "      <td>40.60</td>\n",
       "      <td>7.70</td>\n",
       "      <td>8.10</td>\n",
       "      <td>4.50</td>\n",
       "      <td>928.0</td>\n",
       "    </tr>\n",
       "    <tr>\n",
       "      <th>13865</th>\n",
       "      <td>P106-005000100-0001</td>\n",
       "      <td>기타 두부 가공품_순두부짜박이 차돌양지된장</td>\n",
       "      <td>기타 두부 가공품</td>\n",
       "      <td>두부류 또는 묵류</td>\n",
       "      <td>해당없음</td>\n",
       "      <td>두부</td>\n",
       "      <td>78</td>\n",
       "      <td>3.55</td>\n",
       "      <td>6.75</td>\n",
       "      <td>4.26</td>\n",
       "      <td>0.99</td>\n",
       "      <td>401.0</td>\n",
       "    </tr>\n",
       "    <tr>\n",
       "      <th>18924</th>\n",
       "      <td>P106-001000100-0142</td>\n",
       "      <td>두부_정통 된장 순두부 찌개</td>\n",
       "      <td>두부</td>\n",
       "      <td>두부류 또는 묵류</td>\n",
       "      <td>해당없음</td>\n",
       "      <td>두부</td>\n",
       "      <td>44</td>\n",
       "      <td>2.85</td>\n",
       "      <td>3.35</td>\n",
       "      <td>2.35</td>\n",
       "      <td>0.40</td>\n",
       "      <td>298.0</td>\n",
       "    </tr>\n",
       "  </tbody>\n",
       "</table>\n",
       "</div>"
      ],
      "text/plain": [
       "                      식품코드                      식품명      대표식품명     식품대분류명  \\\n",
       "6807   P108-003000400-0196          라면_요린이의보글보글된장라면         라면         면류   \n",
       "6931   P108-003000400-0068                  라면_된장라면         라면         면류   \n",
       "11902  P108-002000100-0009       기타면_랜선식당 보리된장 마제소바        기타면         면류   \n",
       "13865  P106-005000100-0001  기타 두부 가공품_순두부짜박이 차돌양지된장  기타 두부 가공품  두부류 또는 묵류   \n",
       "18924  P106-001000100-0142          두부_정통 된장 순두부 찌개         두부  두부류 또는 묵류   \n",
       "\n",
       "      식품중분류명 식품소분류명  에너지(kcal)  탄수화물(g)  단백질(g)  지방(g)  포화지방산(g)  나트륨(mg)  \n",
       "6807    해당없음    유탕면        423    68.18    9.09  12.73      6.36   1264.0  \n",
       "6931    해당없음    유탕면        413    65.00    8.33  13.33      6.67   1425.0  \n",
       "11902   해당없음     생면        266    40.60    7.70   8.10      4.50    928.0  \n",
       "13865   해당없음     두부         78     3.55    6.75   4.26      0.99    401.0  \n",
       "18924   해당없음     두부         44     2.85    3.35   2.35      0.40    298.0  "
      ]
     },
     "execution_count": 20,
     "metadata": {},
     "output_type": "execute_result"
    }
   ],
   "source": [
    "# '된장'이라는 단어가 포함된 식품명\n",
    "# searchFoodDF = foodSet[foodSet['식품명'].str.contains('된장찌개')]\n",
    "searchFoodDF = foodSet[foodSet['식품명'].str.contains('된장')]\n",
    "searchFoodDF.head()"
   ]
  },
  {
   "cell_type": "code",
   "execution_count": 22,
   "id": "5a4c39db-eb58-4fa4-9ff5-7223a1bd8d47",
   "metadata": {},
   "outputs": [
    {
     "data": {
      "text/plain": [
       "array([['과·채주스_프룻밀토마토'],\n",
       "       ['과·채주스_프리마5후르츠칵테일주스'],\n",
       "       ['과·채주스_프리마셀렉션사과주스'],\n",
       "       ...,\n",
       "       ['햄_런천미트햄'],\n",
       "       ['햄_레몬닭가슴살'],\n",
       "       ['햄_로스트덕매콤한맛']], dtype=object)"
      ]
     },
     "execution_count": 22,
     "metadata": {},
     "output_type": "execute_result"
    }
   ],
   "source": [
    "X_features = foodSet[['식품명', '대표식품명', '식품대분류명', '식품중분류명', '식품소분류명']].values\n",
    "X_features"
   ]
  },
  {
   "cell_type": "code",
   "execution_count": 24,
   "id": "9e4591bb-4dc1-4dc3-837c-a80dcb038f2e",
   "metadata": {},
   "outputs": [
    {
     "ename": "ValueError",
     "evalue": "could not convert string to float: '과·채주스_프룻밀토마토'",
     "output_type": "error",
     "traceback": [
      "\u001b[1;31m---------------------------------------------------------------------------\u001b[0m",
      "\u001b[1;31mValueError\u001b[0m                                Traceback (most recent call last)",
      "Cell \u001b[1;32mIn[24], line 4\u001b[0m\n\u001b[0;32m      1\u001b[0m \u001b[38;5;66;03m# 정규 분포로 다시 스케일링하기\u001b[39;00m\n\u001b[0;32m      2\u001b[0m \u001b[38;5;28;01mfrom\u001b[39;00m \u001b[38;5;21;01msklearn\u001b[39;00m\u001b[38;5;21;01m.\u001b[39;00m\u001b[38;5;21;01mpreprocessing\u001b[39;00m \u001b[38;5;28;01mimport\u001b[39;00m StandardScaler\n\u001b[1;32m----> 4\u001b[0m X_features_scaled \u001b[38;5;241m=\u001b[39m \u001b[43mStandardScaler\u001b[49m\u001b[43m(\u001b[49m\u001b[43m)\u001b[49m\u001b[38;5;241;43m.\u001b[39;49m\u001b[43mfit_transform\u001b[49m\u001b[43m(\u001b[49m\u001b[43mX_features\u001b[49m\u001b[43m)\u001b[49m\n\u001b[0;32m      5\u001b[0m X_features_scaled\n",
      "File \u001b[1;32mD:\\lsh\\works\\python2\\pythonProject2\\.venv\\Lib\\site-packages\\sklearn\\utils\\_set_output.py:295\u001b[0m, in \u001b[0;36m_wrap_method_output.<locals>.wrapped\u001b[1;34m(self, X, *args, **kwargs)\u001b[0m\n\u001b[0;32m    293\u001b[0m \u001b[38;5;129m@wraps\u001b[39m(f)\n\u001b[0;32m    294\u001b[0m \u001b[38;5;28;01mdef\u001b[39;00m \u001b[38;5;21mwrapped\u001b[39m(\u001b[38;5;28mself\u001b[39m, X, \u001b[38;5;241m*\u001b[39margs, \u001b[38;5;241m*\u001b[39m\u001b[38;5;241m*\u001b[39mkwargs):\n\u001b[1;32m--> 295\u001b[0m     data_to_wrap \u001b[38;5;241m=\u001b[39m \u001b[43mf\u001b[49m\u001b[43m(\u001b[49m\u001b[38;5;28;43mself\u001b[39;49m\u001b[43m,\u001b[49m\u001b[43m \u001b[49m\u001b[43mX\u001b[49m\u001b[43m,\u001b[49m\u001b[43m \u001b[49m\u001b[38;5;241;43m*\u001b[39;49m\u001b[43margs\u001b[49m\u001b[43m,\u001b[49m\u001b[43m \u001b[49m\u001b[38;5;241;43m*\u001b[39;49m\u001b[38;5;241;43m*\u001b[39;49m\u001b[43mkwargs\u001b[49m\u001b[43m)\u001b[49m\n\u001b[0;32m    296\u001b[0m     \u001b[38;5;28;01mif\u001b[39;00m \u001b[38;5;28misinstance\u001b[39m(data_to_wrap, \u001b[38;5;28mtuple\u001b[39m):\n\u001b[0;32m    297\u001b[0m         \u001b[38;5;66;03m# only wrap the first output for cross decomposition\u001b[39;00m\n\u001b[0;32m    298\u001b[0m         return_tuple \u001b[38;5;241m=\u001b[39m (\n\u001b[0;32m    299\u001b[0m             _wrap_data_with_container(method, data_to_wrap[\u001b[38;5;241m0\u001b[39m], X, \u001b[38;5;28mself\u001b[39m),\n\u001b[0;32m    300\u001b[0m             \u001b[38;5;241m*\u001b[39mdata_to_wrap[\u001b[38;5;241m1\u001b[39m:],\n\u001b[0;32m    301\u001b[0m         )\n",
      "File \u001b[1;32mD:\\lsh\\works\\python2\\pythonProject2\\.venv\\Lib\\site-packages\\sklearn\\base.py:1098\u001b[0m, in \u001b[0;36mTransformerMixin.fit_transform\u001b[1;34m(self, X, y, **fit_params)\u001b[0m\n\u001b[0;32m   1083\u001b[0m         warnings\u001b[38;5;241m.\u001b[39mwarn(\n\u001b[0;32m   1084\u001b[0m             (\n\u001b[0;32m   1085\u001b[0m                 \u001b[38;5;124mf\u001b[39m\u001b[38;5;124m\"\u001b[39m\u001b[38;5;124mThis object (\u001b[39m\u001b[38;5;132;01m{\u001b[39;00m\u001b[38;5;28mself\u001b[39m\u001b[38;5;241m.\u001b[39m\u001b[38;5;18m__class__\u001b[39m\u001b[38;5;241m.\u001b[39m\u001b[38;5;18m__name__\u001b[39m\u001b[38;5;132;01m}\u001b[39;00m\u001b[38;5;124m) has a `transform`\u001b[39m\u001b[38;5;124m\"\u001b[39m\n\u001b[1;32m   (...)\u001b[0m\n\u001b[0;32m   1093\u001b[0m             \u001b[38;5;167;01mUserWarning\u001b[39;00m,\n\u001b[0;32m   1094\u001b[0m         )\n\u001b[0;32m   1096\u001b[0m \u001b[38;5;28;01mif\u001b[39;00m y \u001b[38;5;129;01mis\u001b[39;00m \u001b[38;5;28;01mNone\u001b[39;00m:\n\u001b[0;32m   1097\u001b[0m     \u001b[38;5;66;03m# fit method of arity 1 (unsupervised transformation)\u001b[39;00m\n\u001b[1;32m-> 1098\u001b[0m     \u001b[38;5;28;01mreturn\u001b[39;00m \u001b[38;5;28;43mself\u001b[39;49m\u001b[38;5;241;43m.\u001b[39;49m\u001b[43mfit\u001b[49m\u001b[43m(\u001b[49m\u001b[43mX\u001b[49m\u001b[43m,\u001b[49m\u001b[43m \u001b[49m\u001b[38;5;241;43m*\u001b[39;49m\u001b[38;5;241;43m*\u001b[39;49m\u001b[43mfit_params\u001b[49m\u001b[43m)\u001b[49m\u001b[38;5;241m.\u001b[39mtransform(X)\n\u001b[0;32m   1099\u001b[0m \u001b[38;5;28;01melse\u001b[39;00m:\n\u001b[0;32m   1100\u001b[0m     \u001b[38;5;66;03m# fit method of arity 2 (supervised transformation)\u001b[39;00m\n\u001b[0;32m   1101\u001b[0m     \u001b[38;5;28;01mreturn\u001b[39;00m \u001b[38;5;28mself\u001b[39m\u001b[38;5;241m.\u001b[39mfit(X, y, \u001b[38;5;241m*\u001b[39m\u001b[38;5;241m*\u001b[39mfit_params)\u001b[38;5;241m.\u001b[39mtransform(X)\n",
      "File \u001b[1;32mD:\\lsh\\works\\python2\\pythonProject2\\.venv\\Lib\\site-packages\\sklearn\\preprocessing\\_data.py:876\u001b[0m, in \u001b[0;36mStandardScaler.fit\u001b[1;34m(self, X, y, sample_weight)\u001b[0m\n\u001b[0;32m    874\u001b[0m \u001b[38;5;66;03m# Reset internal state before fitting\u001b[39;00m\n\u001b[0;32m    875\u001b[0m \u001b[38;5;28mself\u001b[39m\u001b[38;5;241m.\u001b[39m_reset()\n\u001b[1;32m--> 876\u001b[0m \u001b[38;5;28;01mreturn\u001b[39;00m \u001b[38;5;28;43mself\u001b[39;49m\u001b[38;5;241;43m.\u001b[39;49m\u001b[43mpartial_fit\u001b[49m\u001b[43m(\u001b[49m\u001b[43mX\u001b[49m\u001b[43m,\u001b[49m\u001b[43m \u001b[49m\u001b[43my\u001b[49m\u001b[43m,\u001b[49m\u001b[43m \u001b[49m\u001b[43msample_weight\u001b[49m\u001b[43m)\u001b[49m\n",
      "File \u001b[1;32mD:\\lsh\\works\\python2\\pythonProject2\\.venv\\Lib\\site-packages\\sklearn\\base.py:1474\u001b[0m, in \u001b[0;36m_fit_context.<locals>.decorator.<locals>.wrapper\u001b[1;34m(estimator, *args, **kwargs)\u001b[0m\n\u001b[0;32m   1467\u001b[0m     estimator\u001b[38;5;241m.\u001b[39m_validate_params()\n\u001b[0;32m   1469\u001b[0m \u001b[38;5;28;01mwith\u001b[39;00m config_context(\n\u001b[0;32m   1470\u001b[0m     skip_parameter_validation\u001b[38;5;241m=\u001b[39m(\n\u001b[0;32m   1471\u001b[0m         prefer_skip_nested_validation \u001b[38;5;129;01mor\u001b[39;00m global_skip_validation\n\u001b[0;32m   1472\u001b[0m     )\n\u001b[0;32m   1473\u001b[0m ):\n\u001b[1;32m-> 1474\u001b[0m     \u001b[38;5;28;01mreturn\u001b[39;00m \u001b[43mfit_method\u001b[49m\u001b[43m(\u001b[49m\u001b[43mestimator\u001b[49m\u001b[43m,\u001b[49m\u001b[43m \u001b[49m\u001b[38;5;241;43m*\u001b[39;49m\u001b[43margs\u001b[49m\u001b[43m,\u001b[49m\u001b[43m \u001b[49m\u001b[38;5;241;43m*\u001b[39;49m\u001b[38;5;241;43m*\u001b[39;49m\u001b[43mkwargs\u001b[49m\u001b[43m)\u001b[49m\n",
      "File \u001b[1;32mD:\\lsh\\works\\python2\\pythonProject2\\.venv\\Lib\\site-packages\\sklearn\\preprocessing\\_data.py:912\u001b[0m, in \u001b[0;36mStandardScaler.partial_fit\u001b[1;34m(self, X, y, sample_weight)\u001b[0m\n\u001b[0;32m    880\u001b[0m \u001b[38;5;250m\u001b[39m\u001b[38;5;124;03m\"\"\"Online computation of mean and std on X for later scaling.\u001b[39;00m\n\u001b[0;32m    881\u001b[0m \n\u001b[0;32m    882\u001b[0m \u001b[38;5;124;03mAll of X is processed as a single batch. This is intended for cases\u001b[39;00m\n\u001b[1;32m   (...)\u001b[0m\n\u001b[0;32m    909\u001b[0m \u001b[38;5;124;03m    Fitted scaler.\u001b[39;00m\n\u001b[0;32m    910\u001b[0m \u001b[38;5;124;03m\"\"\"\u001b[39;00m\n\u001b[0;32m    911\u001b[0m first_call \u001b[38;5;241m=\u001b[39m \u001b[38;5;129;01mnot\u001b[39;00m \u001b[38;5;28mhasattr\u001b[39m(\u001b[38;5;28mself\u001b[39m, \u001b[38;5;124m\"\u001b[39m\u001b[38;5;124mn_samples_seen_\u001b[39m\u001b[38;5;124m\"\u001b[39m)\n\u001b[1;32m--> 912\u001b[0m X \u001b[38;5;241m=\u001b[39m \u001b[38;5;28;43mself\u001b[39;49m\u001b[38;5;241;43m.\u001b[39;49m\u001b[43m_validate_data\u001b[49m\u001b[43m(\u001b[49m\n\u001b[0;32m    913\u001b[0m \u001b[43m    \u001b[49m\u001b[43mX\u001b[49m\u001b[43m,\u001b[49m\n\u001b[0;32m    914\u001b[0m \u001b[43m    \u001b[49m\u001b[43maccept_sparse\u001b[49m\u001b[38;5;241;43m=\u001b[39;49m\u001b[43m(\u001b[49m\u001b[38;5;124;43m\"\u001b[39;49m\u001b[38;5;124;43mcsr\u001b[39;49m\u001b[38;5;124;43m\"\u001b[39;49m\u001b[43m,\u001b[49m\u001b[43m \u001b[49m\u001b[38;5;124;43m\"\u001b[39;49m\u001b[38;5;124;43mcsc\u001b[39;49m\u001b[38;5;124;43m\"\u001b[39;49m\u001b[43m)\u001b[49m\u001b[43m,\u001b[49m\n\u001b[0;32m    915\u001b[0m \u001b[43m    \u001b[49m\u001b[43mdtype\u001b[49m\u001b[38;5;241;43m=\u001b[39;49m\u001b[43mFLOAT_DTYPES\u001b[49m\u001b[43m,\u001b[49m\n\u001b[0;32m    916\u001b[0m \u001b[43m    \u001b[49m\u001b[43mforce_all_finite\u001b[49m\u001b[38;5;241;43m=\u001b[39;49m\u001b[38;5;124;43m\"\u001b[39;49m\u001b[38;5;124;43mallow-nan\u001b[39;49m\u001b[38;5;124;43m\"\u001b[39;49m\u001b[43m,\u001b[49m\n\u001b[0;32m    917\u001b[0m \u001b[43m    \u001b[49m\u001b[43mreset\u001b[49m\u001b[38;5;241;43m=\u001b[39;49m\u001b[43mfirst_call\u001b[49m\u001b[43m,\u001b[49m\n\u001b[0;32m    918\u001b[0m \u001b[43m\u001b[49m\u001b[43m)\u001b[49m\n\u001b[0;32m    919\u001b[0m n_features \u001b[38;5;241m=\u001b[39m X\u001b[38;5;241m.\u001b[39mshape[\u001b[38;5;241m1\u001b[39m]\n\u001b[0;32m    921\u001b[0m \u001b[38;5;28;01mif\u001b[39;00m sample_weight \u001b[38;5;129;01mis\u001b[39;00m \u001b[38;5;129;01mnot\u001b[39;00m \u001b[38;5;28;01mNone\u001b[39;00m:\n",
      "File \u001b[1;32mD:\\lsh\\works\\python2\\pythonProject2\\.venv\\Lib\\site-packages\\sklearn\\base.py:633\u001b[0m, in \u001b[0;36mBaseEstimator._validate_data\u001b[1;34m(self, X, y, reset, validate_separately, cast_to_ndarray, **check_params)\u001b[0m\n\u001b[0;32m    631\u001b[0m         out \u001b[38;5;241m=\u001b[39m X, y\n\u001b[0;32m    632\u001b[0m \u001b[38;5;28;01melif\u001b[39;00m \u001b[38;5;129;01mnot\u001b[39;00m no_val_X \u001b[38;5;129;01mand\u001b[39;00m no_val_y:\n\u001b[1;32m--> 633\u001b[0m     out \u001b[38;5;241m=\u001b[39m \u001b[43mcheck_array\u001b[49m\u001b[43m(\u001b[49m\u001b[43mX\u001b[49m\u001b[43m,\u001b[49m\u001b[43m \u001b[49m\u001b[43minput_name\u001b[49m\u001b[38;5;241;43m=\u001b[39;49m\u001b[38;5;124;43m\"\u001b[39;49m\u001b[38;5;124;43mX\u001b[39;49m\u001b[38;5;124;43m\"\u001b[39;49m\u001b[43m,\u001b[49m\u001b[43m \u001b[49m\u001b[38;5;241;43m*\u001b[39;49m\u001b[38;5;241;43m*\u001b[39;49m\u001b[43mcheck_params\u001b[49m\u001b[43m)\u001b[49m\n\u001b[0;32m    634\u001b[0m \u001b[38;5;28;01melif\u001b[39;00m no_val_X \u001b[38;5;129;01mand\u001b[39;00m \u001b[38;5;129;01mnot\u001b[39;00m no_val_y:\n\u001b[0;32m    635\u001b[0m     out \u001b[38;5;241m=\u001b[39m _check_y(y, \u001b[38;5;241m*\u001b[39m\u001b[38;5;241m*\u001b[39mcheck_params)\n",
      "File \u001b[1;32mD:\\lsh\\works\\python2\\pythonProject2\\.venv\\Lib\\site-packages\\sklearn\\utils\\validation.py:997\u001b[0m, in \u001b[0;36mcheck_array\u001b[1;34m(array, accept_sparse, accept_large_sparse, dtype, order, copy, force_all_finite, ensure_2d, allow_nd, ensure_min_samples, ensure_min_features, estimator, input_name)\u001b[0m\n\u001b[0;32m    995\u001b[0m         array \u001b[38;5;241m=\u001b[39m xp\u001b[38;5;241m.\u001b[39mastype(array, dtype, copy\u001b[38;5;241m=\u001b[39m\u001b[38;5;28;01mFalse\u001b[39;00m)\n\u001b[0;32m    996\u001b[0m     \u001b[38;5;28;01melse\u001b[39;00m:\n\u001b[1;32m--> 997\u001b[0m         array \u001b[38;5;241m=\u001b[39m \u001b[43m_asarray_with_order\u001b[49m\u001b[43m(\u001b[49m\u001b[43marray\u001b[49m\u001b[43m,\u001b[49m\u001b[43m \u001b[49m\u001b[43morder\u001b[49m\u001b[38;5;241;43m=\u001b[39;49m\u001b[43morder\u001b[49m\u001b[43m,\u001b[49m\u001b[43m \u001b[49m\u001b[43mdtype\u001b[49m\u001b[38;5;241;43m=\u001b[39;49m\u001b[43mdtype\u001b[49m\u001b[43m,\u001b[49m\u001b[43m \u001b[49m\u001b[43mxp\u001b[49m\u001b[38;5;241;43m=\u001b[39;49m\u001b[43mxp\u001b[49m\u001b[43m)\u001b[49m\n\u001b[0;32m    998\u001b[0m \u001b[38;5;28;01mexcept\u001b[39;00m ComplexWarning \u001b[38;5;28;01mas\u001b[39;00m complex_warning:\n\u001b[0;32m    999\u001b[0m     \u001b[38;5;28;01mraise\u001b[39;00m \u001b[38;5;167;01mValueError\u001b[39;00m(\n\u001b[0;32m   1000\u001b[0m         \u001b[38;5;124m\"\u001b[39m\u001b[38;5;124mComplex data not supported\u001b[39m\u001b[38;5;130;01m\\n\u001b[39;00m\u001b[38;5;132;01m{}\u001b[39;00m\u001b[38;5;130;01m\\n\u001b[39;00m\u001b[38;5;124m\"\u001b[39m\u001b[38;5;241m.\u001b[39mformat(array)\n\u001b[0;32m   1001\u001b[0m     ) \u001b[38;5;28;01mfrom\u001b[39;00m \u001b[38;5;21;01mcomplex_warning\u001b[39;00m\n",
      "File \u001b[1;32mD:\\lsh\\works\\python2\\pythonProject2\\.venv\\Lib\\site-packages\\sklearn\\utils\\_array_api.py:521\u001b[0m, in \u001b[0;36m_asarray_with_order\u001b[1;34m(array, dtype, order, copy, xp)\u001b[0m\n\u001b[0;32m    519\u001b[0m     array \u001b[38;5;241m=\u001b[39m numpy\u001b[38;5;241m.\u001b[39marray(array, order\u001b[38;5;241m=\u001b[39morder, dtype\u001b[38;5;241m=\u001b[39mdtype)\n\u001b[0;32m    520\u001b[0m \u001b[38;5;28;01melse\u001b[39;00m:\n\u001b[1;32m--> 521\u001b[0m     array \u001b[38;5;241m=\u001b[39m \u001b[43mnumpy\u001b[49m\u001b[38;5;241;43m.\u001b[39;49m\u001b[43masarray\u001b[49m\u001b[43m(\u001b[49m\u001b[43marray\u001b[49m\u001b[43m,\u001b[49m\u001b[43m \u001b[49m\u001b[43morder\u001b[49m\u001b[38;5;241;43m=\u001b[39;49m\u001b[43morder\u001b[49m\u001b[43m,\u001b[49m\u001b[43m \u001b[49m\u001b[43mdtype\u001b[49m\u001b[38;5;241;43m=\u001b[39;49m\u001b[43mdtype\u001b[49m\u001b[43m)\u001b[49m\n\u001b[0;32m    523\u001b[0m \u001b[38;5;66;03m# At this point array is a NumPy ndarray. We convert it to an array\u001b[39;00m\n\u001b[0;32m    524\u001b[0m \u001b[38;5;66;03m# container that is consistent with the input's namespace.\u001b[39;00m\n\u001b[0;32m    525\u001b[0m \u001b[38;5;28;01mreturn\u001b[39;00m xp\u001b[38;5;241m.\u001b[39masarray(array)\n",
      "\u001b[1;31mValueError\u001b[0m: could not convert string to float: '과·채주스_프룻밀토마토'"
     ]
    }
   ],
   "source": [
    "# 정규 분포로 다시 스케일링하기\n",
    "from sklearn.preprocessing import StandardScaler\n",
    "\n",
    "X_features_scaled = StandardScaler().fit_transform(X_features)\n",
    "X_features_scaled"
   ]
  },
  {
   "cell_type": "code",
   "execution_count": 21,
   "id": "c27f0b5a-0add-48ef-a9db-3ce21f694c62",
   "metadata": {},
   "outputs": [],
   "source": [
    "# '된장'이라는 단어가 포함된 식품명\n",
    "# targetIdx = foodSet[foodSet['식품명'].str.contains('된장')].index\n",
    "#targetIdx"
   ]
  },
  {
   "cell_type": "code",
   "execution_count": 18,
   "id": "82f75928-4932-4281-9fae-fd8c3c86bb5b",
   "metadata": {},
   "outputs": [
    {
     "data": {
      "text/plain": [
       "Index([ 6807,  6931, 11902, 13865, 18924, 24972, 43583, 43587, 43627, 43946,\n",
       "       44582, 44627, 44642, 44677, 44683, 44699, 44741, 47239, 47545, 47654,\n",
       "       47655, 47691, 47703, 49611],\n",
       "      dtype='int64')"
      ]
     },
     "execution_count": 18,
     "metadata": {},
     "output_type": "execute_result"
    }
   ],
   "source": [
    "foodIdx = searchFoodDF.index\n",
    "foodIdx"
   ]
  },
  {
   "cell_type": "code",
   "execution_count": null,
   "id": "8d5f90c2-1766-4afb-83e0-92dfeb5bce95",
   "metadata": {},
   "outputs": [],
   "source": [
    "cosSimilDict = {} # index(key), 코사인 유사도(value)\n",
    "\n",
    "for idx in foodIdx:\n",
    "\n",
    "    if (idx < len(foodSet)):\n",
    "        similVal = get_cosine_similarity(X_features_scaled[targetIdx], X_features_scaled[idx])\n",
    "        #similarValues.append(similVal)\n",
    "\n",
    "        # 타겟 상품 제외\n",
    "        #if (idx != targetIdx):\n",
    "        #    cosSimilDict[idx] = similVal\n",
    "    else:        \n",
    "        break;\n",
    "    \n",
    "    #print(similVal)\n",
    "\n",
    "print(cosSimilDict)"
   ]
  },
  {
   "cell_type": "code",
   "execution_count": null,
   "id": "b566c6bb-1fe5-4d52-bfae-23c46d11a6e9",
   "metadata": {},
   "outputs": [],
   "source": [
    "minCosSimilVal = min(cosSimilDict.values())\n",
    "\n",
    "# 최대 유사도 선정시 후보군 선정 유사도 0.99 이상인 제품군 생성\n",
    "maxNearCosSimilVals = [val for val in cosSimilDict.values() if val > 0.99]\n",
    "\n",
    "print('최저 유사도(가장 관계가 적은 식품) : ', minCosSimilVal) # 가장 유사도가 낮은 값  ex) -0.012988934902584414"
   ]
  }
 ],
 "metadata": {
  "kernelspec": {
   "display_name": "Python 3 (ipykernel)",
   "language": "python",
   "name": "python3"
  },
  "language_info": {
   "codemirror_mode": {
    "name": "ipython",
    "version": 3
   },
   "file_extension": ".py",
   "mimetype": "text/x-python",
   "name": "python",
   "nbconvert_exporter": "python",
   "pygments_lexer": "ipython3",
   "version": "3.12.0"
  }
 },
 "nbformat": 4,
 "nbformat_minor": 5
}
