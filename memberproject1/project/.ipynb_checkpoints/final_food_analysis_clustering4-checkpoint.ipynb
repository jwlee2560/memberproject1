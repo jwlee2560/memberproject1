{
 "cells": [
  {
   "cell_type": "code",
   "execution_count": 1,
   "id": "adcf1aaa-9e47-4559-8f42-2103bf258742",
   "metadata": {},
   "outputs": [],
   "source": [
    "import pandas as pd\n",
    "import numpy as np\n",
    "\n",
    "foods = pd.read_csv('./전국통합식품영양성분정보(가공식품)표준데이터.csv', sep=',', encoding='ms949')"
   ]
  },
  {
   "cell_type": "code",
   "execution_count": 2,
   "id": "60e5a3e0-ca0f-43e0-a136-acaec05ba6cb",
   "metadata": {},
   "outputs": [],
   "source": [
    "foodSet = pd.DataFrame(foods, columns=['식품코드', '식품명', '에너지(kcal)', '탄수화물(g)', '단백질(g)', '지방(g)', '포화지방산(g)', '나트륨(mg)'])"
   ]
  },
  {
   "cell_type": "code",
   "execution_count": 3,
   "id": "466e79a6-02fd-4219-8211-d4b5f46f4b36",
   "metadata": {},
   "outputs": [],
   "source": [
    "# 결측치 제거  : NaN 있을 경우 K Mean 측정에서 문제 발생\n",
    "foodSet.fillna(0, inplace=True)"
   ]
  },
  {
   "cell_type": "code",
   "execution_count": 4,
   "id": "dfe85c49-2a5e-4b8f-b2e7-a53bca5fdcb0",
   "metadata": {},
   "outputs": [
    {
     "data": {
      "text/html": [
       "<div>\n",
       "<style scoped>\n",
       "    .dataframe tbody tr th:only-of-type {\n",
       "        vertical-align: middle;\n",
       "    }\n",
       "\n",
       "    .dataframe tbody tr th {\n",
       "        vertical-align: top;\n",
       "    }\n",
       "\n",
       "    .dataframe thead th {\n",
       "        text-align: right;\n",
       "    }\n",
       "</style>\n",
       "<table border=\"1\" class=\"dataframe\">\n",
       "  <thead>\n",
       "    <tr style=\"text-align: right;\">\n",
       "      <th></th>\n",
       "      <th>에너지(kcal)</th>\n",
       "    </tr>\n",
       "  </thead>\n",
       "  <tbody>\n",
       "    <tr>\n",
       "      <th>0</th>\n",
       "      <td>43</td>\n",
       "    </tr>\n",
       "    <tr>\n",
       "      <th>1</th>\n",
       "      <td>45</td>\n",
       "    </tr>\n",
       "    <tr>\n",
       "      <th>2</th>\n",
       "      <td>45</td>\n",
       "    </tr>\n",
       "    <tr>\n",
       "      <th>3</th>\n",
       "      <td>54</td>\n",
       "    </tr>\n",
       "    <tr>\n",
       "      <th>4</th>\n",
       "      <td>38</td>\n",
       "    </tr>\n",
       "  </tbody>\n",
       "</table>\n",
       "</div>"
      ],
      "text/plain": [
       "   에너지(kcal)\n",
       "0         43\n",
       "1         45\n",
       "2         45\n",
       "3         54\n",
       "4         38"
      ]
     },
     "execution_count": 4,
     "metadata": {},
     "output_type": "execute_result"
    }
   ],
   "source": [
    "X = foodSet[['에너지(kcal)', '탄수화물(g)', '단백질(g)', '지방(g)', '포화지방산(g)', '나트륨(mg)']].values\n",
    "\n",
    "# 에너지(kcal)\n",
    "X_energy = foodSet[['에너지(kcal)']]\n",
    "X_energy.head()"
   ]
  },
  {
   "cell_type": "code",
   "execution_count": 5,
   "id": "e2b0bade-1a09-4276-ab36-15eff15bb2bb",
   "metadata": {},
   "outputs": [],
   "source": [
    "#!pip install scikit-learn\n",
    "#!pip install sklearn.preprocessing"
   ]
  },
  {
   "cell_type": "code",
   "execution_count": 6,
   "id": "26942e20-95e3-452e-a951-0eb5ed158a2b",
   "metadata": {},
   "outputs": [],
   "source": [
    "# feature scaling\n",
    "from sklearn.preprocessing import MinMaxScaler\n",
    "\n",
    "scaler = MinMaxScaler(feature_range = (0,1))\n",
    "X_energy = scaler.fit_transform(X_energy)"
   ]
  },
  {
   "cell_type": "markdown",
   "id": "c40fa598-6a2b-4212-bb20-be79615672c3",
   "metadata": {},
   "source": [
    "---"
   ]
  },
  {
   "cell_type": "markdown",
   "id": "ac1fc5f7-5f72-4e19-a41e-690f9ee16254",
   "metadata": {},
   "source": [
    "#### **SOM(Self-Organizing Map : 자기 조직화 지도)** <br>\n",
    "\n",
    "[Link] : https://ko.wikipedia.org/wiki/%EC%9E%90%EA%B8%B0%EC%A1%B0%EC%A7%81%ED%99%94_%EC%A7%80%EB%8F%84<br>\n",
    "[Link] : https://blog.naver.com/tutumd96/221712405650<br>\n",
    "[Link] : https://blog.naver.com/plasticcode/221514486602<br>\n",
    "[Link] : https://thebook.io/080263/0631/"
   ]
  },
  {
   "cell_type": "code",
   "execution_count": 7,
   "id": "e7e29297-853c-436b-a304-827485965724",
   "metadata": {},
   "outputs": [],
   "source": [
    "import seaborn as sns\n",
    "import matplotlib.pyplot as plt\n",
    "\n",
    "# from matplotlib import font_manager, rc # 폰트 세팅을 위한 모듈 추가\n",
    "# font_path = \"malgun.ttf\" # 사용할 폰트명 경로 삽입\n",
    "# font = font_manager.FontProperties(fname = font_path).get_name()\n",
    "# rc('font', family = font)\n",
    "\n",
    "# # %matplotlib inline\n",
    "# sns.pairplot(foodSet, diag_kind = 'kde', hue = 'cluster', palette = 'bright')\n",
    "# plt.show()"
   ]
  },
  {
   "cell_type": "code",
   "execution_count": 8,
   "id": "728db10e-c7fb-4697-bc73-2b42ab066828",
   "metadata": {},
   "outputs": [],
   "source": [
    "# 에너지(kcal)\n",
    "#plt.plot(X_energy[:])"
   ]
  },
  {
   "cell_type": "code",
   "execution_count": 9,
   "id": "bfe9a140-32e6-4f7c-a25a-74b898da6aa3",
   "metadata": {},
   "outputs": [],
   "source": [
    "# 자기조직화지도(SOM, Self-Organizing Map)\n",
    "# : https://hyerimir.tistory.com/194\n",
    "from minisom import MiniSom\n",
    "from pylab import plot, axis, show, pcolor, colorbar, bone\n",
    "\n",
    "# 20 : SOM의 X축에 대한 자원\n",
    "# 20 : SOM의 Y축에 대한 자원\n",
    "# 1 : 입력 vector(feature) 수\n",
    "# sigma : 이웃 노드의 인접 반경\n",
    "# learning_rate : 한번 학습할 때 얼마큼 변화를 주는지에 대한 상수\n",
    "foodsSOM1 = MiniSom(20, 20, 1, sigma=1,learning_rate=0.5,topology='hexagonal',neighborhood_function='gaussian',activation_distance='euclidean', random_seed=0)\n",
    "\n",
    "#초기값설정\n",
    "foodsSOM1.random_weights_init(X_energy) # 초기화\n",
    "foodsSOM1.train(X_energy,1000,random_order=True) # 진행\n",
    "\n",
    "#bone()\n",
    "#pcolor(foodsSOM1.distance_map().T, cmap='coolwarm')\n",
    "#colorbar()"
   ]
  },
  {
   "cell_type": "code",
   "execution_count": 10,
   "id": "85c2f8d3-0116-4721-ab40-8c9ac22d7edd",
   "metadata": {},
   "outputs": [],
   "source": [
    "# 탄수화물에 대한 군집 분포\n",
    "\n",
    "X_carbo = foodSet[['탄수화물(g)']]\n",
    "\n",
    "scaler = MinMaxScaler(feature_range = (0,1))\n",
    "X_carbo = scaler.fit_transform(X_carbo)\n",
    "\n",
    "# 20 : SOM의 X축에 대한 자원\n",
    "# 20 : SOM의 Y축에 대한 자원\n",
    "# 1 : 입력 vector(feature) 수\n",
    "# sigma : 이웃 노드의 인접 반경\n",
    "# learning_rate : 한번 학습할 때 얼마큼 변화를 주는지에 대한 상수\n",
    "carboSOM = MiniSom(20, 20, 1, sigma=1,learning_rate=0.5,topology='hexagonal',neighborhood_function='gaussian',activation_distance='euclidean', random_seed=0)\n",
    "\n",
    "#초기값설정\n",
    "carboSOM.random_weights_init(X_carbo) # 초기화\n",
    "carboSOM.train(X_carbo,1000,random_order=True) # 진행\n",
    "\n",
    "#bone()\n",
    "#pcolor(carboSOM.distance_map().T, cmap='coolwarm')\n",
    "#colorbar()"
   ]
  },
  {
   "cell_type": "markdown",
   "id": "bce5454c-9e57-49cd-ac4d-daed34311a61",
   "metadata": {},
   "source": [
    "---"
   ]
  },
  {
   "cell_type": "code",
   "execution_count": 11,
   "id": "de364066-09c7-4d88-abaf-3172526a2219",
   "metadata": {},
   "outputs": [],
   "source": [
    "#  K Mean(평균) 군집화\n",
    "\n",
    "#[Link] K-평균(K-Means) 알고리즘 및 KNN(Nearest Neighbor Classifier : K-최근접 이웃)과의 차이점\n",
    "#: https://velog.io/@jhlee508/%EB%A8%B8%EC%8B%A0%EB%9F%AC%EB%8B%9D-K-%ED%8F%89%EA%B7%A0K-Means-%EC%95%8C%EA%B3%A0%EB%A6%AC%EC%A6%98"
   ]
  },
  {
   "cell_type": "code",
   "execution_count": 12,
   "id": "736ccc2e-0a3d-4eb6-8d11-2854fac5296f",
   "metadata": {},
   "outputs": [],
   "source": [
    "from sklearn.cluster import KMeans\n",
    "from sklearn.metrics import silhouette_score, silhouette_samples"
   ]
  },
  {
   "cell_type": "code",
   "execution_count": 13,
   "id": "2d97530c-f9fa-48b7-84e6-5e71dc42f206",
   "metadata": {},
   "outputs": [],
   "source": [
    "X_features = foodSet[['에너지(kcal)', '단백질(g)', '지방(g)', '포화지방산(g)', '탄수화물(g)', '나트륨(mg)']].values\n",
    "#X_features"
   ]
  },
  {
   "cell_type": "code",
   "execution_count": 14,
   "id": "502af3d0-2505-464c-8694-f7e7c6e44613",
   "metadata": {},
   "outputs": [],
   "source": [
    "# 정규 분포로 다시 스케일링하기\n",
    "from sklearn.preprocessing import StandardScaler\n",
    "\n",
    "X_features_scaled = StandardScaler().fit_transform(X_features)\n",
    "#X_features_scaled"
   ]
  },
  {
   "cell_type": "code",
   "execution_count": 15,
   "id": "3bb2b715-980f-4db0-95b2-991be3ba03f2",
   "metadata": {},
   "outputs": [],
   "source": [
    "# 참고) 엘보 메소드(방법 : elbow method)\n",
    "#: Cluster 간의 거리의 합을 나타내는 inertia가 급격히 떨어지는<b>(꺾이는 = 엘보(elbow)) 구간</b>이 생기는데, 이 지점의 K 값을 군집의 개수로 사용<br>\n",
    "#\n",
    "# [Link] : https://steadiness-193.tistory.com/285"
   ]
  },
  {
   "cell_type": "code",
   "execution_count": 16,
   "id": "5ba3c633-0303-4eb3-b257-2eaf3c13b165",
   "metadata": {},
   "outputs": [],
   "source": [
    "# 최적의 k 찾기 (1) 엘보우 방법\n",
    "import matplotlib.pyplot as plt\n",
    "from matplotlib import font_manager, rc # 폰트 세팅을 위한 모듈 추가\n",
    "\n",
    "font_path = \"malgun.ttf\" # 사용할 폰트명 경로 삽입\n",
    "font = font_manager.FontProperties(fname = font_path).get_name()\n",
    "rc('font', family = font)\n",
    "\n",
    "# distortions = [] # 왜곡\n",
    "\n",
    "# for i in range(2, 15):\n",
    "#     kmeans_i = KMeans(n_clusters=i, random_state=0)  # 모델 생성\n",
    "#     kmeans_i.fit(X_features_scaled)   # 모델 훈련\n",
    "#     distortions.append(kmeans_i.inertia_)\n",
    "    \n",
    "# plt.plot(range(2, 15), distortions, marker='o')\n",
    "# plt.xlabel('클러스터의 수')\n",
    "# plt.ylabel('왜곡(Distortion)')\n",
    "# plt.show()"
   ]
  },
  {
   "cell_type": "markdown",
   "id": "b000369f-0c37-4677-af25-450dd92971b6",
   "metadata": {},
   "source": [
    "---"
   ]
  },
  {
   "cell_type": "code",
   "execution_count": 17,
   "id": "c472c11c-3d37-462c-a028-95aae895a6ee",
   "metadata": {},
   "outputs": [],
   "source": [
    "# 최종 군집화 결과맵-2 : detail\n",
    "# 최적의 k 찾기 (2) 실루엣 계수에 따른 각 클러스터의 비중 시각화 함수 정의\n",
    "\n",
    "from matplotlib import cm\n",
    "\n",
    "def silhouetteViz(n_cluster, X_features): \n",
    "    \n",
    "    kmeans = KMeans(n_clusters=n_cluster, random_state=0)\n",
    "    Y_labels = kmeans.fit_predict(X_features)\n",
    "    \n",
    "    silhouette_values = silhouette_samples(X_features, Y_labels, metric='euclidean')\n",
    "\n",
    "    y_ax_lower, y_ax_upper = 0, 0\n",
    "    y_ticks = []\n",
    "\n",
    "    for c in range(n_cluster):\n",
    "        c_silhouettes = silhouette_values[Y_labels == c]\n",
    "        c_silhouettes.sort()\n",
    "        y_ax_upper += len(c_silhouettes)\n",
    "        color = cm.jet(float(c) / n_cluster)\n",
    "        plt.barh(range(y_ax_lower, y_ax_upper), c_silhouettes,\n",
    "                 height=1.0, edgecolor='none', color=color)\n",
    "        y_ticks.append((y_ax_lower + y_ax_upper) / 2.)\n",
    "        y_ax_lower += len(c_silhouettes)\n",
    "    \n",
    "    silhouette_avg = np.mean(silhouette_values)\n",
    "    plt.axvline(silhouette_avg, color='red', linestyle='--')\n",
    "    plt.title('Number of Cluster : '+ str(n_cluster)+'\\n' \\\n",
    "              + 'Silhouette Score : '+ str(round(silhouette_avg,3)))\n",
    "    plt.yticks(y_ticks, range(n_cluster))   \n",
    "    plt.xticks([0, 0.2, 0.4, 0.6, 0.8, 1])\n",
    "    plt.ylabel('Cluster')\n",
    "    plt.xlabel('Silhouette coefficient')\n",
    "    plt.tight_layout()\n",
    "    plt.show()"
   ]
  },
  {
   "cell_type": "code",
   "execution_count": 18,
   "id": "af2772b9-cdfd-4693-a924-98429e5d4127",
   "metadata": {},
   "outputs": [],
   "source": [
    "# 클러스터 수에 따른 클러스터 데이터 분포의 시각화 함수 정의\n",
    "def clusterScatter(n_cluster, X_features): \n",
    "    c_colors = []\n",
    "    kmeans = KMeans(n_clusters=n_cluster, random_state=0)\n",
    "    Y_labels = kmeans.fit_predict(X_features)\n",
    "\n",
    "    for i in range(n_cluster):\n",
    "        c_color = cm.jet(float(i) / n_cluster) #클러스터의 색상 설정\n",
    "        c_colors.append(c_color)\n",
    "        #클러스터의 데이터 분포를 동그라미로 시각화\n",
    "        plt.scatter(X_features[Y_labels == i,0], X_features[Y_labels == i,1],\n",
    "                     marker='o', color=c_color, edgecolor='black', s=50, \n",
    "                     label='cluster '+ str(i))       \n",
    "    \n",
    "    #각 클러스터의 중심점을 삼각형으로 표시\n",
    "    for i in range(n_cluster):\n",
    "        plt.scatter(kmeans.cluster_centers_[i,0], kmeans.cluster_centers_[i,1], \n",
    "                    marker='^', color=c_colors[i], edgecolor='w', s=200)\n",
    "        \n",
    "    plt.legend()\n",
    "    plt.grid()\n",
    "    plt.tight_layout()\n",
    "    plt.show()"
   ]
  },
  {
   "cell_type": "code",
   "execution_count": 19,
   "id": "21656217-4c91-4595-b2c2-82d6d1c46756",
   "metadata": {},
   "outputs": [],
   "source": [
    "#silhouetteViz(3, X_features_scaled) #클러스터 3개인 경우의 실루엣 score 및 각 클러스터 비중 시각화  ex) 0.383"
   ]
  },
  {
   "cell_type": "code",
   "execution_count": 20,
   "id": "d2652085-4d9b-40c7-a5ce-76b9e3dae642",
   "metadata": {},
   "outputs": [],
   "source": [
    "#silhouetteViz(4, X_features_scaled) #클러스터 4개인 경우의 실루엣 score 및 각 클러스터 비중 시각화  ex) 0.405"
   ]
  },
  {
   "cell_type": "code",
   "execution_count": 21,
   "id": "8e6514af-17b5-4f80-9edb-287b175b8104",
   "metadata": {},
   "outputs": [],
   "source": [
    "#silhouetteViz(5, X_features_scaled) #클러스터 5개인 경우의 실루엣 score 및 각 클러스터 비중 시각화  ex) 0.431"
   ]
  },
  {
   "cell_type": "code",
   "execution_count": 22,
   "id": "d4073ac4-d1aa-4853-b4a9-dea9d4a8d06b",
   "metadata": {},
   "outputs": [],
   "source": [
    "#silhouetteViz(6, X_features_scaled) #클러스터 6개인 경우의 실루엣 score 및 각 클러스터 비중 시각화  ex) 0.45"
   ]
  },
  {
   "cell_type": "code",
   "execution_count": 23,
   "id": "6d2c266c-c66c-4fe1-9c96-6a89e9b4a8b2",
   "metadata": {},
   "outputs": [],
   "source": [
    "#silhouetteViz(7, X_features_scaled) #클러스터 7개인 경우의 실루엣 score 및 각 클러스터 비중 시각화  ex) 0.454"
   ]
  },
  {
   "cell_type": "code",
   "execution_count": 24,
   "id": "3b15dffb-5a9f-42dc-8b85-e9a50a26df96",
   "metadata": {},
   "outputs": [],
   "source": [
    "#clusterScatter(3, X_features_scaled) #클러스터 3개인 경우의 클러스터 데이터 분포 시각화"
   ]
  },
  {
   "cell_type": "code",
   "execution_count": 25,
   "id": "70f9f62a-fb92-48a7-aaba-f240a2af7ff2",
   "metadata": {},
   "outputs": [],
   "source": [
    "#clusterScatter(4, X_features_scaled)  #클러스터 4개인 경우의 클러스터 데이터 분포 시각화"
   ]
  },
  {
   "cell_type": "code",
   "execution_count": 26,
   "id": "2dc4d46e-82dd-4973-bb78-2d79e5658d59",
   "metadata": {},
   "outputs": [],
   "source": [
    "#clusterScatter(5, X_features_scaled)  #클러스터 5개인 경우의 클러스터 데이터 분포 시각화"
   ]
  },
  {
   "cell_type": "code",
   "execution_count": 27,
   "id": "537e2415-ee18-4984-a4d9-ad1d928b36d1",
   "metadata": {},
   "outputs": [],
   "source": [
    "#clusterScatter(6, X_features_scaled)  #클러스터 6개인 경우의 클러스터 데이터 분포 시각화"
   ]
  },
  {
   "cell_type": "code",
   "execution_count": 28,
   "id": "33193bd6-0628-45f5-a07c-165fb64de639",
   "metadata": {},
   "outputs": [],
   "source": [
    "#clusterScatter(7, X_features_scaled)  #클러스터 7개인 경우의 클러스터 데이터 분포 시각화"
   ]
  },
  {
   "cell_type": "markdown",
   "id": "130addc1-390f-4e95-a75f-9c40858f53a3",
   "metadata": {},
   "source": [
    "#### 논문과 달리 최적의 K 값은 **7**로 판정됨  ex) 0.454"
   ]
  },
  {
   "cell_type": "markdown",
   "id": "7e136cc3-3398-4072-9eb8-3c2e1d56b4b1",
   "metadata": {},
   "source": [
    "---"
   ]
  },
  {
   "cell_type": "code",
   "execution_count": 29,
   "id": "2249a115-2e8a-4c3f-adaf-2f3406a83c60",
   "metadata": {},
   "outputs": [
    {
     "data": {
      "text/html": [
       "<div>\n",
       "<style scoped>\n",
       "    .dataframe tbody tr th:only-of-type {\n",
       "        vertical-align: middle;\n",
       "    }\n",
       "\n",
       "    .dataframe tbody tr th {\n",
       "        vertical-align: top;\n",
       "    }\n",
       "\n",
       "    .dataframe thead th {\n",
       "        text-align: right;\n",
       "    }\n",
       "</style>\n",
       "<table border=\"1\" class=\"dataframe\">\n",
       "  <thead>\n",
       "    <tr style=\"text-align: right;\">\n",
       "      <th></th>\n",
       "      <th>식품코드</th>\n",
       "      <th>식품명</th>\n",
       "      <th>에너지(kcal)</th>\n",
       "      <th>탄수화물(g)</th>\n",
       "      <th>단백질(g)</th>\n",
       "      <th>지방(g)</th>\n",
       "      <th>포화지방산(g)</th>\n",
       "      <th>나트륨(mg)</th>\n",
       "      <th>clusterLabel</th>\n",
       "    </tr>\n",
       "  </thead>\n",
       "  <tbody>\n",
       "    <tr>\n",
       "      <th>0</th>\n",
       "      <td>P109-302030200-2176</td>\n",
       "      <td>과·채주스_프룻밀토마토</td>\n",
       "      <td>43</td>\n",
       "      <td>10.0</td>\n",
       "      <td>0.47</td>\n",
       "      <td>0.00</td>\n",
       "      <td>0.00</td>\n",
       "      <td>17.0</td>\n",
       "      <td>1</td>\n",
       "    </tr>\n",
       "    <tr>\n",
       "      <th>1</th>\n",
       "      <td>P109-302030200-2177</td>\n",
       "      <td>과·채주스_프리마5후르츠칵테일주스</td>\n",
       "      <td>45</td>\n",
       "      <td>10.7</td>\n",
       "      <td>0.30</td>\n",
       "      <td>0.00</td>\n",
       "      <td>0.00</td>\n",
       "      <td>0.0</td>\n",
       "      <td>1</td>\n",
       "    </tr>\n",
       "    <tr>\n",
       "      <th>2</th>\n",
       "      <td>P109-302030200-2178</td>\n",
       "      <td>과·채주스_프리마셀렉션사과주스</td>\n",
       "      <td>45</td>\n",
       "      <td>11.0</td>\n",
       "      <td>0.20</td>\n",
       "      <td>0.20</td>\n",
       "      <td>0.00</td>\n",
       "      <td>0.0</td>\n",
       "      <td>1</td>\n",
       "    </tr>\n",
       "    <tr>\n",
       "      <th>3</th>\n",
       "      <td>P109-302030200-2179</td>\n",
       "      <td>과·채주스_프리마셀렉션파인애플주스</td>\n",
       "      <td>54</td>\n",
       "      <td>12.5</td>\n",
       "      <td>0.50</td>\n",
       "      <td>0.20</td>\n",
       "      <td>0.00</td>\n",
       "      <td>0.0</td>\n",
       "      <td>1</td>\n",
       "    </tr>\n",
       "    <tr>\n",
       "      <th>4</th>\n",
       "      <td>P109-302030200-2180</td>\n",
       "      <td>과·채주스_프리미엄 애플망고주스</td>\n",
       "      <td>38</td>\n",
       "      <td>8.0</td>\n",
       "      <td>0.19</td>\n",
       "      <td>0.56</td>\n",
       "      <td>0.03</td>\n",
       "      <td>1.0</td>\n",
       "      <td>1</td>\n",
       "    </tr>\n",
       "  </tbody>\n",
       "</table>\n",
       "</div>"
      ],
      "text/plain": [
       "                  식품코드                 식품명  에너지(kcal)  탄수화물(g)  단백질(g)  지방(g)  \\\n",
       "0  P109-302030200-2176        과·채주스_프룻밀토마토         43     10.0    0.47   0.00   \n",
       "1  P109-302030200-2177  과·채주스_프리마5후르츠칵테일주스         45     10.7    0.30   0.00   \n",
       "2  P109-302030200-2178    과·채주스_프리마셀렉션사과주스         45     11.0    0.20   0.20   \n",
       "3  P109-302030200-2179  과·채주스_프리마셀렉션파인애플주스         54     12.5    0.50   0.20   \n",
       "4  P109-302030200-2180   과·채주스_프리미엄 애플망고주스         38      8.0    0.19   0.56   \n",
       "\n",
       "   포화지방산(g)  나트륨(mg)  clusterLabel  \n",
       "0      0.00     17.0             1  \n",
       "1      0.00      0.0             1  \n",
       "2      0.00      0.0             1  \n",
       "3      0.00      0.0             1  \n",
       "4      0.03      1.0             1  "
      ]
     },
     "execution_count": 29,
     "metadata": {},
     "output_type": "execute_result"
    }
   ],
   "source": [
    "best_cluster = 7\n",
    "\n",
    "# 최적화 클러스터의 개수를  7에 맞추어 K-Mean 군집화 모델을 다시 생성\n",
    "kmeans = KMeans(n_clusters=best_cluster, random_state=0) \n",
    "# 모델 학습과 결과 예측(클러스터 레이블생성)\n",
    "Y_labels = kmeans.fit_predict(X_features_scaled)\n",
    "\n",
    "foodSet['clusterLabel'] = Y_labels\n",
    "foodSet.head()"
   ]
  },
  {
   "cell_type": "code",
   "execution_count": 30,
   "id": "2c37011a-a6b9-4b8b-b3e8-7173bd84368e",
   "metadata": {},
   "outputs": [],
   "source": [
    "foodSet.to_csv('./Final_Cluster_Result.csv')"
   ]
  },
  {
   "cell_type": "code",
   "execution_count": 31,
   "id": "fa5c1037-6aa0-45ba-9f38-0cb94199e28a",
   "metadata": {},
   "outputs": [
    {
     "data": {
      "text/html": [
       "<div>\n",
       "<style scoped>\n",
       "    .dataframe tbody tr th:only-of-type {\n",
       "        vertical-align: middle;\n",
       "    }\n",
       "\n",
       "    .dataframe tbody tr th {\n",
       "        vertical-align: top;\n",
       "    }\n",
       "\n",
       "    .dataframe thead th {\n",
       "        text-align: right;\n",
       "    }\n",
       "</style>\n",
       "<table border=\"1\" class=\"dataframe\">\n",
       "  <thead>\n",
       "    <tr style=\"text-align: right;\">\n",
       "      <th></th>\n",
       "      <th>식품코드</th>\n",
       "      <th>식품명</th>\n",
       "      <th>데이터구분코드</th>\n",
       "      <th>데이터구분명</th>\n",
       "      <th>식품기원코드</th>\n",
       "      <th>식품기원명</th>\n",
       "      <th>식품대분류코드</th>\n",
       "      <th>식품대분류명</th>\n",
       "      <th>대표식품코드</th>\n",
       "      <th>대표식품명</th>\n",
       "      <th>...</th>\n",
       "      <th>유통업체명</th>\n",
       "      <th>수입여부</th>\n",
       "      <th>원산지국코드</th>\n",
       "      <th>원산지국명</th>\n",
       "      <th>데이터생성방법코드</th>\n",
       "      <th>데이터생성방법명</th>\n",
       "      <th>데이터생성일자</th>\n",
       "      <th>데이터기준일자</th>\n",
       "      <th>제공기관코드</th>\n",
       "      <th>제공기관명</th>\n",
       "    </tr>\n",
       "  </thead>\n",
       "  <tbody>\n",
       "    <tr>\n",
       "      <th>14113</th>\n",
       "      <td>P106-001000300-0011</td>\n",
       "      <td>두부_두부적 네모 떡갈비</td>\n",
       "      <td>P</td>\n",
       "      <td>가공식품</td>\n",
       "      <td>1</td>\n",
       "      <td>가공식품</td>\n",
       "      <td>6</td>\n",
       "      <td>두부류 또는 묵류</td>\n",
       "      <td>6001</td>\n",
       "      <td>두부</td>\n",
       "      <td>...</td>\n",
       "      <td>㈜푸드머스</td>\n",
       "      <td>N</td>\n",
       "      <td>36.0</td>\n",
       "      <td>해당없음</td>\n",
       "      <td>2</td>\n",
       "      <td>수집</td>\n",
       "      <td>2022-12-29</td>\n",
       "      <td>2024-02-23</td>\n",
       "      <td>1471000</td>\n",
       "      <td>식품의약품안전처</td>\n",
       "    </tr>\n",
       "    <tr>\n",
       "      <th>14280</th>\n",
       "      <td>P101-405000400-1765</td>\n",
       "      <td>빵_전주떡갈비빵</td>\n",
       "      <td>P</td>\n",
       "      <td>가공식품</td>\n",
       "      <td>1</td>\n",
       "      <td>가공식품</td>\n",
       "      <td>1</td>\n",
       "      <td>과자류·빵류 또는 떡류</td>\n",
       "      <td>1405</td>\n",
       "      <td>빵</td>\n",
       "      <td>...</td>\n",
       "      <td>해당없음</td>\n",
       "      <td>N</td>\n",
       "      <td>36.0</td>\n",
       "      <td>해당없음</td>\n",
       "      <td>2</td>\n",
       "      <td>수집</td>\n",
       "      <td>2021-06-30</td>\n",
       "      <td>2024-02-23</td>\n",
       "      <td>1471000</td>\n",
       "      <td>식품의약품안전처</td>\n",
       "    </tr>\n",
       "    <tr>\n",
       "      <th>17305</th>\n",
       "      <td>P101-415000400-0399</td>\n",
       "      <td>피자_한입피자불고기&amp;떡갈비</td>\n",
       "      <td>P</td>\n",
       "      <td>가공식품</td>\n",
       "      <td>1</td>\n",
       "      <td>가공식품</td>\n",
       "      <td>1</td>\n",
       "      <td>과자류·빵류 또는 떡류</td>\n",
       "      <td>1415</td>\n",
       "      <td>피자</td>\n",
       "      <td>...</td>\n",
       "      <td>해당없음</td>\n",
       "      <td>N</td>\n",
       "      <td>36.0</td>\n",
       "      <td>해당없음</td>\n",
       "      <td>2</td>\n",
       "      <td>수집</td>\n",
       "      <td>2021-06-30</td>\n",
       "      <td>2024-02-23</td>\n",
       "      <td>1471000</td>\n",
       "      <td>식품의약품안전처</td>\n",
       "    </tr>\n",
       "  </tbody>\n",
       "</table>\n",
       "<p>3 rows × 57 columns</p>\n",
       "</div>"
      ],
      "text/plain": [
       "                      식품코드             식품명 데이터구분코드 데이터구분명  식품기원코드 식품기원명  \\\n",
       "14113  P106-001000300-0011   두부_두부적 네모 떡갈비       P   가공식품       1  가공식품   \n",
       "14280  P101-405000400-1765        빵_전주떡갈비빵       P   가공식품       1  가공식품   \n",
       "17305  P101-415000400-0399  피자_한입피자불고기&떡갈비       P   가공식품       1  가공식품   \n",
       "\n",
       "       식품대분류코드        식품대분류명  대표식품코드 대표식품명  ...  유통업체명 수입여부  원산지국코드 원산지국명  \\\n",
       "14113        6     두부류 또는 묵류    6001    두부  ...  ㈜푸드머스    N    36.0  해당없음   \n",
       "14280        1  과자류·빵류 또는 떡류    1405     빵  ...   해당없음    N    36.0  해당없음   \n",
       "17305        1  과자류·빵류 또는 떡류    1415    피자  ...   해당없음    N    36.0  해당없음   \n",
       "\n",
       "       데이터생성방법코드 데이터생성방법명     데이터생성일자     데이터기준일자   제공기관코드     제공기관명  \n",
       "14113          2       수집  2022-12-29  2024-02-23  1471000  식품의약품안전처  \n",
       "14280          2       수집  2021-06-30  2024-02-23  1471000  식품의약품안전처  \n",
       "17305          2       수집  2021-06-30  2024-02-23  1471000  식품의약품안전처  \n",
       "\n",
       "[3 rows x 57 columns]"
      ]
     },
     "execution_count": 31,
     "metadata": {},
     "output_type": "execute_result"
    }
   ],
   "source": [
    "# ex) '떡갈비' 영양소 벡터\n",
    "pd.set_option('display.max_seq_items', None) # 생략없이 전부 출력\n",
    "\n",
    "ex_product = foods.loc[foods['식품명'].str.contains('떡갈비')]\n",
    "ex_product.head(3)"
   ]
  },
  {
   "cell_type": "code",
   "execution_count": 32,
   "id": "3e399bd3-49a5-4123-afb2-60a5be9fb1b2",
   "metadata": {},
   "outputs": [
    {
     "data": {
      "text/plain": [
       "array([-0.45527375,  1.07819123, -0.18143553, -0.26492082, -0.80240105,\n",
       "        0.58173517])"
      ]
     },
     "execution_count": 32,
     "metadata": {},
     "output_type": "execute_result"
    }
   ],
   "source": [
    "X_features_scaled[48951]"
   ]
  },
  {
   "cell_type": "code",
   "execution_count": 33,
   "id": "0fcc7266-91f1-4f9a-94b4-bea6451c5e3d",
   "metadata": {},
   "outputs": [],
   "source": [
    "# 최종 결과에 따른 군집 분포\n",
    "\n",
    "# 20 : SOM의 X축에 대한 자원\n",
    "# 20 : SOM의 Y축에 대한 자원\n",
    "# 6 : 입력 vector(feature) 수\n",
    "# sigma : 이웃 노드의 인접 반경\n",
    "# learning_rate : 한번 학습할 때 얼마큼 변화를 주는지에 대한 상수\n",
    "finalFoodsSOM = MiniSom(20, 20, 6, sigma=1,learning_rate=0.5,topology='hexagonal',neighborhood_function='gaussian',activation_distance='euclidean', random_seed=0)\n",
    "\n",
    "#초기값설정\n",
    "finalFoodsSOM.random_weights_init(X_features_scaled) # 초기화\n",
    "finalFoodsSOM.train(X_features_scaled,1000,random_order=True) # 진행\n",
    "\n",
    "#bone()\n",
    "#pcolor(finalFoodsSOM.distance_map().T, cmap='coolwarm')\n",
    "#colorbar()"
   ]
  },
  {
   "cell_type": "markdown",
   "id": "e2098894-d085-4abd-88dc-d3949c7ec5bb",
   "metadata": {},
   "source": [
    "---"
   ]
  },
  {
   "cell_type": "code",
   "execution_count": 34,
   "id": "601872da-1905-4288-9f93-bce65d237cba",
   "metadata": {},
   "outputs": [
    {
     "data": {
      "text/plain": [
       "clusterLabel\n",
       "0    18499\n",
       "1    16908\n",
       "2    10743\n",
       "3     1237\n",
       "4       28\n",
       "5     1599\n",
       "6      986\n",
       "Name: 식품명, dtype: int64"
      ]
     },
     "execution_count": 34,
     "metadata": {},
     "output_type": "execute_result"
    }
   ],
   "source": [
    "# 추가 분석 : 각 클러스터 파악\n",
    "# 'clusterLabel' 기준으로 그룹을 만듦 => 7개의 클러스터(군집)으로 구성됨\n",
    "foodSet.groupby('clusterLabel')['식품명'].count()"
   ]
  },
  {
   "cell_type": "code",
   "execution_count": 35,
   "id": "05796210-fd61-40e6-bf5d-43a51298bb8b",
   "metadata": {},
   "outputs": [
    {
     "data": {
      "text/plain": [
       "식품코드            P109-302030200-2068\n",
       "식품명             과·채주스_파스퇴르발렌시아오렌지주스\n",
       "에너지(kcal)                        43\n",
       "탄수화물(g)                        10.0\n",
       "단백질(g)                          0.4\n",
       "지방(g)                           0.1\n",
       "포화지방산(g)                       0.05\n",
       "나트륨(mg)                        10.0\n",
       "clusterLabel                      1\n",
       "Name: 130, dtype: object"
      ]
     },
     "execution_count": 35,
     "metadata": {},
     "output_type": "execute_result"
    }
   ],
   "source": [
    "from sklearn.metrics.pairwise import cosine_similarity \n",
    "# 주의) 사이킷런의 유사도 인자는 2차원 배열로 코사인 인자를 받으므로 변환이 필요함\n",
    "\n",
    "inputFood = foodSet.loc[foodSet['식품명'].str.contains('오렌지주스')].iloc[0] # clusterLabel = 1\n",
    "inputFood "
   ]
  },
  {
   "cell_type": "code",
   "execution_count": 36,
   "id": "4ed29c1a-fba2-4a13-b62c-c0c551eb6190",
   "metadata": {},
   "outputs": [
    {
     "data": {
      "text/plain": [
       "Index(['식품코드', '식품명', '에너지(kcal)', '탄수화물(g)', '단백질(g)', '지방(g)', '포화지방산(g)',\n",
       "       '나트륨(mg)', 'clusterLabel'],\n",
       "      dtype='object')"
      ]
     },
     "execution_count": 36,
     "metadata": {},
     "output_type": "execute_result"
    }
   ],
   "source": [
    "inputFood.index"
   ]
  },
  {
   "cell_type": "code",
   "execution_count": 37,
   "id": "c147b5a9-669c-475c-b4c5-9011dcb60415",
   "metadata": {},
   "outputs": [
    {
     "data": {
      "text/plain": [
       "130"
      ]
     },
     "execution_count": 37,
     "metadata": {},
     "output_type": "execute_result"
    }
   ],
   "source": [
    "# \"clusterLabel = 1\"인 군집 내에서 유사도 분석\n",
    "foodIdx = foodSet[foodSet['clusterLabel'] == 1].index\n",
    "#foodName = foodSet[foodSet['clusterLabel'] == 1]['식품명']\n",
    "#foodName\n",
    "\n",
    "# \"과·채주스_파스퇴르발렌시아오렌지주스\" 제품의 index\n",
    "foodSet[foodSet['식품명'] == '과·채주스_파스퇴르발렌시아오렌지주스'].index[0] # index = 130"
   ]
  },
  {
   "cell_type": "code",
   "execution_count": 38,
   "id": "d04b8c79-3246-423c-926d-23ca94edea2c",
   "metadata": {},
   "outputs": [
    {
     "data": {
      "text/plain": [
       "130"
      ]
     },
     "execution_count": 38,
     "metadata": {},
     "output_type": "execute_result"
    }
   ],
   "source": [
    "# 특정 index의 상품 정보\n",
    "foodSet.iloc[130]\n",
    "targetIdx = foodSet[foodSet['식품명'] == '과·채주스_파스퇴르발렌시아오렌지주스'].index[0]\n",
    "targetIdx"
   ]
  },
  {
   "cell_type": "markdown",
   "id": "78bb7aba-2448-4f72-ac3b-435aacd24c32",
   "metadata": {},
   "source": [
    "---"
   ]
  },
  {
   "cell_type": "code",
   "execution_count": 40,
   "id": "9d6eb69d-0dd6-4f52-9280-d3e0da8e6689",
   "metadata": {},
   "outputs": [
    {
     "name": "stdout",
     "output_type": "stream",
     "text": [
      "최저 유사도(가장 관계가 적은 식품) :  -0.012988934902584414\n"
     ]
    }
   ],
   "source": [
    "# 군집 내의 유사도 측정\n",
    "# targetIdx : \"과·채주스_파스퇴르발렌시아오렌지주스\"의 index\n",
    "\n",
    "from numpy import dot\n",
    "from numpy.linalg import norm\n",
    "\n",
    "# lialg(Linear Algebra : 선형대수 함수) 라이브러리\n",
    "# norm : 벡터의 크기(magnitude) 또는 길이(length)를 측정하는 방법. \n",
    "# 벡터 공간을 어떤 양의 실수 값으로 매핑하는 함수와 유사함.\n",
    "# norm : https://numpy.org/doc/stable/reference/generated/numpy.linalg.norm.html\n",
    "\n",
    "# 코사인 유사도(cosine similarity) 측정 함수\n",
    "def get_cosine_similarity(m1, m2):\n",
    "    return dot(m1, m2)/(norm(m1)*norm(m2))\n",
    "\n",
    "similarValues = []\n",
    "\n",
    "# ValueError: Expected 2D array, got 1D array instead:\n",
    "# 상기 에러 패치위한 조치 : array.reshape 함수 활용\n",
    "# 주의) 사이킷런의 코사인 유사도 인자는 2차원 배열로 인자를 받으므로 변환이 필요함\n",
    "\n",
    "#print(\"타겟 index : \",  X_features_scaled[targetIdx].reshape(-1, 1))\n",
    "#print(\"다른 index : \", X_features_scaled[1].reshape(-1, 1))\n",
    "\n",
    "#cosine_similarity(X_features_scaled[targetIdx].reshape(-1, 1), X_features_scaled[idx].reshape(-1, 1))\n",
    "\n",
    "cosSimilDict = {} # index(key), 코사인 유사도(value)\n",
    "\n",
    "# 최대의 유사도를 지난 식품은 타겟 식품 자신이므로, 이를 제외하고 검색 \n",
    "for idx in foodIdx:\n",
    "    # print(idx)\n",
    "    # simil_val = cosine_similarity(X_features_scaled[targetIdx].reshape(-1, 1), X_features_scaled[idx].reshape(-1, 1))\n",
    "    similVal = get_cosine_similarity(X_features_scaled[targetIdx], X_features_scaled[idx])\n",
    "    #similarValues.append(similVal)\n",
    "\n",
    "    # 타겟 상품 제외\n",
    "    if (idx != targetIdx):\n",
    "        cosSimilDict[idx] = similVal\n",
    "    #print(simil_val)\n",
    "\n",
    "#print(cosSimilDict)\n",
    "\n",
    "minCosSimilVal = min(cosSimilDict.values())\n",
    "\n",
    "# 최대 유사도 선정시 후보군 선정 유사도 0.99 이상인 제품군 생성\n",
    "maxNearCosSimilVals = [val for val in cosSimilDict.values() if val > 0.99]\n",
    "\n",
    "print('최저 유사도(가장 관계가 적은 식품) : ', minCosSimilVal) # 가장 유사도가 낮은 값  ex) -0.012988934902584414\n",
    "#print('최근접 유사도 후보군(0.99 이상) : ', maxNearCosSimilVals)"
   ]
  },
  {
   "cell_type": "code",
   "execution_count": 41,
   "id": "05009659-8912-400b-9943-003bedfeffd2",
   "metadata": {},
   "outputs": [
    {
     "name": "stdout",
     "output_type": "stream",
     "text": [
      "최저 유사도 상품 index : 49991, 상품명 : 식품코드            P117-100010100-0055\n",
      "식품명                    햄_라즈베리허니로스트덕\n",
      "에너지(kcal)                       267\n",
      "탄수화물(g)                        3.33\n",
      "단백질(g)                        16.67\n",
      "지방(g)                          20.0\n",
      "포화지방산(g)                       5.67\n",
      "나트륨(mg)                       433.0\n",
      "clusterLabel                      1\n",
      "Name: 49991, dtype: object, 유사도 : -0.01298893490258441405\n"
     ]
    }
   ],
   "source": [
    "# 최저 코사인 유사도를 가지는 값의 index 및 상품 정보 조회\n",
    "minCosSimilFoodIdx = [idx for idx in cosSimilDict.keys() if cosSimilDict[idx] == minCosSimilVal][0]\n",
    "print(\"최저 유사도 상품 index : %d, 상품명 : %s, 유사도 : %.20f\" % (minCosSimilFoodIdx, foodSet.iloc[minCosSimilFoodIdx], cosSimilDict[minCosSimilFoodIdx]))"
   ]
  },
  {
   "cell_type": "code",
   "execution_count": 42,
   "id": "3545666f-abf3-4853-9fdb-49b151b3c438",
   "metadata": {},
   "outputs": [],
   "source": [
    "# 최대 유사도 선정시 후보군 선정 유사도 0.99 이상인 제품군 소속의 상품들 정보 조회\n",
    "maxCosSimilFoodIdxes = [idx for idx in cosSimilDict.keys() if cosSimilDict[idx] in maxNearCosSimilVals]"
   ]
  },
  {
   "cell_type": "code",
   "execution_count": 43,
   "id": "19a9c18f-ee47-43ed-8c95-3b93e83fa829",
   "metadata": {},
   "outputs": [],
   "source": [
    "# for idx in maxCosSimilFoodIdxes:    \n",
    "    # print(\"최대 유사도 상품 index : %d, 상품명 : %s, 유사도 : %.20f\" % (idx, foodSet.iloc[idx]['식품명'], cosSimilDict[idx]))"
   ]
  },
  {
   "cell_type": "markdown",
   "id": "60d4ccb3-1f46-4025-80d0-bdff636f0875",
   "metadata": {},
   "source": [
    "---"
   ]
  },
  {
   "cell_type": "code",
   "execution_count": 44,
   "id": "fabe6c0a-09a5-4de0-a76b-577b4eceda10",
   "metadata": {},
   "outputs": [],
   "source": [
    "# 이후 단계 전개 절차\n",
    "# ex) 1끼 먹을 음식을 제한적인 갯수로(가령 5개 정도) 한정하여 입력하도록 조치하여 이를 일일권장량 기준의 1/3로 환산하여  \n",
    "# 각 영양소에 대한 부족분을 파악하고, 이에 따라서 임력한 음식(기호 음식)을 중심으로 후보군 내에서 적합한 음식을 필터링하여 추천 음식을 선정함\n",
    "\n",
    "# 구체적인 방안) 한끼 식사에 대한 A ~ E까지 음식이 입력되었다고 전제하고, 권장량에 충족되면 입력 그대로 진행하고 그렇지 않으면, 부족한 영양소를 A ~ E\n",
    "# 음식 순으로 기호에 맞게 유사도가 가까운 음식 후보군 중에서 미달된 영양 충족하는 음식을 선정하여 추천함 "
   ]
  },
  {
   "cell_type": "code",
   "execution_count": 45,
   "id": "10e6ac30-9625-4264-a62c-56b18fd3eec2",
   "metadata": {},
   "outputs": [],
   "source": [
    "inputFoods = {} # 음식(key) : 수량(value)\n",
    "\n",
    "inputFoodA = foodSet.loc[foodSet['식품명'].str.contains('햄버거')].iloc[0]\n",
    "inputFoodA\n",
    "inputFoods[inputFoodA['식품명']] = 2"
   ]
  },
  {
   "cell_type": "code",
   "execution_count": 46,
   "id": "75338cc9-74cf-4125-b694-133225823366",
   "metadata": {},
   "outputs": [],
   "source": [
    "inputFoodB = foodSet.loc[foodSet['식품명'].str.contains('코카콜라')].iloc[0]\n",
    "inputFoodB\n",
    "inputFoods[inputFoodB['식품명']] = 1"
   ]
  },
  {
   "cell_type": "code",
   "execution_count": 47,
   "id": "452f4c09-2822-40bb-baea-b1d9d838727c",
   "metadata": {},
   "outputs": [],
   "source": [
    "inputFoodC = foodSet.loc[foodSet['식품명'].str.contains('감자칩')].iloc[2]\n",
    "inputFoodC\n",
    "inputFoods[inputFoodC['식품명']] = 3"
   ]
  },
  {
   "cell_type": "code",
   "execution_count": 48,
   "id": "f7e2384c-a811-4b0e-8761-236a9028a219",
   "metadata": {},
   "outputs": [],
   "source": [
    "inputFoodD = foodSet.loc[foodSet['식품명'].str.contains('열라면')].iloc[3]\n",
    "inputFoodD\n",
    "inputFoods[inputFoodD['식품명']] = 2"
   ]
  },
  {
   "cell_type": "code",
   "execution_count": 49,
   "id": "06a22c78-03b8-4757-a669-d6773dd754f1",
   "metadata": {},
   "outputs": [],
   "source": [
    "inputFoodE = foodSet.loc[foodSet['식품명'].str.contains('커피')].iloc[1] # 인스턴트커피_커피빈 카페라떼\n",
    "inputFoodE\n",
    "inputFoods[inputFoodE['식품명']] = 1"
   ]
  },
  {
   "cell_type": "code",
   "execution_count": 50,
   "id": "4393ffdc-a915-4197-a988-e160064ad358",
   "metadata": {},
   "outputs": [
    {
     "data": {
      "text/plain": [
       "{'빵_노랑햄버거빵': 2,\n",
       " '탄산음료_코카콜라': 1,\n",
       " '일반과자_트러플 감자칩': 3,\n",
       " '라면_마열라면Cup': 2,\n",
       " '인스턴트커피_커피빈 카페라떼': 1}"
      ]
     },
     "execution_count": 50,
     "metadata": {},
     "output_type": "execute_result"
    }
   ],
   "source": [
    "inputFoods"
   ]
  },
  {
   "cell_type": "markdown",
   "id": "71689e8a-9e74-4e95-a12f-399c148b57b5",
   "metadata": {},
   "source": [
    "---"
   ]
  },
  {
   "cell_type": "code",
   "execution_count": 51,
   "id": "233270c1-b03e-451b-bf65-bd2432c790f8",
   "metadata": {},
   "outputs": [],
   "source": [
    "import os\n",
    "import cx_Oracle\n",
    "\n",
    "# DB 한글 설정에 따른 한글 지원\n",
    "# os.putenv('NLS_LANG', 'KOREAN_KOREA.KO16MSWIN949');\n",
    "os.putenv('NLS_LANG', '.UTF8')\n",
    "\n",
    "conn = cx_Oracle.connect('food', 'food', 'localhost:1521/xe')\n",
    "cursor = conn.cursor()"
   ]
  },
  {
   "cell_type": "code",
   "execution_count": 52,
   "id": "9142efe8-5cf8-4fd0-8681-71da446590e3",
   "metadata": {},
   "outputs": [
    {
     "data": {
      "text/plain": [
       "(5, '남', '19~29', 2600, 130, 65, '10~20', 1500, 300, '15~30', 7, 1)"
      ]
     },
     "execution_count": 52,
     "metadata": {},
     "output_type": "execute_result"
    }
   ],
   "source": [
    "# 성별과 나이대로 식약처 권장 영양 정보 조회\n",
    "def findByGenderAndAge(gender, ageRange):\n",
    "\n",
    "    sql_str = \"select * from nutri_std_tbl where gender=:gender and age=:ageRange\"\n",
    "    records = cursor.execute(sql_str, [gender, ageRange])\n",
    "    record = records.fetchone()\n",
    "\n",
    "    # print('레코드 : ', record)\n",
    "\n",
    "    # ['NUM', 'GENDER', 'AGE', 'CARBOHYDRATE', 'PROTEIN', \n",
    "    #  'SUGAR', 'NATRIUM', 'CHOLESTEROL', 'FAT', 'FATTY_ACID', 'TRANS_FATTY_ACID']\n",
    "   \n",
    "    return record\n",
    "\n",
    "# 특정 나이의 나이대를 판정\n",
    "# ex) 20 => 19~29\n",
    "def calcAgeBand(age):\n",
    "\t\t\n",
    "    result = \"\"\n",
    "    \n",
    "    ageRanges = (\"6~8\", \"9~11\", \"12~14\", \"15~18\", \"19~29\", \"30~49\", \"50~64\", \"65~74\", \"75~\")\n",
    "\n",
    "    # print(ageRanges)\n",
    "    \n",
    "    # 리스트의 나이 최소 나이 추출하여 나이대의 최솟값의 리스트 생성\n",
    "    # 나이대의 최솟값으로  6,9,12,15,19,30, .....\n",
    "    ageRangeMins = [int(ageRange.split(\"~\")[0]) for ageRange in ageRanges]\n",
    "        \n",
    "    # print(ageRangeMins)\n",
    "    \n",
    "    # 해당되는 나이(가령 20) 보다 이하 인(작거나 같은) 나이 중에서 최댓값을 구함 => 19\n",
    "    tempAge = max([ageRangeMin for ageRangeMin in ageRangeMins if ageRangeMin <= age])\n",
    "    \n",
    "    # print(\"tempAge :\", tempAge)\n",
    "    \n",
    "    # 나이대 계산\n",
    "    result = [ageRange for ageRange in ageRanges if str(tempAge) in ageRange]\n",
    "\n",
    "    # print(result[0])\n",
    "        \n",
    "    return result[0]\n",
    "\n",
    "# 성별과 나이대로 식약처 권장 영양 정보 조회\n",
    "def findByGenderAndAge(gender, ageRange):\n",
    "\n",
    "    sql_str = \"select * from nutri_std_tbl where gender=:gender and age=:ageRange\"\n",
    "    records = cursor.execute(sql_str, [gender, ageRange])\n",
    "    record = records.fetchone()\n",
    "\n",
    "    # print('레코드 : ', record)\n",
    "\n",
    "    # ['NUM', 'GENDER', 'AGE', 'ENERGY', 'CARBOHYDRATE', 'PROTEIN', \n",
    "    #  'SUGAR', 'NATRIUM', 'CHOLESTEROL', 'FAT', 'FATTY_ACID', 'TRANS_FATTY_ACID']\n",
    "   \n",
    "    return record\n",
    "\n",
    "findByGenderAndAge('남', calcAgeBand(20))\n",
    "# (5,  '남', '19~29',   2600,         130,          65,     '10~20', 1500,        300,       '15~30',          7,            1)\n",
    "# 번호, 성별, 연령대, 권장열량(kcal), 탄수화물(g), 단백질(g), 지방(g), 당류(g),  나트륨(mg), 콜레스테롤(mg),  포화지방산(g), 트랜스지방(g)"
   ]
  },
  {
   "cell_type": "code",
   "execution_count": 53,
   "id": "4e0e9f1a-234c-4343-a14b-35c53777ee3e",
   "metadata": {},
   "outputs": [],
   "source": [
    "# 성별, 나이, 신장, 체중, PA(Physical Activity:신체활동량)\n",
    "# 영양권장량 (Recommended Dietary Allowance, RDA)\n",
    "\n",
    "# 에너지 요구량 추정치(ESTIMATED ENERGY REQUIREMENT (EER))\n",
    "\n",
    "# 관련 논문(근거) : https://www.ncbi.nlm.nih.gov/pmc/articles/PMC7004509/\n",
    "# https://globalrph.com/medcalcs/estimated-energy-requirement-eer-equation/\n",
    "# https://www.diabetes.or.kr/general/dietary/dietary_02.php?con=2\n",
    "# https://www.eatforhealth.gov.au/nutrition-calculators/daily-energy-requirements-calculator\n",
    "\n",
    "# PA(남성) : 1.1(저활동적), 1.48(매우 활동적)\n",
    "# 원문) PA = 1.0 (sedentary), 1.11 (low active), 1.25 (active), or 1.48 (very active).\n",
    "\n",
    "# PA(여성) : 1.2(저활동적), 1.45(매우 활동적)\n",
    "# 원문) PA = 1.0 (sedentary), 1.12 (low active), 1.27 (active), or 1.45 (very active).\n",
    "\n",
    "# PA 기준안 그림 포함)\n",
    "# https://www.ncbi.nlm.nih.gov/pmc/articles/PMC7004509/\n",
    "# https://www.ncbi.nlm.nih.gov/pmc/articles/PMC7004509/bin/JENB_2019_v23n4_1_f001.jpg\n",
    "\n",
    "# 한국인 영양섭취 기준 : https://www.mohw.go.kr/boardDownload.es?bid=0019&list_no=335863&seq=1\n",
    "\n",
    "# 영양권장량(RDA) 계산\n",
    "# weight(체중) : kg, \n",
    "# height(신장) : m\n",
    "# EER(에너지 요구량 추정치(ESTIMATED ENERGY REQUIREMENT (EER))) : kcal\n",
    "# disease(질병) : 고혈압, 당뇨, 고지혈증, 비만\n",
    "def calculateRDA(disease, gender, age, height, weight, PA=1):\n",
    "\n",
    "    #recom = [] # 권장량\n",
    "\n",
    "    # 에너지 추정량(kcal) : ESTIMATED ENERGY REQUIREMENT (EER) EQUATION\n",
    "    # 관련 논문(근거) : https://www.ncbi.nlm.nih.gov/pmc/articles/PMC7004509/\n",
    "    # https://globalrph.com/medcalcs/estimated-energy-requirement-eer-equation/\n",
    "    EER = 0\n",
    "\n",
    "    if gender == '남':\n",
    "        EER = 622 - 9.53 * age + PA * (15.91 * weight + 536.6 * height)\n",
    "    elif gender == '여':    \n",
    "        EER = 354 - 6.91 * age + PA * (9.36 * weight + 726 * height)\n",
    "\n",
    "    # 식약처 기준량 조회\n",
    "    # 번호, 성별, 연령대, 권장열량(kcal), 탄수화물(g), 단백질(g), 지방(g), 당류(g),  나트륨(mg), 콜레스테롤(mg),  포화지방산(g), 트랜스지방(g)\n",
    "    age_arange = calcAgeBand(age)\n",
    "    print(\"연령대 : \", age_arange)\n",
    "    \n",
    "    nutri_tot = findByGenderAndAge(gender, age_arange)\n",
    "    nutri_recomm = list(nutri_tot)\n",
    "    \n",
    "    # 불필요성분 제거 ex) 번호, 성별, 연령대\n",
    "    nutri_recomm = nutri_recomm[3:]\n",
    "    \n",
    "    # 권장열량(kcal), 탄수화물(g), 단백질(g), 지방(g), 당류(g),  나트륨(mg), 콜레스테롤(mg),  포화지방산(g), 트랜스지방(g)\n",
    "    print(\"권장 섭취량 (일반) : \", nutri_recomm)\n",
    "\n",
    "    # 관련 근거 : https://www.ncbi.nlm.nih.gov/books/NBK218738/\n",
    "\n",
    "    # 참고) 연도별 우리 국민의 1일 나트륨평균 섭취량 추이\n",
    "    # (2022.12.31. 기준, 단위: ㎎/day, 출처: 국민건강영양조사, 질병관리청)\n",
    "    \n",
    "    # 연도           2011 2012  2013  2014  2015  2016  2017  2018  2019  2020  2021\n",
    "    # 나트륨 섭취량 4,831 4,583 4,027 3,890 3,890 3,669 3,478 3,274 3,289 3,220 3,080\n",
    "\n",
    "    # 관련 근거 : 2020 한국인 영양소 섭취기준 활용 자료 개발\n",
    "    # https://e-jnh.org/pdf/10.4163/jnh.2022.55.1.21\n",
    "    \n",
    "    # 질병이 있을 경우  ex) disease(질병) : 고혈압, 당뇨, 고지혈증, 비만\n",
    "\n",
    "    # 참고) 고혈압의 경우 나트륨 권장량이 3700ml로 되어 있는 것은 권장량과 다르나 최근 식약처의 충분량 섭취 제개정 기준 변화로 그대로 수용\n",
    "    # 나트륨 관련 규정 : 2020 한국인 영양소 섭취기준 <보건복지부, 한국영양학회> 1. 한국인 영양소 섭취기준 제·개정 요약 p. 27\n",
    "    # https://www.kns.or.kr/FileRoom/FileRoom_view.asp?idx=108&BoardID=Kdr\n",
    "    \n",
    "    # \"당뇨 환자의 탄수화물 섭취량이 많은 이유 !\"\n",
    "    # 당뇨에 따른 탄수화물 섭취량 관련 논문)\n",
    "    #\n",
    "    # \"당뇨병 환자는 일반적으로 총 열량의 50~60%를 탄수화물로 섭취하도록 권고하고 있으며, 탄수화물, 단백질, \n",
    "    # 지방 섭취량은 식습관, 기호도, 치료목표 등을 고려하여 개별화할 수 있다\"\n",
    "    # 논문 인용) 탄수화물계산을 활용한 임상영양요법 : 김미라 분당서울대학교병원 영양실\n",
    "    # : https://www.e-jkd.org/upload/pdf/jkd-2022-23-2-133.pdf\n",
    "\n",
    "    # 참고) 당뇨 환자 일일 필요 열량 측정 프로그램 : https://www.diabetes.or.kr/general/dietary/dietary_02.php?con=2\n",
    "\n",
    "    if (disease == '고혈압'):\n",
    "        nutri_recomm[5] = 3700 # 단위 mg\n",
    "        print(\"nutri_recomm[5] (나트륨) : \", nutri_recomm[5])\n",
    "    \n",
    "    if (disease == '당뇨'):\n",
    "        nutri_recomm[1] = EER * 0.7 // 4 # 단위 g        \n",
    "        print(\"nutri_recomm[1] (탄수화물) : \", nutri_recomm[1]) # 탄수화물\n",
    "    \n",
    "    if (disease == '고지혈증'):\n",
    "        nutri_recomm[6] = EER * 0.07 // 9 # 단위 g\n",
    "        print(\"nutri_recomm[6] (포화지방산) : \", nutri_recomm[6]) # 포화지방산\n",
    "\n",
    "    print(\"권장 섭취량(유병자 적용 후) : \", nutri_recomm)\n",
    "\n",
    "    return nutri_recomm"
   ]
  },
  {
   "cell_type": "code",
   "execution_count": 67,
   "id": "49ebed2c-4f89-46ea-8e8d-32464fb90027",
   "metadata": {},
   "outputs": [],
   "source": [
    "#calculateRDA('', '여', 20, 1.6, 50, 1.25) "
   ]
  },
  {
   "cell_type": "code",
   "execution_count": 68,
   "id": "9bbf23f0-b42d-44b8-bf39-4d7d02b26a0e",
   "metadata": {},
   "outputs": [],
   "source": [
    "#calculateRDA('고혈압', '남', 45, 1.85, 100, 1.11) "
   ]
  },
  {
   "cell_type": "code",
   "execution_count": 69,
   "id": "b2952895-f888-4c75-8521-6b31a29fafd8",
   "metadata": {},
   "outputs": [],
   "source": [
    "#calculateRDA('당뇨', '여', 50, 1.75, 90, 1.0) "
   ]
  },
  {
   "cell_type": "code",
   "execution_count": 70,
   "id": "70c8a3b5-bd2f-4fd0-a6ef-f83a317f0300",
   "metadata": {},
   "outputs": [],
   "source": [
    "#calculateRDA('고지혈증', '남', 20, 1.7, 70, 1.25)"
   ]
  },
  {
   "cell_type": "markdown",
   "id": "cc8dff06-ba4b-48a2-8d41-49c530c64da2",
   "metadata": {},
   "source": [
    "---"
   ]
  },
  {
   "cell_type": "code",
   "execution_count": 57,
   "id": "3866eb75-69fb-4ee3-8c39-97d10b6a0b32",
   "metadata": {},
   "outputs": [
    {
     "name": "stdout",
     "output_type": "stream",
     "text": [
      "<class 'pandas.core.frame.DataFrame'>\n",
      "수량 :  2\n",
      "수량 :  1\n",
      "수량 :  3\n",
      "수량 :  2\n",
      "수량 :  1\n"
     ]
    },
    {
     "data": {
      "text/html": [
       "<div>\n",
       "<style scoped>\n",
       "    .dataframe tbody tr th:only-of-type {\n",
       "        vertical-align: middle;\n",
       "    }\n",
       "\n",
       "    .dataframe tbody tr th {\n",
       "        vertical-align: top;\n",
       "    }\n",
       "\n",
       "    .dataframe thead th {\n",
       "        text-align: right;\n",
       "    }\n",
       "</style>\n",
       "<table border=\"1\" class=\"dataframe\">\n",
       "  <thead>\n",
       "    <tr style=\"text-align: right;\">\n",
       "      <th></th>\n",
       "      <th>식품코드</th>\n",
       "      <th>식품명</th>\n",
       "      <th>에너지(kcal)</th>\n",
       "      <th>탄수화물(g)</th>\n",
       "      <th>단백질(g)</th>\n",
       "      <th>지방(g)</th>\n",
       "      <th>포화지방산(g)</th>\n",
       "      <th>나트륨(mg)</th>\n",
       "      <th>clusterLabel</th>\n",
       "    </tr>\n",
       "  </thead>\n",
       "  <tbody>\n",
       "    <tr>\n",
       "      <th>0</th>\n",
       "      <td>P101-405000400-2833</td>\n",
       "      <td>빵_노랑햄버거빵</td>\n",
       "      <td>490</td>\n",
       "      <td>80.00</td>\n",
       "      <td>8.00</td>\n",
       "      <td>8.00</td>\n",
       "      <td>2.00</td>\n",
       "      <td>10.0</td>\n",
       "      <td>0.0</td>\n",
       "    </tr>\n",
       "    <tr>\n",
       "      <th>1</th>\n",
       "      <td>P109-401040100-0479</td>\n",
       "      <td>탄산음료_코카콜라</td>\n",
       "      <td>43</td>\n",
       "      <td>10.67</td>\n",
       "      <td>0.00</td>\n",
       "      <td>0.00</td>\n",
       "      <td>0.00</td>\n",
       "      <td>3.0</td>\n",
       "      <td>1.0</td>\n",
       "    </tr>\n",
       "    <tr>\n",
       "      <th>2</th>\n",
       "      <td>P101-106000100-2563</td>\n",
       "      <td>일반과자_트러플 감자칩</td>\n",
       "      <td>1800</td>\n",
       "      <td>140.01</td>\n",
       "      <td>20.01</td>\n",
       "      <td>129.99</td>\n",
       "      <td>39.99</td>\n",
       "      <td>1599.0</td>\n",
       "      <td>2.0</td>\n",
       "    </tr>\n",
       "    <tr>\n",
       "      <th>3</th>\n",
       "      <td>P108-003000400-0341</td>\n",
       "      <td>라면_마열라면Cup</td>\n",
       "      <td>854</td>\n",
       "      <td>135.48</td>\n",
       "      <td>19.36</td>\n",
       "      <td>25.80</td>\n",
       "      <td>9.68</td>\n",
       "      <td>3290.0</td>\n",
       "      <td>0.0</td>\n",
       "    </tr>\n",
       "    <tr>\n",
       "      <th>4</th>\n",
       "      <td>P109-202020000-0086</td>\n",
       "      <td>인스턴트커피_커피빈 카페라떼</td>\n",
       "      <td>66</td>\n",
       "      <td>8.80</td>\n",
       "      <td>2.00</td>\n",
       "      <td>2.40</td>\n",
       "      <td>1.00</td>\n",
       "      <td>40.0</td>\n",
       "      <td>1.0</td>\n",
       "    </tr>\n",
       "  </tbody>\n",
       "</table>\n",
       "</div>"
      ],
      "text/plain": [
       "                  식품코드              식품명 에너지(kcal)  탄수화물(g)  단백질(g)   지방(g)  \\\n",
       "0  P101-405000400-2833         빵_노랑햄버거빵       490    80.00    8.00    8.00   \n",
       "1  P109-401040100-0479        탄산음료_코카콜라        43    10.67    0.00    0.00   \n",
       "2  P101-106000100-2563     일반과자_트러플 감자칩      1800   140.01   20.01  129.99   \n",
       "3  P108-003000400-0341       라면_마열라면Cup       854   135.48   19.36   25.80   \n",
       "4  P109-202020000-0086  인스턴트커피_커피빈 카페라떼        66     8.80    2.00    2.40   \n",
       "\n",
       "   포화지방산(g)  나트륨(mg)  clusterLabel  \n",
       "0      2.00     10.0           0.0  \n",
       "1      0.00      3.0           1.0  \n",
       "2     39.99   1599.0           2.0  \n",
       "3      9.68   3290.0           0.0  \n",
       "4      1.00     40.0           1.0  "
      ]
     },
     "execution_count": 57,
     "metadata": {},
     "output_type": "execute_result"
    }
   ],
   "source": [
    "import warnings\n",
    "\n",
    "warnings.filterwarnings('ignore')\n",
    "\n",
    "# 전체 입력 음식들에 대한 영양소 현황 집계\n",
    "totFoods = pd.DataFrame(columns=['식품코드', '식품명', '에너지(kcal)', '탄수화물(g)', '단백질(g)', '지방(g)', '포화지방산(g)', '나트륨(mg)']);\n",
    "\n",
    "print(type(totFoods))\n",
    "\n",
    "# inputFoods\n",
    "# print(foodSet.loc[foodSet['식품명'] == inputFoods])\n",
    "\n",
    "count = 0\n",
    "\n",
    "for foodName in inputFoods:\n",
    "\n",
    "    # totFoods = foodSet.loc[foodSet['식품명'] == foodName]        \n",
    "    # print(totFoods.head(1))    \n",
    "    # print(foodSet.loc[foodSet['식품명'] == foodName])   \n",
    "    \n",
    "    foodRow = foodSet.loc[foodSet['식품명'] == foodName].drop_duplicates()\n",
    "\n",
    "    # print(\"행수 : \", len(foodRow))\n",
    "    \n",
    "    if len(foodRow) == 2:\n",
    "        foodRow = foodRow.head(1)\n",
    "\n",
    "    print(\"수량 : \", inputFoods[foodName])\n",
    "\n",
    "    #foodRow = foodRow * inputFoods[foodName] # 식품 * 수량 = 식품별 영양 사항\n",
    "    \n",
    "    foodRow['에너지(kcal)'] *= inputFoods[foodName]\n",
    "    foodRow['탄수화물(g)'] *= inputFoods[foodName]\n",
    "    foodRow['단백질(g)'] *= inputFoods[foodName]\n",
    "    foodRow['지방(g)'] *= inputFoods[foodName]\n",
    "    foodRow['포화지방산(g)'] *= inputFoods[foodName]\n",
    "    foodRow['나트륨(mg)'] *= inputFoods[foodName]\n",
    "    \n",
    "    totFoods = pd.concat([totFoods, foodRow], ignore_index=True)\n",
    "    \n",
    "    # print(\"-------------------------------------------------------\")\n",
    "\n",
    "totFoods"
   ]
  },
  {
   "cell_type": "code",
   "execution_count": 58,
   "id": "8d18e6d6-c49e-4710-b651-9f044428431f",
   "metadata": {},
   "outputs": [
    {
     "data": {
      "text/plain": [
       "3253"
      ]
     },
     "execution_count": 58,
     "metadata": {},
     "output_type": "execute_result"
    }
   ],
   "source": [
    "# 음식에 대한 분야별 총량 계산\n",
    "\n",
    "# sum(totFoods['에너지(kcal)'])\n",
    "totFoods['에너지(kcal)'].sum()\n",
    "# totFoods.describe()"
   ]
  },
  {
   "cell_type": "code",
   "execution_count": 59,
   "id": "de32d456-dc20-4b74-bffa-0ebc4aa8e065",
   "metadata": {},
   "outputs": [
    {
     "name": "stdout",
     "output_type": "stream",
     "text": [
      "연령대 :  30~49\n",
      "권장 섭취량 (일반) :  [2500, 130, 65, '10~20', 1500, 300, '15~30', 7, 1]\n",
      "nutri_recomm[5] (나트륨) :  3700\n",
      "권장 섭취량(유병자 적용 후) :  [2500, 130, 65, '10~20', 1500, 3700, '15~30', 7, 1]\n"
     ]
    }
   ],
   "source": [
    "# 일일권장 섭취량 조회\n",
    "# 권장열량(kcal), 탄수화물(g), 단백질(g), 지방(g), 당류(g),  나트륨(mg), 콜레스테롤(mg),  포화지방산(g), 트랜스지방(g)\n",
    "standardRDA = calculateRDA('고혈압', '남', 45, 1.85, 100, 1.11)"
   ]
  },
  {
   "cell_type": "code",
   "execution_count": 60,
   "id": "46d58d17-7c3a-4561-9e74-24328420289e",
   "metadata": {},
   "outputs": [],
   "source": [
    "# 영양 결핍량 측정\n",
    "# 에너지(kcal) 비교\n",
    "# 영양 결핍분 집계 dataframe\n",
    "\n",
    "nutriNeeds = {'에너지(kcal)' : [0], '탄수화물(g)' : [0], '단백질(g)' : [0], '지방(g)' : [0], '포화지방산(g)' : [0], '나트륨(mg)' : [0]}\n",
    "nutriNeedsDF = pd.DataFrame(nutriNeeds, columns=['에너지(kcal)', '탄수화물(g)', '단백질(g)', '지방(g)', '포화지방산(g)', '나트륨(mg)'])\n",
    "\n",
    "nutriNeedsDF['에너지(kcal)'] = totFoods['에너지(kcal)'].sum() - standardRDA[0]\n",
    "nutriNeedsDF['탄수화물(g)']  = totFoods['탄수화물(g)'].sum() - standardRDA[1]\n",
    "nutriNeedsDF['단백질(g)']    = totFoods['단백질(g)'].sum() - standardRDA[2]\n",
    "\n",
    "#nutriNeedsDF['지방(g)']      = totFoods['지방(g)'].sum() - standardRDA[3]\n",
    "\n",
    "# 지방 10~20\n",
    "stdFat = standardRDA[3].split(\"~\")\n",
    "minFat = int(stdFat[0])\n",
    "maxFat = int(stdFat[1])\n",
    "\n",
    "#print(\"지방 : \", totFoods['지방(g)'].sum())\n",
    "\n",
    "if totFoods['지방(g)'].sum() < minFat:\n",
    "    nutriNeedsDF['지방(g)'] = minFat - totFoods['지방(g)'].sum()\n",
    "elif totFoods['지방(g)'].sum() > maxFat:    \n",
    "    nutriNeedsDF['지방(g)'] = totFoods['지방(g)'].sum() - maxFat\n",
    "\n",
    "nutriNeedsDF['포화지방산(g)'] = totFoods['포화지방산(g)'].sum() - standardRDA[7]\n",
    "nutriNeedsDF['나트륨(mg)'] = totFoods['나트륨(mg)'].sum() - standardRDA[5]"
   ]
  },
  {
   "cell_type": "code",
   "execution_count": 61,
   "id": "b75cf990-ecec-4554-ba81-728bbabaa664",
   "metadata": {},
   "outputs": [
    {
     "data": {
      "text/html": [
       "<div>\n",
       "<style scoped>\n",
       "    .dataframe tbody tr th:only-of-type {\n",
       "        vertical-align: middle;\n",
       "    }\n",
       "\n",
       "    .dataframe tbody tr th {\n",
       "        vertical-align: top;\n",
       "    }\n",
       "\n",
       "    .dataframe thead th {\n",
       "        text-align: right;\n",
       "    }\n",
       "</style>\n",
       "<table border=\"1\" class=\"dataframe\">\n",
       "  <thead>\n",
       "    <tr style=\"text-align: right;\">\n",
       "      <th></th>\n",
       "      <th>에너지(kcal)</th>\n",
       "      <th>탄수화물(g)</th>\n",
       "      <th>단백질(g)</th>\n",
       "      <th>지방(g)</th>\n",
       "      <th>포화지방산(g)</th>\n",
       "      <th>나트륨(mg)</th>\n",
       "    </tr>\n",
       "  </thead>\n",
       "  <tbody>\n",
       "    <tr>\n",
       "      <th>0</th>\n",
       "      <td>753</td>\n",
       "      <td>244.96</td>\n",
       "      <td>-15.63</td>\n",
       "      <td>146.19</td>\n",
       "      <td>45.67</td>\n",
       "      <td>1242.0</td>\n",
       "    </tr>\n",
       "  </tbody>\n",
       "</table>\n",
       "</div>"
      ],
      "text/plain": [
       "   에너지(kcal)  탄수화물(g)  단백질(g)   지방(g)  포화지방산(g)  나트륨(mg)\n",
       "0        753   244.96  -15.63  146.19     45.67   1242.0"
      ]
     },
     "execution_count": 61,
     "metadata": {},
     "output_type": "execute_result"
    }
   ],
   "source": [
    "# 영양 성분 분석 결과\n",
    "# 양수 이면 기준량에 대한 과잉분이 출력, 음수이면 기준량 대비 부족분으로 판단 \n",
    "nutriNeedsDF"
   ]
  },
  {
   "cell_type": "markdown",
   "id": "6e8cda53-e718-4ebc-9b55-ab1a8689210d",
   "metadata": {},
   "source": [
    "---"
   ]
  },
  {
   "cell_type": "code",
   "execution_count": 66,
   "id": "aa8f0074-b0be-4a5c-b3d9-0e77b2a2aef4",
   "metadata": {},
   "outputs": [
    {
     "data": {
      "text/plain": [
       "0.0"
      ]
     },
     "execution_count": 66,
     "metadata": {},
     "output_type": "execute_result"
    }
   ],
   "source": [
    "# foodSet.loc[0]['clusterLabel']\n",
    "totFoods.iloc[0]['clusterLabel']"
   ]
  },
  {
   "cell_type": "code",
   "execution_count": 78,
   "id": "5ea46d0e-2ea8-41c9-819c-f4d9ea3a9221",
   "metadata": {},
   "outputs": [
    {
     "name": "stdout",
     "output_type": "stream",
     "text": [
      "현재 섭취하신 음식에는 에너지(kcal) 이(가) 권장 기준량보다 753.00 만큼 과다합니다. 추후 조절하여 섭취하시기 바랍니다.\n",
      "************************************************************************************************************************\n",
      "현재 섭취하신 음식에는 탄수화물(g) 이(가) 권장 기준량보다 244.96 만큼 과다합니다. 추후 조절하여 섭취하시기 바랍니다.\n",
      "************************************************************************************************************************\n",
      "부족 영양소(nutri) :  단백질(g)\n",
      "영양소 부족분(절대값) :  15.630000000000003\n",
      "clusterLabel :  0.0\n",
      "충족 음식 중 최솟값 :  15.7\n",
      "추천 음식 : 식품코드            P116-705060000-0019\n",
      "식품명             기타 농산가공품_서퍼데이, 브이효소\n",
      "에너지(kcal)                       400\n",
      "탄수화물(g)                        77.4\n",
      "단백질(g)                         15.7\n",
      "지방(g)                           3.1\n",
      "포화지방산(g)                        0.6\n",
      "나트륨(mg)                       123.0\n",
      "clusterLabel                      0\n",
      "Name: 49295, dtype: object\n",
      "\n",
      "단백질(g) 부족분에 대한 추천 음식(들) : 기타 농산가공품_서퍼데이, 브이효소\n",
      "----------------------------------------------------------------------------------------------------\n",
      "\n",
      "추천 음식 : 식품코드            P116-705070200-0021\n",
      "식품명              기타 농산가공품_간편한끼 흑임자죽\n",
      "에너지(kcal)                       424\n",
      "탄수화물(g)                        52.5\n",
      "단백질(g)                         15.7\n",
      "지방(g)                          17.8\n",
      "포화지방산(g)                        2.4\n",
      "나트륨(mg)                       275.0\n",
      "clusterLabel                      0\n",
      "Name: 49349, dtype: object\n",
      "\n",
      "단백질(g) 부족분에 대한 추천 음식(들) : 기타 농산가공품_간편한끼 흑임자죽\n",
      "----------------------------------------------------------------------------------------------------\n",
      "\n",
      "추천 음식 : 식품코드                 P116-705070200-0214\n",
      "식품명             기타 농산가공품_내몸愛(애) 발효커피 쉐이크\n",
      "에너지(kcal)                            360\n",
      "탄수화물(g)                             74.0\n",
      "단백질(g)                              15.7\n",
      "지방(g)                                0.1\n",
      "포화지방산(g)                             0.0\n",
      "나트륨(mg)                            192.0\n",
      "clusterLabel                           0\n",
      "Name: 49541, dtype: object\n",
      "\n",
      "단백질(g) 부족분에 대한 추천 음식(들) : 기타 농산가공품_내몸愛(애) 발효커피 쉐이크\n",
      "----------------------------------------------------------------------------------------------------\n",
      "\n",
      "현재 섭취하신 음식에는 지방(g) 이(가) 권장 기준량보다 146.19 만큼 과다합니다. 추후 조절하여 섭취하시기 바랍니다.\n",
      "************************************************************************************************************************\n",
      "현재 섭취하신 음식에는 포화지방산(g) 이(가) 권장 기준량보다 45.67 만큼 과다합니다. 추후 조절하여 섭취하시기 바랍니다.\n",
      "************************************************************************************************************************\n",
      "현재 섭취하신 음식에는 나트륨(mg) 이(가) 권장 기준량보다 1242.00 만큼 과다합니다. 추후 조절하여 섭취하시기 바랍니다.\n",
      "************************************************************************************************************************\n"
     ]
    }
   ],
   "source": [
    "# 영양 결핍 부족분(값이 음수)에 따른 추천 음식 선정\n",
    "# 영양 결핍 부족분(값이 음수)인 영양소 파악\n",
    "\n",
    "for nutri in nutriNeedsDF:\n",
    "    #print(nutri)\n",
    "    \n",
    "    if float(nutriNeedsDF[nutri]) < 0: # 결핍 영양소\n",
    "        \n",
    "        # 결핍 영양소에 따른 음식 검색\n",
    "        # 입력된 음식들의 군집 범위 내에서 검색하되 첫번째 음식부터 검색\n",
    "        print(\"부족 영양소(nutri) : \", nutri)\n",
    "        print(\"영양소 부족분(절대값) : \", abs(float(nutriNeedsDF[nutri])))\n",
    "\n",
    "        # foodSet에서 같은 클러스터의 권장 섭취분 해당 음식 검색\n",
    "\n",
    "        # 과식 방지를 위해 부족분(ex. 단백질 -15.63 ==> 15.63)에 가장 가까운 값(최소값) 선정\n",
    "        # 첫번째 입력 음식의 clusterLabel과 비교\n",
    "        print(\"clusterLabel : \", totFoods.iloc[0]['clusterLabel'])\n",
    "\n",
    "        # 먼저 동일한 clusterLabel을 선정 \n",
    "        chosenDF = foodSet.loc[foodSet['clusterLabel'] == totFoods.iloc[0]['clusterLabel']]\n",
    "        \n",
    "        # 영양소 결핍분에 대한 충족 음식 조회 \n",
    "        chosenDF = chosenDF.loc[foodSet[nutri] >= abs(float(nutriNeedsDF[nutri]))] \n",
    "\n",
    "        # print(chosenDF.head(2))\n",
    "\n",
    "        # 충족 음식 중 최소값 선정(과식 방지)\n",
    "        print(\"충족 음식 중 최솟값 : \", chosenDF[nutri].min())\n",
    "        chosenDF = chosenDF.loc[chosenDF[nutri] == chosenDF[nutri].min()]\n",
    "        \n",
    "        # 추천 음식이 다수일 경우를 위한 조치\n",
    "        for idx in range(0, len(chosenDF)):\n",
    "            \n",
    "            print('추천 음식 : %s\\n' % chosenDF.iloc[idx])        \n",
    "            chosenFood = chosenDF.iloc[idx]['식품명']\n",
    "            print('%s 부족분에 대한 추천 음식(들) : %s' % (nutri, chosenFood))\n",
    "            print(\"-\" * 100 + \"\\n\")\n",
    "        \n",
    "    else: # 영양소 과잉에 대한 메시징\n",
    "\n",
    "        print(\"현재 섭취하신 음식에는 %s 이(가) 권장 기준량보다 %.2f 만큼 과다합니다. 추후 조절하여 섭취하시기 바랍니다.\"  \\\n",
    "              % (nutri, float(nutriNeedsDF[nutri])))\n",
    "\n",
    "        print(\"*\" * 120)\n"
   ]
  },
  {
   "cell_type": "code",
   "execution_count": 65,
   "id": "4a8386ee-9df7-4d66-8382-dbeefec3bc5e",
   "metadata": {},
   "outputs": [],
   "source": [
    "cursor.close()\n",
    "conn.close()                                                                                                                                                                                                                                                                                                                                                                                                                                                                                                                                                                                                                                                                                                       "
   ]
  }
 ],
 "metadata": {
  "kernelspec": {
   "display_name": "Python 3 (ipykernel)",
   "language": "python",
   "name": "python3"
  },
  "language_info": {
   "codemirror_mode": {
    "name": "ipython",
    "version": 3
   },
   "file_extension": ".py",
   "mimetype": "text/x-python",
   "name": "python",
   "nbconvert_exporter": "python",
   "pygments_lexer": "ipython3",
   "version": "3.12.0"
  }
 },
 "nbformat": 4,
 "nbformat_minor": 5
}
