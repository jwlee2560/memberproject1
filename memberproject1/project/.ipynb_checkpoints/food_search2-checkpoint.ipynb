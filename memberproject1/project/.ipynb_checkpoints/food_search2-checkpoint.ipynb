{
 "cells": [
  {
   "cell_type": "code",
   "execution_count": 3,
   "id": "305e6999-a683-42df-b201-75863445be23",
   "metadata": {},
   "outputs": [],
   "source": [
    "import pandas as pd\n",
    "import numpy as np\n",
    "\n",
    "foods = pd.read_csv('./전국통합식품영양성분정보(가공식품)표준데이터.csv', sep=',', encoding='ms949')"
   ]
  },
  {
   "cell_type": "code",
   "execution_count": 4,
   "id": "25a2e828-1ac5-436b-9b66-7245c4320a0e",
   "metadata": {},
   "outputs": [],
   "source": [
    "# foodSet = pd.DataFrame(foods, columns=['식품코드', '식품명', '에너지(kcal)', '탄수화물(g)', '단백질(g)', '지방(g)', '포화지방산(g)', '나트륨(mg)'])\n",
    "foodSet = pd.DataFrame(foods, columns=['식품코드', '식품명', '대표식품명', '식품대분류명', '식품중분류명', '식품소분류명', '에너지(kcal)', '탄수화물(g)', '단백질(g)', '지방(g)', '포화지방산(g)', '나트륨(mg)'])"
   ]
  },
  {
   "cell_type": "code",
   "execution_count": 5,
   "id": "35d87db2-7c19-4952-806d-c49e7fff7d1a",
   "metadata": {},
   "outputs": [
    {
     "data": {
      "text/plain": [
       "45196"
      ]
     },
     "execution_count": 5,
     "metadata": {},
     "output_type": "execute_result"
    }
   ],
   "source": [
    "# 추가 : '식품대분류명' = '식용유지류', '잼류', '당류', '장류', '조미식품' 배제\n",
    "#print(foodSet['식품대분류명'])\n",
    "\n",
    "foodSet = foodSet.loc[(foodSet['식품대분류명'] != '식용유지류') & \\\n",
    "                      (foodSet['식품대분류명'] != '잼류') & \\\n",
    "                      (foodSet['식품대분류명'] != '당류') & \\\n",
    "                      (foodSet['식품대분류명'] != '장류') & \\\n",
    "                      (foodSet['식품대분류명'] != '조미식품')]\n",
    "len(foodSet)"
   ]
  },
  {
   "cell_type": "code",
   "execution_count": 6,
   "id": "8dbc0be7-6ea6-4e82-a579-3a94e13e6702",
   "metadata": {},
   "outputs": [],
   "source": [
    "# 결측치 제거  : NaN 있을 경우 K Mean 측정에서 문제 발생\n",
    "foodSet.fillna(0, inplace=True)"
   ]
  },
  {
   "cell_type": "code",
   "execution_count": 7,
   "id": "8cec1525-640c-4f8d-89a3-63c44c935db1",
   "metadata": {},
   "outputs": [],
   "source": [
    "#selectedFood = foodSet[foodSet['식품명'].str.contains('된장찌개') & foodSet['식품소분류명'].str.contains('당뇨')].head()\n",
    "#selectedFood"
   ]
  },
  {
   "cell_type": "code",
   "execution_count": 8,
   "id": "58f0dc1d-cfa5-4751-9e7e-701426a7387d",
   "metadata": {},
   "outputs": [],
   "source": [
    "from konlpy.tag import Okt\n",
    "from konlpy.tag import Kkma\n",
    "\n",
    "import re;\n",
    "\n",
    "okt = Okt()\n",
    "kkma = Kkma()"
   ]
  },
  {
   "cell_type": "code",
   "execution_count": 17,
   "id": "86612c70-a9f1-4e94-9023-577c1196a75a",
   "metadata": {},
   "outputs": [
    {
     "data": {
      "text/plain": [
       "['도시락', '반찬', '최고', '스팸', '감자', '조림']"
      ]
     },
     "execution_count": 17,
     "metadata": {},
     "output_type": "execute_result"
    }
   ],
   "source": [
    "searchFoodname = '도시락 반찬으로 최고! 스팸감자조림♡'\n",
    "# 불용어 제거\n",
    "# foodWords = okt.morphs(searchFoodname)\n",
    "\n",
    "foodWords = okt.nouns(searchFoodname)\n",
    "foodWords\n",
    "#type(food_words)"
   ]
  },
  {
   "cell_type": "code",
   "execution_count": 15,
   "id": "b99740bf-b182-4578-9c90-8c271173e410",
   "metadata": {},
   "outputs": [
    {
     "data": {
      "text/html": [
       "<div>\n",
       "<style scoped>\n",
       "    .dataframe tbody tr th:only-of-type {\n",
       "        vertical-align: middle;\n",
       "    }\n",
       "\n",
       "    .dataframe tbody tr th {\n",
       "        vertical-align: top;\n",
       "    }\n",
       "\n",
       "    .dataframe thead th {\n",
       "        text-align: right;\n",
       "    }\n",
       "</style>\n",
       "<table border=\"1\" class=\"dataframe\">\n",
       "  <thead>\n",
       "    <tr style=\"text-align: right;\">\n",
       "      <th></th>\n",
       "      <th>식품코드</th>\n",
       "      <th>식품명</th>\n",
       "      <th>대표식품명</th>\n",
       "      <th>식품대분류명</th>\n",
       "      <th>식품중분류명</th>\n",
       "      <th>식품소분류명</th>\n",
       "      <th>에너지(kcal)</th>\n",
       "      <th>탄수화물(g)</th>\n",
       "      <th>단백질(g)</th>\n",
       "      <th>지방(g)</th>\n",
       "      <th>포화지방산(g)</th>\n",
       "      <th>나트륨(mg)</th>\n",
       "    </tr>\n",
       "  </thead>\n",
       "  <tbody>\n",
       "    <tr>\n",
       "      <th>44642</th>\n",
       "      <td>P111-000030100-0079</td>\n",
       "      <td>환자용 식품_[당뇨식단] 달래된장찌개 세트</td>\n",
       "      <td>환자용 식품</td>\n",
       "      <td>특수의료용도식품</td>\n",
       "      <td>식단형 식사관리식품</td>\n",
       "      <td>당뇨환자용 식단형 식품</td>\n",
       "      <td>100</td>\n",
       "      <td>13.25</td>\n",
       "      <td>4.51</td>\n",
       "      <td>3.25</td>\n",
       "      <td>0.6</td>\n",
       "      <td>180.0</td>\n",
       "    </tr>\n",
       "  </tbody>\n",
       "</table>\n",
       "</div>"
      ],
      "text/plain": [
       "                      식품코드                      식품명   대표식품명    식품대분류명  \\\n",
       "44642  P111-000030100-0079  환자용 식품_[당뇨식단] 달래된장찌개 세트  환자용 식품  특수의료용도식품   \n",
       "\n",
       "           식품중분류명        식품소분류명  에너지(kcal)  탄수화물(g)  단백질(g)  지방(g)  포화지방산(g)  \\\n",
       "44642  식단형 식사관리식품  당뇨환자용 식단형 식품        100    13.25    4.51   3.25       0.6   \n",
       "\n",
       "       나트륨(mg)  \n",
       "44642    180.0  "
      ]
     },
     "execution_count": 15,
     "metadata": {},
     "output_type": "execute_result"
    }
   ],
   "source": [
    "selectedFood = foodSet[foodSet['식품명'].str.contains('된장찌개') & foodSet['식품소분류명'].str.contains('당뇨')].loc[:]\n",
    "selectedFood"
   ]
  },
  {
   "cell_type": "code",
   "execution_count": 44,
   "id": "ad60c70c-e193-437c-af45-079dba20d9b4",
   "metadata": {},
   "outputs": [
    {
     "data": {
      "text/plain": [
       "'도시락 반찬 최고 스팸 감자 조림'"
      ]
     },
     "execution_count": 44,
     "metadata": {},
     "output_type": "execute_result"
    }
   ],
   "source": [
    "# 불용어 제거\n",
    "def cleanWords(foodname):\n",
    "    \n",
    "    result = ''\n",
    "    foodWords = okt.nouns(foodname)\n",
    "    \n",
    "    for food in foodWords:\n",
    "        result += food + ' '\n",
    "        \n",
    "    return result.strip()\n",
    "\n",
    "cleanWords('도시락 반찬으로 최고! 스팸감자조림♡')"
   ]
  },
  {
   "cell_type": "code",
   "execution_count": 45,
   "id": "a0d1a7d9-3921-430c-b351-2d0d18590f27",
   "metadata": {},
   "outputs": [
    {
     "data": {
      "text/plain": [
       "True"
      ]
     },
     "execution_count": 45,
     "metadata": {},
     "output_type": "execute_result"
    }
   ],
   "source": [
    "targetFood = '도시락 반찬으로 최고! 스팸감자조림♡'\n",
    "targetFood = cleanWords(targetFood)\n",
    "\n",
    "#print(targetFood)\n",
    "\n",
    "'감자' in targetFood\n",
    "\n",
    "# cleanWords('완료기밥흰살생선감자조림밥') in okt.nouns(targetFood)\n",
    "'감자' in okt.nouns(targetFood)"
   ]
  },
  {
   "cell_type": "code",
   "execution_count": 52,
   "id": "588b6d1e-f295-417d-b6e4-9c81b0481383",
   "metadata": {},
   "outputs": [
    {
     "name": "stdout",
     "output_type": "stream",
     "text": [
      "foodname :  완료기밥흰살생선감자조림밥\n",
      "targetFoodnames :  ['도시락', '반찬', '최고', '스팸', '감자', '조림']\n",
      "소스 음식 token 길이 :  7\n",
      "trueCount :  2\n"
     ]
    }
   ],
   "source": [
    "# foodname : 식약처 음식 목록 ex) 영·유아용 이유식_완료기밥흰살생선감자조림밥\n",
    "# targetFoodname :  만개의 레시피 음식명  ex) 도시락 반찬으로 최고! 스팸감자조림♡\n",
    "def searchSimilarFood(foodname, targetFoodname):\n",
    "\n",
    "    foodname = foodname.split(\"_\")[1] # 완료기밥흰살생선감자조림밥\n",
    "    foodnames = okt.nouns(foodname)  \n",
    "    targetFoodnames = okt.nouns(targetFoodname) # 도시락 반찬 최고 스팸 감자 조림\n",
    "\n",
    "    print(\"foodname : \", foodname)\n",
    "    print(\"targetFoodnames : \", targetFoodnames)\n",
    "    #print(foodnames)\n",
    "\n",
    "    print(\"소스 음식 token 길이 : \", len(foodnames))\n",
    "\n",
    "    trueCount = 0;\n",
    "    \n",
    "    for food in foodnames:\n",
    "        if food in targetFood:\n",
    "            trueCount += 1\n",
    "\n",
    "    print(\"trueCount : \", trueCount) # 일치하는 단어 갯수\n",
    "        \n",
    "    return trueCount\n",
    "\n",
    "targetFoodname = '도시락 반찬으로 최고! 스팸감자조림♡'\n",
    "foodname = '영·유아용 이유식_완료기밥흰살생선감자조림밥'\n",
    "searchSimilarFood(foodname, targetFoodname)"
   ]
  },
  {
   "cell_type": "code",
   "execution_count": 31,
   "id": "df27fd65-f7f0-49c7-b227-13a11a404d4b",
   "metadata": {},
   "outputs": [
    {
     "name": "stdout",
     "output_type": "stream",
     "text": [
      "[도시락 | 반찬 | 최고 | 스팸 | 감자 | 조림]\n",
      "31257\n"
     ]
    },
    {
     "data": {
      "text/html": [
       "<div>\n",
       "<style scoped>\n",
       "    .dataframe tbody tr th:only-of-type {\n",
       "        vertical-align: middle;\n",
       "    }\n",
       "\n",
       "    .dataframe tbody tr th {\n",
       "        vertical-align: top;\n",
       "    }\n",
       "\n",
       "    .dataframe thead th {\n",
       "        text-align: right;\n",
       "    }\n",
       "</style>\n",
       "<table border=\"1\" class=\"dataframe\">\n",
       "  <thead>\n",
       "    <tr style=\"text-align: right;\">\n",
       "      <th></th>\n",
       "      <th>식품코드</th>\n",
       "      <th>식품명</th>\n",
       "      <th>대표식품명</th>\n",
       "      <th>식품대분류명</th>\n",
       "      <th>식품중분류명</th>\n",
       "      <th>식품소분류명</th>\n",
       "      <th>에너지(kcal)</th>\n",
       "      <th>탄수화물(g)</th>\n",
       "      <th>단백질(g)</th>\n",
       "      <th>지방(g)</th>\n",
       "      <th>포화지방산(g)</th>\n",
       "      <th>나트륨(mg)</th>\n",
       "    </tr>\n",
       "  </thead>\n",
       "  <tbody>\n",
       "    <tr>\n",
       "      <th>0</th>\n",
       "      <td>P109-302030200-2176</td>\n",
       "      <td>과·채주스_프룻밀토마토</td>\n",
       "      <td>과·채주스</td>\n",
       "      <td>음료류</td>\n",
       "      <td>과일·채소류음료</td>\n",
       "      <td>과·채주스</td>\n",
       "      <td>43</td>\n",
       "      <td>10.00</td>\n",
       "      <td>0.47</td>\n",
       "      <td>0.00</td>\n",
       "      <td>0.00</td>\n",
       "      <td>17.0</td>\n",
       "    </tr>\n",
       "    <tr>\n",
       "      <th>1</th>\n",
       "      <td>P109-302030200-2177</td>\n",
       "      <td>과·채주스_프리마5후르츠칵테일주스</td>\n",
       "      <td>과·채주스</td>\n",
       "      <td>음료류</td>\n",
       "      <td>과일·채소류음료</td>\n",
       "      <td>과·채주스</td>\n",
       "      <td>45</td>\n",
       "      <td>10.70</td>\n",
       "      <td>0.30</td>\n",
       "      <td>0.00</td>\n",
       "      <td>0.00</td>\n",
       "      <td>0.0</td>\n",
       "    </tr>\n",
       "    <tr>\n",
       "      <th>2</th>\n",
       "      <td>P109-302030200-2178</td>\n",
       "      <td>과·채주스_프리마셀렉션사과주스</td>\n",
       "      <td>과·채주스</td>\n",
       "      <td>음료류</td>\n",
       "      <td>과일·채소류음료</td>\n",
       "      <td>과·채주스</td>\n",
       "      <td>45</td>\n",
       "      <td>11.00</td>\n",
       "      <td>0.20</td>\n",
       "      <td>0.20</td>\n",
       "      <td>0.00</td>\n",
       "      <td>0.0</td>\n",
       "    </tr>\n",
       "    <tr>\n",
       "      <th>3</th>\n",
       "      <td>P109-302030200-2179</td>\n",
       "      <td>과·채주스_프리마셀렉션파인애플주스</td>\n",
       "      <td>과·채주스</td>\n",
       "      <td>음료류</td>\n",
       "      <td>과일·채소류음료</td>\n",
       "      <td>과·채주스</td>\n",
       "      <td>54</td>\n",
       "      <td>12.50</td>\n",
       "      <td>0.50</td>\n",
       "      <td>0.20</td>\n",
       "      <td>0.00</td>\n",
       "      <td>0.0</td>\n",
       "    </tr>\n",
       "    <tr>\n",
       "      <th>4</th>\n",
       "      <td>P109-302030200-2180</td>\n",
       "      <td>과·채주스_프리미엄 애플망고주스</td>\n",
       "      <td>과·채주스</td>\n",
       "      <td>음료류</td>\n",
       "      <td>과일·채소류음료</td>\n",
       "      <td>과·채주스</td>\n",
       "      <td>38</td>\n",
       "      <td>8.00</td>\n",
       "      <td>0.19</td>\n",
       "      <td>0.56</td>\n",
       "      <td>0.03</td>\n",
       "      <td>1.0</td>\n",
       "    </tr>\n",
       "    <tr>\n",
       "      <th>...</th>\n",
       "      <td>...</td>\n",
       "      <td>...</td>\n",
       "      <td>...</td>\n",
       "      <td>...</td>\n",
       "      <td>...</td>\n",
       "      <td>...</td>\n",
       "      <td>...</td>\n",
       "      <td>...</td>\n",
       "      <td>...</td>\n",
       "      <td>...</td>\n",
       "      <td>...</td>\n",
       "      <td>...</td>\n",
       "    </tr>\n",
       "    <tr>\n",
       "      <th>49992</th>\n",
       "      <td>P117-100010100-0056</td>\n",
       "      <td>햄_러브잇 슬라이스 닭가슴살 윈저그라맛</td>\n",
       "      <td>햄</td>\n",
       "      <td>식육가공품 및 포장육</td>\n",
       "      <td>햄류(축산물가공품)</td>\n",
       "      <td>햄</td>\n",
       "      <td>115</td>\n",
       "      <td>0.75</td>\n",
       "      <td>26.00</td>\n",
       "      <td>1.20</td>\n",
       "      <td>0.00</td>\n",
       "      <td>140.0</td>\n",
       "    </tr>\n",
       "    <tr>\n",
       "      <th>49994</th>\n",
       "      <td>P117-100010100-0058</td>\n",
       "      <td>햄_러브잇슬라이스닭가슴살마늘맛</td>\n",
       "      <td>햄</td>\n",
       "      <td>식육가공품 및 포장육</td>\n",
       "      <td>햄류(축산물가공품)</td>\n",
       "      <td>햄</td>\n",
       "      <td>132</td>\n",
       "      <td>0.23</td>\n",
       "      <td>29.27</td>\n",
       "      <td>1.52</td>\n",
       "      <td>0.89</td>\n",
       "      <td>145.0</td>\n",
       "    </tr>\n",
       "    <tr>\n",
       "      <th>49995</th>\n",
       "      <td>P117-100010100-0059</td>\n",
       "      <td>햄_러브잇슬라이스닭가슴살메스퀴트맛</td>\n",
       "      <td>햄</td>\n",
       "      <td>식육가공품 및 포장육</td>\n",
       "      <td>햄류(축산물가공품)</td>\n",
       "      <td>햄</td>\n",
       "      <td>134</td>\n",
       "      <td>0.25</td>\n",
       "      <td>30.07</td>\n",
       "      <td>1.38</td>\n",
       "      <td>0.59</td>\n",
       "      <td>138.0</td>\n",
       "    </tr>\n",
       "    <tr>\n",
       "      <th>49996</th>\n",
       "      <td>P117-100010100-0060</td>\n",
       "      <td>햄_러브잇슬라이스닭가슴살훈제맛</td>\n",
       "      <td>햄</td>\n",
       "      <td>식육가공품 및 포장육</td>\n",
       "      <td>햄류(축산물가공품)</td>\n",
       "      <td>햄</td>\n",
       "      <td>138</td>\n",
       "      <td>0.37</td>\n",
       "      <td>29.72</td>\n",
       "      <td>1.91</td>\n",
       "      <td>0.65</td>\n",
       "      <td>173.0</td>\n",
       "    </tr>\n",
       "    <tr>\n",
       "      <th>49999</th>\n",
       "      <td>P117-100010100-0063</td>\n",
       "      <td>햄_로스트덕매콤한맛</td>\n",
       "      <td>햄</td>\n",
       "      <td>식육가공품 및 포장육</td>\n",
       "      <td>햄류(축산물가공품)</td>\n",
       "      <td>햄</td>\n",
       "      <td>200</td>\n",
       "      <td>4.00</td>\n",
       "      <td>22.00</td>\n",
       "      <td>11.00</td>\n",
       "      <td>3.80</td>\n",
       "      <td>303.0</td>\n",
       "    </tr>\n",
       "  </tbody>\n",
       "</table>\n",
       "<p>31257 rows × 12 columns</p>\n",
       "</div>"
      ],
      "text/plain": [
       "                      식품코드                    식품명  대표식품명       식품대분류명  \\\n",
       "0      P109-302030200-2176           과·채주스_프룻밀토마토  과·채주스          음료류   \n",
       "1      P109-302030200-2177     과·채주스_프리마5후르츠칵테일주스  과·채주스          음료류   \n",
       "2      P109-302030200-2178       과·채주스_프리마셀렉션사과주스  과·채주스          음료류   \n",
       "3      P109-302030200-2179     과·채주스_프리마셀렉션파인애플주스  과·채주스          음료류   \n",
       "4      P109-302030200-2180      과·채주스_프리미엄 애플망고주스  과·채주스          음료류   \n",
       "...                    ...                    ...    ...          ...   \n",
       "49992  P117-100010100-0056  햄_러브잇 슬라이스 닭가슴살 윈저그라맛      햄  식육가공품 및 포장육   \n",
       "49994  P117-100010100-0058       햄_러브잇슬라이스닭가슴살마늘맛      햄  식육가공품 및 포장육   \n",
       "49995  P117-100010100-0059     햄_러브잇슬라이스닭가슴살메스퀴트맛      햄  식육가공품 및 포장육   \n",
       "49996  P117-100010100-0060       햄_러브잇슬라이스닭가슴살훈제맛      햄  식육가공품 및 포장육   \n",
       "49999  P117-100010100-0063             햄_로스트덕매콤한맛      햄  식육가공품 및 포장육   \n",
       "\n",
       "           식품중분류명 식품소분류명  에너지(kcal)  탄수화물(g)  단백질(g)  지방(g)  포화지방산(g)  나트륨(mg)  \n",
       "0        과일·채소류음료  과·채주스         43    10.00    0.47   0.00      0.00     17.0  \n",
       "1        과일·채소류음료  과·채주스         45    10.70    0.30   0.00      0.00      0.0  \n",
       "2        과일·채소류음료  과·채주스         45    11.00    0.20   0.20      0.00      0.0  \n",
       "3        과일·채소류음료  과·채주스         54    12.50    0.50   0.20      0.00      0.0  \n",
       "4        과일·채소류음료  과·채주스         38     8.00    0.19   0.56      0.03      1.0  \n",
       "...           ...    ...        ...      ...     ...    ...       ...      ...  \n",
       "49992  햄류(축산물가공품)      햄        115     0.75   26.00   1.20      0.00    140.0  \n",
       "49994  햄류(축산물가공품)      햄        132     0.23   29.27   1.52      0.89    145.0  \n",
       "49995  햄류(축산물가공품)      햄        134     0.25   30.07   1.38      0.59    138.0  \n",
       "49996  햄류(축산물가공품)      햄        138     0.37   29.72   1.91      0.65    173.0  \n",
       "49999  햄류(축산물가공품)      햄        200     4.00   22.00  11.00      3.80    303.0  \n",
       "\n",
       "[31257 rows x 12 columns]"
      ]
     },
     "execution_count": 31,
     "metadata": {},
     "output_type": "execute_result"
    }
   ],
   "source": [
    "def getSimilarFoods(foodname, disease):\n",
    "\n",
    "    foodWords = okt.nouns(foodname)\n",
    "\n",
    "    regexp = '['\n",
    "\n",
    "    for i in range(len(foodWords)):\n",
    "\n",
    "        if i < len(foodWords) - 1:\n",
    "            regexp += foodWords[i] + ' | '\n",
    "        else:\n",
    "            regexp += foodWords[i] + ']'\n",
    "    \n",
    "    print(regexp)\n",
    "\n",
    "    selectedFoods = foodSet[foodSet['식품명'].str.contains(regexp, regex=True)].loc[:]\n",
    "\n",
    "    print(len(selectedFoods))\n",
    "\n",
    "    return selectedFoods\n",
    "\n",
    "getSimilarFoods('도시락 반찬으로 최고! 스팸감자조림♡', '')"
   ]
  },
  {
   "cell_type": "code",
   "execution_count": null,
   "id": "58b418eb-efdb-4f10-b1ce-776948f95b93",
   "metadata": {},
   "outputs": [],
   "source": []
  }
 ],
 "metadata": {
  "kernelspec": {
   "display_name": "Python 3 (ipykernel)",
   "language": "python",
   "name": "python3"
  },
  "language_info": {
   "codemirror_mode": {
    "name": "ipython",
    "version": 3
   },
   "file_extension": ".py",
   "mimetype": "text/x-python",
   "name": "python",
   "nbconvert_exporter": "python",
   "pygments_lexer": "ipython3",
   "version": "3.12.0"
  }
 },
 "nbformat": 4,
 "nbformat_minor": 5
}
