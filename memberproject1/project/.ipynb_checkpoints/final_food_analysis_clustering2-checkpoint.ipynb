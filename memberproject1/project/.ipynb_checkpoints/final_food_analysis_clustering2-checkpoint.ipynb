{
 "cells": [
  {
   "cell_type": "code",
   "execution_count": 79,
   "id": "adcf1aaa-9e47-4559-8f42-2103bf258742",
   "metadata": {},
   "outputs": [],
   "source": [
    "import pandas as pd\n",
    "import numpy as np\n",
    "\n",
    "foods = pd.read_csv('./전국통합식품영양성분정보(가공식품)표준데이터.csv', sep=',', encoding='ms949')"
   ]
  },
  {
   "cell_type": "code",
   "execution_count": 80,
   "id": "60e5a3e0-ca0f-43e0-a136-acaec05ba6cb",
   "metadata": {},
   "outputs": [],
   "source": [
    "foodSet = pd.DataFrame(foods, columns=['식품코드', '식품명', '에너지(kcal)', '탄수화물(g)', '단백질(g)', '지방(g)', '포화지방산(g)', '나트륨(mg)'])\n",
    "# foodSet['cluster'] = np.ndarray\n",
    "\n",
    "#foodSet.dtypes"
   ]
  },
  {
   "cell_type": "code",
   "execution_count": 81,
   "id": "466e79a6-02fd-4219-8211-d4b5f46f4b36",
   "metadata": {},
   "outputs": [],
   "source": [
    "# 결측치 제거  : NaN 있을 경우 K Mean 측정에서 문제 발생\n",
    "foodSet.fillna(0, inplace=True)"
   ]
  },
  {
   "cell_type": "code",
   "execution_count": 82,
   "id": "dfe85c49-2a5e-4b8f-b2e7-a53bca5fdcb0",
   "metadata": {},
   "outputs": [
    {
     "data": {
      "text/html": [
       "<div>\n",
       "<style scoped>\n",
       "    .dataframe tbody tr th:only-of-type {\n",
       "        vertical-align: middle;\n",
       "    }\n",
       "\n",
       "    .dataframe tbody tr th {\n",
       "        vertical-align: top;\n",
       "    }\n",
       "\n",
       "    .dataframe thead th {\n",
       "        text-align: right;\n",
       "    }\n",
       "</style>\n",
       "<table border=\"1\" class=\"dataframe\">\n",
       "  <thead>\n",
       "    <tr style=\"text-align: right;\">\n",
       "      <th></th>\n",
       "      <th>에너지(kcal)</th>\n",
       "    </tr>\n",
       "  </thead>\n",
       "  <tbody>\n",
       "    <tr>\n",
       "      <th>0</th>\n",
       "      <td>43</td>\n",
       "    </tr>\n",
       "    <tr>\n",
       "      <th>1</th>\n",
       "      <td>45</td>\n",
       "    </tr>\n",
       "    <tr>\n",
       "      <th>2</th>\n",
       "      <td>45</td>\n",
       "    </tr>\n",
       "    <tr>\n",
       "      <th>3</th>\n",
       "      <td>54</td>\n",
       "    </tr>\n",
       "    <tr>\n",
       "      <th>4</th>\n",
       "      <td>38</td>\n",
       "    </tr>\n",
       "  </tbody>\n",
       "</table>\n",
       "</div>"
      ],
      "text/plain": [
       "   에너지(kcal)\n",
       "0         43\n",
       "1         45\n",
       "2         45\n",
       "3         54\n",
       "4         38"
      ]
     },
     "execution_count": 82,
     "metadata": {},
     "output_type": "execute_result"
    }
   ],
   "source": [
    "X = foodSet[['에너지(kcal)', '탄수화물(g)', '단백질(g)', '지방(g)', '포화지방산(g)', '나트륨(mg)']].values\n",
    "\n",
    "# 에너지(kcal)\n",
    "X_energy = foodSet[['에너지(kcal)']]\n",
    "X_energy.head()"
   ]
  },
  {
   "cell_type": "code",
   "execution_count": 83,
   "id": "e2b0bade-1a09-4276-ab36-15eff15bb2bb",
   "metadata": {},
   "outputs": [],
   "source": [
    "#!pip install scikit-learn\n",
    "#!pip install sklearn.preprocessing"
   ]
  },
  {
   "cell_type": "code",
   "execution_count": 84,
   "id": "26942e20-95e3-452e-a951-0eb5ed158a2b",
   "metadata": {},
   "outputs": [],
   "source": [
    "# feature scaling\n",
    "from sklearn.preprocessing import MinMaxScaler\n",
    "\n",
    "scaler = MinMaxScaler(feature_range = (0,1))\n",
    "X_energy = scaler.fit_transform(X_energy)"
   ]
  },
  {
   "cell_type": "markdown",
   "id": "c40fa598-6a2b-4212-bb20-be79615672c3",
   "metadata": {},
   "source": [
    "---"
   ]
  },
  {
   "cell_type": "markdown",
   "id": "ac1fc5f7-5f72-4e19-a41e-690f9ee16254",
   "metadata": {},
   "source": [
    "#### **SOM(Self-Organizing Map : 자기 조직화 지도)** <br>\n",
    "\n",
    "[Link] : https://ko.wikipedia.org/wiki/%EC%9E%90%EA%B8%B0%EC%A1%B0%EC%A7%81%ED%99%94_%EC%A7%80%EB%8F%84<br>\n",
    "[Link] : https://blog.naver.com/tutumd96/221712405650<br>\n",
    "[Link] : https://blog.naver.com/plasticcode/221514486602<br>\n",
    "[Link] : https://thebook.io/080263/0631/"
   ]
  },
  {
   "cell_type": "code",
   "execution_count": 85,
   "id": "86545972-7213-41a6-9b0a-33b0e5e1b4ec",
   "metadata": {},
   "outputs": [],
   "source": [
    "#!pip install sklearn-som"
   ]
  },
  {
   "cell_type": "code",
   "execution_count": 86,
   "id": "5a9cf058-a308-4485-ae61-9fc27ec06450",
   "metadata": {},
   "outputs": [],
   "source": [
    "# from sklearn_som.som import SOM\n",
    "\n",
    "# X_energy_som = SOM(m = 3, n = 1, dim = 1)\n",
    "# X_energy_som.fit(X_energy, epochs = 100)\n",
    "\n",
    "# predictions = X_energy_som.predict(X_energy)\n",
    "# type(predictions)\n",
    "# foodSet['cluster'] = predictions"
   ]
  },
  {
   "cell_type": "code",
   "execution_count": 87,
   "id": "e7e29297-853c-436b-a304-827485965724",
   "metadata": {},
   "outputs": [],
   "source": [
    "import seaborn as sns\n",
    "import matplotlib.pyplot as plt\n",
    "\n",
    "# from matplotlib import font_manager, rc # 폰트 세팅을 위한 모듈 추가\n",
    "# font_path = \"malgun.ttf\" # 사용할 폰트명 경로 삽입\n",
    "# font = font_manager.FontProperties(fname = font_path).get_name()\n",
    "# rc('font', family = font)\n",
    "\n",
    "# # %matplotlib inline\n",
    "# sns.pairplot(foodSet, diag_kind = 'kde', hue = 'cluster', palette = 'bright')\n",
    "# plt.show()"
   ]
  },
  {
   "cell_type": "code",
   "execution_count": 88,
   "id": "728db10e-c7fb-4697-bc73-2b42ab066828",
   "metadata": {},
   "outputs": [],
   "source": [
    "# 에너지(kcal)\n",
    "#plt.plot(X_energy[:])"
   ]
  },
  {
   "cell_type": "code",
   "execution_count": 89,
   "id": "182aa588-c1f7-43b6-897c-dd4b7912ab9a",
   "metadata": {},
   "outputs": [],
   "source": [
    "#!pip install sklearn_som"
   ]
  },
  {
   "cell_type": "code",
   "execution_count": 90,
   "id": "bfe9a140-32e6-4f7c-a25a-74b898da6aa3",
   "metadata": {},
   "outputs": [],
   "source": [
    "#from sklearn_som.som import SOM\n",
    "# 열량에 대한 군집 분포\n",
    "\n",
    "# 자기조직화지도(SOM, Self-Organizing Map)\n",
    "# : https://hyerimir.tistory.com/194\n",
    "from minisom import MiniSom\n",
    "from pylab import plot, axis, show, pcolor, colorbar, bone\n",
    "\n",
    "# 20 : SOM의 X축에 대한 자원\n",
    "# 20 : SOM의 Y축에 대한 자원\n",
    "# 1 : 입력 vector(feature) 수\n",
    "# sigma : 이웃 노드의 인접 반경\n",
    "# learning_rate : 한번 학습할 때 얼마큼 변화를 주는지에 대한 상수\n",
    "foodsSOM1 = MiniSom(20, 20, 1, sigma=1,learning_rate=0.5,topology='hexagonal',neighborhood_function='gaussian',activation_distance='euclidean', random_seed=0)\n",
    "\n",
    "#초기값설정\n",
    "foodsSOM1.random_weights_init(X_energy) # 초기화\n",
    "foodsSOM1.train(X_energy,1000,random_order=True) # 진행\n",
    "\n",
    "#bone()\n",
    "#pcolor(foodsSOM1.distance_map().T, cmap='coolwarm')\n",
    "#colorbar()"
   ]
  },
  {
   "cell_type": "code",
   "execution_count": 91,
   "id": "85c2f8d3-0116-4721-ab40-8c9ac22d7edd",
   "metadata": {},
   "outputs": [],
   "source": [
    "# 탄수화물에 대한 군집 분포\n",
    "\n",
    "X_carbo = foodSet[['탄수화물(g)']]\n",
    "\n",
    "scaler = MinMaxScaler(feature_range = (0,1))\n",
    "X_carbo = scaler.fit_transform(X_carbo)\n",
    "\n",
    "# 20 : SOM의 X축에 대한 자원\n",
    "# 20 : SOM의 Y축에 대한 자원\n",
    "# 1 : 입력 vector(feature) 수\n",
    "# sigma : 이웃 노드의 인접 반경\n",
    "# learning_rate : 한번 학습할 때 얼마큼 변화를 주는지에 대한 상수\n",
    "carboSOM = MiniSom(20, 20, 1, sigma=1,learning_rate=0.5,topology='hexagonal',neighborhood_function='gaussian',activation_distance='euclidean', random_seed=0)\n",
    "\n",
    "#초기값설정\n",
    "carboSOM.random_weights_init(X_carbo) # 초기화\n",
    "carboSOM.train(X_carbo,1000,random_order=True) # 진행\n",
    "\n",
    "#bone()\n",
    "#pcolor(carboSOM.distance_map().T, cmap='coolwarm')\n",
    "#colorbar()"
   ]
  },
  {
   "cell_type": "markdown",
   "id": "bce5454c-9e57-49cd-ac4d-daed34311a61",
   "metadata": {},
   "source": [
    "---"
   ]
  },
  {
   "cell_type": "code",
   "execution_count": 92,
   "id": "de364066-09c7-4d88-abaf-3172526a2219",
   "metadata": {},
   "outputs": [],
   "source": [
    "#  K Mean(평균) 군집화\n",
    "\n",
    "#[Link] K-평균(K-Means) 알고리즘 및 KNN(Nearest Neighbor Classifier : K-최근접 이웃)과의 차이점\n",
    "#: https://velog.io/@jhlee508/%EB%A8%B8%EC%8B%A0%EB%9F%AC%EB%8B%9D-K-%ED%8F%89%EA%B7%A0K-Means-%EC%95%8C%EA%B3%A0%EB%A6%AC%EC%A6%98"
   ]
  },
  {
   "cell_type": "code",
   "execution_count": 93,
   "id": "736ccc2e-0a3d-4eb6-8d11-2854fac5296f",
   "metadata": {},
   "outputs": [],
   "source": [
    "from sklearn.cluster import KMeans\n",
    "from sklearn.metrics import silhouette_score, silhouette_samples"
   ]
  },
  {
   "cell_type": "code",
   "execution_count": 94,
   "id": "2d97530c-f9fa-48b7-84e6-5e71dc42f206",
   "metadata": {},
   "outputs": [
    {
     "data": {
      "text/plain": [
       "array([[4.300e+01, 4.700e-01, 0.000e+00, 0.000e+00, 1.000e+01, 1.700e+01],\n",
       "       [4.500e+01, 3.000e-01, 0.000e+00, 0.000e+00, 1.070e+01, 0.000e+00],\n",
       "       [4.500e+01, 2.000e-01, 2.000e-01, 0.000e+00, 1.100e+01, 0.000e+00],\n",
       "       ...,\n",
       "       [1.970e+02, 1.543e+01, 1.153e+01, 3.680e+00, 7.920e+00, 7.780e+02],\n",
       "       [1.210e+02, 2.357e+01, 1.430e+00, 5.000e-01, 3.570e+00, 2.570e+02],\n",
       "       [2.000e+02, 2.200e+01, 1.100e+01, 3.800e+00, 4.000e+00, 3.030e+02]])"
      ]
     },
     "execution_count": 94,
     "metadata": {},
     "output_type": "execute_result"
    }
   ],
   "source": [
    "X_features = foodSet[['에너지(kcal)', '단백질(g)', '지방(g)', '포화지방산(g)', '탄수화물(g)', '나트륨(mg)']].values\n",
    "X_features"
   ]
  },
  {
   "cell_type": "code",
   "execution_count": 95,
   "id": "502af3d0-2505-464c-8694-f7e7c6e44613",
   "metadata": {},
   "outputs": [
    {
     "data": {
      "text/plain": [
       "array([[-1.25924224, -0.75439291, -0.65370556, -0.68972212, -1.12931103,\n",
       "        -0.31579481],\n",
       "       [-1.2493167 , -0.7814128 , -0.65370556, -0.68972212, -1.10388469,\n",
       "        -0.33528142],\n",
       "       [-1.2493167 , -0.79730685, -0.64321067, -0.68972212, -1.0929877 ,\n",
       "        -0.33528142],\n",
       "       ...,\n",
       "       [-0.4949759 ,  1.6233572 , -0.04867517, -0.15066392, -1.20486355,\n",
       "         0.55651722],\n",
       "       [-0.8721463 ,  2.917133  , -0.5786671 , -0.61648051, -1.36287004,\n",
       "        -0.04068984],\n",
       "       [-0.4800876 ,  2.66759639, -0.07648663, -0.13308594, -1.34725101,\n",
       "         0.01203862]])"
      ]
     },
     "execution_count": 95,
     "metadata": {},
     "output_type": "execute_result"
    }
   ],
   "source": [
    "# 정규 분포로 다시 스케일링하기\n",
    "from sklearn.preprocessing import StandardScaler\n",
    "\n",
    "X_features_scaled = StandardScaler().fit_transform(X_features)\n",
    "X_features_scaled"
   ]
  },
  {
   "cell_type": "code",
   "execution_count": 96,
   "id": "3bb2b715-980f-4db0-95b2-991be3ba03f2",
   "metadata": {},
   "outputs": [],
   "source": [
    "# 참고) 엘보 메소드(방법 : elbow method)\n",
    "#: Cluster 간의 거리의 합을 나타내는 inertia가 급격히 떨어지는<b>(꺾이는 = 엘보(elbow)) 구간</b>이 생기는데, 이 지점의 K 값을 군집의 개수로 사용<br>\n",
    "#\n",
    "# [Link] : https://steadiness-193.tistory.com/285"
   ]
  },
  {
   "cell_type": "code",
   "execution_count": 97,
   "id": "5ba3c633-0303-4eb3-b257-2eaf3c13b165",
   "metadata": {},
   "outputs": [
    {
     "data": {
      "image/png": "[encoded data removed]",
      "text/plain": [
       "<Figure size 640x480 with 1 Axes>"
      ]
     },
     "metadata": {},
     "output_type": "display_data"
    }
   ],
   "source": [
    "# 최적의 k 찾기 (1) 엘보우 방법\n",
    "import matplotlib.pyplot as plt\n",
    "from matplotlib import font_manager, rc # 폰트 세팅을 위한 모듈 추가\n",
    "\n",
    "font_path = \"malgun.ttf\" # 사용할 폰트명 경로 삽입\n",
    "font = font_manager.FontProperties(fname = font_path).get_name()\n",
    "rc('font', family = font)\n",
    "\n",
    "distortions = [] # 왜곡\n",
    "\n",
    "for i in range(2, 15):\n",
    "    kmeans_i = KMeans(n_clusters=i, random_state=0)  # 모델 생성\n",
    "    kmeans_i.fit(X_features_scaled)   # 모델 훈련\n",
    "    distortions.append(kmeans_i.inertia_)\n",
    "    \n",
    "plt.plot(range(2, 15), distortions, marker='o')\n",
    "plt.xlabel('클러스터의 수')\n",
    "plt.ylabel('왜곡(Distortion)')\n",
    "plt.show()"
   ]
  },
  {
   "cell_type": "markdown",
   "id": "b000369f-0c37-4677-af25-450dd92971b6",
   "metadata": {},
   "source": [
    "---"
   ]
  },
  {
   "cell_type": "code",
   "execution_count": 98,
   "id": "c472c11c-3d37-462c-a028-95aae895a6ee",
   "metadata": {},
   "outputs": [],
   "source": [
    "# 최종 군집화 결과맵-2 : detail\n",
    "# 최적의 k 찾기 (2) 실루엣 계수에 따른 각 클러스터의 비중 시각화 함수 정의\n",
    "\n",
    "from matplotlib import cm\n",
    "\n",
    "def silhouetteViz(n_cluster, X_features): \n",
    "    \n",
    "    kmeans = KMeans(n_clusters=n_cluster, random_state=0)\n",
    "    Y_labels = kmeans.fit_predict(X_features)\n",
    "    \n",
    "    silhouette_values = silhouette_samples(X_features, Y_labels, metric='euclidean')\n",
    "\n",
    "    y_ax_lower, y_ax_upper = 0, 0\n",
    "    y_ticks = []\n",
    "\n",
    "    for c in range(n_cluster):\n",
    "        c_silhouettes = silhouette_values[Y_labels == c]\n",
    "        c_silhouettes.sort()\n",
    "        y_ax_upper += len(c_silhouettes)\n",
    "        color = cm.jet(float(c) / n_cluster)\n",
    "        plt.barh(range(y_ax_lower, y_ax_upper), c_silhouettes,\n",
    "                 height=1.0, edgecolor='none', color=color)\n",
    "        y_ticks.append((y_ax_lower + y_ax_upper) / 2.)\n",
    "        y_ax_lower += len(c_silhouettes)\n",
    "    \n",
    "    silhouette_avg = np.mean(silhouette_values)\n",
    "    plt.axvline(silhouette_avg, color='red', linestyle='--')\n",
    "    plt.title('Number of Cluster : '+ str(n_cluster)+'\\n' \\\n",
    "              + 'Silhouette Score : '+ str(round(silhouette_avg,3)))\n",
    "    plt.yticks(y_ticks, range(n_cluster))   \n",
    "    plt.xticks([0, 0.2, 0.4, 0.6, 0.8, 1])\n",
    "    plt.ylabel('Cluster')\n",
    "    plt.xlabel('Silhouette coefficient')\n",
    "    plt.tight_layout()\n",
    "    plt.show()"
   ]
  },
  {
   "cell_type": "code",
   "execution_count": 99,
   "id": "af2772b9-cdfd-4693-a924-98429e5d4127",
   "metadata": {},
   "outputs": [],
   "source": [
    "# 클러스터 수에 따른 클러스터 데이터 분포의 시각화 함수 정의\n",
    "def clusterScatter(n_cluster, X_features): \n",
    "    c_colors = []\n",
    "    kmeans = KMeans(n_clusters=n_cluster, random_state=0)\n",
    "    Y_labels = kmeans.fit_predict(X_features)\n",
    "\n",
    "    for i in range(n_cluster):\n",
    "        c_color = cm.jet(float(i) / n_cluster) #클러스터의 색상 설정\n",
    "        c_colors.append(c_color)\n",
    "        #클러스터의 데이터 분포를 동그라미로 시각화\n",
    "        plt.scatter(X_features[Y_labels == i,0], X_features[Y_labels == i,1],\n",
    "                     marker='o', color=c_color, edgecolor='black', s=50, \n",
    "                     label='cluster '+ str(i))       \n",
    "    \n",
    "    #각 클러스터의 중심점을 삼각형으로 표시\n",
    "    for i in range(n_cluster):\n",
    "        plt.scatter(kmeans.cluster_centers_[i,0], kmeans.cluster_centers_[i,1], \n",
    "                    marker='^', color=c_colors[i], edgecolor='w', s=200)\n",
    "        \n",
    "    plt.legend()\n",
    "    plt.grid()\n",
    "    plt.tight_layout()\n",
    "    plt.show()"
   ]
  },
  {
   "cell_type": "code",
   "execution_count": 100,
   "id": "21656217-4c91-4595-b2c2-82d6d1c46756",
   "metadata": {},
   "outputs": [],
   "source": [
    "#silhouetteViz(3, X_features_scaled) #클러스터 3개인 경우의 실루엣 score 및 각 클러스터 비중 시각화  ex) 0.383"
   ]
  },
  {
   "cell_type": "code",
   "execution_count": 101,
   "id": "d2652085-4d9b-40c7-a5ce-76b9e3dae642",
   "metadata": {},
   "outputs": [],
   "source": [
    "#silhouetteViz(4, X_features_scaled) #클러스터 4개인 경우의 실루엣 score 및 각 클러스터 비중 시각화  ex) 0.405"
   ]
  },
  {
   "cell_type": "code",
   "execution_count": 102,
   "id": "8e6514af-17b5-4f80-9edb-287b175b8104",
   "metadata": {},
   "outputs": [],
   "source": [
    "#silhouetteViz(5, X_features_scaled) #클러스터 5개인 경우의 실루엣 score 및 각 클러스터 비중 시각화  ex) 0.431"
   ]
  },
  {
   "cell_type": "code",
   "execution_count": 103,
   "id": "d4073ac4-d1aa-4853-b4a9-dea9d4a8d06b",
   "metadata": {},
   "outputs": [],
   "source": [
    "#silhouetteViz(6, X_features_scaled) #클러스터 6개인 경우의 실루엣 score 및 각 클러스터 비중 시각화  ex) 0.45"
   ]
  },
  {
   "cell_type": "code",
   "execution_count": 104,
   "id": "6d2c266c-c66c-4fe1-9c96-6a89e9b4a8b2",
   "metadata": {},
   "outputs": [
    {
     "data": {
      "image/png": "[encoded data removed]",
      "text/plain": [
       "<Figure size 640x480 with 1 Axes>"
      ]
     },
     "metadata": {},
     "output_type": "display_data"
    }
   ],
   "source": [
    "silhouetteViz(7, X_features_scaled) #클러스터 7개인 경우의 실루엣 score 및 각 클러스터 비중 시각화  ex) 0.454"
   ]
  },
  {
   "cell_type": "code",
   "execution_count": 105,
   "id": "3b15dffb-5a9f-42dc-8b85-e9a50a26df96",
   "metadata": {},
   "outputs": [],
   "source": [
    "#clusterScatter(3, X_features_scaled) #클러스터 3개인 경우의 클러스터 데이터 분포 시각화"
   ]
  },
  {
   "cell_type": "code",
   "execution_count": 106,
   "id": "70f9f62a-fb92-48a7-aaba-f240a2af7ff2",
   "metadata": {},
   "outputs": [],
   "source": [
    "#clusterScatter(4, X_features_scaled)  #클러스터 4개인 경우의 클러스터 데이터 분포 시각화"
   ]
  },
  {
   "cell_type": "code",
   "execution_count": 107,
   "id": "2dc4d46e-82dd-4973-bb78-2d79e5658d59",
   "metadata": {},
   "outputs": [],
   "source": [
    "#clusterScatter(5, X_features_scaled)  #클러스터 5개인 경우의 클러스터 데이터 분포 시각화"
   ]
  },
  {
   "cell_type": "code",
   "execution_count": 108,
   "id": "537e2415-ee18-4984-a4d9-ad1d928b36d1",
   "metadata": {},
   "outputs": [],
   "source": [
    "#clusterScatter(6, X_features_scaled)  #클러스터 6개인 경우의 클러스터 데이터 분포 시각화"
   ]
  },
  {
   "cell_type": "code",
   "execution_count": 109,
   "id": "33193bd6-0628-45f5-a07c-165fb64de639",
   "metadata": {},
   "outputs": [
    {
     "data": {
      "image/png": "[encoded data removed]",
      "text/plain": [
       "<Figure size 640x480 with 1 Axes>"
      ]
     },
     "metadata": {},
     "output_type": "display_data"
    }
   ],
   "source": [
    "clusterScatter(7, X_features_scaled)  #클러스터 7개인 경우의 클러스터 데이터 분포 시각화"
   ]
  },
  {
   "cell_type": "markdown",
   "id": "130addc1-390f-4e95-a75f-9c40858f53a3",
   "metadata": {},
   "source": [
    "#### 논문과 달리 최적의 K 값은 **7**로 판정됨  ex) 0.454"
   ]
  },
  {
   "cell_type": "markdown",
   "id": "7e136cc3-3398-4072-9eb8-3c2e1d56b4b1",
   "metadata": {},
   "source": [
    "---"
   ]
  },
  {
   "cell_type": "code",
   "execution_count": 110,
   "id": "2249a115-2e8a-4c3f-adaf-2f3406a83c60",
   "metadata": {},
   "outputs": [
    {
     "data": {
      "text/html": [
       "<div>\n",
       "<style scoped>\n",
       "    .dataframe tbody tr th:only-of-type {\n",
       "        vertical-align: middle;\n",
       "    }\n",
       "\n",
       "    .dataframe tbody tr th {\n",
       "        vertical-align: top;\n",
       "    }\n",
       "\n",
       "    .dataframe thead th {\n",
       "        text-align: right;\n",
       "    }\n",
       "</style>\n",
       "<table border=\"1\" class=\"dataframe\">\n",
       "  <thead>\n",
       "    <tr style=\"text-align: right;\">\n",
       "      <th></th>\n",
       "      <th>식품코드</th>\n",
       "      <th>식품명</th>\n",
       "      <th>에너지(kcal)</th>\n",
       "      <th>탄수화물(g)</th>\n",
       "      <th>단백질(g)</th>\n",
       "      <th>지방(g)</th>\n",
       "      <th>포화지방산(g)</th>\n",
       "      <th>나트륨(mg)</th>\n",
       "      <th>clusterLabel</th>\n",
       "    </tr>\n",
       "  </thead>\n",
       "  <tbody>\n",
       "    <tr>\n",
       "      <th>0</th>\n",
       "      <td>P109-302030200-2176</td>\n",
       "      <td>과·채주스_프룻밀토마토</td>\n",
       "      <td>43</td>\n",
       "      <td>10.0</td>\n",
       "      <td>0.47</td>\n",
       "      <td>0.00</td>\n",
       "      <td>0.00</td>\n",
       "      <td>17.0</td>\n",
       "      <td>1</td>\n",
       "    </tr>\n",
       "    <tr>\n",
       "      <th>1</th>\n",
       "      <td>P109-302030200-2177</td>\n",
       "      <td>과·채주스_프리마5후르츠칵테일주스</td>\n",
       "      <td>45</td>\n",
       "      <td>10.7</td>\n",
       "      <td>0.30</td>\n",
       "      <td>0.00</td>\n",
       "      <td>0.00</td>\n",
       "      <td>0.0</td>\n",
       "      <td>1</td>\n",
       "    </tr>\n",
       "    <tr>\n",
       "      <th>2</th>\n",
       "      <td>P109-302030200-2178</td>\n",
       "      <td>과·채주스_프리마셀렉션사과주스</td>\n",
       "      <td>45</td>\n",
       "      <td>11.0</td>\n",
       "      <td>0.20</td>\n",
       "      <td>0.20</td>\n",
       "      <td>0.00</td>\n",
       "      <td>0.0</td>\n",
       "      <td>1</td>\n",
       "    </tr>\n",
       "    <tr>\n",
       "      <th>3</th>\n",
       "      <td>P109-302030200-2179</td>\n",
       "      <td>과·채주스_프리마셀렉션파인애플주스</td>\n",
       "      <td>54</td>\n",
       "      <td>12.5</td>\n",
       "      <td>0.50</td>\n",
       "      <td>0.20</td>\n",
       "      <td>0.00</td>\n",
       "      <td>0.0</td>\n",
       "      <td>1</td>\n",
       "    </tr>\n",
       "    <tr>\n",
       "      <th>4</th>\n",
       "      <td>P109-302030200-2180</td>\n",
       "      <td>과·채주스_프리미엄 애플망고주스</td>\n",
       "      <td>38</td>\n",
       "      <td>8.0</td>\n",
       "      <td>0.19</td>\n",
       "      <td>0.56</td>\n",
       "      <td>0.03</td>\n",
       "      <td>1.0</td>\n",
       "      <td>1</td>\n",
       "    </tr>\n",
       "  </tbody>\n",
       "</table>\n",
       "</div>"
      ],
      "text/plain": [
       "                  식품코드                 식품명  에너지(kcal)  탄수화물(g)  단백질(g)  지방(g)  \\\n",
       "0  P109-302030200-2176        과·채주스_프룻밀토마토         43     10.0    0.47   0.00   \n",
       "1  P109-302030200-2177  과·채주스_프리마5후르츠칵테일주스         45     10.7    0.30   0.00   \n",
       "2  P109-302030200-2178    과·채주스_프리마셀렉션사과주스         45     11.0    0.20   0.20   \n",
       "3  P109-302030200-2179  과·채주스_프리마셀렉션파인애플주스         54     12.5    0.50   0.20   \n",
       "4  P109-302030200-2180   과·채주스_프리미엄 애플망고주스         38      8.0    0.19   0.56   \n",
       "\n",
       "   포화지방산(g)  나트륨(mg)  clusterLabel  \n",
       "0      0.00     17.0             1  \n",
       "1      0.00      0.0             1  \n",
       "2      0.00      0.0             1  \n",
       "3      0.00      0.0             1  \n",
       "4      0.03      1.0             1  "
      ]
     },
     "execution_count": 110,
     "metadata": {},
     "output_type": "execute_result"
    }
   ],
   "source": [
    "best_cluster = 7\n",
    "\n",
    "# 최적화 클러스터의 개수를  7에 맞추어 K-Mean 군집화 모델을 다시 생성\n",
    "kmeans = KMeans(n_clusters=best_cluster, random_state=0) \n",
    "# 모델 학습과 결과 예측(클러스터 레이블생성)\n",
    "Y_labels = kmeans.fit_predict(X_features_scaled)\n",
    "\n",
    "foodSet['clusterLabel'] = Y_labels\n",
    "foodSet.head()"
   ]
  },
  {
   "cell_type": "code",
   "execution_count": 111,
   "id": "2c37011a-a6b9-4b8b-b3e8-7173bd84368e",
   "metadata": {},
   "outputs": [],
   "source": [
    "foodSet.to_csv('./Final_Cluster_Result.csv')"
   ]
  },
  {
   "cell_type": "code",
   "execution_count": 112,
   "id": "fa5c1037-6aa0-45ba-9f38-0cb94199e28a",
   "metadata": {},
   "outputs": [
    {
     "data": {
      "text/html": [
       "<div>\n",
       "<style scoped>\n",
       "    .dataframe tbody tr th:only-of-type {\n",
       "        vertical-align: middle;\n",
       "    }\n",
       "\n",
       "    .dataframe tbody tr th {\n",
       "        vertical-align: top;\n",
       "    }\n",
       "\n",
       "    .dataframe thead th {\n",
       "        text-align: right;\n",
       "    }\n",
       "</style>\n",
       "<table border=\"1\" class=\"dataframe\">\n",
       "  <thead>\n",
       "    <tr style=\"text-align: right;\">\n",
       "      <th></th>\n",
       "      <th>식품코드</th>\n",
       "      <th>식품명</th>\n",
       "      <th>데이터구분코드</th>\n",
       "      <th>데이터구분명</th>\n",
       "      <th>식품기원코드</th>\n",
       "      <th>식품기원명</th>\n",
       "      <th>식품대분류코드</th>\n",
       "      <th>식품대분류명</th>\n",
       "      <th>대표식품코드</th>\n",
       "      <th>대표식품명</th>\n",
       "      <th>...</th>\n",
       "      <th>유통업체명</th>\n",
       "      <th>수입여부</th>\n",
       "      <th>원산지국코드</th>\n",
       "      <th>원산지국명</th>\n",
       "      <th>데이터생성방법코드</th>\n",
       "      <th>데이터생성방법명</th>\n",
       "      <th>데이터생성일자</th>\n",
       "      <th>데이터기준일자</th>\n",
       "      <th>제공기관코드</th>\n",
       "      <th>제공기관명</th>\n",
       "    </tr>\n",
       "  </thead>\n",
       "  <tbody>\n",
       "    <tr>\n",
       "      <th>14113</th>\n",
       "      <td>P106-001000300-0011</td>\n",
       "      <td>두부_두부적 네모 떡갈비</td>\n",
       "      <td>P</td>\n",
       "      <td>가공식품</td>\n",
       "      <td>1</td>\n",
       "      <td>가공식품</td>\n",
       "      <td>6</td>\n",
       "      <td>두부류 또는 묵류</td>\n",
       "      <td>6001</td>\n",
       "      <td>두부</td>\n",
       "      <td>...</td>\n",
       "      <td>㈜푸드머스</td>\n",
       "      <td>N</td>\n",
       "      <td>36.0</td>\n",
       "      <td>해당없음</td>\n",
       "      <td>2</td>\n",
       "      <td>수집</td>\n",
       "      <td>2022-12-29</td>\n",
       "      <td>2024-02-23</td>\n",
       "      <td>1471000</td>\n",
       "      <td>식품의약품안전처</td>\n",
       "    </tr>\n",
       "    <tr>\n",
       "      <th>14280</th>\n",
       "      <td>P101-405000400-1765</td>\n",
       "      <td>빵_전주떡갈비빵</td>\n",
       "      <td>P</td>\n",
       "      <td>가공식품</td>\n",
       "      <td>1</td>\n",
       "      <td>가공식품</td>\n",
       "      <td>1</td>\n",
       "      <td>과자류·빵류 또는 떡류</td>\n",
       "      <td>1405</td>\n",
       "      <td>빵</td>\n",
       "      <td>...</td>\n",
       "      <td>해당없음</td>\n",
       "      <td>N</td>\n",
       "      <td>36.0</td>\n",
       "      <td>해당없음</td>\n",
       "      <td>2</td>\n",
       "      <td>수집</td>\n",
       "      <td>2021-06-30</td>\n",
       "      <td>2024-02-23</td>\n",
       "      <td>1471000</td>\n",
       "      <td>식품의약품안전처</td>\n",
       "    </tr>\n",
       "    <tr>\n",
       "      <th>17305</th>\n",
       "      <td>P101-415000400-0399</td>\n",
       "      <td>피자_한입피자불고기&amp;떡갈비</td>\n",
       "      <td>P</td>\n",
       "      <td>가공식품</td>\n",
       "      <td>1</td>\n",
       "      <td>가공식품</td>\n",
       "      <td>1</td>\n",
       "      <td>과자류·빵류 또는 떡류</td>\n",
       "      <td>1415</td>\n",
       "      <td>피자</td>\n",
       "      <td>...</td>\n",
       "      <td>해당없음</td>\n",
       "      <td>N</td>\n",
       "      <td>36.0</td>\n",
       "      <td>해당없음</td>\n",
       "      <td>2</td>\n",
       "      <td>수집</td>\n",
       "      <td>2021-06-30</td>\n",
       "      <td>2024-02-23</td>\n",
       "      <td>1471000</td>\n",
       "      <td>식품의약품안전처</td>\n",
       "    </tr>\n",
       "  </tbody>\n",
       "</table>\n",
       "<p>3 rows × 57 columns</p>\n",
       "</div>"
      ],
      "text/plain": [
       "                      식품코드             식품명 데이터구분코드 데이터구분명  식품기원코드 식품기원명  \\\n",
       "14113  P106-001000300-0011   두부_두부적 네모 떡갈비       P   가공식품       1  가공식품   \n",
       "14280  P101-405000400-1765        빵_전주떡갈비빵       P   가공식품       1  가공식품   \n",
       "17305  P101-415000400-0399  피자_한입피자불고기&떡갈비       P   가공식품       1  가공식품   \n",
       "\n",
       "       식품대분류코드        식품대분류명  대표식품코드 대표식품명  ...  유통업체명 수입여부  원산지국코드 원산지국명  \\\n",
       "14113        6     두부류 또는 묵류    6001    두부  ...  ㈜푸드머스    N    36.0  해당없음   \n",
       "14280        1  과자류·빵류 또는 떡류    1405     빵  ...   해당없음    N    36.0  해당없음   \n",
       "17305        1  과자류·빵류 또는 떡류    1415    피자  ...   해당없음    N    36.0  해당없음   \n",
       "\n",
       "       데이터생성방법코드 데이터생성방법명     데이터생성일자     데이터기준일자   제공기관코드     제공기관명  \n",
       "14113          2       수집  2022-12-29  2024-02-23  1471000  식품의약품안전처  \n",
       "14280          2       수집  2021-06-30  2024-02-23  1471000  식품의약품안전처  \n",
       "17305          2       수집  2021-06-30  2024-02-23  1471000  식품의약품안전처  \n",
       "\n",
       "[3 rows x 57 columns]"
      ]
     },
     "execution_count": 112,
     "metadata": {},
     "output_type": "execute_result"
    }
   ],
   "source": [
    "# ex) '떡갈비' 영양소 벡터\n",
    "pd.set_option('display.max_seq_items', None) # 생략없이 전부 출력\n",
    "\n",
    "ex_product = foods.loc[foods['식품명'].str.contains('떡갈비')]\n",
    "ex_product.head(3)"
   ]
  },
  {
   "cell_type": "code",
   "execution_count": 113,
   "id": "3e399bd3-49a5-4123-afb2-60a5be9fb1b2",
   "metadata": {},
   "outputs": [
    {
     "data": {
      "text/plain": [
       "array([-0.45527375,  1.07819123, -0.18143553, -0.26492082, -0.80240105,\n",
       "        0.58173517])"
      ]
     },
     "execution_count": 113,
     "metadata": {},
     "output_type": "execute_result"
    }
   ],
   "source": [
    "X_features_scaled[48951]"
   ]
  },
  {
   "cell_type": "code",
   "execution_count": 114,
   "id": "0fcc7266-91f1-4f9a-94b4-bea6451c5e3d",
   "metadata": {},
   "outputs": [
    {
     "data": {
      "text/plain": [
       "<matplotlib.colorbar.Colorbar at 0x1db208908f0>"
      ]
     },
     "execution_count": 114,
     "metadata": {},
     "output_type": "execute_result"
    },
    {
     "data": {
      "image/png": "[encoded data removed]",
      "text/plain": [
       "<Figure size 640x480 with 2 Axes>"
      ]
     },
     "metadata": {},
     "output_type": "display_data"
    }
   ],
   "source": [
    "# 최종 결과에 따른 군집 분포\n",
    "\n",
    "# 20 : SOM의 X축에 대한 자원\n",
    "# 20 : SOM의 Y축에 대한 자원\n",
    "# 6 : 입력 vector(feature) 수\n",
    "# sigma : 이웃 노드의 인접 반경\n",
    "# learning_rate : 한번 학습할 때 얼마큼 변화를 주는지에 대한 상수\n",
    "finalFoodsSOM = MiniSom(20, 20, 6, sigma=1,learning_rate=0.5,topology='hexagonal',neighborhood_function='gaussian',activation_distance='euclidean', random_seed=0)\n",
    "\n",
    "#초기값설정\n",
    "finalFoodsSOM.random_weights_init(X_features_scaled) # 초기화\n",
    "finalFoodsSOM.train(X_features_scaled,1000,random_order=True) # 진행\n",
    "\n",
    "bone()\n",
    "pcolor(finalFoodsSOM.distance_map().T, cmap='coolwarm')\n",
    "colorbar()"
   ]
  },
  {
   "cell_type": "markdown",
   "id": "e2098894-d085-4abd-88dc-d3949c7ec5bb",
   "metadata": {},
   "source": [
    "---"
   ]
  },
  {
   "cell_type": "code",
   "execution_count": 115,
   "id": "601872da-1905-4288-9f93-bce65d237cba",
   "metadata": {},
   "outputs": [
    {
     "data": {
      "text/plain": [
       "clusterLabel\n",
       "0    18499\n",
       "1    16908\n",
       "2    10743\n",
       "3     1237\n",
       "4       28\n",
       "5     1599\n",
       "6      986\n",
       "Name: 식품명, dtype: int64"
      ]
     },
     "execution_count": 115,
     "metadata": {},
     "output_type": "execute_result"
    }
   ],
   "source": [
    "# 추가 분석 : 각 클러스터 파악\n",
    "# 'clusterLabel' 기준으로 그룹을 만듦 => 7개의 클러스터(군집)으로 구성됨\n",
    "foodSet.groupby('clusterLabel')['식품명'].count()"
   ]
  },
  {
   "cell_type": "code",
   "execution_count": 116,
   "id": "05796210-fd61-40e6-bf5d-43a51298bb8b",
   "metadata": {},
   "outputs": [
    {
     "data": {
      "text/plain": [
       "식품코드            P109-302030200-2068\n",
       "식품명             과·채주스_파스퇴르발렌시아오렌지주스\n",
       "에너지(kcal)                        43\n",
       "탄수화물(g)                        10.0\n",
       "단백질(g)                          0.4\n",
       "지방(g)                           0.1\n",
       "포화지방산(g)                       0.05\n",
       "나트륨(mg)                        10.0\n",
       "clusterLabel                      1\n",
       "Name: 130, dtype: object"
      ]
     },
     "execution_count": 116,
     "metadata": {},
     "output_type": "execute_result"
    }
   ],
   "source": [
    "from sklearn.metrics.pairwise import cosine_similarity \n",
    "# 주의) 사이킷런의 유사도 인자는 2차원 배열로 코사인 인자를 받으므로 변환이 필요함\n",
    "\n",
    "inputFood = foodSet.loc[foodSet['식품명'].str.contains('오렌지주스')].iloc[0] # clusterLabel = 1\n",
    "inputFood "
   ]
  },
  {
   "cell_type": "code",
   "execution_count": 117,
   "id": "4ed29c1a-fba2-4a13-b62c-c0c551eb6190",
   "metadata": {},
   "outputs": [
    {
     "data": {
      "text/plain": [
       "Index(['식품코드', '식품명', '에너지(kcal)', '탄수화물(g)', '단백질(g)', '지방(g)', '포화지방산(g)',\n",
       "       '나트륨(mg)', 'clusterLabel'],\n",
       "      dtype='object')"
      ]
     },
     "execution_count": 117,
     "metadata": {},
     "output_type": "execute_result"
    }
   ],
   "source": [
    "inputFood.index"
   ]
  },
  {
   "cell_type": "code",
   "execution_count": 118,
   "id": "c147b5a9-669c-475c-b4c5-9011dcb60415",
   "metadata": {},
   "outputs": [
    {
     "data": {
      "text/plain": [
       "130"
      ]
     },
     "execution_count": 118,
     "metadata": {},
     "output_type": "execute_result"
    }
   ],
   "source": [
    "# \"clusterLabel = 1\"인 군집 내에서 유사도 분석\n",
    "foodIdx = foodSet[foodSet['clusterLabel'] == 1].index\n",
    "#foodName = foodSet[foodSet['clusterLabel'] == 1]['식품명']\n",
    "#foodName\n",
    "\n",
    "# \"과·채주스_파스퇴르발렌시아오렌지주스\" 제품의 index\n",
    "foodSet[foodSet['식품명'] == '과·채주스_파스퇴르발렌시아오렌지주스'].index[0] # index = 130"
   ]
  },
  {
   "cell_type": "code",
   "execution_count": 119,
   "id": "d04b8c79-3246-423c-926d-23ca94edea2c",
   "metadata": {},
   "outputs": [
    {
     "data": {
      "text/plain": [
       "130"
      ]
     },
     "execution_count": 119,
     "metadata": {},
     "output_type": "execute_result"
    }
   ],
   "source": [
    "# 특정 index의 상품 정보\n",
    "foodSet.iloc[130]\n",
    "targetIdx = foodSet[foodSet['식품명'] == '과·채주스_파스퇴르발렌시아오렌지주스'].index[0]\n",
    "targetIdx"
   ]
  },
  {
   "cell_type": "code",
   "execution_count": 120,
   "id": "eef57bb9-8e3c-4298-9aa6-e0b16366e12e",
   "metadata": {},
   "outputs": [],
   "source": [
    "#foodIdx"
   ]
  },
  {
   "cell_type": "markdown",
   "id": "78bb7aba-2448-4f72-ac3b-435aacd24c32",
   "metadata": {},
   "source": [
    "---"
   ]
  },
  {
   "cell_type": "code",
   "execution_count": 121,
   "id": "9d6eb69d-0dd6-4f52-9280-d3e0da8e6689",
   "metadata": {},
   "outputs": [
    {
     "name": "stdout",
     "output_type": "stream",
     "text": [
      "최저 유사도(가장 관계가 적은 식품) :  -0.012988934902584414\n",
      "최근접 유사도 후보군(0.99 이상) :  [0.9999698065891706, 0.9998699697752687, 0.9997139912590011, 0.9994453017731391, 0.99957645091154, 0.9990360978625324, 0.9992731276240125, 0.9991650687144807, 0.9927487577109, 0.9991005162635818, 0.9947750654784574, 0.9975523973015792, 0.9975523973015792, 0.9961986520641251, 0.9990735160997611, 0.9910311755861411, 0.9932092567894917, 0.9947750654784574, 0.9983418868940459, 0.9997097616810359, 0.9993649648634576, 0.9993087031018656, 0.9987566290755656, 0.9997548216281963, 0.9972516773903479, 0.9995448670708167, 0.9999595244897651, 0.9989506819116898, 0.9983347048442922, 0.9988757349720919, 0.9997070740077392, 0.9985262793947011, 0.9942098020156473, 0.9986261316685142, 0.998906656453209, 0.9997088560481002, 0.9996895925732555, 0.998968138128221, 0.99955805602089, 0.9986454208839545, 0.9985371054502037, 0.9998310560793119, 0.9993065833918897, 0.9975028304030291, 0.997071524239446, 0.9999488981207761, 0.9964398689069928, 0.9982051521350906, 0.997350926813823, 0.9947750654784574, 0.9947750654784574, 0.997616811798641, 0.9983545256331826, 0.9970311543233106, 0.995894005673174, 0.9983885002670372, 0.9954904841327678, 0.9987416229810403, 0.999432456890057, 0.9994368221596815, 0.9990329435208092, 0.9984387136510756, 0.9973124082837087, 0.997516026187921, 0.9972788828465998, 0.999875781312815, 0.9990945095317505, 0.9946339805476125, 0.9970615535326949, 0.9988663192911732, 0.9947750654784574, 0.997350926813823, 0.997350926813823, 0.9947750654784574, 0.9947750654784574, 0.9989661751001121, 0.9965305376992342, 0.9975539130631709, 0.9988663192911732, 0.9947750654784574, 0.997350926813823, 0.9994379921669582, 0.9989157117980184, 0.9999089168901226, 0.9981241804101406, 0.9989358786371781, 0.9974754699434837, 0.9955527446532715, 0.9982257220004066, 0.9982476973543978, 0.9972937724480497, 0.9973474587664323, 0.9968706537699257, 0.9982257220004066, 0.9987098335452285, 0.9997107770134451, 0.9997789188348163, 0.999530971738139, 0.9969039523730547, 0.9990706440704221, 0.9989018647188568, 0.9999226096373012, 0.9999517087569104, 0.9990386802423042, 0.9970998096001646, 0.9993001639756368, 0.9983279091044285, 0.9995880396351583, 0.9987800061533898, 0.9998809834649245, 0.9997027437206124, 0.9995003744337967, 0.9999442398983361, 0.9999442398983361, 0.9984703608542881, 0.9990653333541362, 0.9984703608542881, 0.9995799547478552, 0.9993828625425504, 0.9995681046514954, 0.999564575359435, 0.9991452567719715, 0.9940417770279782, 0.999763583580401, 0.9995760389544224, 0.999432887127003, 0.9997135698585532, 0.9972165248047362, 0.9995795952492222, 0.997039160602434, 0.997087705233365, 0.9998079838436869, 0.9993636177816786, 0.9988176790844013, 0.9996757791375571, 0.999769834880959, 0.9995937482973197, 0.9990293837783816, 0.9995937482973197, 0.9996284301185643, 0.9995059631465404, 0.999625719650323, 0.9998850659753995, 0.997316820231261, 0.9971611887584263, 0.9995829987088316, 0.998528098406588, 0.9999305359501373, 0.9988558329968792, 0.9993748948144164, 0.998528098406588, 0.9999305359501373, 0.9991920486584538, 0.9994379921669582, 0.9998222187083602, 0.9996684285303891, 0.9981540562013302, 0.9991714467294596, 0.9982761170338714, 0.9980357358626123, 0.9995402901540311, 0.9998196545486899, 0.9989346143559473, 0.9972083158995941, 0.9997244793227759, 0.9999530016172655, 0.9951774838359881, 0.9967680554356149, 0.9928865327104807, 0.9951893032030261, 0.9997108739411791, 0.9993649648634576, 0.9931071104112569, 0.9989650728801214, 0.998756327595826, 0.9982257220004066, 0.9970503312585984, 0.9996002373824715, 0.9966658066302059, 0.9978826588718589, 0.9995760659874514, 0.9964172807845645, 0.9919486378510282, 0.9988248264605838, 0.9950816376503578, 0.9982756563941947, 0.9992269544620755, 0.9991743770106039, 0.9975826521085939, 0.9995394100262899, 0.9993948978841065, 0.9988922105965591, 0.9955962905259843, 0.9968511735153173, 0.9973295364153774, 0.9958601807149647, 0.9995146939452028, 0.999397271921774, 0.9984333733412362, 0.9943289351537149, 0.9988253521229382, 0.999397271921774, 0.9981783832612589, 0.9986603816957844, 0.9985650558308335, 0.9997436016028056, 0.9973304149355668, 0.9968879736480921, 0.9987968495587096, 0.9985402185335166, 0.9982621105403421, 0.998607783209248, 0.9991092765314883, 0.9982258080695033, 0.9990668310523447, 0.9993621200907263, 0.9999924840054015, 0.9991303543315289, 0.9988663192911732, 0.9992644107954726, 0.9988424854754558, 0.9993095387638204, 0.9966183675409691, 0.9998764209570316, 0.999888272073356, 0.9997014367805286, 0.9995511192005893, 0.999378272580063, 0.999575596038691, 0.9995511192005893, 0.9995690730936266, 0.999575596038691, 0.999575596038691, 0.9996852289684646, 0.9998775324128081, 0.9998401811572705, 0.9971227557791077, 0.9988650336083699, 0.9988650336083699, 0.9975028304030291, 0.9967376525349906, 0.9983007489744508, 0.9993170463649536, 0.9996942896120884, 0.9997785082781081, 0.9983748889968863, 0.9958481401320416, 0.9938918937841205, 0.9992137358595021, 0.9999593721850466, 0.9982257220004066, 0.9999794413424531, 0.9999495674936995, 0.999855542324275, 0.9997196443807329, 0.9993782735071733, 0.9985982640924501, 0.9987195915173306, 0.9996440009470413, 0.9998225703535564, 0.9997003280689165, 0.9918228810302089, 0.9989295107558409, 0.9991013863423348, 0.9993055990923416, 0.9978638453422306, 0.9985540550808037, 0.9985540550808037, 0.9922890044361792, 0.9994370308406297, 0.9988433937595668, 0.9996044438850241, 0.9988891427625514, 0.9990304637674698, 0.9906674783669993, 0.9972083158995941, 0.9990027725870415, 0.9972668162043697, 0.999624403332815, 0.9995702940098941, 0.9988831463672001, 0.9972001898823565, 0.998498924969443, 0.9948111843177466, 0.9971860841806103, 0.9976889308812522, 0.9987625373365755, 0.9993748948144164, 0.9966286754812217, 0.9999374204542186, 0.9996543986457418, 0.9996680429254257, 0.9997422383205955, 0.9997040705900201, 0.9991998802877755, 0.9932517075617829, 0.9971365858602114, 0.9986242326335545, 0.9993761226352197, 0.9999897171507101, 0.9991720797827168, 0.9948448343327917, 0.9988657581182282, 0.9987795040844921, 0.999883390081118, 0.9988455762015043, 0.9991910175566673, 0.9995530761239048, 0.9993615048225554, 0.9996778309233316, 0.9992366241741703, 0.9992728271491517, 0.9973762135655029, 0.9975523973015792, 0.9952061101964083, 0.9983277836064428, 0.9978176751759321, 0.9977772361608923, 0.9982722393299367, 0.996701625552504, 0.9999721317851569, 0.9978226747404485, 0.9983175862624023, 0.9982820219294343, 0.9961986520641251, 0.999170490431022, 0.9992965098324308, 0.9991874908560239, 0.9992489777406411, 0.9988896912973455, 0.9993748948144164, 0.9993774053664436, 0.9986204319337731, 0.9993847283192423, 0.9997288713040804, 0.9995641581619273, 0.9988663192911732, 0.999151668723852, 0.9948977513454981, 0.9903638917587911, 0.9998573081887951, 0.9980442968046598, 0.9981997668647191, 0.9935527707136717, 0.9945628017131729, 0.9958845473091827, 0.9997568868967909, 0.9976267764655258, 0.9996684285303891, 0.9994397927332701, 0.9993768561445227, 0.994742399363192, 0.9993776401955261, 0.994742399363192, 0.9991364473351955, 0.9961407971971205, 0.9937872863792209, 0.9977254359410547, 0.9998013171988483, 0.9996915486655963, 0.9992097433323124, 0.9997339102563374, 0.999792079741903, 0.999792079741903, 0.997981284313179, 0.9987496754892203, 0.9996448856824605, 0.9999070531181928, 0.9992308513063314, 0.9998545209200361, 0.9961342530339578, 0.9976515001658928, 0.9993509780254306, 0.9986524992875971, 0.9982542379128914, 0.9992077323826218, 0.9988322724048809, 0.998432542855637, 0.9958118133537247, 0.9998344721245175, 0.9996151345276894, 0.9995648173131438, 0.9997605786814024, 0.9996419454789318, 0.9970524454871802, 0.9941830374573223, 0.9983543399798505, 0.9992371542380928, 0.9975580902292432, 0.9994627414330859, 0.9997167277016544, 0.9969635838875837, 0.9983055071494327, 0.9997391097090773, 0.9999301050407762, 0.9994882247490304, 0.996335757526517, 0.9995718181080211, 0.9996852289684646, 0.9996717224542845, 0.9997907191852445, 0.9995492245445965, 0.9991785361251168, 0.9990326785062921, 0.999564575359435, 0.9999293381131518, 0.9992219958230746, 0.9999497306571451, 0.9996076324208552, 0.994476194523156, 0.9988947709511568, 0.9957873462713904, 0.9999195008664283, 0.999373146580302, 0.9992433722206809, 0.9993649648634576, 0.9988881232663872, 0.9981720718399076, 0.9953639628068267, 0.9981540562013302, 0.994689927746065, 0.9982051521350906, 0.9970311543233106, 0.9987697128513405, 0.9982909950526356, 0.9988663192911732, 0.9952009971840085, 0.9995731253070579, 0.9989576140053212, 0.9997937693286455, 0.9995891024035959, 0.9994277998793594, 0.999804886281903, 0.9997230793650306, 0.9969483992271873, 0.9989771201292664, 0.9993570282724944, 0.9970981979562065, 0.9974300550926757, 0.995653232883999, 0.9963354165486381, 0.999978470719998, 0.9985507834483264, 0.9989428353396868, 0.9982051521350906, 0.9988253521229382, 0.9954484805909041, 0.99886424101163, 0.9987051802109181, 0.9994468933216065, 0.9996684285303891, 0.9991828405306451, 0.9970592667042519, 0.9945122908578753, 0.9980590726135952, 0.9975234520835932, 0.9982315366310895, 0.9951963288823417, 0.9963842404775914, 0.9967323965810818, 0.9967323965810818, 0.999151668723852, 0.9993164181368331, 0.9987833506136612, 0.9947243524255864, 0.9979768355986657, 0.9992730483106013, 0.9973490309598245, 0.9989670599282748, 0.9996733127670872, 0.9941881651679552, 0.9993776401955261, 0.9955104443240872, 0.9982879962142485, 0.997280166791593, 0.9920917021546383, 0.9951974130556165, 0.9978064674795236, 0.9980056237818904, 0.9975400083308793, 0.9968460736661925, 0.992662355612244, 0.9975337867648673, 0.999395668138646, 0.9988663192911732, 0.9993051232762109, 0.9973755441667033, 0.9999579601912691, 0.9999579601912691, 0.999763439947021, 0.9995754224936847, 0.9995754224936847, 0.9998385970768046, 0.999106739633083, 0.996233979294133, 0.9988663192911732, 0.9996206565296912, 0.9997230172064967, 0.993056231073732, 0.9962037947795669, 0.9963258232187648, 0.998488369658827, 0.9989026770855661, 0.9986905619974528, 0.9975555055116048, 0.9994214811701246, 0.9997937624118893, 0.9996508051302654, 0.9996680429254257, 0.9988437834181068, 0.9988437834181068, 0.9995630694194569, 0.9969765243388498, 0.9970311543233106, 0.9961986520641251, 0.9961986520641251, 0.9982572540507588, 0.9990324205405816, 0.9983790539563692, 0.9988831463672001, 0.9993869083151878, 0.999170490431022, 0.994784321585332, 0.997350926813823, 0.9986474475770409, 0.9961986520641251, 0.9961986520641251, 0.9988663192911732, 0.9961054028723556, 0.9986883352677761, 0.9977548100751199, 0.9997808370798008, 0.9940659697727604, 0.9990105071333021, 0.9988452945987157, 0.9957263862948624, 0.994526220935555, 0.9986994600164126, 0.9997107675661613, 0.9997107675661613, 0.9998388303533323, 0.9989670599282748, 0.9989670599282748, 0.9974983421876485, 0.9998696138977301, 0.9983910018642091, 0.9997107675661613, 0.9996488378881105, 0.9962156592459196, 0.9988712258411578, 0.996223078958206, 0.9986454208839545, 0.9991114739431066, 0.9968841408704119, 0.9929450132907928, 0.9989112903006183, 0.9986025464589254, 0.9993594997733485, 0.9990638836503775, 0.9997055811806752, 0.9985247570556541, 0.9994481425845919, 0.9989534125851948, 0.9974158405997074, 0.9997230172064967, 0.9985385662431072, 0.9983012303293737, 0.9993841390278122, 0.9982196828824303, 0.9967421262758496, 0.9986533270498846, 0.9992183639057463, 0.9982226641382339, 0.9974874232800512, 0.9975142828985335, 0.9997468921017557, 0.9973797882589435, 0.9974015195703266, 0.9976408364858069, 0.9994684889127243, 0.9994684889127243, 0.9991730765784529, 0.9965822333297971, 0.9931888548612042, 0.9997156668850293, 0.9997522509542491, 0.9997542629414491, 0.9982648561659814, 0.9982820219294343, 0.9982648561659814, 0.9967176078064495, 0.9994723330602039, 0.9970191233102066, 0.998433654634366, 0.998906656453209, 0.999634417739395, 0.9988184723925186, 0.9986236537191648, 0.9996684285303891, 0.9988558329968792, 0.999397271921774, 0.9971209304150426, 0.9989788970412482, 0.9998908478497409, 0.999807033466925, 0.9980342531838506, 0.9997416750687074, 0.9982257220004066, 0.9987970475963203, 0.9981351074359213, 0.9989967362928779, 0.9970137534545471, 0.9972924987238989, 0.9962468238698242, 0.9962468238698242, 0.9962468238698242, 0.9988946857437644, 0.999543854450853, 0.999543854450853, 0.999543854450853, 0.9988496469631113, 0.9988745538166709, 0.9995211424216067, 0.9988831463672001, 0.9962920305352206, 0.999564575359435, 0.9998894223353497, 0.9994038100241464, 0.9961688271185322, 0.9996430266474329, 0.9972396958611869, 0.9995849698455136, 0.9990579446034464, 0.9980941521607868, 0.9994511761193605, 0.997350926813823, 0.9992378738916599, 0.9992378738916599, 0.9990441129505502, 0.9990753135802298, 0.9974883912241522, 0.9993631753104791, 0.9964897046148908, 0.999151668723852, 0.999146428817853, 0.9975352666072466, 0.9982819799628305, 0.9936472617912399, 0.9986618559254127, 0.9974912734239101, 0.9978893383618483, 0.9974055769028308, 0.9991855221749775, 0.9970710448253579, 0.9995300559182785, 0.9998039894804324, 0.9983760350041666, 0.9991664229037964, 0.9988354279939589, 0.9988354279939589, 0.9989262569252236, 0.9997175096156515, 0.9969765243388498, 0.9972165248047362, 0.9996684285303891, 0.9996684285303891, 0.9984019440030151, 0.9996365270814158, 0.9988755929081412, 0.9995849698455136, 0.9993749142645024, 0.9987362897710393, 0.9995490771312768, 0.9999101473777426, 0.9979612972647806, 0.9931071104112569, 0.9990360978625324, 0.9977472392439092, 0.9953399801313805, 0.9922382479130042, 0.9947750654784574, 0.993056231073732, 0.9984800074484818, 0.9982390632306285, 0.9977053175816122, 0.9998484320171197, 0.9998434368708339, 0.9996345039821508, 0.9977843266372171, 0.9963581834688489, 0.9963581834688489, 0.9975257910434465, 0.9988925722454836, 0.9993776401955261, 0.9961054028723556, 0.9996120528324719, 0.9982598338689597, 0.9982598338689597, 0.9989276437457032, 0.9998187607536481, 0.9986112643182823, 0.9999371323025387, 0.9994108187598411, 0.9998515824142625, 0.9995890972669951, 0.9979364134846983, 0.9970464676594354, 0.9980164198449336, 0.997416078987137, 0.9973923220542612, 0.9990360978625324, 0.9992620451719025, 0.9986474475770409, 0.9988253521229382, 0.9968253235179153, 0.9991696659882056, 0.9960893289852344, 0.9947958608013188, 0.998432542855637, 0.9988254731461297, 0.9967089189208282, 0.9980542072079197, 0.9961900119109189, 0.9962238504976082, 0.9977476487056139, 0.9965714309632624, 0.9981551383317077, 0.9994356371275185, 0.9996535645697722, 0.9970027892951574, 0.9965165885582564, 0.9998813913273186, 0.9998121419234709, 0.9994090526778983, 0.9994449479784078, 0.9990831949200792, 0.9973764383273577, 0.9988831463672001, 0.9988467747837182, 0.9988266679859887, 0.9985696400755291, 0.9994063641560993, 0.9978865503779109, 0.9998951495207166, 0.9985696400755291, 0.9984593216752536, 0.9993976436120302, 0.9984504295363246, 0.9961986520641251, 0.9981997668647191, 0.9996684285303891, 0.9990012156794413, 0.9994981264526415, 0.9989449583994898, 0.9993501202902221, 0.9993776401955261, 0.9998050212789797, 0.9988380326561181, 0.998832028664586, 0.9999366745842373, 0.9988437834181068, 0.9976291320064847, 0.9912703255699294, 0.9953901333709557, 0.9986998852814184, 0.9975866540741106, 0.9999229870751924, 0.9992004750052207, 0.999299257028079, 0.9978432823857072, 0.9933939299063737, 0.9973020475935588, 0.9984616699706512, 0.999650179379377, 0.9912477396111264, 0.9912477396111264, 0.9989622224139226, 0.9993921541810352, 0.9990824251436009, 0.9973074185944178, 0.9962613335357446, 0.9996440009470413, 0.9986218734223989, 0.9992061989454863, 0.9997352502512835, 0.9995718181080211, 0.996233979294133, 0.999780872956275, 0.9999584146788971, 0.9995762651440705, 0.9982588019482536, 0.9978592521466654, 0.9976995212010125, 0.9976179321786454, 0.9985949091844318, 0.9982799281840987, 0.9975530570821808, 0.9983112750020565, 0.9996004701572709, 0.9973733881142823, 0.9987272692330149, 0.9997853691118331, 0.9990327339906507, 0.9989639305681075, 0.999774175055873, 0.9989663949062989, 0.9979734451490248, 0.9979734451490248, 0.9970285803308964, 0.997378794173536, 0.9978560967612994, 0.9997454457138208, 0.9997401408267329, 0.9982748778139631, 0.9979449675035742, 0.9992061989454863, 0.9994973225233192, 0.9985840405421792, 0.9995760389544224, 0.9996049245177909, 0.9988969639362212, 0.9997182396450195, 0.9989835138350034, 0.9984321931137303, 0.9989850305154855, 0.9993831734114107, 0.9956222833647141, 0.9971902722042612, 0.9995849698455136, 0.9994075483209081, 0.9994027215325236, 0.9982352970572147, 0.9997263770203263, 0.9962613335357446, 0.9994762987485499, 0.9982257220004066, 0.9990695548625023, 0.9990657310857568, 0.9999756133830168, 0.9995891024035959, 0.9999301350180931, 0.999804886281903, 0.9993415674272751, 0.9982935728349104, 0.9996804179459455, 0.9994973225233192, 0.9967677446972593, 0.9984181735803755, 0.9993748948144164, 0.9995576981965862, 0.9998112481764652, 0.998113654551072, 0.9988831463672001, 0.9988831463672001, 0.9993776401955261, 0.9990471454991734, 0.9982257220004066, 0.9982257220004066, 0.9998214836029811, 0.9948748281526182, 0.9995895781918643, 0.9995455253174385, 0.9995455253174385, 0.9969431165696194, 0.9998131047551831, 0.9993750684577735, 0.9982542379128914, 0.9987522444710055, 0.9989911530978244, 0.9989716290299476, 0.9980335961294374, 0.9977331129840703, 0.9987872022011203, 0.9979271095476744, 0.9989294072129031, 0.9961986520641251, 0.9945840967729982, 0.9996371906291296, 0.9996371906291296, 0.9996716209952109, 0.9996703526472644, 0.9996703526472644, 0.9996624808683029, 0.9982057182311009, 0.9998079838436869, 0.9996703526472644, 0.9995234381784541, 0.9988946670573451, 0.9989157117980184, 0.9989157117980184, 0.9989157117980184, 0.9989157117980184, 0.9997663405066417, 0.998876389705574, 0.9991756895956694, 0.9962703061371558, 0.9999651852135621, 0.9991317231786327, 0.9982283616297557, 0.9972963644477885, 0.9968039362552245, 0.9993876007228382, 0.9989182350582917, 0.9995501952217661, 0.9991729471047355, 0.9996712407345496, 0.9999310327181381, 0.9995501952217661, 0.9996433464665164, 0.9985411831859532, 0.9996596210898389, 0.9997102001914513, 0.9995309950075856, 0.9991122571890307, 0.9995104174667888, 0.9988947709511568, 0.9999451174213037, 0.9960077415959334, 0.9997992187121797, 0.9940992860930906, 0.9985362089300837, 0.9998648068991779, 0.9994849900571839, 0.999157097782393, 0.9996680429254257, 0.9997925500892928, 0.9999517738091122, 0.998548632687224, 0.9998648068991779, 0.9996344953526654, 0.9995272278745434, 0.9999162174683752, 0.9948111843177466, 0.9988172863724682, 0.9993926271513109, 0.9981077591479552, 0.9997725916510198, 0.9997378467224322, 0.9987562845469352, 0.997455439349948, 0.995901624635641, 0.998791886941055, 0.9993884573295723, 0.9999838697027675, 0.997037495562133, 0.9991092765314883, 0.9998174097344945, 0.9969431165696194, 0.995901624635641, 0.9956175383266831, 0.9982542379128914, 0.9997155084894694, 0.9997200307466161, 0.9998028624809314, 0.9993480270305088, 0.9983453067650776, 0.9971024150297433, 0.9991910175566673, 0.9986252144398642, 0.9962949755557792, 0.9993348598404979, 0.9988607637728825, 0.9986244524367159, 0.9987508106746376, 0.9975826521085939, 0.9971061565649832, 0.9975702488182817, 0.9997189373378152, 0.999378272580063, 0.9982257220004066, 0.9994861123057535, 0.9990412656162708, 0.9967497131274855, 0.9980779174792597, 0.9985056169501684, 0.9995700410334907, 0.9996950864686309, 0.9996573729584003, 0.9996149957660374, 0.998871244385974, 0.9995223792697338, 0.9992869082587594, 0.9943053556989156, 0.9989026770855661, 0.9997880355965867, 0.9992356483593606, 0.9981753089559163, 0.996294225469431, 0.9998421031776098, 0.999892903052021, 0.9995518964515204, 0.9964003355998711, 0.9981818405376849, 0.9977382093460696, 0.9979392187188385, 0.9981818405376849, 0.9988144085319512, 0.9997477008426624, 0.9996479038288012, 0.9999850802074404, 0.9995455644782392, 0.9975684316191249, 0.9997001696367189, 0.9999437612863028, 0.9998539024632036, 0.9990090216816608, 0.9983490078080506, 0.9988253521229382, 0.9965987971222944, 0.9999069314184706, 0.9983748889968863, 0.9994554638880996, 0.9997036945570725, 0.9988527348077075, 0.997707583448216, 0.9999615459954487, 0.9999028208185818, 0.9947750654784574, 0.9984499705289794, 0.9995501952217661, 0.9989026770855661, 0.9995849698455136, 0.9994636761022331, 0.9996605397953464, 0.9991995128549761, 0.9991138838892147, 0.9960986685768903, 0.9994221584763437, 0.9964074694764959, 0.9988093894642466, 0.9965179953892913, 0.9995952268602548, 0.9950423893375347, 0.9970789074306176, 0.9996180763018238, 0.9950423893375347, 0.998602534333118, 0.9973304149355668, 0.9955762178442319, 0.9982257220004066, 0.9943608706466788, 0.9992050372809239, 0.9938281545367147, 0.9991003318368499, 0.9994918510682788, 0.9993368890393279, 0.9999301050407762, 0.9994882247490304, 0.9988663192911732, 0.9993678993037378, 0.9984828221812336, 0.9994185383759915, 0.998329947664337, 0.9976284998939907, 0.99694930966348, 0.9969545358620365, 0.9991317231786327, 0.9996505873969955, 0.9991317231786327, 0.9986204319337731, 0.9996180763018238, 0.998218328383147, 0.9999904105250342, 0.9994258794934456, 0.9988253521229382, 0.9979411518076512, 0.9977254359410547, 0.9974507171564415, 0.9995987295480426, 0.999779763923865, 0.9998014202554744, 0.9997659780814145, 0.9993051232762109, 0.9993273330714281, 0.9993249745333254, 0.9995731253070579, 0.9987795040844921, 0.9996426923088126, 0.9947750654784574, 0.9960543524259506, 0.9999687673400454, 0.9982810289000533, 0.9969056007268684, 0.9961429863212696, 0.9996684285303891, 0.9998395813879157, 0.9992299292155533, 0.9956426627237961, 0.9999848144270508, 0.9988911571554445, 0.9999848144270508, 0.998218328383147, 0.9911249190779364, 0.9993758312369809, 0.9996493935267984, 0.9989834492753349, 0.9982542379128914, 0.9986444347584738, 0.9987418363106627, 0.999378272580063, 0.999595229901854, 0.9961983177535061, 0.9994772294177556, 0.9982820219294343, 0.9992050372809239, 0.9993649648634576, 0.9998744275743512, 0.9962460151289876, 0.9994633938073776, 0.9994891879895308, 0.9996696443627736, 0.9959645156107235, 0.9912488342021801, 0.9912488342021801, 0.9991375632648256, 0.9981540562013302, 0.9997256115736071, 0.9973020475935588, 0.9996987936405022, 0.9995091983560845, 0.9986496600013275, 0.9994594385665009, 0.9996684285303891, 0.9996684285303891, 0.9997970908165055, 0.9991375632648256, 0.9982257220004066, 0.9993649648634576, 0.9990647556236244, 0.9972083158995941, 0.9992157882622149, 0.9986992881788542, 0.9982820219294343, 0.998543941133498, 0.9968807999889204, 0.9997761722959749, 0.9994280055763373, 0.9982542379128914, 0.9992086731760201, 0.9949570552074198, 0.9974739492181561, 0.9972083158995941, 0.9994642691796092, 0.9994043658287172, 0.9997073287026451, 0.9970311543233106, 0.9950907580885829, 0.9992446235529042, 0.9984548140185197, 0.996740550355428, 0.9973900653816926, 0.9994844727398198, 0.9995718181080211, 0.9982681692004735, 0.9996501857606018, 0.9978856032282027, 0.9996471367802146, 0.9987455577876656, 0.9960252136139124, 0.9995617020297177, 0.9978356306844997, 0.9958274570573731, 0.9997453760870845, 0.9946023968486962, 0.9992960029421905, 0.9973304149355668, 0.9997073287026451, 0.9996451284078007, 0.9993844026968679, 0.9983274406484244, 0.9993776401955261, 0.9997989905301363, 0.99973615138461, 0.9992886609798883, 0.9983968075053435, 0.9991161679045618, 0.999679038101527, 0.9996820017233355, 0.9993967066269965, 0.9991688383231505, 0.9999508827135701, 0.99977037975513, 0.9953901333709557, 0.999103512430574, 0.9995909794025097, 0.9989026770855661, 0.9992817913414065, 0.9993982752605863, 0.9996466569656957, 0.998151094602002, 0.9992452006018903, 0.9988279621036956, 0.9996965554580278, 0.99731767377283, 0.9987900999564089, 0.997555846879804, 0.9971869763988163, 0.9982429023801437, 0.9930235267132644, 0.9987505033009237, 0.9991075904126689, 0.9990011563765616, 0.9977317590277469, 0.9963866614333432, 0.9988831463672001, 0.9994402845317634, 0.9963249667552206, 0.9988163981707798, 0.9982342546342494, 0.9964492535022474, 0.9960967130150971, 0.996053590757438, 0.9948256869248047, 0.998312358823974, 0.9982328638818803, 0.9982328638818803, 0.9973612967508758, 0.9974745997114801, 0.9996217699883577, 0.9974604571954767, 0.9997711919648589, 0.9993649648634576, 0.999798146022991, 0.9999551542183838, 0.9977593870059253, 0.9992391978369936, 0.9974120585708889, 0.999353103035094, 0.9996684285303891, 0.9982257220004066, 0.9962777140009145, 0.9988185891770611, 0.9982257220004066, 0.9940793352574778, 0.997071524239446, 0.9988739369973726, 0.9993847418788749, 0.9992560781687647, 0.9980542072079197, 0.9996134174864547, 0.9995562584437434, 0.9991685095977232, 0.9990201023444979, 0.9962111462137077, 0.9990945077162113, 0.9974767548126876, 0.9993828625425504, 0.9946196739595013, 0.9986067765315205, 0.9981540562013302, 0.9980542072079197, 0.9982050554874554, 0.9961241130531601, 0.9989788970412482, 0.9995884195413747, 0.9999060576365155, 0.9978704263018355, 0.9922951639425954, 0.999564575359435, 0.9962920305352206, 0.9990539909003936, 0.9922991651515061, 0.9976200150734834, 0.997071524239446, 0.9991308055483453, 0.9994812931973867, 0.9991570470878901, 0.994853415590649, 0.9958734542152966, 0.9991910175566673, 0.9931958527374032, 0.9996104375813395, 0.999883390081118, 0.9986120037376774, 0.9989157117980184, 0.9980518779135888, 0.9992514366304318, 0.9947642314484277, 0.9989396419954159, 0.9952009971840085, 0.9982031055483794, 0.9983279091044285, 0.9984948236397464, 0.9982469478341924, 0.9984908418347993, 0.9992877284966835, 0.9932818136491791, 0.999961095326564, 0.997441422880945, 0.9945408693767239, 0.9960035758692071, 0.9935541042088758, 0.9988945774028014, 0.999707553870443, 0.9973226813287557, 0.9978591653101391, 0.9960543524259506, 0.9998733928580752, 0.9979469064368982, 0.9991407353841291, 0.9990317888613566, 0.9990427365777891, 0.9996717224542845, 0.9991910175566673, 0.9974317789001884, 0.9987158403732647, 0.9994907154968519, 0.9997395294397168, 0.9982469478341924, 0.9998303108616852, 0.9991003709924366, 0.9996509915684068, 0.9968671673874963, 0.9978488437864416, 0.9959511697807896, 0.9992883036866533, 0.9985640177482573, 0.9960967130150971, 0.9981066646334295, 0.9949856724861783, 0.9999869407305182, 0.9985082780660529, 0.998218328383147, 0.9987833506136612, 0.9970079162853707, 0.9998708913238216, 0.9998864528910597, 0.9997911659089471, 0.9992831531267503, 0.9993031645012402, 0.9997212425144683, 0.9951849905763478, 0.9992927185097265, 0.9951849905763478, 0.9996440009470413, 0.9993847418788749, 0.9988415033527546, 0.9986236113896904, 0.998758005208239, 0.999151668723852, 0.9971234034683737, 0.9972825920077586, 0.9972825920077586, 0.997305931979532, 0.9982896658962513, 0.9993597995992768, 0.9997718298437451, 0.995418139275706, 0.9982257220004066, 0.9988599473255692, 0.9983748889968863, 0.9995576981965862, 0.9981540562013302, 0.9997685919726077, 0.9996322294097885, 0.9993748948144164, 0.9992433722206809, 0.9995782598182216, 0.9963742287894284, 0.9945281552994188, 0.9995064476179801, 0.9985586309729884, 0.9993286686693943, 0.9982542379128914, 0.9990099415308624, 0.9995576981965862, 0.996001972414338, 0.9993530776299819, 0.9993530776299819, 0.9983101385541682, 0.9987783735633813, 0.9962048918803275, 0.9981351074359213, 0.9988687750937488, 0.9997105698929133, 0.9997648440142349, 0.9982031055483794, 0.9990471605267418, 0.9990471605267418, 0.9996684285303891, 0.9989534125851948, 0.9997877949408973, 0.996054341849643, 0.9975751589471052, 0.9961773062724246, 0.9932676378769264, 0.9991013863423348, 0.9997756773894431, 0.999638108562125, 0.9997756773894431, 0.9988663192911732, 0.9983667771658137, 0.9988663192911732, 0.9974015307379103, 0.9997319838698021, 0.9969105743845149, 0.9993649648634576, 0.9998514948840594, 0.9952995570191995, 0.9995530761239048, 0.9987742860748634, 0.9947243524255864, 0.9985108044688501, 0.9931071104112569, 0.999564575359435, 0.9992773626069621, 0.9983405807968699, 0.994983938381304, 0.9993897631892458, 0.9976328802845018, 0.998391108250982, 0.9972165248047362, 0.9996817468644666, 0.9999371323025387, 0.9998187607536481, 0.9986112643182823, 0.9994108187598411, 0.9996646624321381, 0.9990321941050826, 0.991898823143138, 0.9981568412522426, 0.9981568412522426, 0.9971088375665813, 0.99960267890134, 0.9993803006937217, 0.9998906090227115, 0.997777330687209, 0.9909367982815056, 0.9983984403501549, 0.9988185891770611, 0.9972580653387435, 0.9988663192911732, 0.9990019910529914, 0.9981871100694744, 0.9981871100694744, 0.9975204797504579, 0.9998829739885149, 0.9988936200118592, 0.9975380331611121, 0.9996372330649281, 0.9990816265903757, 0.9975660125188325, 0.9997709896520404, 0.9997759187939927, 0.9997737969277225, 0.9987823149649964, 0.9999817754102719, 0.999449840549374, 0.9993731827948463, 0.999345486075945, 0.9999165840709722, 0.9991540077010158, 0.999229061941692, 0.9997691707437015, 0.99971086406724, 0.9997385088300126, 0.9991003709924366, 0.997184307254084, 0.9997600464730207, 0.9991998802877755, 0.9996573030995963, 0.9996847667951105, 0.9990017994256476, 0.9995892854616429, 0.9982870957678734, 0.9957650440690823, 0.9985705637158804, 0.9991792828616383, 0.999573157171805, 0.9979614381087749, 0.9982748778139631, 0.9962737308276013, 0.9931819004753316, 0.9984260895609954, 0.9994218503017538, 0.9986168157266273, 0.9979614381087749, 0.9998859063698591, 0.9988945774028014, 0.9991039844266137, 0.9991039844266137, 0.9997163918684504, 0.9997163918684504, 0.995484743637542, 0.9996814673845028, 0.9999432191841507, 0.9969958546825467, 0.9996247078915126, 0.9952438334763526, 0.9998706237618213, 0.9955893926725472, 0.9994225639259593, 0.999807071925544, 0.9998706237618213, 0.9979853305684081, 0.9997427136896783, 0.998638418552572, 0.9937872863792209, 0.9998609263694018, 0.9948528688461558, 0.9995384985230713, 0.9990459136070285, 0.9997230172064967, 0.9995404528881207, 0.9999670187036143, 0.998329006685588, 0.9982748778139631, 0.9989815187412554, 0.9993731827948463, 0.9962993908646616, 0.9961986520641251, 0.9998681117503754, 0.9997230172064967, 0.9997230172064967, 0.9988831463672001, 0.9996206832956219, 0.9993609094800402, 0.9996163517433595, 0.998906656453209, 0.9976125191495138, 0.9979768355986657, 0.9937872863792209, 0.9979935493375528, 0.9979891910560101, 0.9995074925126143, 0.9996026528555744, 0.999564575359435, 0.9986025464589254, 0.9999456260067274, 0.9996680429254257, 0.9988831463672001, 0.9995576981965862, 0.9995576981965862, 0.9992529907136354, 0.9981551928761391, 0.9982542379128914, 0.9920598925975337, 0.9985911035743219, 0.9965460866773054, 0.9978463608710939, 0.99969496647091, 0.9999371323025387, 0.9994108187598411, 0.9986112643182823, 0.9996817468644666, 0.9998187607536481, 0.9997533745350939, 0.9996236584423948, 0.9988622848548266, 0.9929037485142895, 0.9990082526140855, 0.9969635838875837, 0.9993826106003965, 0.9919132070649409, 0.9991882110896521, 0.9997961117656728, 0.9997038093432392, 0.9996430266474329, 0.9991311844299179, 0.9995941634473512, 0.9995300706914497, 0.999564575359435, 0.9995683258550411, 0.9981003721477887, 0.9993731827948463, 0.9995712708309769, 0.9971384313413009, 0.9990048867412974, 0.999270593464089, 0.9987087146640027, 0.9979876428735417, 0.999762245501274, 0.9987713933783371, 0.9995832565778497, 0.9987279996296102, 0.9986377853248124, 0.998229635842538, 0.9985884495534417, 0.9982257220004066, 0.996849295819155, 0.9986947551445996, 0.9994492134791804, 0.9992960029421905, 0.9983814034896906, 0.9984481103719157, 0.9995530761239048, 0.9992913396209522, 0.9990816265903757, 0.9993110505257479, 0.9987845929293219, 0.9991092765314883, 0.9998574723000293, 0.9950986362030366, 0.9979409207448514, 0.9936738789135147, 0.9982879962142485, 0.9990902870128566, 0.9988925722454836, 0.9988347793092106, 0.9997781748739715, 0.9992960029421905, 0.9983007489744508, 0.9985701068557739, 0.9996034424999403, 0.9972083158995941, 0.9980923114073511, 0.9982257220004066, 0.9963904088542817, 0.9974850821076506, 0.998756327595826, 0.9977715967568942, 0.9991276924758182, 0.9992393895223604, 0.998429316876271, 0.9989943926460815, 0.9994047183491854, 0.9997409044082174, 0.9979876428735417, 0.9991966390902466, 0.9984436505993766, 0.9996931575007942, 0.9996514610763306, 0.9999389995927068, 0.9996514610763306, 0.9988622848548266, 0.9997533745350939, 0.9996236584423948, 0.9993609094800402, 0.999307735840554, 0.9994379921669582, 0.9975352666072466, 0.9997555704218801, 0.9974874232800512, 0.9997105698929133, 0.9956267104053451, 0.9970674548383549, 0.9976958049192656, 0.9994317778913281, 0.999884926122476, 0.9969683546951592, 0.9996255338923604, 0.9998636148612555, 0.9993613952944082, 0.999855305727042, 0.9996567868336808, 0.9998123968884329, 0.9987183573831813, 0.9992391978369936, 0.9990297484934645, 0.9961054028723556, 0.9988504765834112, 0.9965542685648656, 0.9994379921669582, 0.9995510607485859, 0.9997212197744785, 0.999707553870443, 0.999707553870443, 0.9996935023868873, 0.9996814673845028, 0.9960475245846656, 0.9946976612080232, 0.9946976612080232, 0.9946976612080232, 0.9968141974564968, 0.9975036829108451, 0.9991255673718152, 0.9996255727749819, 0.9938725055707589, 0.9991828099957949, 0.9976328802845018, 0.9973383240855255, 0.9971860841806103, 0.9973383240855255, 0.9976081898563305, 0.9976634016469559, 0.9981212702967779, 0.9967239551003872, 0.9988253521229382, 0.9987649563500914, 0.9987183573831813, 0.9963582694517878, 0.9993327481873793, 0.9984333371430962, 0.9982257220004066, 0.9961986520641251, 0.9997568868967909, 0.9953677093631478, 0.9999722210114929, 0.9981969081513947, 0.9983743437362191, 0.9994645060636836, 0.9963926772347793, 0.9980607080775464, 0.9988663192911732, 0.99903789954989, 0.9968039362552245, 0.9988663192911732, 0.9994280950150773, 0.9993649648634576, 0.9993776401955261, 0.9993649648634576, 0.9993776401955261, 0.9995412954786758, 0.9975352666072466, 0.999572054849493, 0.999572054849493, 0.9972083158995941, 0.9961986520641251, 0.9978752922361943, 0.999368196153148, 0.9998454213908464, 0.9961688271185322, 0.9989026770855661, 0.9998820279388607, 0.9994657969553047, 0.9991714467294596, 0.9961986520641251, 0.9968489921635324, 0.9990831949200792, 0.9949838803971831, 0.9959239389078074, 0.9998322080685599, 0.9989095232525222, 0.9976311961351443, 0.9968701887447858, 0.9983748889968863, 0.9982815884118067, 0.9997040705900201, 0.9986242326335545, 0.9996293411089222, 0.9995668253965554, 0.9996252841279659, 0.999575596038691, 0.9999819852445456, 0.9990764684401251, 0.9987920448374339, 0.9960981301737052, 0.9996396959666835, 0.9987934463159944, 0.999646036999869, 0.9969035792097618, 0.9916132050559731, 0.9950264978086695, 0.9994307176440532, 0.9957442197366365, 0.9968825704534148, 0.9996440009470413, 0.9990135489895593, 0.9989382290017119, 0.9968083699391063, 0.999564575359435, 0.9992751320022787, 0.9976187124940087, 0.9978872079931013, 0.998597575325814, 0.9985333221362701, 0.9997510006527145, 0.9990577277271206, 0.9982202129973272, 0.9962275509339382, 0.9982202129973272, 0.9988450784428805, 0.9991877080821141, 0.9962613335357446, 0.9985277254829709, 0.9996574859824043, 0.99947981666375, 0.9993534312859109, 0.9983586447523118, 0.9985453434365525, 0.9928258351758447, 0.9950167311639623, 0.9997363171791885, 0.9988253521229382, 0.9987934592109468, 0.9988273242258903, 0.9998949566282768, 0.9930035910575448, 0.9997882663413092, 0.9982828065046985, 0.9997097616810359, 0.9991013863423348, 0.9983565548386762, 0.9982828065046985, 0.9995702940098941, 0.9982202129973272, 0.9962275509339382, 0.9985135342320248, 0.9986013632757978, 0.9977472392439092, 0.9982051521350906, 0.9966255668914268, 0.998467948408188, 0.9989107149154378, 0.9981540562013302, 0.9947750654784574, 0.9999492361380081, 0.999524040674768, 0.9994769130986917, 0.9932701621928032, 0.9990584843804766, 0.998901860876383, 0.9994208784239803, 0.9996833848393135, 0.9980693554337433, 0.9995601636225415, 0.9974067625674391, 0.9974067625674391, 0.9994948946038644, 0.9982757599249911, 0.9953410142542354, 0.9997937974357128, 0.9996684285303891, 0.9971888324656588, 0.99784484910873, 0.9961986520641251, 0.9947750654784574, 0.996707588802083, 0.996707588802083, 0.9990764684401251, 0.9999194794319625, 0.999735032987052, 0.999697754037736, 0.9966870867300629, 0.9962949755557792, 0.9982257220004066, 0.9992972647999809, 0.9982522316617679, 0.9992191817341606, 0.9991768548838617, 0.9994958264502386, 0.9993649648634576, 0.9999622100688673, 0.9985385662431072, 0.9980693554337433, 0.9972143013721267, 0.9972143013721267, 0.9993021111539505, 0.9993021111539505, 0.9995111930654241, 0.9951974130556165, 0.9980044472447083, 0.9977192978278088, 0.9996814673845028, 0.9997073287026451, 0.9963472316348594, 0.9966718215840218, 0.9966718215840218, 0.9961986520641251, 0.996196525521751, 0.9986500649946695, 0.9989128179249787, 0.9994517604506775, 0.9997200595024438, 0.9969265116495356, 0.9990194284258127, 0.9999384899711923, 0.9991115659400702, 0.9987795040844921, 0.9914237658692746, 0.9987795040844921, 0.991134310187307, 0.997350926813823, 0.9995262180645768, 0.9997510006527145, 0.997071524239446, 0.9967657241295418, 0.9985208772353363, 0.9924386689293522, 0.9962567600838652, 0.9999097022934109, 0.9989264310427836, 0.9992000995973247, 0.9943451781226738, 0.9953305638201831, 0.9997293016846376, 0.9997393509787676, 0.9988998897975676, 0.9987823294815519, 0.9996684285303891, 0.9921049606454673, 0.9977856656502438, 0.9998376659095884, 0.9994623852394017, 0.999161044036482, 0.9994041900096128, 0.9997104970460654, 0.9982283616297557, 0.9995129108114125, 0.9962703061371558, 0.9949338216731956, 0.9984616699706512, 0.9965398078138156, 0.9970981979562065, 0.9994676831179344, 0.9991852515857774, 0.9993806226054167, 0.999807033466925, 0.9986444347584738, 0.9972083158995941, 0.9968906942564759, 0.9975271912446567, 0.9996684285303891, 0.9982757599249911, 0.9968906942564759, 0.9987833506136612, 0.9990753135802298, 0.9990753135802298, 0.9988925722454836, 0.9981943928641406, 0.9999075005884098, 0.9981540562013302, 0.9957297603129955, 0.9993096216659039, 0.9943416045173956, 0.9967323965810818, 0.9991391081134879, 0.9993748948144164, 0.9988831463672001, 0.9999499769219143, 0.9988435206945201, 0.9958200084536829, 0.9990753135802298, 0.999564575359435, 0.9997217022017424, 0.9990360978625324, 0.9996814673845028, 0.9995849698455136, 0.9980542072079197, 0.9994280950150773, 0.9982057182311009, 0.9988660024371594, 0.9980542072079197, 0.9992086731760201, 0.99690347221619, 0.9993649648634576, 0.9972083158995941, 0.9997937974357128, 0.9982057182311009, 0.9996798776284895, 0.9972228276559025, 0.9988006766809586, 0.998551334585231, 0.9977669887828919, 0.9989679472370856, 0.9919720090394952, 0.9983426989223336, 0.9981780361072902, 0.9996814673845028, 0.9997391097090773, 0.9996941892161642, 0.9998074721173003, 0.9994723330602039, 0.9986068803807063, 0.9997366537172561, 0.9997054509067443, 0.9989945034288756, 0.9997230989423787, 0.9996440009470413, 0.9982176404919528, 0.996815367669292, 0.9977228494568687, 0.9966402815045414, 0.9920917021546383, 0.9992245129180026, 0.9991920486584538, 0.9996440009470413, 0.9985605371383981, 0.9971860841806103, 0.9977562570596477, 0.9982189808950469, 0.9995849698455136, 0.9979227672685191, 0.9955421796462022, 0.9992513878269256, 0.9972396958611869, 0.9993776401955261, 0.9973755441667033, 0.9931071104112569, 0.9997021601391431, 0.9988019627938056, 0.9995648173131438, 0.9975337867648673, 0.9981780361072902, 0.9972083158995941, 0.9972083158995941, 0.9997230172064967, 0.993056231073732, 0.998147397757188, 0.9987275029420523, 0.9994060845018234, 0.9995111896769708, 0.9988437834181068, 0.9989320202166225, 0.999641888899955, 0.9991572154117427, 0.9995681046514954, 0.9994473512619609, 0.9980936205549404, 0.9998927041690967, 0.9992433722206809, 0.9972083158995941, 0.9997407675397895, 0.993056231073732, 0.9982542379128914, 0.9952009971840085, 0.9952009971840085, 0.9997600464730207, 0.9988253521229382, 0.9994216606824294, 0.9973900653816926, 0.9992391978369936, 0.9962297715969999, 0.9978393838363524, 0.9996323272757904, 0.9989026770855661, 0.9997027335309271, 0.9991426954853899, 0.9984691798756777, 0.9982808219340901, 0.9928859778181284, 0.9955963186327346, 0.9999447647168024, 0.9996623777043608, 0.9985947506254683, 0.9984504295363246, 0.9961986520641251, 0.9997917058794967, 0.9958316572237672, 0.9998350306464636, 0.9998662006697699, 0.9961986520641251, 0.9988091023671427, 0.9994817861208188, 0.9998861123543398, 0.9968300336229778, 0.9985247570556541, 0.9998561176674229, 0.9997808742582739, 0.998588090307863, 0.9991557161091879, 0.9961986520641251, 0.9974877248904953, 0.998922893673659, 0.9995209350012593, 0.9910593824090419, 0.9991841410721176, 0.9992917307064854, 0.9987934463159944, 0.999678317624155, 0.9969035792097618, 0.9903046842890008, 0.9964818366206425, 0.991394736188631, 0.9986366508782548, 0.994549586197132, 0.994931855198337, 0.9946110146458547, 0.9960954991096443, 0.9952784236267077, 0.9939635846025704, 0.9999591881525867, 0.9999591881525867, 0.9954112920118872, 0.9952549392078482, 0.9952549392078482, 0.9943948891189046, 0.9963582694517878, 0.9963582694517878, 0.9954112920118872, 0.9954112920118872, 0.9954112920118872, 0.9954112920118872, 0.9932706381792049, 0.9941716607211826, 0.9952733696706143, 0.9943948891189046, 0.9938405329376558, 0.9948274991367173, 0.998818882595882, 0.9952560225771302, 0.9982575715903844, 0.9982575715903844, 0.9956125364818593, 0.9937511335233459, 0.9963582694517878, 0.9999591881525867, 0.9999591881525867, 0.9952784236267077, 0.9952784236267077, 0.9952784236267077, 0.9958454343590404, 0.9949719135266906, 0.9954112920118872, 0.9940550767134224, 0.9963582694517878, 0.9966983274737315, 0.9936179177163621, 0.9952479005698938, 0.9937354380073457, 0.9965369269259111, 0.9941301530385719, 0.9941301530385719, 0.9950084338432454, 0.993544190724906, 0.9954112920118872, 0.993544190724906, 0.9930347042359575, 0.9925442506375082, 0.9925442506375082, 0.9954112920118872, 0.9972137546686732, 0.9954112920118872, 0.9954112920118872, 0.9960436589244045, 0.995947572587147, 0.9954112920118872, 0.9957970074104797, 0.9949915565368498, 0.9986454208839545, 0.9982575715903844, 0.9908860496816793, 0.9946904253311647, 0.9952747272159054, 0.9941513108324772, 0.997168145928293, 0.997168145928293, 0.9952926932834043, 0.9956475650508113, 0.9956853810652171, 0.9952537708143981, 0.9937354380073457, 0.9925442506375082, 0.9925442506375082, 0.9925442506375082, 0.9925442506375082, 0.9925442506375082, 0.9946431559589816, 0.9954112920118872, 0.9965000807798394, 0.9963158255833963, 0.9963158255833963, 0.9942738821237482, 0.9932872542115283, 0.9954112920118872, 0.9954112920118872, 0.9954112920118872, 0.9954112920118872, 0.9941513108324772, 0.9963582694517878, 0.9936179177163621, 0.9950930677312367, 0.9937678579712367, 0.9939851269545104, 0.9945726814773603, 0.9954112920118872, 0.9943948891189046, 0.9921371591613412, 0.9921371591613412, 0.9921371591613412, 0.9978454513457887, 0.9975037136211248, 0.9941513108324772, 0.9941513108324772, 0.9923770075578242, 0.9923770075578242, 0.9923770075578242, 0.9923770075578242, 0.9923770075578242, 0.9923770075578242, 0.9923770075578242, 0.9923770075578242, 0.9954427563045019, 0.993544190724906, 0.9954112920118872, 0.993544190724906, 0.9963582694517878, 0.9947929054425613, 0.9951014382722249, 0.9946588623330496, 0.9963582694517878, 0.9952352280039567, 0.9940113693195743, 0.9959750938046997, 0.9941513108324772, 0.9954112920118872, 0.995041861598983, 0.995041861598983, 0.993544190724906, 0.9986454208839545, 0.9954112920118872, 0.9954112920118872, 0.9952352280039567, 0.9934563923990443, 0.9947684905228152, 0.9943948891189046, 0.993544190724906, 0.9950081007942159, 0.9960198291724539, 0.993544190724906, 0.9952560225771302, 0.9952560225771302, 0.9952560225771302, 0.9964874862788635, 0.9951372708623625, 0.9958416554151223, 0.9958416554151223, 0.9995290623919397, 0.994376351074654, 0.9954112920118872, 0.9939846584294291, 0.9953860582581869, 0.9954034171093897, 0.9954034171093897, 0.9939846584294291, 0.9950589611667201, 0.9954112920118872, 0.9954112920118872, 0.991087833794201, 0.9950523627791317, 0.9953530832042526, 0.9951061903465755, 0.9989287097566488, 0.9950342026667679, 0.9950342026667679, 0.9950342026667679, 0.9939739603540222, 0.9939846584294291, 0.9950523627791317, 0.9952154727545014, 0.9953860582581869, 0.9953860582581869, 0.9964220572954026, 0.9942782069367371, 0.9926163154991778, 0.9949684421047187, 0.995592255485244, 0.9938405329376558, 0.9948913730761061, 0.9950537476377529, 0.9974389256424036, 0.9941716607211826, 0.9974389256424036, 0.9941716607211826, 0.9941716607211826, 0.993544190724906, 0.993544190724906, 0.9954112920118872, 0.9941513108324772, 0.993544190724906, 0.9963582694517878, 0.9958221707534595, 0.9987969369563865, 0.9987969369563865, 0.9987969369563865, 0.9971672530721436, 0.9987969369563865, 0.9986915701995276, 0.9971672530721436, 0.9971672530721436, 0.9987969369563865, 0.9971672530721436, 0.9971672530721436, 0.9987969369563865, 0.9971672530721436, 0.996142594974909, 0.9954112920118872, 0.995714107472035, 0.9943750013088242, 0.9924833103957852, 0.9967712618256915, 0.9951419018627787, 0.9954112920118872, 0.9937747879311405, 0.9958540696995787, 0.9940094092141637, 0.9952352280039567, 0.9960060856247899, 0.9950446372414593, 0.9986915701995276, 0.9971672530721436, 0.9953041990029958, 0.9938719890869369, 0.9938719890869369, 0.993544190724906, 0.993544190724906, 0.9935658939056612, 0.9950523627791317, 0.9932872542115283, 0.9963582694517878, 0.9965000807798394, 0.9935533667096191, 0.9972137546686732, 0.9945909914676913, 0.9963582694517878, 0.9923770075578242, 0.9923770075578242, 0.9923770075578242, 0.9923770075578242, 0.9923770075578242, 0.9923770075578242, 0.9923770075578242, 0.9923770075578242, 0.9929486153311192, 0.9952166993034269, 0.993544190724906, 0.9943948891189046, 0.9958977588946683, 0.9954552778370153, 0.9970257156076153, 0.9938794127283981, 0.9959750938046997, 0.9953178635858793, 0.9943948891189046, 0.9947268771821657, 0.993544190724906, 0.9941513108324772, 0.9941513108324772, 0.9941513108324772, 0.9943295103690293, 0.9952070239785876, 0.9952070239785876, 0.9952070239785876, 0.9952070239785876, 0.9952070239785876, 0.9958538325683095, 0.9952166993034269, 0.9936179177163621, 0.9936614590636492, 0.9952733696706143, 0.9948908597985509, 0.995041861598983, 0.9967560190402577, 0.9967560190402577, 0.993544190724906, 0.9967560190402577, 0.9922788316588896, 0.9935694974192812, 0.9922788316588896, 0.9954154125540329, 0.9953924739189431, 0.9936179177163621, 0.991667341364416, 0.9937747879311405, 0.9954112920118872, 0.9954112920118872, 0.9959750950057918, 0.9961988360528865, 0.9943750013088242, 0.993544190724906, 0.9950446372414593, 0.9958518290305456, 0.9993555944162384, 0.9944931564718233, 0.9953156127026421, 0.9947934486846766, 0.9963158255833963, 0.9963158255833963, 0.9973950991641624, 0.9992535869014401, 0.9966922620638953, 0.9954051491496013, 0.9986454208839545, 0.9991560294299794, 0.9947104513051401, 0.9947104513051401, 0.9952352280039567, 0.9974440189102742, 0.9954112920118872, 0.993544190724906, 0.9986454208839545, 0.9951526745405396, 0.9949416911377948, 0.9952768272822164, 0.9903808912633416, 0.9953607564162327, 0.9952166993034269, 0.994228584833896, 0.9986454208839545, 0.9955135737782166, 0.9949214584018466, 0.9918228001613913, 0.9908245052555682, 0.9938547626230104, 0.9947767248197528, 0.9975089107845664, 0.9923292368971675, 0.9972556333337597, 0.9989976459726153, 0.9995947351076011, 0.9997096092724158, 0.9970735861390443, 0.9957933044250546, 0.9942621162843149, 0.9954726169158703, 0.9903459946006318, 0.9913583669455952, 0.9953124547017759, 0.9940701724907652, 0.9927680916186798, 0.9941910319204336, 0.9926468524799252, 0.992838737677465, 0.9941779786020307, 0.995635630185355, 0.9987065133575956, 0.9932881648339158, 0.9919973905565234, 0.9958960319666491, 0.99048614090973, 0.9940202733301967, 0.994094138829333, 0.9910386732460559, 0.9975615310720332, 0.9952657527881393, 0.9960893289852344, 0.9920765225204344, 0.9903459946006318, 0.9913583669455952, 0.9971520685164695, 0.9968627631840411, 0.995238787897798, 0.9904804012737406, 0.9974486003670567, 0.9952698354516887, 0.9957208369537509, 0.9981784670744235, 0.9956812293045403, 0.9977431257207874, 0.9955249676174729, 0.9929167841938966, 0.9967639115012443, 0.9903198087634337, 0.9903198087634337, 0.9950095596195645, 0.9968740296801112, 0.9946088625850196, 0.9961043014423863, 0.9959521492652855, 0.996285053663802, 0.9975615310720332, 0.9940528220671307, 0.9960514114094862, 0.9931856539860293, 0.9966867533020124, 0.998735689318135, 0.9989790046949095, 0.9946187436929722, 0.9947408270511495, 0.9928819557559119, 0.9943052187537851, 0.9946026917136299, 0.990908097224195, 0.9948933217486832, 0.995209455165194, 0.9953209683034532, 0.9958828807771016, 0.996652446382744, 0.9924629283537709, 0.9946333859025471, 0.9977642290086464, 0.9977642290086464, 0.9953068814191469, 0.992782631272808, 0.9955513915290973, 0.9993048378639428, 0.9992100036702734, 0.9971218371309004, 0.9993045215268626, 0.9994466964694215, 0.9962775463297492, 0.9973364764698277, 0.9979696619489815, 0.9993743059511477, 0.995947572587147, 0.9966871752561923, 0.9992722368239827, 0.9963899922281386, 0.9978507385726793, 0.9970645935536356, 0.9997142710412877, 0.9917971432469307, 0.9903198087634337, 0.9903198087634337, 0.9928373687253228, 0.9921960151664453, 0.9924629283537709, 0.9937718579037266, 0.9928373687253228, 0.9921960151664453, 0.995039209909243, 0.9983611690306318, 0.9978854124482952, 0.9948722632315304, 0.9957050414717608, 0.9980473118215115, 0.9992360293457944, 0.9989122630076092, 0.9941006290954447, 0.999330580734221, 0.9996092828272447, 0.9989971319072736, 0.9994849311216757, 0.9990960206638865, 0.9945212421886976, 0.9900130531448871, 0.994765341636935, 0.9994417142000789, 0.9991221414128391, 0.9990128919753781, 0.997198850693725, 0.995039209909243, 0.9983611690306318, 0.9948722632315304, 0.9957050414717608, 0.9978994678986708, 0.9943152605525607, 0.9996810845058619, 0.9993540542407356, 0.9950422088835531, 0.9977290436927991, 0.998154721586373, 0.9962671112848513, 0.9949609974968592, 0.9994988411410335, 0.9995532191660467, 0.9987348858609894, 0.9980650926935465, 0.9949733344788636, 0.998452043866661, 0.999486478303779, 0.995087184095044, 0.9991775966934875, 0.99759610753872, 0.9958900323080431, 0.9982007851362743, 0.9994291719110847, 0.9984905308133297, 0.9994493116530346, 0.9992790626051976, 0.9963416127109415, 0.9972529263015975, 0.9936614590636492, 0.9936614590636492, 0.9958571198064041, 0.9952102570909462, 0.995496848074851, 0.9937963880626415, 0.9951330556687263, 0.9952582218536603, 0.9915248410587654, 0.9968875176372065, 0.9983458593277433, 0.994863707085625, 0.9947479626791597, 0.9947479626791597, 0.9942081035404515, 0.9937944460947946, 0.9968875176372065, 0.9937800288745602, 0.997381067349309, 0.9961922804219329, 0.9960030205003204, 0.9959824553064361, 0.9947479626791597, 0.9931921296989242, 0.993099538774967, 0.9994214088329376, 0.9972023951255901, 0.9950487370787712, 0.9965448113839841, 0.9936446427507561, 0.9956279064373752, 0.9952305463426672, 0.9952305463426672, 0.9976124653608008, 0.9973827610703419, 0.9955438021748416, 0.9914427767805686, 0.9974684512416, 0.9974684512416, 0.9995036982445253, 0.9936446427507561, 0.9952305463426672, 0.9949849697125096, 0.9955438021748416, 0.9966339170508225, 0.9914427767805686, 0.9912259141582206, 0.9912259141582206, 0.9952617768522881, 0.9976038536049586, 0.9916665785706695, 0.9916665785706695, 0.9916665785706695, 0.9928730020344823, 0.9920069729995895, 0.992292740825068, 0.9917243052195837, 0.9934216836387806, 0.9922949955920363, 0.9914132139269826, 0.99542457225336, 0.9992571040043999, 0.9992571040043999, 0.9973871661219952, 0.9948953606906223, 0.9953205981647794, 0.9996843547019573, 0.998735689318135, 0.9950779699455127, 0.9995352984695727, 0.99685772396969, 0.9908160838984887, 0.9969127734100443, 0.9978259391095728, 0.9997319465576133, 0.9972245502227072, 0.9949880509329845, 0.9921895455001783, 0.9950333658464351, 0.9952868877384979, 0.9946551296469414, 0.9979474949038133, 0.9980523682066209, 0.9963581087831561, 0.9955338216287608, 0.9926432084235765, 0.9955491229263961, 0.995881820190665, 0.9968875176372065, 0.9968875176372065, 0.9948601999195615, 0.9986896651219063, 0.9953667082117407, 0.9997338798663876, 0.9992258659026272, 0.9900310073349317, 0.9958639880196499, 0.9913311982164887, 0.9921905210165635, 0.9951419018627787, 0.9949059190196112, 0.9911372143726581, 0.9943863642015186, 0.9936614590636492, 0.9953926955114153, 0.9952191811405119, 0.9970735861390443, 0.9963562436736736, 0.9948761107091587, 0.9984092892431146, 0.9954766533538849, 0.9926892417609064, 0.9978493474991791, 0.9949931218791791, 0.9940693084198112, 0.995277142969972, 0.9950065014959066, 0.9963155725074266, 0.9918775424700202, 0.9962572456302904, 0.998938059615006, 0.9973310059042956, 0.9950725106727002, 0.9917954889927514, 0.9937957661015134, 0.9923155258272506, 0.9994206251529077, 0.9983305893926688, 0.9988190159244099, 0.9957322386344379, 0.9960728766391791, 0.998753680958467, 0.9987974367511712, 0.9987716635481041, 0.9998144705320986, 0.9914559778649785, 0.992837473417107, 0.992825288545634, 0.9940398660579212, 0.9925412179303352, 0.9960893289852344, 0.9931793290812523, 0.9969973114299882, 0.997104936228508, 0.9968875176372065, 0.9970735861390443, 0.9971857484064003, 0.9970387237456374, 0.9974074769103797, 0.9945438870893389, 0.995204313211953, 0.9977884732356221, 0.999108643831355, 0.9979938090431519, 0.9979938090431519, 0.9975268742545464, 0.9995506728525062, 0.9909681364585909, 0.9994163584276481, 0.9903636802973085, 0.9919878184348478, 0.9940824108765988, 0.9928693594126009, 0.9994810311906208, 0.9994844652981946, 0.994579993478701, 0.999255436194836, 0.9965614082851039, 0.9952291852689307, 0.9970954279263589, 0.9964952867265211, 0.9962428254647929, 0.9967238286454794, 0.9995500611555033, 0.9990737789787637, 0.9951797213426052, 0.9982197592440308, 0.9941224639100938, 0.9951578745738295, 0.9992695928822766, 0.9952361011175983, 0.9977271751281063, 0.9983305893926688, 0.9949683130005214, 0.9983268209641516, 0.9922783153596754, 0.9963411928585517, 0.9902431737930186, 0.9952868877384979, 0.9940056020549078, 0.9928404396804923, 0.9947953136249575, 0.9950610911934353, 0.9955041724185948, 0.9921895455001783, 0.9926542723872509, 0.995464957163181, 0.9954112920118872, 0.9954093773330552, 0.9914671567976489, 0.9969264395147002, 0.9923022101197846, 0.9925479931946223, 0.9916049518604285, 0.9954766533538849, 0.9926892417609064, 0.9927427992804295, 0.995569568996533, 0.9981256654237851, 0.9980802613954479, 0.9982604061497055, 0.9949376591884304, 0.9950441452435113, 0.995214037636388, 0.9976929073350577, 0.9958732005738559, 0.9951333819921825, 0.9985889564162225, 0.9947003351054474, 0.9947003351054474, 0.9947003351054474, 0.9986870325297537, 0.9924545567416123, 0.9909044362539913, 0.9989950300884178, 0.9962719668017044, 0.9960059757622252, 0.9960059757622252, 0.9989950300884178, 0.9962719668017044, 0.9951974130556165, 0.9951974130556165, 0.9951974130556165, 0.9951974130556165, 0.9951974130556165, 0.9951974130556165, 0.9951974130556165, 0.9937644535609392, 0.9995407582705846, 0.9977959896389317, 0.9977233182495049, 0.9992592398149702, 0.9956597383171044, 0.9996505867287604, 0.9972165248047362, 0.9981258199243953, 0.995206037238083, 0.9996836294990983, 0.9984050302006893, 0.9995966628008902, 0.9946079302922652, 0.9963733801890478, 0.9983010463043233, 0.9982865803342409, 0.996417960621742, 0.997305931979532, 0.9962715721050722, 0.9973299718907157, 0.9908664887007494, 0.9997991147878579, 0.9997991147878579, 0.9940018854059535, 0.9997175096156515, 0.9971077245769233, 0.9937258418236758, 0.9964044001814863, 0.9969670156167754, 0.9991008674391986, 0.9953454721559233, 0.9977175540147399, 0.9995782598182216, 0.9997564413147437, 0.9961514900960607, 0.995374826119898, 0.995280073712111, 0.9962354424533014, 0.9961510122976865, 0.9961688271185322, 0.9953731461550972, 0.9960479339488608, 0.9962639131460734, 0.9987055347511131, 0.9990694707299533, 0.9963234747989177, 0.9963396889804581, 0.9987587543758987, 0.9994563451767907, 0.9964058996376199, 0.9959808674834418, 0.9920364739465293, 0.9960991864615267, 0.9955310835096097, 0.9964904968510298, 0.9976105580269592, 0.9982007458138261, 0.9983307209639846, 0.9983259305179344, 0.9970524454871802, 0.9920692941612942, 0.9973130640973757, 0.9974109480408261, 0.9970311543233106, 0.9950718159669818, 0.9949379732291835, 0.9983877716847072, 0.9979983497715018, 0.99812612256375, 0.9976060690549796, 0.9970897619597879, 0.9999168103149781, 0.9953289273383773, 0.9954184940186138, 0.9916410578944472, 0.9983670220203374, 0.9984203901034232, 0.9984146545811345, 0.999117600309305, 0.9958129804141934, 0.9950828823387938, 0.9978269959734505, 0.9996684285303891, 0.9953143778064901, 0.9954308462449574, 0.995372241091987, 0.9951828311438511, 0.9954478680821679, 0.9993800241421824, 0.9950313395685156, 0.9950313395685156, 0.9949679343273127, 0.9952570121198411, 0.9955504788398739, 0.9921714170223873, 0.9971519704783761, 0.9965272684707571, 0.997308823715384, 0.9962060056428288, 0.9960956747242135, 0.9951529353992422, 0.999050485895057, 0.990674598689498, 0.9958222738781226, 0.9959295023085624, 0.9968321766430979, 0.998059983079469, 0.999574117111883, 0.9964044001814863, 0.9953308747317559, 0.9988253521229382, 0.9988253521229382, 0.9978654197195993, 0.99595854997079, 0.9943745891087066, 0.9924435392343925, 0.9954995872361911, 0.9972768178799264, 0.995284458353796, 0.995334752971973, 0.9900040272351683, 0.9962840494083891, 0.9962840494083891, 0.9991135926446334, 0.9997764133751851, 0.9989853509366584, 0.9988663192911732, 0.9973472002901532, 0.99974882480637, 0.9991454988758196, 0.9919895030087486, 0.9991186351927054, 0.9964494868443837, 0.9964494868443837, 0.9983665635102905, 0.9991062379499318, 0.9999081744966656, 0.9999793180653496, 0.9996038772818904, 0.9915359087271549, 0.9952842970002717, 0.9952495503304084, 0.9993128310552689, 0.9958932463006519, 0.9972001898823565, 0.997110326180515, 0.9949059348860158, 0.9996244185451446, 0.9953844275147402, 0.9948722664861189, 0.9971072022387097, 0.9997991147878579, 0.9968769691563497, 0.9952020529729313, 0.9952427563591414, 0.9996695394791573, 0.9966313061926277, 0.9958209378695437, 0.994883790829325, 0.9996430266474329, 0.9953511842911354, 0.9996880722529726, 0.9996973436962627, 0.9985372307092585, 0.9993452104813376, 0.9997175096156515, 0.9970311543233106, 0.9997788924242413, 0.9930224555479996, 0.9989026770855661, 0.9954519772151966, 0.9960528049858959, 0.9961554775969755, 0.9974050938261517, 0.9980069525038374, 0.9948658200619985, 0.9981793646259556, 0.9947750654784574, 0.9996514407023871, 0.9990985730360417, 0.9946206386034903, 0.9981771937311247, 0.997305931979532, 0.9995029413116879, 0.9949463571868321, 0.9989182350582917, 0.998949163467537, 0.9936212528954447, 0.9925741574317285, 0.9990264144982264, 0.9990723964206115, 0.9987380646518942, 0.9977921688867118, 0.9971806535438407, 0.9981878029964357, 0.9995142940344972, 0.9964044001814863, 0.997200700208628, 0.9909672962562233, 0.9997991147878579, 0.9965630828707426, 0.9978103899425532, 0.9991956284010413, 0.9977150661762401, 0.9997991147878579, 0.9997991147878579, 0.9982505707175152, 0.9959623906270508, 0.9996034424999403, 0.9993138550717098, 0.9991957094596163, 0.9963108878737902, 0.9963683720299283, 0.9954103593563426, 0.9955935585457424, 0.996226184150703, 0.9976705665560112, 0.9979127350539824, 0.999831206879108, 0.9994781569153881, 0.9983159747480701, 0.9984001572640843, 0.9999339571772519, 0.9938671515777057, 0.9948128141501477, 0.9957038605336467, 0.9963437473798871, 0.9960543524259506, 0.9963494266845447, 0.9951423543424185, 0.9998299332881959, 0.9945301744896119, 0.9989345396224308, 0.9987742394505891, 0.994849498597676, 0.9993615048225554, 0.997350926813823, 0.9997850993649067, 0.9993847887069043, 0.99530521625728, 0.9988015470411303, 0.9951611829225347, 0.9996663793446898, 0.9952881087448684, 0.9997260705095666, 0.9997632860934468, 0.9953731461550972, 0.9958203965048109, 0.9997991147878579, 0.9984848081407917, 0.9991925513527838, 0.9988654413586466, 0.9957623650890841, 0.995755744127576, 0.9987908427928928, 0.9992120353519268, 0.9974399414242865, 0.9951611829225347, 0.9998920140850764, 0.9995366972189226, 0.9954561498945949, 0.9956323475051758, 0.992392022761916, 0.9970311543233106, 0.9951611829225347, 0.9951974130556165, 0.9987813645644269, 0.9989917131627782, 0.9992337617033538, 0.9951413295388041, 0.9951985255011351, 0.9951974130556165, 0.9996875165993768, 0.9982232825980921, 0.9951515960142067, 0.99941553305106, 0.9992580677200147, 0.9980484800590421, 0.9980308529363903, 0.9960141423353902, 0.9988643376363598, 0.9951515960142067, 0.9922055396454733, 0.9979768355986657, 0.997034875044443, 0.999628867134227, 0.9981783832612589, 0.9997568868967909, 0.9977014110998661, 0.9996717224542845, 0.9997397474591456, 0.9996981641010946, 0.9922112370882967, 0.9979477339309927, 0.9964389210351907, 0.9957615446612574, 0.9995755470289709, 0.9985247570556541, 0.9997949301029642, 0.9947089043119739, 0.9992926838986464, 0.9982480677224949, 0.9959843302004734, 0.9998754857608552, 0.9996778309233316, 0.9986715444402932, 0.9951515960142067, 0.9953251206557231, 0.9952628463700863, 0.995163508068736, 0.9950440608705606, 0.9951974130556165, 0.9951515960142067, 0.9986312229731243, 0.9997510006527145, 0.9996778309233316, 0.9951974130556165, 0.9951974130556165, 0.9996076324208552, 0.9976694140136281, 0.9979380561879972, 0.9982829892812465, 0.9996684285303891, 0.9961104640031545, 0.9936360926193724, 0.9982342633886885, 0.9982705307865577, 0.998723448296188, 0.9996816309238585, 0.9997880355965867, 0.9997937974357128, 0.9951974130556165, 0.9997510006527145, 0.9968982083061374, 0.9959506345206927, 0.9990204375183952, 0.9964389210351907, 0.9957572406692203, 0.9951974130556165, 0.9980415817766789, 0.9985233473425696, 0.9975362545708889, 0.9996040703528125, 0.9966680796969061, 0.9964525600408292, 0.9964525600408292, 0.9994637952244675, 0.9939571645085112, 0.9971734500324666, 0.9960923632152163, 0.9954681544492917, 0.9949967549665168, 0.9980444100503568, 0.9980829219119213, 0.9943331505962439, 0.9978002194394563, 0.9999329845971501, 0.9962662523909567, 0.9988253521229382, 0.9988883277355949, 0.9998013171988483, 0.9994723494759084, 0.998329798189176, 0.9989201287090793, 0.9981059637446366, 0.9987087146640027, 0.9983906497072731, 0.996158498554343, 0.991821815005325, 0.9970920728450945, 0.9987531971202078, 0.9988866916782716, 0.999001100796133, 0.9988704673220725, 0.9987701268739305, 0.9987851934155876, 0.9952711250402524, 0.9995717763212535, 0.9967227358756712, 0.99530359011711, 0.9945808304774536, 0.9988253521229382, 0.9965956777360602, 0.9982539026503929, 0.9951317864379656, 0.9982542012386754, 0.9983769540208676, 0.9984893470892755, 0.9989953214689115, 0.9988803211145455, 0.9978400659823994, 0.9996010538193012, 0.9983370747766559, 0.9953854862921312, 0.999378272580063, 0.995568693775622, 0.9976957854652765, 0.9975701854303995, 0.9988015470411303, 0.9988882338667676, 0.9979814370354443, 0.9977847166093341, 0.9982539026503929, 0.9987148695555877, 0.9982789203068125, 0.9946541429168745, 0.9911788416926547, 0.9951974130556165, 0.9951515960142067, 0.9988496274594424, 0.9976524795257068, 0.9972001898823565, 0.9965128507619032, 0.9950896222381161, 0.9942228149666412, 0.9983588076053065, 0.9988253521229382, 0.9989206603578265, 0.9989206603578265, 0.9993618874655329, 0.9961986520641251, 0.999229784294674, 0.9985224913949525, 0.9990118536364125, 0.9992936744031929, 0.9957197357408377, 0.9997661844543938, 0.9987480262469669, 0.9972179870763964, 0.9992418920653018, 0.9986952782673815, 0.9951974130556165, 0.9972659938541258, 0.999331300097072, 0.9984872512422385, 0.9972231024323347, 0.9986391010775784, 0.9951919899491366, 0.9951705580076756, 0.9946322006065698, 0.9940915934891716, 0.9975481746570095, 0.9995146592740626, 0.9997555704218801, 0.9953236146280479, 0.9997313739638802, 0.9995718919230903, 0.9998983282445418, 0.9951974130556165, 0.9951974130556165, 0.9985280408234869, 0.9995268917399647, 0.9931495479184758, 0.9951797213426052, 0.9951515960142067, 0.9951515960142067, 0.9999029412163041, 0.9988831463672001, 0.9989938167955827, 0.9993023145056514, 0.995999197450838, 0.9996034424999403, 0.9960622213769817, 0.9992775207005279, 0.9979292748408429, 0.9951974130556165, 0.9951974130556165, 0.9997568868967909, 0.9950896222381161, 0.9963487196942592, 0.995429167416736, 0.9971169997246424, 0.9997705594274832, 0.9958521891393091, 0.9963461125083246, 0.9994680749728039, 0.9992883713317467, 0.9993517563873597, 0.9999620342915835, 0.9951004815969595, 0.9951417972100912, 0.9951886730006764, 0.9951004815969595, 0.9949823251386863, 0.9993309405670995, 0.9988663192911732, 0.9982828065046985, 0.9951438183625477, 0.9995031963841156, 0.9994858128037658, 0.9996621843983392, 0.997415036007676, 0.9984078924221121, 0.9951974130556165, 0.9951974130556165, 0.9951417972100912, 0.9945597132356411, 0.9988663192911732, 0.995387393552202, 0.9994958278553564, 0.9951797213426052, 0.9951004815969595, 0.9987253271903845, 0.9973232550220913, 0.9980424621203264, 0.9997477008426624, 0.9951974130556165, 0.9951515960142067, 0.9951797213426052, 0.9949823251386863, 0.9951886730006764, 0.9951977500762612, 0.9950440608705606, 0.9999201314205126, 0.9973554514899999, 0.9985462517051409, 0.9961394812464208, 0.9964413731296436, 0.9951417972100912, 0.9951797213426052, 0.9951111287026787, 0.9950896222381161, 0.9992579974139245, 0.9967356790152487, 0.9992330916383594, 0.9956429111203321, 0.9996684285303891, 0.9951004815969595, 0.9951317864379656, 0.9950785505558163, 0.9989553990517107, 0.9954901089068452, 0.9989142678657317, 0.9992356483593606, 0.9991124303568754, 0.999482772672989, 0.9980621311476126, 0.9901078380213447, 0.9951797213426052, 0.993292328837362, 0.9966572720732865, 0.9961394812464208, 0.9951111287026787, 0.9951111287026787, 0.9951797213426052, 0.9951111287026787, 0.9951705580076756, 0.9996402834074075, 0.9958972968214395, 0.9955827387970612, 0.9995075129172629, 0.9991133367967557, 0.9970141067642242, 0.9998795043166432, 0.9949823251386863, 0.9975251956456642, 0.9993618874655329, 0.9946281080465211, 0.9951515960142067, 0.9947885879923282, 0.9951111287026787, 0.9971778737752917, 0.9995281127335666, 0.9951111287026787, 0.9951797213426052, 0.9995509651791535, 0.9951004815969595, 0.9991799481794228, 0.9924739636449913, 0.9949748107593775, 0.9951417972100912, 0.9951705580076756, 0.9978662283712799, 0.9951974130556165, 0.9996819749376629, 0.9971711711996094, 0.9936328542076327, 0.9951111287026787, 0.9997008695176193, 0.9960376330765042, 0.9925760488182953, 0.9998449101872596, 0.999839925273657, 0.9997038605911924, 0.9998374322808303, 0.9951974130556165, 0.9949012145613376, 0.994914238406779, 0.9991293790207597, 0.9951004815969595, 0.9951974130556165, 0.997186519852179, 0.9951974130556165, 0.9951974130556165, 0.9982470055883168, 0.9998319733189894, 0.9977241959634985, 0.9997797040127409, 0.9997898285455811, 0.9951111287026787, 0.9951705580076756, 0.9950321391987192, 0.9950557699414204, 0.995225966079734, 0.9987636860157435, 0.9984588806874796, 0.995636481116537, 0.9966407072467472, 0.9985755776211898, 0.9981157540719757, 0.9950351054446326, 0.9968668246513672, 0.9945224260269321, 0.9950266843886152, 0.9974224231264035, 0.9981447540953858, 0.9966813094215595, 0.9965909307663258, 0.996243168919638, 0.9911364109286815, 0.9908801126914715, 0.9916651987623767, 0.9946516555537522, 0.9913847957868458, 0.9942685548628597, 0.9961398636445155, 0.9979958035465902, 0.990302944302682, 0.9933403881939928, 0.9927531013536366, 0.9927531013536366, 0.9988232113556513, 0.9976583832042749, 0.9976649751849952, 0.997504515697749, 0.9966813094215595, 0.9932517251900335, 0.9940708450685747, 0.9961398636445155, 0.9910829184932652, 0.99884428013748, 0.9988016017123196, 0.9915948486908848, 0.9950956887351597, 0.9960804768215478, 0.9964881284136531, 0.9932517251900335, 0.9968384328338528, 0.995588256540019, 0.9955635911991272, 0.9908276432277311, 0.9915232907810111, 0.999201866110294, 0.9994761546179264, 0.9992040075245516, 0.999655676346604, 0.9920774825096336, 0.9920041257867245, 0.9941704630892928, 0.9939444014106736, 0.9981680659460465, 0.9917080395690926, 0.9900960829944576, 0.9961966889119245, 0.9951193619019436, 0.9975562297681907, 0.99471152256144, 0.9954365412022878, 0.9957442558207831, 0.9956735548850639, 0.9936680600594413, 0.9961431090459629, 0.9958894061864432, 0.9930413018150073, 0.9930413018150073, 0.9934097771506867, 0.9928429160797428, 0.9974802649271771, 0.9949356468882572, 0.9973739562594308, 0.9966834375937945, 0.9954847217450538, 0.9923258587150188, 0.9972965123511903, 0.9920572257935878, 0.9954850781464334, 0.9972999932580322, 0.9954158287610588, 0.9949961745145169, 0.9922244372090968, 0.9907679376340187, 0.9973928041445722, 0.9916677174974393, 0.9993838891448802, 0.9963165583111461, 0.9960898835875445, 0.9935100716238093, 0.9908922252254058, 0.9973304149355668, 0.9970658484211976, 0.9979460119926331, 0.9936171708561852, 0.9937041662075913, 0.9993985737030655, 0.9948111843177466, 0.9929044322090365, 0.996254099191194, 0.9929044322090365, 0.9920212103440323, 0.9956406633096699, 0.993911063482551, 0.9947896503252159, 0.9966108077652116, 0.9947768496817819, 0.9920762500963671, 0.9966108077652116, 0.9981724155762498, 0.9936609640019795, 0.9966108077652116, 0.9970935797071265, 0.995369552428883, 0.9965764250456172, 0.9966108077652116, 0.996226449218682, 0.9908486212075222, 0.9908486212075222, 0.9903855192794319, 0.9953388829474761, 0.9931094780842136, 0.9982854690400663, 0.9982865803342409, 0.9943469689052497, 0.9996684285303891, 0.997640062709179, 0.9976459454525883, 0.9942038604301414, 0.9988058969050312, 0.9991868459194906, 0.9991868459194906, 0.9993856087564598, 0.9993856087564598, 0.9989732365975914, 0.9996456843577318, 0.9996456843577318, 0.9991420678127116, 0.9991420678127116, 0.9988663192911732, 0.9952263643319799, 0.9993856087564598, 0.9993856087564598, 0.9945263836794744, 0.9955677999524878, 0.9950848210319647, 0.9944728831153646, 0.9975722965301099, 0.9982196828824303, 0.9937532395898345, 0.9991420678127116, 0.9991420678127116, 0.9988663192911732, 0.9962567600838652, 0.9952263643319799, 0.9993856087564598, 0.9993856087564598, 0.9990876733063893, 0.990776271074142, 0.9968050263507795, 0.9962312249722498, 0.99512471643357, 0.9997568868967909, 0.9965377863923315, 0.9976068598914777, 0.9991388628712262, 0.9988663192911732, 0.9973833168239626, 0.9952226119958165, 0.9988198260555676, 0.9993856087564598, 0.9991388628712262, 0.9962567600838652, 0.9993856087564598, 0.9944934123790662, 0.997838936637895, 0.9972080466485702, 0.9996684285303891, 0.9992514366304318, 0.9996718340763854, 0.9996684285303891, 0.9945432839795137, 0.9997937974357128, 0.9989277893569227, 0.9990670859290786, 0.9962208209594933, 0.997295841645507, 0.9964275172709828, 0.9922116904645372, 0.997501417355536, 0.9968609643988409, 0.9994962983965973, 0.9988755454980208, 0.9969061220715566, 0.997640062709179, 0.9975722965301099, 0.9976459454525883, 0.9956313037396017, 0.9997937974357128, 0.9973594031829812, 0.997732490250648, 0.9968765345172439, 0.9971396533041663, 0.9980218018118667, 0.9980031848940455, 0.9984125560713777, 0.99949860017216, 0.9994578530206469, 0.99949860017216, 0.9922712148418482, 0.9979733808924424, 0.9976328802845018, 0.993847768594324, 0.9968609643988409, 0.9973971588815244, 0.9978254577448964, 0.9963769138139629, 0.9973971588815244, 0.9953250236655043, 0.9990781961846966, 0.9953038990312115, 0.9993425889146927, 0.9972876419617921, 0.9966404853592243, 0.9937496329834332, 0.9976459454525883, 0.9976068598914777, 0.9970454357353226, 0.9945503399743212, 0.9979224036750839, 0.9979224036750839, 0.9979224036750839, 0.9922836704727951, 0.9905771852445839, 0.992561549301162, 0.9974119849757676, 0.9947382323235308, 0.9954204484251243, 0.9933439456167624, 0.9909437985124189, 0.9971739568331129, 0.9992139551316541, 0.9925265578645914, 0.991242652015612, 0.9925749660180818, 0.9925384445369004, 0.9977614768766365, 0.9977614768766365, 0.9977614768766365, 0.9962063542156407, 0.9974700033815573, 0.996178426860985, 0.9974700033815573, 0.9996684285303891, 0.9955592622774191, 0.9997991147878579, 0.9974700033815573, 0.9974700033815573, 0.9980095600128372, 0.9923439643596056, 0.9975704503518513, 0.9987279916414167, 0.9955592622774191, 0.9976920054359962, 0.9944303071877368, 0.9934085765822671, 0.9978464017284552, 0.997180420671532, 0.9987521450812602, 0.9925551167194154, 0.9964050905445931, 0.9964050905445931, 0.9964050905445931, 0.9964050905445931, 0.9931583577879126, 0.9986158354510123, 0.9932445498382262, 0.9955635911991272, 0.9970311543233106, 0.9922887421055954, 0.994421996443016, 0.9961986520641251, 0.9973205167752621, 0.9942779460527332, 0.9945196101808474, 0.9901551368117717, 0.9942487964022125, 0.9974726941962991, 0.9979580005113002, 0.9918007750869466, 0.9936168883340398, 0.996381131337475, 0.9945170208750093, 0.9928002535179138, 0.9956546118717435, 0.9923549098355147, 0.998542907947825, 0.9928832872080988, 0.9973448322808642, 0.9982598533691468, 0.9991517488646744, 0.99981678982925, 0.9956546118717435, 0.9969065169371149, 0.9933994657080403, 0.9969611806979438, 0.9969611806979438, 0.9951705128705676, 0.9951705128705676, 0.9955594573119751, 0.9973197744965577, 0.9959426274375539, 0.991390748051311, 0.9906457666992078, 0.9961713262353875, 0.9961713262353875, 0.9947931322153446, 0.9946054895455688, 0.9946054895455688, 0.9900984950978539, 0.9951322076985212, 0.99541337558163, 0.9936075872274853, 0.9976784177977369, 0.9959426274375539, 0.9976784177977369, 0.9976784177977369, 0.9976010710570482, 0.9921339400837204, 0.9969893104953574, 0.991014214627293, 0.9956546118717435, 0.9956546118717435, 0.9951322076985212, 0.9951705128705676, 0.9966382394493883, 0.9951322076985212, 0.9952529991721083, 0.998653665250934, 0.9951705128705676, 0.9956546118717435, 0.995629761867353, 0.9956546118717435, 0.9991940225674505, 0.9991146345360753, 0.9956546118717435, 0.992079196215051, 0.9940841386798349, 0.9940841386798349, 0.9955236713140448, 0.9955236713140448, 0.9971146118626381, 0.9971146118626381, 0.9947885252338405, 0.9951322076985212, 0.9996527021689963, 0.9900620074731876, 0.9955594573119751, 0.9976067079375206, 0.995873512082785, 0.9937262202951322, 0.9935345756328843, 0.994794642329108, 0.9960091167626874, 0.9946839253986025, 0.9947979837913188, 0.9947979837913188, 0.9914217799247774, 0.9926853725578417, 0.9968512405388031, 0.9929476548632444, 0.9920642138199524, 0.9975435451602731, 0.9953008503392411, 0.9911975960215181, 0.998916933971153, 0.9974842807972163, 0.9960676879400719, 0.9931259557264576, 0.9943336465468587, 0.994606646922684, 0.997069803839288, 0.990670975497497, 0.9916739295278969, 0.9977355196200507, 0.9989070593462244, 0.9940891619950538, 0.990619173478615, 0.999517084839606, 0.993737336405285, 0.993036934983368, 0.995258999211704, 0.9933804605830706, 0.9962034475513635, 0.9932110706747002, 0.9938989285405404, 0.9997355050956076, 0.9997355050956076, 0.9959293513027988, 0.9997355050956076, 0.9997355050956076, 0.9951277859559108, 0.9957786550043061, 0.9923751121380505, 0.9995471432195601, 0.9963993314564308, 0.9903300859613989, 0.9990208662589468, 0.9983232552835704, 0.9946092602457262, 0.9990098364860052, 0.9991291049290015, 0.9991623462464295, 0.991997380973281, 0.9921744489586322, 0.9975177067103077, 0.992917790527496, 0.9937643899473796, 0.997201269716929, 0.9935441574533084, 0.9969248629732915, 0.9975393174945992, 0.9969248629732915, 0.9904083651309628, 0.9957067629936837, 0.996617950497211, 0.9932155279779653, 0.9985744006834669, 0.9926037619312289, 0.9918077323221449, 0.9903461951789638, 0.9903461951789638, 0.9901078556260982, 0.9981254880863313, 0.9918639559026156, 0.9904702301767301, 0.9957209618277711, 0.9911695680511703, 0.9904702301767301, 0.9922831034896271, 0.994020731553351, 0.9920515048740284, 0.9922555045956425, 0.9911769266370705, 0.9904469055793232, 0.9950699084763083, 0.9967702870776909, 0.9916127798547228, 0.995200331518118, 0.9934924677143433, 0.9954673179911722, 0.9959893199584465, 0.9923469067512463, 0.9900626642391894, 0.9996100756963089, 0.9970154805434289, 0.9965452743490759, 0.9946846361512364, 0.9917223291238454, 0.9922555045956425, 0.9977042759902102, 0.9931228046323308, 0.9939818242065674, 0.997921207076141, 0.9950234838715983, 0.9934134383457613, 0.9937521382018272, 0.993869830489429, 0.9919680418078421, 0.9962278335569607, 0.9928120093550502, 0.999361616126302, 0.9934763677354326, 0.9935542199823361, 0.9964628685214751, 0.9929164584757488, 0.9917268576362513, 0.9960018223832301, 0.9904807360830198, 0.991013017430141, 0.9905735270549926, 0.9904189461231111, 0.992623464727035, 0.9950601460990834, 0.9927468861022081, 0.9948793910751268, 0.9922561004114716, 0.9900862009425059, 0.9903461951789638, 0.9900862009425059, 0.9904469055793232, 0.9968948095318818, 0.9904814159722897, 0.9904814159722897, 0.9980668293312405, 0.9921094504240517, 0.9975873184027914, 0.9931567848877715, 0.9929899824702053, 0.9964971237668068, 0.9909330895467287, 0.9907902049649124, 0.9910182793626444, 0.993191751238205, 0.9913694139020347, 0.9993488258862392, 0.9943753183629395, 0.9957921075299349, 0.9998253585303941, 0.9974133519538727, 0.9981849880359975, 0.9996433474275785, 0.9946303663910987, 0.9901212688750934, 0.9980580775259181, 0.9980580775259181, 0.9981138818356758, 0.9979337519411027, 0.9980580775259181, 0.997388711727501, 0.9979337519411027, 0.9981848364891781, 0.9971088330338951, 0.9979337519411027, 0.9981125266445693, 0.9980580775259181, 0.9983258869880139, 0.9912371743452076, 0.9951205257008744, 0.9952189228035676, 0.9942346844164196, 0.9919294944359321, 0.9926789664874335, 0.9935595928070701, 0.9939778576906658, 0.9927795056520567, 0.9927795056520567, 0.9927795056520567, 0.9923853604790354, 0.9927200415036265, 0.9948977513454981, 0.9994217417968807, 0.9994818361407679, 0.9963064069489451, 0.9903764617722243, 0.9991704327803976, 0.9974168253711413, 0.9928179440045757, 0.99591205279423, 0.9934034544337303, 0.9958230808149946, 0.9958230808149946, 0.9958230808149946, 0.9958230808149946, 0.9949380035980283, 0.9931495479184758, 0.9911285028635318, 0.9923848844330216, 0.9951974130556165, 0.994293878518352, 0.9923393008398624, 0.9950427960458681, 0.9922062712053109, 0.9910754998904628, 0.9966182902548213, 0.9966225541871692, 0.995815744136143, 0.995815744136143, 0.995815744136143, 0.995815744136143, 0.995815744136143, 0.995815744136143, 0.995815744136143, 0.995815744136143, 0.995815744136143, 0.995815744136143, 0.9978586988362551, 0.9962953283258026, 0.9982681687325542, 0.9988143515877651, 0.9985527990571493, 0.9976165081088945, 0.9977174917517561, 0.9977174917517561, 0.9977174917517561, 0.9976249453727533, 0.9980308295395656, 0.9980308295395656, 0.9932087190748738, 0.991780766931889, 0.9910242372159123, 0.9991828405306451, 0.9946551305759326, 0.9938730226955149, 0.9930431336038725, 0.9912467282418808, 0.9911424633685967, 0.9930431336038725, 0.9961063255080886, 0.9918079629546926, 0.9918079629546926, 0.9918079629546926, 0.9993649648634576, 0.9993594202763133, 0.9954251262979839, 0.9973682391935548, 0.9989264310427836, 0.9973682391935548, 0.9968242434366055, 0.9979337519411027, 0.9981138818356758, 0.9948794374463517, 0.9937313040052844, 0.9967440925221988, 0.9931835169705069, 0.9965987777094453, 0.996138948785475, 0.9991090056839935, 0.9970271206140339, 0.993536707220048, 0.9951566041121592, 0.9945816371269353, 0.9912614184214608, 0.9972899062808248, 0.9978934621231758, 0.9955144021725211, 0.996184148973829, 0.9963204607889886, 0.9950069797614043, 0.9938421704314878, 0.9938609202369657, 0.9938421704314878, 0.9966594403306125, 0.9914467924003586, 0.9957794449933374, 0.9957794449933374, 0.9957794449933374, 0.9957794449933374, 0.9957794449933374, 0.9957794449933374, 0.9957794449933374, 0.9957794449933374, 0.9957794449933374, 0.9957794449933374, 0.9957087969536402, 0.9957087969536402, 0.9957087969536402, 0.9957087969536402, 0.9980828683858186, 0.9982165122324376, 0.9980828683858186, 0.9957196479102183, 0.9957196479102183, 0.9957196479102183, 0.9957196479102183, 0.9957196479102183, 0.9957087969536402, 0.9933781347689159, 0.9903723472143348, 0.9966957762699354, 0.9957087969536402, 0.9957087969536402, 0.9957087969536402, 0.9957087969536402, 0.9957087969536402, 0.9957087969536402, 0.9957087969536402, 0.9957087969536402, 0.9957087969536402, 0.9988663192911732, 0.9911814507712486, 0.993244919164309, 0.9957087969536402, 0.9910754998904628, 0.9997047790873843, 0.9997047790873843, 0.9987419204711577, 0.9943030306756967, 0.9957674811169015, 0.9957439787993786, 0.9952019469081217, 0.9972899062808248, 0.9952019469081217, 0.9997880355965867, 0.9993649648634576, 0.9946041081158059, 0.9993497349224402, 0.9993014074008942, 0.9985793898407045, 0.9993497349224402, 0.9993497349224402, 0.9918589874828028, 0.993331513461568, 0.9952522830186402, 0.9953769075264091, 0.9940513110024298, 0.992242193306043, 0.992242193306043, 0.9963737667415714, 0.9941106824890715, 0.9924763265360462, 0.9971739568331129, 0.9956195764026073, 0.9956195764026073, 0.9971739568331129, 0.9956048617753815, 0.9948662633581298, 0.9947181311710437, 0.9948488148224196, 0.992518975564841, 0.9992705769798967, 0.9993793052458614, 0.9997896029093833, 0.9998984899684221, 0.9989059455232764, 0.997484046096369, 0.9975679047112171, 0.9996326583386118, 0.9978294375986654, 0.9990869284074343, 0.9997386513151556, 0.9989076602135343, 0.9957716792293997, 0.9996778448135866, 0.9984279158216437, 0.9998145760792035, 0.9993649648634576, 0.9986723565962807, 0.991742930706655, 0.9990452468673506, 0.9982596788381782, 0.9986415508817025, 0.9972730657037359, 0.9995057678732986, 0.9994916477079762, 0.9994019625422413, 0.9995057678732986, 0.9998723273059695, 0.9998696860240217, 0.9984363839900793, 0.9992086250424648, 0.9984262522646988, 0.9956267104053451, 0.9988335688019613, 0.9995573163563689, 0.9994490398119689, 0.9991535171543036, 0.9991535171543036, 0.9987430130890016, 0.997561757474912, 0.9994467350320694, 0.9989071719253616, 0.9961111290209719, 0.9988945774028014, 0.9996141865260982, 0.9987520000943583, 0.9961111290209719, 0.9988891427625514, 0.9989285768872992, 0.9990360978625324, 0.9993636177816786, 0.9996757791375571, 0.9976328802845018, 0.9968699812969226, 0.9976348123543055, 0.9978305271209112, 0.9991828405306451, 0.9990854377663291, 0.9996440009470413, 0.9973304149355668, 0.9997856479797562, 0.9997856479797562, 0.9995212921503591, 0.9991844455178898, 0.9998102163061631, 0.9982542379128914, 0.9999611632173226, 0.9993997066242755, 0.9993708543414792, 0.9989363642105282, 0.9999445899660124, 0.9998466234168346, 0.9993432638638852, 0.9988165278031931, 0.9994138048133839, 0.9993308097020015, 0.9954486160580368, 0.998054127006004, 0.9987589025483699, 0.9993471106669971, 0.9998194859590263, 0.99995476855604, 0.9990288441265682, 0.9972774439472961, 0.9973748135353934, 0.9990650325546047, 0.9996507764123655, 0.9990650325546047, 0.9997341639943695, 0.998542861395543, 0.9992393969825726, 0.9989511869126997, 0.9998911833158859, 0.9992535951890134, 0.999075867717907, 0.999177525643216, 0.9969483992271873, 0.9969502575094966, 0.998915263607631, 0.9983675588341153, 0.9986202721526586, 0.9967755085918649, 0.9986632705604732, 0.9997533745350939, 0.9993609094800402, 0.9997305206656074, 0.9997305206656074, 0.997305931979532, 0.9980342531838506, 0.9987183573831813, 0.9987183573831813, 0.9964398689069928, 0.999123143617448, 0.9991294713917611, 0.9973911230634362, 0.9980906098913994, 0.999564575359435, 0.9997882782052998, 0.997907247412346, 0.999762245501274, 0.9991966390902466, 0.9996514610763306, 0.9997691933284395, 0.9996236584423948, 0.9979876428735417, 0.9984436505993766, 0.9996931575007942, 0.9981538088134376, 0.9963904088542817, 0.9997391097090773, 0.9980624708933189, 0.9993107626138538, 0.9998517717132183, 0.9979411518076512, 0.9997659780814145, 0.9990816265903757, 0.9993649648634576, 0.9990360978625324, 0.9982328638818803, 0.9978450369052124, 0.9931071104112569, 0.9982057182311009, 0.999002044732027, 0.999002044732027, 0.9989717749260323, 0.997350926813823, 0.9970965450519693, 0.9946023968486962, 0.9995196031705239, 0.9992750017566885, 0.9991293030103727, 0.9995196031705239, 0.9939682467152814, 0.9999272458632311, 0.9979282574134749, 0.9992965098324308, 0.9953663861150355, 0.9995340534691644, 0.9993876007228382, 0.9961123288521031, 0.999550085877202, 0.9998549824892459, 0.9998516870324285, 0.9994592977613801, 0.9912788457124465, 0.9992170523826297, 0.9951974130556165, 0.9995530761239048, 0.9951974130556165, 0.9997881998108878, 0.9979800788745726, 0.9976200150734834, 0.9984298203207723, 0.9994464667548133, 0.9993869083151878, 0.9993778178537147, 0.9956269930159494, 0.9998515824142625, 0.9940756336476628, 0.9932089915165155, 0.9996136841786502, 0.9998665889935935, 0.9999401764545118, 0.9983888913541578, 0.998882478648422, 0.9961141439860299, 0.9978643094137842, 0.9985825241215128, 0.9995693420006069, 0.9966254516640302, 0.9971755026225526, 0.9971367002706664, 0.9993355797253174, 0.9981070202067046, 0.9998775324128081, 0.9961986520641251, 0.999346856686913, 0.9978294375986654, 0.999564575359435, 0.9997457468805593, 0.996001972414338, 0.9986232605981356, 0.9974575214478547, 0.9988691609153062, 0.9961043015868988, 0.9998441408603292, 0.9989206603578265, 0.9930038382022899, 0.9998494745104802, 0.9998163113251265, 0.996077690012312, 0.9996152186951187, 0.997305931979532, 0.9979614381087749, 0.9983545256331826, 0.9986029547377103, 0.9996031573656303, 0.9996566860213615, 0.9996214847085019, 0.9999066444843695, 0.999311411427198, 0.998282480822595, 0.9987911049624333, 0.9989026770855661, 0.9961986520641251, 0.9999583714361878, 0.9992341904712956, 0.9973924898594604, 0.9965432153443825, 0.9998277667592461, 0.999612819200313, 0.9997109112367949, 0.9996420501141098, 0.9962840469254353, 0.9998504494936425, 0.9981121002220331, 0.998901860876383, 0.9994620382768824, 0.9999283233722068, 0.9910754998904628, 0.9994527749290737, 0.9989157117980184, 0.9997294526175158, 0.9938403646379984, 0.9964233293886912, 0.9994436860725524, 0.9986444347584738, 0.9981661595294347, 0.9983911331601575, 0.9989121780122464, 0.9961986520641251, 0.9982257220004066, 0.9998022414253694, 0.9997771679985411, 0.9995485244599238, 0.9993090956321707, 0.9973205234346245, 0.9998708913238216, 0.9965680241393852, 0.9987095164272944, 0.9935756017771219, 0.9997521493043724, 0.9996702225492953, 0.999081234703041, 0.9986092034300347, 0.9985439529281575, 0.9988696499220044, 0.9998245428127309, 0.9997490213741526, 0.9998571467848079, 0.9990624800791376, 0.9998968327764195, 0.9994265455392086, 0.9999823952889634, 0.9992967701193638, 0.9993096325918316, 0.9990347893919167, 0.997772674298617, 0.9987982690918131, 0.9926126192681688, 0.9958490900027848, 0.9957798990264789, 0.9990803038683113, 0.9987795040844921, 0.9996146392390332, 0.9998984832808062, 0.9999285900687408, 0.9998466538283696, 0.9974971613293724, 0.9998570350600257, 0.9992086731760201, 0.9968620646683107, 0.9957728182658089, 0.9991057301272988, 0.9960077415959334, 0.9991917170205015, 0.9986761284824489, 0.9986761284824489, 0.9980438116371874, 0.999890999030375, 0.9964233293886912, 0.9990388863839139, 0.9993660582469823, 0.9991525353384738, 0.9986761284824489, 0.9999592661666274, 0.9994137935739992, 0.9991778816283202, 0.9989276402752669, 0.999880938876972, 0.9998346230315719, 0.9981745453179595, 0.997940025931304, 0.9999866733029893, 0.9985696400755291, 0.9955299980292088, 0.9974360817652929, 0.9982244388804826, 0.999785496692099, 0.9993600113184876, 0.9997328628769876, 0.9969185887094947, 0.9996856106299302, 0.9932148713890661, 0.9971446473376259, 0.9993480270305088, 0.9988928721558407, 0.9990525666116084, 0.9991930674164148, 0.9996448881581829, 0.9990388863839139, 0.9990052927540602, 0.9999904761084315, 0.9998775324128081, 0.999764579734738, 0.9960967130150971, 0.9998145760792035, 0.9990052927540602, 0.9998601105227484, 0.9998542023343431, 0.9991421944187163, 0.999436230768502, 0.9996250217775078, 0.9990253519033082, 0.9991635211376076, 0.994663056574318, 0.9979876626583652, 0.9997894110904637, 0.9998533135341576, 0.9998621553442085, 0.9991585151020268, 0.9990072420388395, 0.9979058863283694, 0.9996975288245534, 0.9961267511175791, 0.9996649534821439, 0.9930223000854659, 0.9990982628562204, 0.9986178397240254, 0.9906396033125017, 0.9995754733002684, 0.9996506331853089, 0.9990200938424917, 0.99923506839118, 0.9987916250243674, 0.9996090068653087, 0.9993255678450111, 0.9993255678450111, 0.9993860582589932, 0.9998145760792035, 0.990500712453616, 0.9997350075407592, 0.99895531916062, 0.9971492025390495, 0.999881242354769, 0.9999722313761995, 0.9990706440704221, 0.9980623848804534, 0.9943349831989793, 0.9984352273041441, 0.998940099785872, 0.9997423491238548, 0.9995209350012593, 0.997794759425089, 0.9995719053641555, 0.9995587289750941, 0.9996997955840042, 0.9982934353442802, 0.9999116228835305, 0.9999092816448925, 0.9980623848804534, 0.9999970294400649, 0.9998495050153737, 0.9999416424586131, 0.9985554984346157, 0.9994085132401177, 0.9953001977535343, 0.9990303433391808, 0.9990303433391808, 0.9991567479144194, 0.996906777715492, 0.9963422912219854, 0.9996010339345721, 0.9987176138375917, 0.9969236404549497, 0.9972218084497605, 0.9988663192911732, 0.998233304183428, 0.9991651559390773, 0.9991654766703876, 0.9996012859844046, 0.9989806448145274, 0.9963525721398577, 0.9998233651864609, 0.9922055396454733, 0.9988663192911732, 0.9965432153443825, 0.9964031124627388, 0.9991781368381395, 0.999006126738377, 0.9948465666950113, 0.9988798029174533, 0.998175776365899, 0.9996400702138306, 0.9996659714963372, 0.999088649779566, 0.9992089733510715, 0.9964864889685683, 0.9990398862373491, 0.9961986520641251, 0.999573301462931, 0.9996146936006508, 0.9998465482847234, 0.999020340000885, 0.9982283616297557, 0.9996484435496655, 0.9997117973802158, 0.999142998440981, 0.999893662474977, 0.9983578015094388, 0.9970560987515388, 0.9952345281860199, 0.9999505831495961, 0.9976328802845018, 0.997343677404719, 0.9956944219624653, 0.9960648991498363, 0.9979765598735413, 0.9988663192911732, 0.9982748778139631, 0.9996149957660374, 0.997378794173536, 0.9985651364038604, 0.9988831463672001, 0.9999299192557569, 0.9997907191852445, 0.9974020098495114, 0.9948794374463517, 0.9996684285303891, 0.9989097824608711, 0.9987994447783987, 0.9989097824608711, 0.9954617391458755, 0.9989938776837824, 0.9988402244215464, 0.998559389464812, 0.9982354182686918, 0.9994775729637402, 0.9993976436120302, 0.9987087146640027, 0.9960077415959334, 0.999735754374888, 0.9996075933098476, 0.9997652336706848, 0.9982289912080851, 0.998446233479059, 0.9944973868169853, 0.9997937224510298, 0.9995576981965862, 0.9997230172064967, 0.9983236196225499, 0.9997611987542496, 0.9997538494991288, 0.9997611987542496, 0.9996680429254257, 0.9996573729584003, 0.9996680429254257, 0.9996680429254257, 0.9982307210434378, 0.9993897592516414, 0.9993897592516414, 0.9993876007228382, 0.9993847418788749, 0.9997548584468401, 0.9994794036668079, 0.9990504295756368, 0.9994449538834433, 0.9999008741762913, 0.9999396142752742, 0.9998594986535, 0.9995270358987923, 0.9974713968292745, 0.9972774439472961, 0.9993758312369809, 0.9985200906673622, 0.9948528688461558, 0.9996154253372477, 0.993065043783247, 0.997350926813823, 0.9992877284966835, 0.9993180492761269, 0.9995409177235369, 0.9974194593285696, 0.9981540562013302, 0.9993611977720076, 0.9982542379128914, 0.9973764383273577, 0.9988942658732651, 0.9993670436009408, 0.9983805326932679, 0.998924037331538, 0.9947750654784574, 0.9947750654784574, 0.9973304149355668, 0.9982257220004066, 0.9996186562823769, 0.9996396959666835, 0.9996659714963372, 0.9990570706829178, 0.9996475073491632, 0.9975660478926357, 0.9995458502934067, 0.9990732633482837, 0.9997769234006144, 0.9992898763417999, 0.9999038422202899, 0.9997891568082852, 0.9999665611721437, 0.9988946670573451, 0.9937184788999305, 0.9994873123166874, 0.9984243872356967, 0.9995780193429983, 0.998345336650767, 0.9931495479184758, 0.9972864923053407, 0.9994410092389163, 0.9998614981555379, 0.9996753762447586, 0.9930392199341054, 0.9953785264129821, 0.9926487979476424, 0.9993893342011579, 0.998927245756191, 0.998927245756191, 0.9982257220004066, 0.9982257220004066, 0.9990525666116084, 0.9984594563694332, 0.9998811273022803, 0.9991211441922455, 0.9989026770855661, 0.9997788924242413, 0.9962513500977124, 0.9961986520641251, 0.995538129892772, 0.996280691530645, 0.9992975900914565, 0.99762141202457, 0.9986937468571012, 0.9980737539955002, 0.999229217555583, 0.9991912595980005, 0.9997990765221313, 0.9976185586939148, 0.9976185586939148, 0.9985045190979553, 0.9983680553780834, 0.9984435578943035, 0.9984435578943035, 0.9979899275862631, 0.9996714823967542, 0.9992373073983509, 0.9995922219444914, 0.992846855641494, 0.9974422735226758, 0.9962063542156407, 0.9996573729584003, 0.9993776401955261, 0.9997477008426624, 0.9986204319337731, 0.9982879962142485, 0.999434482445499, 0.9988925722454836, 0.9991920480313629, 0.999673274952234, 0.9986204319337731, 0.9991836385879674, 0.9997175096156515, 0.998250880266997, 0.9972735660924288, 0.9997477008426624, 0.999467744424162, 0.9993877672943802, 0.9994426507738383, 0.9993776401955261, 0.9992912889479736, 0.9995554003139855, 0.9985087655874296, 0.9995335258000453, 0.9997477008426624, 0.999680674573908, 0.999680674573908, 0.9997645368867212, 0.9988925722454836, 0.9996680429254257, 0.9997319465576133, 0.9988831463672001, 0.9997428340976358, 0.9952562571859158, 0.9983919114209959, 0.9991317231786327, 0.9997788924242413, 0.9962275509339382, 0.9962275509339382, 0.9986404747774332, 0.9951546814142018, 0.9938083434046199, 0.9985935578174109, 0.9951546814142018, 0.9965474311705784, 0.9994184163723052, 0.9983517774970811, 0.9996478456605363, 0.9990124905176665, 0.9991133006098236, 0.9997264009358644, 0.999056467810997, 0.9982542379128914, 0.9992877284966835, 0.9995903146533752, 0.9969708682195498, 0.9982501084379697, 0.997405258299727, 0.9994129561621888, 0.9994794036668079, 0.9962737308276013, 0.996233979294133, 0.9981423790012607, 0.9966034186056598, 0.9990080923501593, 0.9984706562423137, 0.9987748898811786, 0.9998466433427097, 0.9977456599782841, 0.9973762498528501, 0.9996684285303891, 0.9982695455477945, 0.9995689363732146, 0.9997377285279989, 0.9998156106356382, 0.9999243667071115, 0.9982879962142485, 0.9997777218073556, 0.9994248280984267, 0.9997880355965867, 0.9991816846110715, 0.9983985423794653, 0.9997808370798008, 0.9982828065046985, 0.9982828065046985, 0.9991816846110715, 0.9989680743277379, 0.9972355651618869, 0.9951815181849781, 0.9991704631412294, 0.9991704631412294, 0.9991802649485402, 0.9991802649485402, 0.9993118479907395, 0.9999337416526093, 0.9999337416526093, 0.9993613273670713, 0.9997625999973004, 0.9997625999973004, 0.9988820944748902, 0.996280691530645, 0.9948977513454981, 0.9995102505264263, 0.9997066802621657, 0.9997428340976358, 0.9972549357812275, 0.9997066802621657, 0.9964392538040721, 0.9997066802621657, 0.999530971738139, 0.999632518024888, 0.9983980262581802, 0.9989026770855661, 0.9963185125503828, 0.9982748778139631, 0.9961986520641251, 0.9961986520641251, 0.9982820219294343, 0.9988925722454836, 0.9982879962142485, 0.9932941010130872, 0.9932941010130872, 0.9972083158995941, 0.9960721510815399, 0.9974020098495114, 0.9982300409373106, 0.9981198337351734, 0.9988891427625514, 0.9997118501192833, 0.9997791028126457, 0.9991251141607977, 0.9991457409439635, 0.998243737905541, 0.9931495479184758, 0.9995011849097196, 0.9969504741893708, 0.9980421285596974, 0.9992419585705585, 0.9997527849468291, 0.9991823577978707, 0.9982935728349104, 0.9988925722454836, 0.9936625903768409, 0.9979255388948703, 0.9997470082061723, 0.9992855154840661, 0.9973355530044976, 0.9966430557819229, 0.9984028381139394, 0.9982031055483794, 0.9997510006527145, 0.9985623796934682, 0.9972774439472961, 0.9996684285303891, 0.9961986520641251, 0.9992707243436293, 0.996280691530645, 0.9973477933083189, 0.9991452568349467, 0.9973980108560119, 0.9988945774028014, 0.9988945774028014, 0.9995423329723729, 0.9997371036667797, 0.9996809172179092, 0.9991279444373679, 0.998924468648313, 0.9989204638376343, 0.9988932973755985, 0.9996724282161411, 0.9989204638376343, 0.9989204638376343, 0.9989204638376343, 0.9990470653339356, 0.9991279444373679, 0.9990331880951254, 0.9990643906444758, 0.9998041336158011, 0.9990466595682239, 0.9990466595682239, 0.998207080467336, 0.9987471638605493, 0.9995567070407775, 0.9992391978369936, 0.9995789193566619, 0.9996476451009249, 0.9973538912100696, 0.9993876007228382, 0.9991480912093528, 0.9996399685461895, 0.9999894973201923, 0.9996396959666835, 0.9945347898125566, 0.9995696994090046, 0.9992277770763096, 0.9957845069770569, 0.997350926813823, 0.999456472479325, 0.999681317733169, 0.9996660904270871, 0.9997525691630187, 0.9920321645298287, 0.9921049606454673, 0.9982681687325542, 0.9909990410739913, 0.9996476086511744, 0.9999317294718123, 0.9993072649079033, 0.9992940125747474, 0.9992668841703625, 0.9983545256331826, 0.9990572836486784, 0.9993776401955261, 0.9993302327721221, 0.9961986520641251, 0.993520768566214, 0.9988739369973726, 0.9970439243525847, 0.9996742503073982, 0.9991314906948429, 0.9988663192911732, 0.9988663192911732, 0.9977843266372171, 0.9993487406902948, 0.9989264310427836, 0.9998700681746364, 0.9978014946046403, 0.9978014946046403, 0.9976746365832388, 0.9987323294407565, 0.9975671538199872, 0.9997792712752627, 0.998281298488434, 0.9932343557952467, 0.9933014302400415, 0.9997449135305219, 0.9988925722454836, 0.9994801852514594, 0.9982314723532699, 0.9994435635857987, 0.9988852160980419, 0.9991646251334427, 0.9992960029421905, 0.9989026770855661, 0.999378272580063, 0.9992960029421905, 0.9989026770855661, 0.9990302374795456, 0.9992889683836744, 0.9991646251334427, 0.9989026770855661, 0.9985639794642762, 0.9985561684534339, 0.9993530776299819, 0.999625719650323, 0.9996149957660374, 0.9993530776299819, 0.9997798297550202, 0.9997808370798008, 0.9997602207165165, 0.9997798297550202, 0.9995987295480426, 0.9961217605887435, 0.9986918670914451, 0.9982041537089216, 0.9993692088568873, 0.998705859837708, 0.9943745999843117, 0.9933714206617541, 0.9943745999843117, 0.9988172863724682, 0.9979624144219498, 0.9903484523524371, 0.9903484523524371, 0.9963004674852561, 0.997472400001381, 0.9904450463028562, 0.9907632196046839, 0.9908312677442122, 0.9990469111442896, 0.9997802351006952, 0.9994980759371341, 0.9998700681746364, 0.9992829759876998, 0.999069641633607, 0.9997486589846084, 0.9983805326932679, 0.9982748778139631, 0.9997757470922813, 0.9997663405066417, 0.9985904059028508, 0.999058507155934, 0.9982671200492922, 0.9994505135167402, 0.9991038746170369, 0.9991513121073331, 0.9982244388804826, 0.9981967386551149, 0.9982410179482445, 0.9991629394134396, 0.99977320040607, 0.9984291874646504, 0.9955347624583605, 0.9997869060313301, 0.9989677218851735, 0.998776956913505, 0.9993649648634576, 0.9983805326932679, 0.9983805326932679, 0.9988402244215464, 0.9988663192911732, 0.999498504639078, 0.9990829538552374, 0.999735173290296, 0.9997615892176049, 0.9993748948144164, 0.9985904059028508, 0.9983919114209959, 0.9961986520641251, 0.9961986520641251, 0.9997510482474407, 0.9985723443527157, 0.9996089823975773, 0.9992373073983509, 0.9985723443527157, 0.9994527896287265, 0.9996250217775078, 0.9998455257995227, 0.9912765202816056, 0.9932589650024664, 0.9946533176533933, 0.9988891427625514, 0.9975626035298181, 0.9973367490722735, 0.9991910175566673, 0.995185688063201, 0.9999250117699567, 0.9997780117587897, 0.9971462943561035, 0.9992263124384835, 0.9993304999290693, 0.9967465338985307, 0.9989493100172373, 0.9965399353453627, 0.9928651152306475, 0.9978479308625436, 0.9993776401955261, 0.9988558800406472, 0.9995522663722082, 0.9995522663722082, 0.9961688271185322, 0.9967341181930008, 0.9973989166577776, 0.9981943928641406, 0.9973989166577776, 0.9988556991767004, 0.9996929319226009, 0.9998866638761026, 0.999786917099306, 0.999377684702491, 0.9992142356272146, 0.9998834019704016, 0.9981981298142076, 0.9997273094362507, 0.9988831463672001, 0.9982748778139631, 0.9982748778139631, 0.9988865673694283, 0.9988865673694283, 0.9994450227873657, 0.9988891427625514, 0.996233979294133, 0.996233979294133, 0.9951170337815476, 0.9975756829192631, 0.9975978235317292, 0.9997781536550813, 0.9997468303430777, 0.9997751543519922, 0.9997037249126921, 0.9951974130556165, 0.9969105743845149, 0.9969105743845149, 0.9995968122547756, 0.9997247720060879, 0.9995665231843243, 0.9995489378440822, 0.9991156973464215, 0.9991156973464215, 0.9983676195850346, 0.9993064561390586, 0.9993877672943802, 0.9994290438836075, 0.999420816225878, 0.9993064561390586, 0.9997122158523569, 0.9997455502199513, 0.9996776299512554, 0.999142998440981, 0.9996146936006508, 0.997651647439842, 0.9916041660828524, 0.9923139544346519, 0.999567639134928, 0.9991447812349191, 0.9995139031270488, 0.9982127965019609, 0.997350926813823, 0.9995115791088829, 0.9993808812995386, 0.999567639134928, 0.9993807105798911, 0.9993807105798911, 0.9990969777155335, 0.9949098389066061, 0.9961201312599283, 0.9997737786539986, 0.9976166145626807, 0.9993806961066928, 0.9912765202816056, 0.9995950644077943, 0.9993709696291199, 0.9997824770859917, 0.9980199392378414, 0.9994392174786614, 0.9981138711974485, 0.9985756722931474, 0.999180612968363, 0.9995535635357474, 0.9998690951062373, 0.9985904059028508, 0.9987218257003792, 0.9995219672186758, 0.9960679080010739, 0.9988498330712089, 0.9996220889975387, 0.9982123491576974, 0.9994218286948322, 0.9997769860881711, 0.9993758312369809, 0.9997003107371646, 0.9993934952482997, 0.9981054777231304, 0.9903218686819283, 0.9934162079409051, 0.9989264310427836, 0.9996195850484141, 0.9988942658732651, 0.9991484167996754, 0.9995494226625211, 0.9997626613861342, 0.9995506846008104, 0.999229217555583, 0.9964175551513287, 0.9994004833431016, 0.9995404528881207, 0.9982354182686918, 0.9993585589790251, 0.9988773025723069, 0.9982398135074622, 0.9982010973680716, 0.9982010973680716, 0.9953916323588338, 0.9997937974357128, 0.9997611987542496, 0.999673274952234, 0.9996989881093753, 0.9983676195850346, 0.9997180882401325, 0.998420656728346, 0.9989265212805337, 0.9991386227319936, 0.9984180773158271, 0.9995522663722082, 0.999782637254708, 0.997501089795811, 0.9997453760870845, 0.9996684285303891, 0.9995662479632365, 0.992846855641494, 0.9976029372157782, 0.9990945216103464, 0.9993247729900041, 0.9993624169471371, 0.9992337016520676, 0.9997637711056202, 0.9961407971971205, 0.9984455373805792, 0.9982542379128914, 0.9993916735065053, 0.9982057182311009, 0.9973939381158373, 0.9986924156657103, 0.9989494161157918, 0.9986924156657103, 0.9967660853958126, 0.9991494585094756, 0.9989440875398538, 0.997350926813823, 0.9984040132372711, 0.9987843471503702, 0.9987843471503702, 0.9987843471503702, 0.9997096092724158, 0.9997096092724158, 0.999229217555583, 0.9963047362453687, 0.9981028125659148, 0.999780872956275, 0.9973304149355668, 0.9982748778139631, 0.9982748778139631, 0.9988831463672001, 0.9974320386379889, 0.9986218734223989, 0.9982748778139631, 0.999673497141212, 0.9980038471598176, 0.9982748778139631, 0.9993776401955261, 0.9993107952341568, 0.998732666579083, 0.9979890814521742, 0.9982748778139631, 0.9982879962142485, 0.9962276813595657, 0.9996652659441204, 0.9967323438219186, 0.996233979294133, 0.9997824770859917, 0.9997882501388818, 0.9996254609394444, 0.9985134338204581, 0.9994004833431016, 0.9995404528881207, 0.9998906090227115, 0.9986227395454657, 0.9986227395454657, 0.9993649648634576, 0.9984591408856364, 0.9988663192911732, 0.9992433722206809, 0.9998573496574936, 0.9961775873317102, 0.998728783915461, 0.9985477961562316, 0.999177525643216, 0.9998540034987864, 0.9982291487268609, 0.9974757010759971, 0.9989774109530634, 0.9988891427625514, 0.999260859206589, 0.9974501311021874, 0.9925647777167047, 0.9974300872758556, 0.9982879962142485, 0.9952301283109241, 0.9996300618453438, 0.9964829108072445, 0.9956347252975263, 0.9994901755394491, 0.9993748948144164, 0.9931071104112569, 0.997680147569484, 0.9990958936437683, 0.9983622803806012, 0.9990301208104498, 0.9992805694716693, 0.9983805326932679, 0.998924037331538, 0.9991083291633395, 0.9982542379128914, 0.997411272544762, 0.9911257456967497, 0.9948747833311359, 0.9989494161157918, 0.9993649648634576, 0.9962613335357446, 0.9988831463672001, 0.996233979294133, 0.9994495579996365, 0.9991874908560239, 0.998776956913505, 0.9993520990473274, 0.9991945766073371, 0.9986204319337731, 0.9993748948144164, 0.9982542379128914, 0.9988831463672001, 0.9988925722454836, 0.9979890814521742, 0.9984842018619203, 0.9980580306251607, 0.9985293797450608, 0.9988831463672001, 0.9982648561659814, 0.9982820219294343, 0.9988831463672001, 0.996233979294133, 0.9988925722454836, 0.9995832565778497, 0.9992141499242698, 0.9991945766073371, 0.994282711246814, 0.9996758829137664, 0.9996758829137664, 0.9980906098913994, 0.9990498348756595, 0.9998375913771719, 0.998799013781854, 0.9975474433075415, 0.9997408135825343, 0.9996084061416675, 0.9996084061416675, 0.9976034233907763, 0.9993069562272084, 0.9977173489502899, 0.9995852156052626, 0.9996149944012727, 0.9989157117980184, 0.9977173489502899, 0.998924037331538, 0.998924037331538, 0.998239081540067, 0.9967656510752211, 0.9988950464056509, 0.9959880783499598, 0.9997708246509907, 0.9995580597808437, 0.999120434714594, 0.9994982827846378, 0.9961986520641251, 0.9997477008426624, 0.9988831463672001, 0.9997477008426624, 0.9976101435976622, 0.9997242655959978, 0.9996703526472644, 0.9988634078585482, 0.9995602332521847, 0.9994926334623859, 0.999177525643216, 0.9993748948144164, 0.9967656510752211, 0.9954619371719429, 0.9995424840666068, 0.9970090042637886, 0.9979226928917572, 0.9989276437457032, 0.9989204638376343, 0.9987042011929109, 0.9975660478926357, 0.9996680429254257, 0.9963819634689752, 0.9975449070586214, 0.9990932881103645, 0.9993041490138146, 0.9995146728643721, 0.9904464771129191, 0.9933714206617541, 0.9987697512719313, 0.9994540495025409, 0.9996675547247916, 0.9990913573073067, 0.9981725358217788, 0.998455182133038, 0.9993897631892458, 0.9982542379128914, 0.9949506695481589, 0.9988663192911732, 0.9987695333303919, 0.9995354663511031, 0.9989294072129031, 0.9990498348756595, 0.9912765202816056, 0.9982820219294343, 0.9962613335357446, 0.9960967130150971, 0.9993073689374756, 0.9982748778139631, 0.9993225370435854, 0.9986211586803891, 0.9990383399209831, 0.9990383399209831, 0.9933872381331521, 0.9946777543818417, 0.9946777543818417, 0.9951307204365836, 0.9981130295187136, 0.9989182350582917, 0.9996778309233316, 0.9961986520641251, 0.9996778309233316, 0.9996778309233316, 0.9996778309233316, 0.9996778309233316, 0.9996778309233316, 0.9977449335655008, 0.9979152969009633, 0.9986218734223989, 0.998927245756191, 0.9982689410230265, 0.9993876135972333, 0.9977611461106525, 0.9993096325918316, 0.9940684501933366, 0.997642436998428, 0.997642436998428, 0.9905362276662028, 0.9947005997538623, 0.9991685606756606, 0.9995216025108805, 0.999579310918, 0.9972217317645957, 0.9997070153212247, 0.9966507462945837, 0.998708336410121, 0.9966507462945837, 0.9966507462945837, 0.9997486589846084, 0.9997798297550202, 0.9966507462945837, 0.9929280950472165, 0.9941663235291756, 0.9966507462945837, 0.9962904053277969, 0.9994017550415691, 0.9966507462945837, 0.9992684410564288, 0.9988663192911732, 0.9971024150297433, 0.9973558271135203, 0.9990761790100869, 0.9975695247238071, 0.9988334566862911, 0.9997314558174217, 0.9929072956998638, 0.9924510353002025, 0.9975510695751204, 0.9997854127992474, 0.9999412182649652, 0.9991150263966568, 0.9994225431302535, 0.997350926813823, 0.9993828625425504, 0.9993828625425504, 0.9993828625425504, 0.9966375499374727, 0.9997585681225897, 0.9995227367070612, 0.9988891427625514, 0.9950066392784952, 0.9987309578783651, 0.9936734742153014, 0.9997966619222369, 0.99854545476523, 0.9997724290926688, 0.9997390341423823, 0.9997390341423823, 0.9997620151320156, 0.9994041752080985, 0.9999442398983361, 0.9999442398983361, 0.9999442398983361, 0.9994041752080985, 0.9980076967873428, 0.9990315350017656, 0.9971460699194636, 0.998528098406588, 0.9995782598182216, 0.9995782598182216, 0.9996684285303891, 0.9996684285303891, 0.9994629286045352, 0.9960893289852344, 0.9960893289852344, 0.9947458776589801, 0.9938115621277136, 0.9938731425694542, 0.9939247008095012, 0.9960355571033621, 0.9962565016502714, 0.9984811106412886, 0.9980114695123444, 0.999498692077836, 0.9990142009274633, 0.9979568244313979, 0.9980798357369186, 0.9980798357369186, 0.9990267072991743, 0.996233979294133, 0.99901614356601, 0.9999207928942759, 0.9997687773038965, 0.9997837605960097, 0.9998057474123708, 0.9972355651618869, 0.9973368705682971, 0.9988925722454836, 0.9993649648634576, 0.999985189392728, 0.9996705766332378, 0.9995006190619365, 0.9949098246124454, 0.9944979460867677, 0.9984053134864761, 0.9993748948144164, 0.9993425889146927, 0.9993425889146927, 0.9955893926725472, 0.9992138626730478, 0.9967943568997033, 0.9912927244311179, 0.9991295762046407, 0.9991340812272347, 0.9987386140725694, 0.9991287882001099, 0.9987022695104535, 0.9991581436083863, 0.9993031108392517, 0.998145497627261, 0.9989206603578265, 0.9992309192204876, 0.9996207430601611, 0.9996207430601611, 0.9996207430601611, 0.995536918530874, 0.9997813906952872, 0.9994987599450685, 0.9996251515828453, 0.9995051667644208, 0.9996312497941617, 0.9997727162291219, 0.9997727162291219, 0.9995236302117451, 0.9997631734481132, 0.9994527896287265, 0.9994244689091455, 0.9985208984404262, 0.9990550819971085, 0.9982542379128914, 0.9993649648634576, 0.9981540562013302, 0.9988663192911732, 0.9982542379128914, 0.9988663192911732, 0.9982542379128914, 0.9994025549675439, 0.9981540562013302, 0.9912765202816056, 0.9993272990346163, 0.9994081168454465, 0.9988389469267697, 0.9994866560273145, 0.9988925722454836, 0.9981818405376849, 0.9961688271185322, 0.9948111843177466, 0.9984829447763517, 0.9902363796045954, 0.999461705225953, 0.9926004260346561, 0.9993776401955261, 0.9996975857917466, 0.9938545534337153, 0.995372241091987, 0.9974165489639893, 0.9997219108691779, 0.9941426086132685, 0.9976173368496991, 0.9976056855987289, 0.9963167457507419, 0.9995708712152663, 0.9995444630324153, 0.9982257220004066, 0.9989511869126997, 0.9990166092713734, 0.9993649648634576, 0.9971639460678998, 0.9988588448578394, 0.9997872966217298, 0.9988075032291855, 0.9985328453244535, 0.9988693708796291, 0.9988693708796291, 0.9983207815306311, 0.9977251662306194, 0.9997963716130515, 0.9988925722454836, 0.9982748778139631, 0.9982748778139631, 0.9995522663722082, 0.9993193722956274, 0.9982542379128914, 0.9982542379128914, 0.9988865673694283, 0.9983146964320189, 0.9988891427625514, 0.9988891427625514, 0.996233979294133, 0.996233979294133, 0.9979935273016975, 0.9977571671592724, 0.9987950133434934, 0.9993238458474564, 0.9987496784292671, 0.9978076304536228, 0.9989869775018142, 0.9913773632541967, 0.9988925722454836, 0.9982127965019609, 0.9994261277914045, 0.9996634482480677, 0.9982542379128914, 0.9947750654784574, 0.9982542379128914, 0.9998427843561863, 0.9963714340714809, 0.999346856686913, 0.9982398135074622, 0.9997445876284253, 0.9998740162067701, 0.999712613434031, 0.999712613434031, 0.999712613434031, 0.9946347687199135, 0.9993615048225554, 0.9981594610143671, 0.9982584788202328, 0.9972188639922945, 0.9999555170695473, 0.9992482680995141, 0.9996983222102124, 0.9952220456839804, 0.9949077867450431, 0.99981646090847, 0.9960369300090778, 0.9972632256491368, 0.9939717873929307, 0.9973762498528501, 0.9973762498528501, 0.9995300625249783, 0.9994303437469463, 0.9996537603206616, 0.9905605079705881, 0.9995582291654892, 0.999272323526592, 0.9962613335357446, 0.9976738077976848, 0.9991518463083187, 0.9991372292104009, 0.9995403978244115, 0.9996719239974287, 0.9998897061224268, 0.991169687177331, 0.9995110593543021, 0.9910034229553722, 0.9940682993220142, 0.9988285652849843, 0.9986833294774037, 0.9986833294774037, 0.9987672189229354, 0.9987510017167918, 0.9981311508866229, 0.9985947506254683, 0.9994102058275376, 0.9987454242167831, 0.9997241243730925, 0.9982828065046985, 0.9992829759876998, 0.9982681687325542, 0.9986714094679002, 0.9910754998904628, 0.9946148316271992, 0.9997568868967909, 0.9997309001922046, 0.9960110939336034, 0.9935642258766322, 0.997822521318191, 0.9979209574451451, 0.998560194378127, 0.9998208710326937, 0.9996822806923157, 0.9972083158995941, 0.9982748778139631, 0.9982748778139631, 0.9988831463672001, 0.9999716692044006, 0.9912461400257482, 0.9985533038100447, 0.9998051910361219, 0.9971002606061586, 0.9938083932573554, 0.9979393599644942, 0.9956929836117119, 0.9943274833857438, 0.9944079567328408, 0.9980221516293132, 0.9983917160537542, 0.996530451194278, 0.9977105828432684, 0.9943247619194728, 0.9983622803806012, 0.9990301208104498, 0.9989970526438249, 0.9992994251217727, 0.9934685621252843, 0.9999247012751544, 0.9996445226759123, 0.9993649648634576, 0.9991729471047355, 0.9951797213426052, 0.9993649648634576, 0.9993649648634576, 0.9993649648634576, 0.999378272580063, 0.9995992763682231, 0.998857889103248, 0.998857889103248, 0.998857889103248, 0.9980701872461992, 0.998860494551531, 0.998857889103248, 0.9988628049919583, 0.998522701214263, 0.9984889437654539, 0.9984889437654539, 0.9978684201560741, 0.9978684201560741, 0.9980359818955354, 0.9994405302396159, 0.9989047827525585, 0.9983804724766501, 0.9983803080751936, 0.9982972812732475, 0.9996680429254257, 0.9982257220004066, 0.9994019625422413, 0.9934569791116691, 0.9946593842576881, 0.9955261772217877, 0.999388617717861, 0.999388617717861, 0.999388617717861, 0.9996707318772587, 0.9989276437457032, 0.9996707318772587, 0.9997387087122823, 0.9993828740002788, 0.9978464027767643, 0.9978464027767643, 0.9951974130556165, 0.999193178401215, 0.9994616245439096, 0.9996894123668598, 0.9996894123668598, 0.9991866955421453, 0.9997590083595963, 0.9987342925835693, 0.9981488708203711, 0.9951974130556165, 0.9998435128342607, 0.9950076577787562, 0.9949823251386863, 0.9950076577787562, 0.9950200048574664, 0.9976464932284688, 0.9999736342341233, 0.9951974130556165, 0.9950321391987192, 0.9951886730006764, 0.9951886730006764, 0.9951886730006764, 0.9951974130556165, 0.9951974130556165, 0.9951974130556165, 0.9993023420675189, 0.9997940967568792, 0.9997808370798008, 0.9973304149355668, 0.9995701178855826, 0.9953321010236647, 0.9953321010236647, 0.9951974130556165, 0.9953321010236647, 0.9997793755490084, 0.9997793755490084, 0.9991211441922455, 0.9996715449739826, 0.9996684285303891, 0.9996684285303891, 0.9997653131603847, 0.9997653131603847, 0.9995113574963181, 0.9995693420006069, 0.9996283140353632, 0.9992771793555068, 0.9995307450730977, 0.9997693248835666, 0.999378272580063, 0.9997240071630119, 0.9996624808683029, 0.9951974130556165, 0.9996693375284399, 0.9996030125214689, 0.9996476086511744, 0.99942120215258, 0.9992343237627201, 0.9986604838888403, 0.9984574835268007, 0.9995693420006069, 0.9995693420006069, 0.9983985423794653, 0.9983985423794653, 0.9958364806030178, 0.9982257220004066, 0.9986808985872966, 0.9987669944632876, 0.9996121864558847, 0.9996645364786578, 0.9997660308852925, 0.9997660308852925, 0.999560953950709, 0.9951797213426052, 0.9989097824608711, 0.997891494872884, 0.9997782562979859, 0.9997708161021832, 0.9997660723154905, 0.9997797765495856, 0.9997426419164294, 0.9997708161021832, 0.9985781468923934, 0.9993840349219687, 0.9992627475464623, 0.9988925722454836, 0.9981459129318955, 0.9978956438331702, 0.999388617717861, 0.9999564094540278, 0.9999280498311159, 0.9988073303620685, 0.9982915585098868, 0.9937762512499163, 0.9999435730249676, 0.999576178826604, 0.9951974130556165, 0.9951974130556165, 0.9992086908676173, 0.9976464932284688, 0.9997431514497066, 0.9997431514497066, 0.9997510006527145, 0.9997789883931727, 0.9997606301938001, 0.9997606301938001, 0.9997758484856075, 0.9997758484856075, 0.9994074606425856, 0.9994957243645428, 0.9986958514374286, 0.9983245645667981, 0.9986996956743638, 0.9988925722454836, 0.9993181807714318, 0.9991762635031566, 0.9992432146129518, 0.9987003506786338, 0.9988856242698174, 0.9988856242698174, 0.9999232714733198, 0.9976299367547173, 0.9996437851537836, 0.9980801754832919, 0.9993011388883745, 0.998079033129475, 0.9990543862739172, 0.9951974130556165, 0.9990518300682941, 0.9995898960721137, 0.998856797542608, 0.9992844169604912, 0.9984975502712834, 0.9986568751994584, 0.9995532452525712, 0.9992267901793441, 0.9997175691467921, 0.9992086908676173, 0.9983412271519897, 0.9993649648634576, 0.9982159792854585, 0.9996379512276601, 0.9989742221505851, 0.9989937602504042, 0.9951974130556165, 0.9995681622971037, 0.9997341371101596, 0.999194112053487, 0.999623953420793, 0.9995648144721283, 0.9963436328646228, 0.9994197092284824, 0.998335565628386, 0.9993988800108157, 0.9993313400842881, 0.9988253521229382, 0.9984223013997062, 0.9991816846110715, 0.9993040362846888, 0.995663079085613, 0.9997415889921588, 0.9951974130556165, 0.9951974130556165, 0.9951974130556165, 0.9951974130556165, 0.9951974130556165, 0.9951974130556165, 0.9951974130556165, 0.9951974130556165, 0.9951974130556165, 0.9951974130556165, 0.9951974130556165, 0.9943328022085963, 0.9995099559552619, 0.9995099559552619, 0.998057045800795, 0.9968344111806487, 0.9993418475535816, 0.9981231188569369, 0.9989264310427836, 0.9997924191127763, 0.9997845516112862, 0.9996729017126115, 0.9995489378440822, 0.9995215467682809, 0.9996664687036084, 0.9995008687677999, 0.9995600782957825, 0.9995741183168096, 0.9990466406478277, 0.9991578368436065, 0.9989854774534778, 0.9951974130556165, 0.9951974130556165, 0.9951974130556165, 0.9993563153108412, 0.9993561697829499, 0.9996712407345496, 0.9990841373265605, 0.9951705580076756, 0.9951705580076756, 0.9951705580076756, 0.999747664551498, 0.9981231165423967, 0.9994439754307203, 0.9995069976017391, 0.9949693394431461, 0.9983789332434885, 0.9995227588142623, 0.997150265444222, 0.9996818996389716, 0.9988665402246412, 0.9990999151815836, 0.9997315481893854, 0.9996960246122041, 0.9996960246122041, 0.9993023420675189, 0.999616165543991, 0.9995702940098941, 0.9995189871736174, 0.9996040048436275, 0.999378272580063, 0.9996938964356896, 0.999616165543991, 0.9998631558143666, 0.9987135418611084, 0.9973304149355668, 0.9993360432102849, 0.999378272580063, 0.9996684285303891, 0.999378272580063, 0.9996684285303891, 0.999743363559033, 0.9993579941661359, 0.9982257220004066, 0.9990435888864283, 0.9997541256068997, 0.9995702940098941, 0.9997737786539986, 0.9995189871736174, 0.9961986520641251, 0.9997940967568792, 0.9984592390182344, 0.9986511406010525, 0.9993899048249181, 0.999518440270193, 0.9992103608439632, 0.9994621351799032, 0.9993897592516414, 0.9993930320846894, 0.9947811181859844, 0.9951974130556165, 0.9996543986457418, 0.9951974130556165, 0.9974125153534469, 0.9948124240501997, 0.9997558525757407, 0.9997203063244839, 0.9982439065917772, 0.9982439065917772, 0.9980801754832919, 0.9982511856288218, 0.9982511856288218, 0.9977536542410871, 0.9982543712492844, 0.9982543712492844, 0.9981201684968265, 0.9978684201560741, 0.9983957102903315, 0.9983804724766501, 0.9983803080751936, 0.9981471491119235, 0.9951974130556165, 0.9983709625378807, 0.9993897592516414, 0.9993897592516414, 0.9951974130556165, 0.9951974130556165, 0.9997924191127763, 0.9997632957862863, 0.9997247720060879, 0.9997844673551641, 0.9996020964205308, 0.9993876007228382, 0.9993731827948463, 0.9993586791762451, 0.9993599036671216, 0.9988483042850779, 0.9986758997985652, 0.9995399393780627, 0.9993613273670713, 0.9992725138808235, 0.9980249619414236, 0.9951974130556165, 0.999378272580063, 0.998318048286114, 0.999936752058483, 0.9997669331844492, 0.9988873572873271, 0.999673530968212, 0.9988632747388632, 0.9994955299066148, 0.9992539326635609, 0.9993940725950577, 0.9992539326635609, 0.9996922782382002, 0.9997761722959749, 0.9997761722959749, 0.9980754569569186, 0.9992240004936237, 0.9991907051983545, 0.9996342120935894, 0.9933851022859025, 0.9994834414084847, 0.999535911281871, 0.9987716635481041, 0.9986654196881917, 0.9989407193909623, 0.999417217369524, 0.9985922283906219, 0.9988489881457357, 0.9988781871846693, 0.9995550762542273, 0.9988710636082427, 0.9996261122599222, 0.9971209304150426, 0.9991756895956694, 0.9997262771150712, 0.9997262771150712, 0.9997230711785083, 0.9997262771150712, 0.9997833721771048, 0.9980691649020486, 0.999314490189158, 0.9969109453175112, 0.9987843471503702, 0.9997127073054498, 0.9997738293012409, 0.9997421489279759, 0.9994616680843708, 0.9951974130556165, 0.99905623368295, 0.9990994126117091, 0.9998625557238928, 0.9998491725687042, 0.9999183169145976, 0.9951611829225347, 0.9986683472663967, 0.9986562242210494, 0.997044609597589, 0.997044609597589, 0.9976441925986155, 0.9977901401391317, 0.9977901401391317, 0.9982257220004066, 0.9982539599101353, 0.9994074615412292, 0.9993930918801813, 0.9997106112006404, 0.9996680429254257, 0.9995634096638157, 0.9993048918588673, 0.9993048918588673, 0.996748672978117, 0.9956552950400297, 0.9997092558521139, 0.9991781607556599, 0.9991937030929278, 0.9951366658901966, 0.9988483042850779, 0.999638013724, 0.9998097082320104, 0.9951515960142067, 0.9951974130556165, 0.9992725138808235, 0.9970349215371513, 0.9987179029188022, 0.9980947183235183, 0.9952906007926047, 0.9952906007926047, 0.9995634096638157, 0.9997672070466261, 0.9995618616745966, 0.9988989736748725, 0.9988989736748725, 0.9995618616745966, 0.9988989736748725, 0.9990949910950627, 0.9997903808807842, 0.9996684285303891, 0.9997880355965867, 0.9975744411361677, 0.9997565997678385, 0.9986697374477086, 0.9994057583339374, 0.9989384530750297, 0.9989264310427836, 0.9959101052105891, 0.9989819723081352, 0.99881658187492, 0.9997393509787676, 0.9993591166771179, 0.9994467114760929, 0.9993847283192423, 0.9994467114760929, 0.9993866141136957, 0.999378272580063, 0.9973677429647047, 0.9997402880640557, 0.9997935008932116, 0.9997926326801461, 0.9997755081917673, 0.9996637526111289, 0.9996652658871649, 0.9951974130556165, 0.9951974130556165, 0.9951974130556165, 0.9951974130556165, 0.9951974130556165, 0.9951974130556165, 0.9951974130556165, 0.9951974130556165, 0.9951974130556165, 0.9951974130556165, 0.9951974130556165, 0.9951974130556165, 0.9951974130556165, 0.9995848270905665, 0.9991025379423559, 0.9951705580076756, 0.9994301130184813, 0.9951417972100912, 0.9994054808128772, 0.9951417972100912, 0.9994955299066148, 0.9951417972100912, 0.9951417972100912, 0.9951417972100912, 0.9997528428302891, 0.99979160573935, 0.9993229046984514, 0.9995774155652392, 0.9993229046984514, 0.9997662104483706, 0.9995403978244115, 0.9996712407345496, 0.9997393509787676, 0.9976464932284688, 0.9968528428116413, 0.9989889426447025, 0.9997576883157038, 0.9997510006527145, 0.9997869000305646, 0.9997869000305646, 0.9989264310427836, 0.9996684285303891, 0.9986888328707512, 0.9994050072478164, 0.9994050072478164, 0.9951974130556165, 0.9951974130556165, 0.9951886730006764, 0.9951974130556165, 0.9951797213426052, 0.9997535964644103, 0.9971134132628402, 0.9968392398433624, 0.9971134132628402, 0.9993172040439481, 0.9995116654662223, 0.9988863727141761, 0.9996476086511744, 0.999655009971093, 0.9993598404541836, 0.9983629652443184, 0.9983629652443184, 0.9993360596480542, 0.9997239326008587, 0.9997778366832641, 0.9980323755319742, 0.9986062383152005, 0.9951974130556165, 0.997087705233365, 0.9986964891586517, 0.9972984165114199, 0.9990058025266246, 0.9993880377072722, 0.9982488108547437, 0.9996739677612361, 0.9996367302386093, 0.9988925722454836, 0.9997068226118844, 0.9997851653355052, 0.9951886730006764, 0.9946593842576881, 0.9994236350014599, 0.9994407670972784, 0.9973637672893377, 0.9984818334370607, 0.9951974130556165, 0.9951974130556165, 0.9951974130556165, 0.9951974130556165, 0.9951974130556165, 0.9993633335264778, 0.9992866331895731, 0.9948869498466293, 0.999313861258944, 0.9981753518464365, 0.9989264310427836, 0.9982696043680325, 0.9992083893789747, 0.9995736785175594, 0.9983888978930895, 0.9983888978930895, 0.9951974130556165, 0.9951974130556165, 0.9951974130556165, 0.9951974130556165, 0.9984868382609581, 0.9988522023455045, 0.998692627505572, 0.9984868382609581, 0.9988107529831018, 0.998692627505572, 0.9992143991064264, 0.9992143991064264, 0.9996129841871925, 0.9996129841871925, 0.9997525691630187, 0.9997525691630187, 0.9997485252903398, 0.9996778309233316, 0.9996778309233316, 0.9997660308852925, 0.9997444353921531, 0.9997489693326148, 0.9997489693326148, 0.9997489693326148, 0.9997489693326148, 0.9991731172376845, 0.9997408814165923, 0.9996636153410026, 0.9998942205205027, 0.9989341020384226, 0.9989341020384226, 0.9997640174687653, 0.999542453707371, 0.9982257220004066, 0.9982257220004066, 0.9982257220004066, 0.9982257220004066, 0.9979750859859837, 0.9980721714825669, 0.9988946857437644, 0.9957375221273395, 0.9989659566342087, 0.9993458017823663, 0.99446146874631, 0.9975470607104359, 0.9990988029623359, 0.9987621585768207, 0.9973304149355668, 0.9993509780254306, 0.9994365066147466, 0.9963422912219854, 0.9988549888041398, 0.9993847283192423, 0.9993032751022713, 0.9978062557986069, 0.9993893266135532, 0.9993893266135532, 0.9978196147739494, 0.995329157663437, 0.995329157663437, 0.9996082665784606, 0.9960161754456691, 0.996770253098554, 0.9997425318336258, 0.9989275217953032, 0.9992774247656835, 0.9953681686089347, 0.9949485515945736, 0.9996410062840206, 0.9954474184385361, 0.9993069366597789, 0.9988414295720175, 0.995611701705254, 0.9982748778139631, 0.9985923537124667, 0.9965631732793593, 0.9989720629465956, 0.9987665533938977, 0.9986171231352383, 0.9989025092359263, 0.9952680952463647, 0.9973367311182533, 0.9973367311182533, 0.9982418844188271, 0.9997788924242413, 0.9973367311182533, 0.9997663405066417, 0.9973367311182533, 0.9973367311182533, 0.999574117111883, 0.9997183911736106, 0.9992432146129518, 0.9971074242985005, 0.9965831158363876, 0.9979997792437538, 0.9988697570965116, 0.9984359923092861, 0.9982766606117021, 0.9991500937346656, 0.9972525892063798, 0.9991871594458335, 0.9987645780484516, 0.9986518728767659, 0.9992255707536005, 0.99923892735905, 0.9981441161386629, 0.9993863077618292, 0.9993863077618292, 0.9999224359207963, 0.9968119917308826, 0.9979463131914175, 0.9960681446050961, 0.9960442449759672, 0.9973367311182533, 0.995334752971973, 0.9973367311182533, 0.9945051713785523, 0.9963627485327273, 0.9997199435024384, 0.9993748948144164, 0.9990876234293744, 0.9967325681738644, 0.9983222501328942, 0.9988108033257086, 0.9996789523044919, 0.9999277300814834, 0.9951974130556165, 0.9951974130556165, 0.9951705580076756, 0.9951705580076756, 0.9996480861974555, 0.9996573729584003, 0.9996684285303891, 0.9996573729584003, 0.9951515960142067, 0.9951974130556165, 0.9951974130556165, 0.9951974130556165, 0.9951974130556165, 0.9951974130556165, 0.9951705580076756, 0.9951974130556165, 0.9951974130556165, 0.9951974130556165, 0.9951974130556165, 0.9951974130556165, 0.9951974130556165, 0.9951974130556165, 0.9951974130556165, 0.9951974130556165, 0.9951974130556165, 0.9951974130556165, 0.9951974130556165, 0.9951974130556165, 0.9951974130556165, 0.9951974130556165, 0.9951974130556165, 0.9951974130556165, 0.9951974130556165, 0.9995241193235467, 0.9951797213426052, 0.9951797213426052, 0.9951797213426052, 0.9951974130556165, 0.9951974130556165, 0.9951886730006764, 0.9951974130556165, 0.9951974130556165, 0.9951886730006764, 0.9951886730006764, 0.9951974130556165, 0.9951974130556165, 0.9951974130556165, 0.9951974130556165, 0.9951974130556165, 0.9951705580076756, 0.9951705580076756, 0.9951705580076756, 0.9951705580076756, 0.9951705580076756, 0.9951705580076756, 0.9951705580076756, 0.9951886730006764, 0.9951886730006764, 0.9951797213426052, 0.9951886730006764, 0.9951797213426052, 0.9951797213426052, 0.9951797213426052, 0.9951886730006764, 0.9951886730006764, 0.9951886730006764, 0.9993118466627923, 0.9949291040574814, 0.9951886730006764, 0.9951886730006764, 0.9951797213426052, 0.9951886730006764, 0.9951886730006764, 0.9951974130556165, 0.9951974130556165, 0.9951705580076756, 0.9951705580076756, 0.9951797213426052, 0.9951797213426052, 0.9951974130556165, 0.9951974130556165, 0.9951974130556165, 0.9951974130556165, 0.9951974130556165, 0.9951974130556165, 0.9951974130556165, 0.9951974130556165, 0.9951974130556165, 0.9951974130556165, 0.9951974130556165, 0.9951974130556165, 0.9951974130556165, 0.9957014521013405, 0.9986541430484326, 0.9971114162136834, 0.9970841167308233, 0.9952842970002717, 0.9958909730638773, 0.998922397980373, 0.9975777191238672, 0.9970841167308233, 0.9971114162136834, 0.9951515960142067, 0.9951974130556165, 0.9951974130556165, 0.9951974130556165, 0.9951974130556165, 0.9951974130556165, 0.9951974130556165, 0.9951974130556165, 0.9951974130556165, 0.9951974130556165, 0.9951974130556165, 0.9951974130556165, 0.9950785505558163, 0.9951705580076756, 0.9951974130556165, 0.9951974130556165, 0.9951974130556165, 0.9951974130556165, 0.9951215636259841, 0.9951515960142067, 0.9951974130556165, 0.995012633033827, 0.9949607481136205, 0.9951602492562989, 0.9952270664652602, 0.998150733127195, 0.997042174592985, 0.990012598663396, 0.9976376848095759, 0.9949226932826524, 0.994527935880569, 0.9964123753910729, 0.9918491674338756, 0.9918491674338756, 0.9924703955787892, 0.994318707419381, 0.9912202355701443, 0.9906662810490641, 0.9991845007968837, 0.9920869046441835, 0.9926401360738749, 0.9947356451538184, 0.9965127455453143, 0.9984442517594282, 0.9904933586130578, 0.9954849344968085, 0.9962170805647436, 0.9972086361501947, 0.996406498574528, 0.9964398689069928, 0.9934791610798382, 0.9985484223494223, 0.9984924192105722, 0.9984175091461726, 0.9971990101269727, 0.9985484223494223, 0.999189909524973, 0.9989441827396641, 0.9969974595948035, 0.9981884904679745, 0.9992514366304318, 0.9970584687114173, 0.9970584687114173, 0.9970584687114173, 0.9970584687114173, 0.9965075850566449, 0.9965075850566449, 0.9983960320129531, 0.9945848858248081, 0.9972839555767292, 0.999397271921774, 0.9998158492602806, 0.9988532455417202, 0.9997431514497066, 0.9992259146180937, 0.994617854790574, 0.9988619321207807, 0.995591249035088, 0.9997785599190079, 0.9945848858248081, 0.9988253521229382, 0.9992514366304318, 0.9988253521229382, 0.9988253521229382, 0.9988253521229382, 0.9988253521229382, 0.9988253521229382, 0.9943501097569433, 0.999241762464533, 0.9950265066535783, 0.9977349854602486, 0.9950793869756862, 0.9986117542325076, 0.9980085474630261, 0.9986963304263514, 0.9961986520641251, 0.9982542379128914, 0.9985660629071925, 0.997278402250444, 0.9980421285596974, 0.9994073519553817, 0.9949422962112395, 0.9949422962112395, 0.9996613165947691, 0.9995284726462103, 0.9995284726462103, 0.9995284726462103, 0.9995284726462103, 0.9983100498578774, 0.9976798099057032, 0.9983100498578774, 0.9947194496399039, 0.9995530761239048, 0.9970815474771062, 0.9996613165947691, 0.9987928350295857, 0.9995488005388409, 0.9995396309427197, 0.9995510672052595, 0.9995629117743434, 0.99955993780827, 0.9988006684410665, 0.9998583094776906, 0.9982775579342267, 0.9951713333353724, 0.9986503367268342, 0.9978246332656576, 0.9992514366304318, 0.9966172075785389, 0.9947194496399039, 0.9998013007743839, 0.9997663405066417, 0.9995284726462103, 0.9947194496399039, 0.9982865803342409, 0.9995858259986887, 0.995920168744451, 0.9993649648634576, 0.9992956656171856, 0.9932377177465832, 0.9982542379128914, 0.9991937030929278, 0.999160037864661, 0.9995287913451207, 0.9998056450765618, 0.9931041306738648, 0.991134310187307, 0.9996699918185523, 0.9988856242698174, 0.9989454200338214, 0.9968875176372065, 0.9993327481873793, 0.9991483259430467, 0.9994616256045166, 0.9997109736853949, 0.9988831463672001, 0.9995524973843454, 0.9997277090278784, 0.9997235889555712, 0.9999534228258747, 0.9996684285303891, 0.9975689415106799, 0.9990638461741657, 0.9981223323587476, 0.9969921956671357, 0.9976567138225394, 0.9997335687998259, 0.9997285042875155, 0.9997555704218801, 0.9955580392147662, 0.9996606424596345, 0.9997641449417569, 0.9997235155164393, 0.9982051521350906, 0.9981665879526693, 0.9990363627699517, 0.9981223323587476, 0.9991483259430467, 0.9981223323587476, 0.9997798297550202, 0.9987833506136612, 0.9997699109074739, 0.997752069116388, 0.997730071616417, 0.9988739369973726, 0.998218328383147, 0.9996583750792681, 0.9993897592516414, 0.9993776401955261, 0.9997393509787676, 0.9991231733998123, 0.9994041312807338, 0.9996684285303891, 0.9997391302094268, 0.999697002045304, 0.9989271850964465, 0.9993649648634576, 0.9993649648634576, 0.9988739369973726, 0.99809699435096, 0.9991576017403215, 0.9993748948144164, 0.998082384186367, 0.9992427636953345, 0.9920444866896357, 0.9990638461741657, 0.9977408756952807, 0.9974993474786521, 0.997955379671009, 0.9988663192911732, 0.9983179887591884, 0.9996684285303891, 0.9997213026575966, 0.999661795812699, 0.9992887822994827, 0.9993480270305088, 0.9993480270305088, 0.9910024183983952, 0.9997319965594937, 0.9980757961643867, 0.999289699474691, 0.9981540562013302, 0.9996708399219479, 0.997350926813823, 0.9985277536444321, 0.9993734829996439, 0.998872442834644, 0.9997082531595232, 0.9995287913451207, 0.9998056450765618, 0.999747178168172, 0.9999040260158861, 0.9989060503426713, 0.999101555587856, 0.9991878280394259, 0.9995564368263021, 0.9998815246797905, 0.9984504080754948, 0.9991683713176175, 0.9997494571027669, 0.9987604269834939, 0.9996644227136771, 0.9993889332873843, 0.9996833107722105, 0.9980977641960023, 0.9994174506044852, 0.9988207951224418, 0.9987691979756921, 0.9978798155537848, 0.9994063150216482, 0.9997144851887609, 0.9995486705477156, 0.9987604269834939, 0.9943496374963708, 0.9994346067595167, 0.9995785303167705, 0.9987369931221022, 0.9980991109909566, 0.9969542683795045, 0.9983864242505311, 0.9989633340484397, 0.9997494571027669, 0.9993023005543787, 0.9995731413349062, 0.9990422762790389, 0.9990422762790389, 0.9997798297550202, 0.9997798297550202, 0.9987369931221022, 0.9997214464924377, 0.9976629094556559, 0.999151668723852, 0.9997523737869354, 0.9971261576061857, 0.9988465272217073, 0.9982257220004066, 0.9993169041412598, 0.9974229493784091, 0.9973915672763557, 0.9986454208839545, 0.9925923073426866, 0.9998529666090263, 0.9992512265287573, 0.9995832565778497, 0.9995832565778497, 0.9995832565778497, 0.9983216573897793, 0.996906827974241, 0.9990427365777891, 0.9992840073777284, 0.9993853624336689, 0.9960537984775607, 0.9990641415160556, 0.9975963858172658, 0.9988038353196124, 0.9996139021881641, 0.9996139021881641, 0.9997971067919332, 0.998818882595882, 0.9982709503442455, 0.9978668895852858, 0.9950828607905153, 0.9991968823031637, 0.9996773225378043, 0.999026901780887, 0.999117136010131, 0.999026901780887, 0.9962029885058709, 0.9997498767933659, 0.9942699619682678, 0.9982285833724783, 0.9996976891160615, 0.9996647145330576, 0.9994683140902513, 0.9982664898149444, 0.9989102565615673, 0.999521374391607, 0.9987716635481041, 0.9996881839210824, 0.9982675232826373, 0.9982675232826373, 0.9908042361735189, 0.9995352551519373, 0.9995352551519373, 0.9995352551519373, 0.9967719198334924, 0.996380002995691, 0.9987412184251855, 0.9988925722454836, 0.9959002667694309, 0.9995190692119013, 0.9995190692119013, 0.9979354902500963, 0.9979354902500963, 0.9960967130150971, 0.9992802664719932, 0.9987716635481041, 0.9990753135802298, 0.9992177264937012, 0.9992177264937012, 0.9992177264937012, 0.9992177264937012, 0.9994463109490719, 0.9994793783680496, 0.9972083158995941, 0.9961986520641251, 0.9961986520641251, 0.9975963858172658, 0.9929930833828543, 0.999780872956275, 0.9995966819162766, 0.9994554675128309, 0.9994554675128309, 0.9958935699987342, 0.9994554675128309, 0.9994554675128309, 0.9994554675128309, 0.9994554675128309, 0.992094203139074, 0.9951185341360211, 0.998211698074572, 0.9974098417398014, 0.9926764033433259, 0.9999673497981202, 0.9915505596795808, 0.9929930833828543, 0.9989388576544492, 0.9991618537828584, 0.998211698074572, 0.9925452070902888, 0.9960226573896165, 0.9945380210964209, 0.9982865803342409, 0.9999422194795737, 0.9999422194795737, 0.9986454208839545, 0.9988597614935308, 0.9986454208839545, 0.999278937632759, 0.99949860017216, 0.9993067546897124, 0.9994333457946248, 0.9996902247680074, 0.9993853624336689, 0.9996565663893602, 0.9997516865725712, 0.9995756860372299, 0.9925354714306811, 0.9988006684410665, 0.9947897954644963, 0.9997717045652657, 0.9997785516848733, 0.9997769860881711, 0.9997717045652657, 0.9995777532945622, 0.9995851273544877, 0.9996811036884091, 0.9995851273544877, 0.9982879962142485, 0.9996644226661452, 0.9997200906581936, 0.9997200906581936, 0.9997200906581936, 0.9996029570814353, 0.9996029570814353, 0.9996029570814353, 0.9992008146073187, 0.9993179032230886, 0.9997572836350196, 0.9992530362359348, 0.9979587088288177, 0.9962701598795127, 0.9990691096629888, 0.9990691096629888, 0.9993694691167566, 0.9966043429262588, 0.997947342541022, 0.9977354965373891, 0.9928249622739883, 0.997411272544762, 0.9990115537780578, 0.9996656973371917, 0.9988812130466252, 0.9902770103283737, 0.9996789473176827, 0.9980259231470481, 0.9989775695690937, 0.9996789473176827, 0.9988199506296082, 0.9982662769985845, 0.9982258080695033, 0.9979866037179912, 0.9962021114580949, 0.9994081387293444, 0.9917763053633608, 0.9992184996477288, 0.9993260058329861, 0.996071123451859, 0.9996727532128771, 0.9960141423353902, 0.9963072877943601, 0.9991006867488902, 0.9960350635706695, 0.9997737786539986, 0.9955970187504701, 0.9991632092010384, 0.9997680610730756, 0.9997867870436744, 0.9972529263015975, 0.9955876709450215, 0.9982082939060786, 0.9972764352478775, 0.999054815632751, 0.999504164604335, 0.9994035295957315, 0.9988558800406472, 0.9978691073405421, 0.9978997350843598, 0.9983919706045524, 0.9941060657990851, 0.9911862595115644, 0.9931417370496769, 0.9972413398688568, 0.9987517750281372, 0.9946668777922812, 0.9918966490241387, 0.9946668777922812, 0.996695657725001, 0.9999875230401228, 0.9989898994083934, 0.9962704571719342, 0.9962735488619295, 0.9970524454871802, 0.9988663192911732, 0.9996250217775078, 0.9997737786539986, 0.9987839681133073, 0.9946408343380221, 0.9953871937267981, 0.9932518827070596, 0.9984913756689552, 0.9993649648634576, 0.9988280160755701, 0.9988095357411079, 0.9993776401955261, 0.9993776401955261, 0.9989264310427836, 0.9989250978403192, 0.9990198418845565, 0.9993675247309773, 0.9990319007272462, 0.997211055892221, 0.9995001384260354, 0.9960976615431251, 0.9988831463672001, 0.9928455843657529, 0.9923099848765143, 0.9956656618252836, 0.9997717099844233, 0.9996684285303891, 0.9988663192911732, 0.9988663192911732, 0.9988663192911732, 0.9993649648634576, 0.9961986520641251, 0.9988663192911732, 0.9975183015826534, 0.9960141423353902, 0.9993607439861639, 0.9984093196784308, 0.9980964996008296, 0.9993164181368331, 0.9995373535463611, 0.9991276924758182, 0.9960967130150971, 0.9964967918448663, 0.9961883662319275, 0.9959658674310057, 0.9934966040358462, 0.9922200039208907, 0.9963008618399982, 0.9973968046935221, 0.9974331781944703, 0.9984812592267333, 0.9982748778139631, 0.9996684285303891, 0.9988663192911732, 0.9975382038403361, 0.9996196362417799, 0.9989026770855661, 0.995242097160342, 0.9988925722454836, 0.9931495479184758, 0.9993731827948463, 0.9988945774028014, 0.9996624808683029, 0.9966430221942665, 0.9996213133681359, 0.9988925722454836, 0.99901614356601, 0.9997319465576133, 0.9963819634689752, 0.9978571473070064, 0.997278402250444, 0.9978211788139715, 0.9996684285303891, 0.9972083158995941, 0.996243086240366, 0.9957080149585549, 0.9962436956461886, 0.9992579974139245, 0.9992579974139245, 0.9952009971840085, 0.9994459548691352, 0.9964481095826959, 0.9983098274415811, 0.9988663192911732, 0.9996010538193012, 0.9996430266474329, 0.99949860017216, 0.9970552649410386, 0.9970552649410386, 0.9970552649410386, 0.9970552649410386, 0.9970552649410386, 0.994983708593219, 0.995800284863876, 0.9972083158995941, 0.9992877284966835, 0.9961986520641251, 0.996156492988439, 0.9980389371640688, 0.9964481095826959, 0.9963563081285476, 0.999653024511127, 0.9942444880054708, 0.9975523973015792, 0.9972083158995941, 0.9972083158995941, 0.9972632256491368, 0.9949135210778552, 0.9913773632541967, 0.9999486725727958, 0.9937157899070945, 0.9942521114246976, 0.9972083158995941, 0.9919221841223763, 0.9986539403686229, 0.9961986520641251, 0.9972862921858977, 0.9972529263015975, 0.9988663192911732, 0.9996396959666835, 0.9942521114246976, 0.9960804768215478, 0.9960804768215478, 0.99783756212178, 0.9948462106691979, 0.9969112792371387, 0.996243086240366, 0.9968982083061374, 0.9962922620906068, 0.9975845884668885, 0.9945781051639709, 0.9912295152142563, 0.998731916133122, 0.9935617741413716, 0.9996704566657899, 0.9976556826315293, 0.9902196784251904, 0.9979006791773423, 0.9998685685618747, 0.9987887911860919, 0.9970311543233106, 0.9982820219294343, 0.996451076385383, 0.9945524825210452, 0.995591249035088, 0.9934203060331067, 0.9996715449739826, 0.9989873847470829, 0.9938681311194689, 0.9931681342194486, 0.9931681342194486, 0.9996915142386635, 0.9942521114246976, 0.9981437773808551, 0.9975374892461493, 0.9922821523953619, 0.9996786634473744, 0.9966501275004899, 0.994607426502648, 0.998641279173541, 0.9992618750739436, 0.9956267706623149, 0.9957424842093511, 0.9994858186704669, 0.9984093942078663, 0.9993513043897472, 0.9983047938571766, 0.9954067611880286, 0.9963999092754838, 0.9913919216536624, 0.9914351001053613, 0.9984157471010926, 0.9966493644946272, 0.9981222099960869, 0.9986999379264999, 0.9939095303761597, 0.9957267162590214, 0.9949564181289563, 0.9992767530097459, 0.9966501275004899, 0.9959207679687828, 0.9996300618453438, 0.9992086908676173, 0.9999426199903706, 0.996566558722119, 0.9984153521980047, 0.9974853756878739, 0.9999203903739056, 0.9920326814397008, 0.9947771157265425, 0.9932343184902058, 0.9929516563169831, 0.9976080555594317, 0.991196120760037, 0.9991885422574565, 0.9904730627240063, 0.9997642429095086, 0.999633925782826, 0.9963649644910437, 0.9998983689288777, 0.9953745896497604, 0.9953667866559612, 0.9925442506375082, 0.9981160996152181, 0.9957495158125668, 0.9959132586673473, 0.990178909984719, 0.9952009971840085, 0.9995535397697562, 0.999140263527132, 0.9989873847470829, 0.994613994921944, 0.9980190596168326, 0.9997991147878579, 0.9972632256491368, 0.9950042209213399, 0.9996680429254257, 0.995684067294558, 0.9980924591524974, 0.9930708284492684, 0.9930708284492684, 0.9926692036989736, 0.9951886730006764, 0.99916289422991, 0.9988425056775732, 0.9990333580470595, 0.9997429126052982, 0.9951974130556165, 0.9993556018940591, 0.9959015608737557, 0.9997216515733829, 0.9992600175686827, 0.9996574859824043, 0.9997336708554598, 0.9997594002860506, 0.9997728766779745, 0.9951886730006764, 0.9989157117980184, 0.9993630198113624, 0.9993897631892458, 0.9901849902694932, 0.9982127965019609, 0.9982500441470625, 0.9990081955425533, 0.9961986520641251, 0.9961986520641251, 0.9961986520641251, 0.9951797213426052, 0.9997808627061371, 0.9990816066480633, 0.9990816066480633, 0.9997007073258404, 0.9996405017599657, 0.9996684285303891, 0.9997379436172787, 0.9951974130556165, 0.9949143593913362, 0.9991828405306451, 0.9997201348345883, 0.99917949331863, 0.9991156973464215, 0.9991156973464215, 0.9997204456799362, 0.9997878080895942, 0.9993156549874649, 0.997700643700301, 0.9997747163423244, 0.9997747163423244, 0.9997138716196681, 0.9985221876146713, 0.9985221876146713, 0.9994397085827824, 0.9994397085827824, 0.9993312662348534, 0.9986284308381711, 0.9995401822645588, 0.9993405949989919, 0.9994603997959999, 0.9951974130556165, 0.9951974130556165, 0.9987977810824289, 0.9994794425538016, 0.9993156549874649, 0.9994144443230064, 0.9991698251527729, 0.9991698251527729, 0.9993466628680132, 0.9993466628680132, 0.9983830674479014, 0.9978225366067566, 0.9993782735071733, 0.9993782735071733, 0.9951974130556165, 0.9997429126052982, 0.9997429126052982, 0.9994958264502386, 0.990603520476935, 0.9947697748126577, 0.9996574859824043, 0.9987666835424895, 0.9979851297967309, 0.9961617846926965, 0.9994244689091455, 0.9997405510118694, 0.9993748948144164, 0.9962170805647436, 0.9966460174711437, 0.999456841882713, 0.9974293788497954, 0.9980484030633945, 0.9951974130556165, 0.9914757706655084, 0.9954593918974853, 0.9960804768215478, 0.9996280036556263, 0.999143786116836, 0.9988627980581049, 0.9988536821209064, 0.9988627980581049, 0.9995524973843454, 0.9962861906675423, 0.9951974130556165, 0.9918586236655096, 0.9973756690842633, 0.9994613063657912, 0.9994432582738982, 0.9995987295480426, 0.9994613063657912, 0.9997289756691108, 0.9993555300396093, 0.999743653111849, 0.9980750991521319, 0.9995360455784938, 0.9997280656164441, 0.9996795977833983, 0.999388617717861, 0.9993111911011945, 0.9978397509753396, 0.9981675781500614, 0.9982879962142485, 0.9992086908676173, 0.9914583916043543, 0.9905944008901698, 0.9986703915793054, 0.9947500539002102, 0.9960559069633524, 0.9997391302094268, 0.999019734706313, 0.9993255282117188, 0.9980076132940112, 0.9973676658197499, 0.9990969419501852, 0.9992705728940917, 0.9998224543033456, 0.9998596030482562, 0.9998557290659302, 0.99973293603163, 0.9996973877571622, 0.9997313501281203, 0.99973293603163, 0.9997610800777783, 0.9996842838650204, 0.9997313501281203, 0.9996842838650204, 0.9997313501281203, 0.9998224543033456, 0.998933019393017, 0.9988598670996375, 0.9959182103529318, 0.9986227395454657, 0.9986227395454657, 0.9986227395454657, 0.9995220394600577, 0.9951797213426052, 0.9990916822484783, 0.9987644771340044, 0.9976187124940087, 0.9981540562013302, 0.9996798776284895, 0.9946569568915281, 0.9939700757902474, 0.9995220394600577, 0.9937714116031717, 0.9946569568915281, 0.9990970619958273, 0.9993992285129876, 0.9996542620478577, 0.9992600175686827, 0.9992074200539861, 0.9989449186862281, 0.9996664687036084, 0.9996351644894845, 0.9993548079696676, 0.9951974130556165, 0.9996684285303891, 0.9987445280232704, 0.9992889921669765, 0.9993176666359532, 0.9994376033697093, 0.9996916785616565, 0.9990921473636694, 0.9961986520641251, 0.9988663192911732, 0.9993736722196965, 0.9919770884349126, 0.9939655746711091, 0.9997328393171603, 0.9971701518626791, 0.9924406437494712, 0.9983919706045524, 0.9982689410230265, 0.9952562571859158, 0.999034107995367, 0.9976588428189511, 0.998797439161765, 0.9964048926792364, 0.99638475469053, 0.9912975636127429, 0.9961986520641251, 0.9982337061019981, 0.9951974130556165, 0.9996272527746515, 0.9971209595963484, 0.9994174506044852, 0.9999416284389566, 0.9976138646376657, 0.9974934678850852, 0.9911437383470849, 0.998373989843002, 0.998156644316038, 0.9989239917427476, 0.9986835681516285, 0.9988839969398361, 0.999247595468933, 0.9988182718629237, 0.9973646393898183, 0.9984397799343221, 0.9996942896120884, 0.9997807173417234, 0.9982265804408648, 0.998340204300613, 0.9961914240229677, 0.9995832565778497, 0.9995670684953849, 0.9996615203904363, 0.9997538494991288, 0.9991775966934875, 0.9992625305948284, 0.9996789473176827, 0.9996435279003878, 0.9997074209115647, 0.9997611987542496, 0.9977922453573757, 0.9937157899070945, 0.9997438521137201, 0.999665398854198, 0.9974361799803582, 0.9974361799803582, 0.9981383402493814, 0.9994439056169446, 0.9982559463498233, 0.9996318580583184, 0.9961986520641251, 0.9969128694472152, 0.997204695711704, 0.9987939075680642, 0.9987939075680642, 0.9977922453573757, 0.9988268341740387, 0.9980201126514208, 0.9980201126514208, 0.999387980449939, 0.9997094713568504, 0.9923678080537622, 0.9931354290644334, 0.9931212479667471, 0.993077349681459, 0.9951974130556165, 0.9980898883858785, 0.9916255162301034, 0.9969592439275405, 0.9962591581514476, 0.9985761887165657, 0.9996696443627736, 0.9997900395725967, 0.9995060360419079, 0.998675453690494, 0.9984296094833023, 0.9993731827948463, 0.999499766563332, 0.9997437938892042, 0.9993073689374756, 0.9994633192506367, 0.9994825531933096, 0.9982407525120414, 0.9997634117376215, 0.9997634117376215, 0.9978041755911743, 0.9959731312241953, 0.9997001728866172, 0.9998033682869556, 0.9999428421222748, 0.9995921620965534, 0.9997092558521139, 0.9994887813390724, 0.9995289297427628, 0.9945420475360394, 0.9995855392764881, 0.9997650358944993, 0.9996292494483447, 0.9962767688766306, 0.9955274622958686, 0.996776832119666, 0.9997594002860506, 0.9961407971971205, 0.9988200481697405, 0.9994407064271759, 0.9992422464027161, 0.9997240013966829, 0.9992378738916599, 0.9982307210434378, 0.9973797882589435, 0.9953211537437855, 0.999138313527721, 0.9910165725472849, 0.9947750654784574, 0.9982066168276336, 0.9982066168276336, 0.9977991355397788, 0.9975570261142751, 0.9990453781051815, 0.9981058048827463, 0.9932345508526227, 0.9983251280012918, 0.9997467855501668, 0.9997650358944993, 0.9992094442461861, 0.999743653111849, 0.9997659780814145, 0.9971537850659585, 0.9976976650001756, 0.9951974130556165, 0.9933179462427405, 0.9993064561390586, 0.9993064561390586, 0.9990826900662089, 0.9912796035531923, 0.9948111843177466, 0.9951974130556165, 0.9955416005218268, 0.9970976897764304, 0.9970976897764304, 0.9970976897764304, 0.9995751867835394, 0.9991285138981868, 0.997914175203433, 0.9985448146911213, 0.9988762496988635, 0.9983091029905587, 0.9995350219179471, 0.9995996212715885, 0.9997826810085412, 0.9986622708757114, 0.9947750654784574, 0.9987508837280858, 0.994683533177703, 0.9974100418079623, 0.9969159894811952, 0.9974713968292745, 0.998595354715394, 0.9985561557204313, 0.998595354715394, 0.9991572154117427, 0.9997472895006413, 0.9951797213426052, 0.9951974130556165, 0.9988710636082427, 0.9988710636082427, 0.9996282720380212, 0.9996282720380212, 0.9994354070463857, 0.9996282720380212, 0.9997638409770073, 0.9997568034986389, 0.9994583297131502, 0.9996716209952109, 0.9981343227244381, 0.9996396959666835, 0.9996396959666835, 0.9996396959666835, 0.9996396959666835, 0.9996680429254257, 0.9948498849419275, 0.9997937974357128, 0.9967952663478677, 0.9962920305352206, 0.9987791759986953, 0.9935867522263743, 0.9931517731503008, 0.9951974130556165, 0.9988181238224989, 0.9972690339456147, 0.9988945774028014, 0.9993649648634576, 0.9993649648634576, 0.99640832291007, 0.9982275719917373, 0.9930366120265336, 0.9993168884093991, 0.9981962981502582, 0.9991663650251397, 0.9981962981502582, 0.9976024792951708, 0.9923661392637149, 0.9985776928590223, 0.9952997525016793, 0.9976816327683685, 0.994933540996342, 0.9985925744199706, 0.9993111374004147, 0.9993164181368331, 0.999727812927674, 0.9994400427347369, 0.9990016825533082, 0.997378794173536, 0.9960893289852344, 0.9953623712688118, 0.999719703577627, 0.9951974130556165, 0.9989026770855661, 0.9970311543233106, 0.9982257220004066, 0.9996684285303891, 0.9951974130556165, 0.9951974130556165, 0.9951974130556165, 0.9982153955671861, 0.9995471192229853, 0.9998440618241693, 0.9997058396917182, 0.9992622326353354, 0.9997047790873843, 0.9996758829137664, 0.9997586631411405, 0.9996574859824043, 0.9998887044114064, 0.9979090229716899, 0.9917586976063147, 0.9992546629712539, 0.9982357808334231, 0.9997875937464833, 0.9990728879933639, 0.9981198666303583, 0.9986365446038384, 0.9988945774028014, 0.9988945774028014, 0.9988945774028014, 0.9988945774028014, 0.9993847418788749, 0.9946952910293088, 0.9944207561773848, 0.9931224181394982, 0.9998862510059119, 0.9999545557703837, 0.9996696443627736, 0.9937587877561805, 0.9997536884613295, 0.9997386447448431, 0.9960594783160334, 0.9997352133705122, 0.9996680429254257, 0.9988629889033765, 0.9993556018940591, 0.999689146654083, 0.9927748212154385, 0.9994705859885313, 0.9995542340955963, 0.999719703577627, 0.9997699055030592, 0.9952847053811049, 0.999309982899103, 0.9977144879335521, 0.9997429126052982, 0.9997368690365263, 0.9997368690365263, 0.9997368690365263, 0.9997368690365263, 0.9993897592516414, 0.9997368690365263, 0.9996680429254257, 0.9997807173417234, 0.9993768561445227, 0.9988558800406472, 0.99971775955798, 0.9988558800406472, 0.9996337211643412, 0.999673497141212, 0.9988558800406472, 0.9988891427625514, 0.9925869189926478, 0.9998994954145263, 0.9933051816481758, 0.9986475840852885, 0.9974860505890317, 0.9948874639537545, 0.997445729689308, 0.9912393534833891, 0.9993218704357111, 0.9993218704357111, 0.9981975173716219, 0.9990081955425533, 0.9973797882589435, 0.9993828740002788, 0.9996326387172983, 0.9996326387172983, 0.9978536350387672, 0.999780872956275, 0.9997642429095086, 0.999780872956275, 0.999201866110294, 0.9997275666993084, 0.9992343152433061, 0.9973589845693633, 0.9993877672943802, 0.9993877672943802, 0.9996957070165329, 0.9992854411266665, 0.999036655876631, 0.9979610607547332, 0.9997309001922046, 0.9952998520400583, 0.9997113111865497, 0.9997169540163715, 0.9960190606100914, 0.9993746513575453, 0.9993776667651202, 0.9962208038410989, 0.9996646147290126, 0.9996573729584003, 0.9997091786593489, 0.9990468884849082, 0.9995107459895298, 0.9989375926595443, 0.9949087943108658, 0.9991257683939045, 0.9985967015344602, 0.9985967015344602, 0.9976080555594317, 0.9950450225087542, 0.9972732467295842, 0.9993786735659552, 0.9984130051959443, 0.9991273455904537, 0.9928053784807531, 0.9974783207432587, 0.9989292941542409, 0.9992603781389309, 0.9992514584367388, 0.9976871235302447, 0.9997835227218027, 0.997411272544762, 0.997411272544762, 0.9981783832612589, 0.9988585299198847, 0.9997520358202305, 0.9993649648634576, 0.9950214296435139, 0.993147590540019, 0.9996752943073686, 0.9962567600838652, 0.9972083158995941, 0.9993567362304245, 0.9995381743190453, 0.9996715449739826, 0.9982689410230265, 0.9997146489063726, 0.9932087190748738, 0.998197087896842, 0.9977462940460845, 0.9996292494483447, 0.9991920486584538, 0.9969744613330144, 0.9931448881877156, 0.9965303709450757, 0.9979669165699213, 0.9982446367563801, 0.9980999538327398, 0.9975268742545464, 0.9907505275374067, 0.9996610344124965, 0.9994773532866752, 0.9996501857606018, 0.9997352052882098, 0.9995701178855826, 0.9951974130556165, 0.9968493363785215, 0.9917147660925183, 0.999243774815648, 0.9997081140647762, 0.9978370962845102, 0.998197087896842, 0.9959199571644574, 0.9981780361072902, 0.995571680258294, 0.9907263041688219, 0.9908567285138392, 0.9945638434405567, 0.9900995003089033, 0.9951797213426052, 0.9995386560668386, 0.9997901186230819, 0.9997901186230819, 0.998470593552924, 0.9994341618199253, 0.9985246932568255, 0.999796205233661, 0.990032282920244, 0.9995522663722082, 0.9989276437457032, 0.9995432100827788, 0.9969118317108328, 0.9949143593913362, 0.9997858415170507, 0.9989108226715957, 0.9988165586979914, 0.9973980108560119, 0.9998388306650872, 0.9975025089973604, 0.9944447197273364, 0.9992854411266665, 0.9962661155144951, 0.9986852102237018, 0.9997623883026319, 0.9997280656164441, 0.9997280656164441, 0.9980676778173074, 0.9991196255604263, 0.9997408401550271, 0.9990422762790389, 0.9988831463672001, 0.9996573729584003, 0.998927245756191, 0.9982935728349104, 0.997700643700301, 0.9985221876146713, 0.9993405949989919, 0.9979666890747323, 0.9993493165659978, 0.9997777993445711, 0.9997875813673952, 0.9983830674479014, 0.9913381566333234, 0.995105459964092, 0.9924722520472429, 0.9974270615235553, 0.9985968225525766, 0.9989131493943711, 0.9989229815739342, 0.9958159897401454, 0.9945347898125566, 0.9948730788938569, 0.9951716503598121, 0.9976889751797688, 0.9975517478939036, 0.9903263226209387, 0.9986168157266273, 0.9987931972408658, 0.9973989166577776, 0.9986126089607671, 0.9997500630331115, 0.9997826819878464, 0.9997800048522713, 0.9987166268116452, 0.992708001506917, 0.9953446046613844, 0.9972623431088822, 0.9984005341814903, 0.993005291661629, 0.994020600295398, 0.9986322314912588, 0.9926174303317258, 0.9918174481690311, 0.9961986520641251, 0.9965439700507064, 0.9973304149355668, 0.9996322294097885, 0.9991404206219856, 0.9996731833683977, 0.998483780468532, 0.998483780468532, 0.998483780468532, 0.9996707067909212, 0.9997699055030592, 0.9990472322765634, 0.9945851089653907, 0.9981063859858077, 0.9981386430875184, 0.9981317484192397, 0.9981375673209136, 0.996413319026152, 0.9994406487453987, 0.9990355915364629, 0.9990486804221813, 0.9982112720016972, 0.9985430763128148, 0.9985487451683488, 0.9982337783452995, 0.999555700116645, 0.9995535267969792, 0.999430005714657, 0.9990775629539052, 0.9998033682869556, 0.9998376798636421, 0.9913191686382528, 0.9985507834483264, 0.998048232840728, 0.9994712013196592, 0.998996838354223, 0.9996680429254257, 0.9993897631892458, 0.9972396958611869, 0.994600946212844, 0.9958252135782919, 0.999405147701187, 0.9937714116031717, 0.9990826900662089, 0.9997459214488837, 0.9997788924242413, 0.9995725544423296, 0.9997562398749708, 0.9996984497258188, 0.9997571196038921, 0.9996324329238423, 0.9995087826691093, 0.999597832883579, 0.9995087826691093, 0.9995087826691093, 0.9995087826691093, 0.9988117977826795, 0.9988831463672001, 0.999679856061424, 0.9951974130556165, 0.9951974130556165, 0.9951705580076756, 0.9946288671384788, 0.9955813181608447, 0.998585895548539, 0.9982227349879333, 0.9997662621496929, 0.9992345688465392, 0.9982227349879333, 0.9990472322765634, 0.9985796697255451, 0.9992424975254395, 0.9993794637838712, 0.9979765598735413, 0.9981540562013302, 0.9996598721878681, 0.999140559000037, 0.9997581898020381, 0.9988480953674017, 0.998848209879101, 0.999725334809345, 0.9952865271585573, 0.9976682781309252, 0.9951974130556165, 0.9951797213426052, 0.9951797213426052, 0.9997937722678668, 0.9983162156796077, 0.999689656921169, 0.9981975173716219, 0.9958281546819265, 0.9969109453175112, 0.997821447851141, 0.9959920821432203, 0.9959920821432203, 0.9996684285303891, 0.9990201017282829, 0.9973797882589435, 0.9989713636249202, 0.9944210756713258, 0.9984045308931727, 0.9971801266906627, 0.9980443732608649, 0.997378794173536, 0.9985571158946891, 0.9990357970634606, 0.999675230579656, 0.9990980504702841, 0.9997204018938374, 0.9996571854068785, 0.9996571854068785, 0.9973304149355668, 0.9990714115607469, 0.9993156549874649, 0.9997586484781366, 0.9992447515705083, 0.9997622609961134, 0.9951797213426052, 0.9988663192911732, 0.9997836231677012, 0.9988711693727573, 0.9945782635092714, 0.9966310628674777, 0.9974544893126238, 0.9956152805527103, 0.9982125782061425, 0.9965643991460182, 0.9981402521775833, 0.9949843238101056, 0.9941221009236823, 0.9949843238101056, 0.9987358053580739, 0.9951974130556165, 0.9931382356871614, 0.997512424158624, 0.9980761840287132, 0.9974126000796046, 0.9961986520641251, 0.9991372826695272, 0.9997845228069748, 0.9989026770855661, 0.9995297813369738, 0.9991935958107994, 0.9992220945581413, 0.9990631348298986, 0.9988925722454836, 0.9962111462137077, 0.9996769038733646, 0.9954447271512672, 0.9993650240458456, 0.9997579687790881, 0.9961834488628588, 0.9919494446096709, 0.9995485785010675, 0.9981881850089409, 0.9981881850089409, 0.9975903528844772, 0.9980498442207806, 0.9992187423977261, 0.998874404834612, 0.998874404834612, 0.9998415501560254, 0.9996684285303891, 0.9966339418496376, 0.9997692508395377, 0.9993327481873793, 0.9958592698331448, 0.9991665024448558, 0.99993879337965, 0.9998102957250056, 0.9988306725931589, 0.998901064506788, 0.9997721808469896, 0.9991793170149129, 0.9995667867936894, 0.999160037864661, 0.9988821032377133, 0.998959364298368, 0.9951974130556165, 0.9993425889146927, 0.999743653111849, 0.998882768372257, 0.9997344815018501, 0.9999545557703837, 0.9997594002860506, 0.9995300274081366, 0.9973867200647418, 0.9945851089653907, 0.9997594002860506, 0.9997594002860506, 0.9976759670322033, 0.9996529828440689, 0.9943622684781054, 0.9997875937464833, 0.9964002647541866, 0.9997467855501668, 0.9971043098957076, 0.9935286345557921, 0.9935152406730823, 0.9934737129141817, 0.9997772183705536, 0.9997560552285222, 0.999798044206853, 0.994432968942679, 0.9997749759122925, 0.9997749759122925, 0.9925938706519869, 0.9979852124354956, 0.997955379671009, 0.9980440860808629, 0.9990421114337411, 0.998600932410163, 0.998600932410163, 0.9980440860808629, 0.99957299414322, 0.99957299414322, 0.9990421114337411, 0.9900471468839399, 0.9900471468839399, 0.9996854009060292, 0.9996854009060292, 0.9951974130556165, 0.9964480686047225, 0.9995981546088784, 0.9957874387643386, 0.9997268100020205, 0.9979207132761406, 0.9989185724911251, 0.9993567153506234, 0.9993567153506234, 0.9974244813276222, 0.9997853556948221, 0.9968779894225723, 0.9984841769989997, 0.9917794195404799, 0.9994400427347369, 0.9989264310427836, 0.9986697374477086, 0.9992074200539861, 0.9994432582738982, 0.9957006352816534, 0.9970539639814292, 0.9997662621496929, 0.9991136050115228, 0.9997629463755883, 0.9984842609026833, 0.9978226930719556, 0.999430005714657, 0.9991314906948429, 0.9991295762046407, 0.9994325330499573, 0.9997856246274065, 0.9969209714479008, 0.9936365674859551, 0.9993649648634576, 0.9997611987542496, 0.9997611987542496, 0.9974993474786521, 0.9993401536586198, 0.9993509780254306, 0.9993776401955261, 0.9995194605372775, 0.9988831463672001, 0.9996726932729804, 0.9982879962142485, 0.9961450718460155, 0.9976123997453141, 0.9973989166577776, 0.9973989166577776, 0.9961450718460155, 0.9979048973146346, 0.9980421285596974, 0.9988898031618204, 0.9959901716465833, 0.9972632256491368, 0.9979509598219063, 0.9983251280012918, 0.9969966592551642, 0.9962002470708264, 0.9997419260736108, 0.9982057182311009, 0.9962002470708264, 0.9983176145389785, 0.9996680429254257, 0.9978226747404485, 0.9955179938004955, 0.9953441576140252, 0.9993368984986973, 0.9997082531595232, 0.9999835403071214, 0.9999342189523689, 0.9999849429778861, 0.9989113759933183, 0.9989113759933183, 0.9951974130556165, 0.997586801718432, 0.9951974130556165, 0.9951974130556165, 0.9997904425574411, 0.9951974130556165, 0.9951974130556165, 0.9951974130556165, 0.9985678204998795, 0.999520644527665, 0.9986957335865658, 0.997350926813823, 0.9972963644477885, 0.9972963644477885, 0.9950639764911317, 0.9989026770855661, 0.998927245756191, 0.9965914428084656, 0.9989253817368619, 0.9952680237880742, 0.9979608192111886, 0.9989345374426858, 0.9997730563526945, 0.9991388111982603, 0.9963741370062781, 0.9994569886432931, 0.9996468629959945, 0.9997443910313902, 0.9997319965594937, 0.9991781607556599, 0.9992074200539861, 0.9997900415311975, 0.9997131523539923, 0.9995936458405436, 0.9995220394600577, 0.9986029383244699, 0.9992781654787242, 0.9969856992566298, 0.999719703577627, 0.9987358053580739, 0.9973439215412621, 0.991810646883268, 0.9911672815063312, 0.9951974130556165, 0.9997634117376215, 0.9997292761450589, 0.9996434365236766, 0.9990948805092689, 0.9996944146225979, 0.9988354437710777, 0.9901812907952035, 0.9997503523125256, 0.9994791187976997, 0.9964996686463681, 0.9993807105798911, 0.9988831463672001, 0.9988831463672001, 0.9988831463672001, 0.9976360636100745, 0.9993257141138037, 0.9998307462682925, 0.9997302895699969, 0.9988148397881464, 0.9972866455362661, 0.9978201783067484, 0.992343276193676, 0.9993690244999772, 0.9995034524787897, 0.9995034524787897, 0.9978624913095335, 0.9972531802662957, 0.9988354437710777, 0.9990485729265832, 0.9997419260736108, 0.9926771935406474, 0.9926923348545963, 0.9938530482024521, 0.9938755406061488, 0.9939854999864515, 0.998818882595882, 0.9995010047009035, 0.999502155031678, 0.9996760233083621, 0.9996760233083621, 0.9997212197744785, 0.9995267252043298, 0.9995267252043298, 0.998725729444608, 0.998725729444608, 0.9987647205227186, 0.9987756341996122, 0.9989242215119799, 0.9989307353825984, 0.9954368010593697, 0.9988253521229382, 0.9994441591879165, 0.9994441591879165, 0.9997496947553319, 0.9997532457991667, 0.9994427642290876, 0.9986938543965452, 0.9977808912250051, 0.9997155694665691, 0.9966035485446662, 0.9902205879035447, 0.9988863727141761, 0.999378272580063, 0.9993183880287176, 0.999378272580063, 0.9989617790708504, 0.9987013045471824, 0.9985947506254683, 0.9985950082411685, 0.9978530381530583, 0.9992590580583833, 0.9996208634426362, 0.999555700116645, 0.9990826900662089, 0.9996574859824043, 0.991810646883268, 0.9959142975553523, 0.9941326242650687, 0.9935093551365947, 0.9993876007228382, 0.9996939474096004, 0.9997610514440374, 0.9997623840031876, 0.9997772370253566, 0.9975852996711184, 0.9976592440409385, 0.9957920759777027, 0.9957920759777027, 0.9957920759777027, 0.9993588561828232, 0.9996543986457418, 0.9982257220004066, 0.999629470921025, 0.9997554310554225, 0.9998265677216145, 0.999015620730388, 0.9960893289852344, 0.999015620730388, 0.9984301164154015, 0.999015620730388, 0.998818882595882, 0.9983702072173914, 0.9985769011662168, 0.999015620730388, 0.9989108226715957, 0.9983279699809741, 0.99948804482612, 0.9979786945695627, 0.9939014337255077, 0.9963388419573896, 0.9982689410230265, 0.9973583878645675, 0.9966182995370274, 0.9966182995370274, 0.9966182995370274, 0.9967287869760787, 0.9973208703660541, 0.9967474285250886, 0.9967474285250886, 0.9966960617946712, 0.9983863729990194, 0.9983700704405815, 0.9981514212565578, 0.9983863729990194, 0.9961450718460155, 0.9975573500504741, 0.9949869108328864, 0.9972834520034032, 0.9992579974139245, 0.9986934141624705, 0.9982259505104243, 0.9992607892875685, 0.9987845929293219, 0.9966742982236468, 0.9994319040090899, 0.9951974130556165, 0.9993876007228382, 0.9937157899070945, 0.9951974130556165, 0.9995395734249346, 0.9988069755438578, 0.9988069755438578, 0.9989263117915032, 0.9951974130556165, 0.9986025464589254, 0.9997923171977696, 0.9995100317582766, 0.9996630876115518, 0.9996299856691446, 0.9963166256856033, 0.9911161020969854, 0.9927001267250775, 0.9997944220355169, 0.9983355136584486, 0.9987650811403115, 0.9992873802514541, 0.9990418531088364, 0.9993426462955197, 0.993056231073732, 0.9949176272471617, 0.995875647552607, 0.9982608374106228, 0.9997792712752627, 0.9997792712752627, 0.9982184445724337, 0.999955834334666, 0.998102351912098, 0.9987833506136612, 0.9958389725907555, 0.9982671200492922, 0.9988803724152575, 0.9988668637196663, 0.9979612972647806, 0.9979612972647806, 0.9997745456309193, 0.9996331375802973, 0.9982106921422704, 0.9981904016020169, 0.9988891427625514, 0.9982044910253891, 0.9997959199101659, 0.9994834403698802, 0.9985507834483264, 0.9993897631892458, 0.999785496692099, 0.9980864076297816, 0.9947750654784574, 0.9982929202832764, 0.9958389725907555, 0.9994100161094506, 0.9932517167824093, 0.9910754998904628, 0.9950639764911317, 0.9970316148922245, 0.9987706701846184, 0.9976420567111244, 0.9997431514497066, 0.9997175096156515, 0.9997798297550202, 0.9940042280792548, 0.9997688436492785, 0.9997688436492785, 0.9997688436492785, 0.9977791068991468, 0.9997904425574411, 0.9939180922346639, 0.9955923076868264, 0.996132271545315, 0.9993839787827424, 0.9982597740687582, 0.9939854999864515, 0.9970987873619567, 0.9982597740687582, 0.9945034511467075, 0.9970037915619983, 0.9988181238224989, 0.9988069755438578, 0.9988069755438578, 0.9989263117915032, 0.9994266582598021, 0.9990909809296863, 0.9997642429095086, 0.9991583173433368, 0.9998419029665216, 0.992768792845253, 0.9954920058245886, 0.9927785489841529, 0.9991937030929278, 0.9947750654784574, 0.9985981408339745, 0.9993917399067862, 0.9914957164913751, 0.9922588041071908, 0.9969208463514106, 0.9970593691506794, 0.9989026770855661, 0.9903766589163429, 0.9990714781346659, 0.9982621105403421, 0.9962417149056219, 0.9964175551513287, 0.9948481450673172, 0.9988925722454836, 0.9951974130556165, 0.9983338750369054, 0.9900928473628259, 0.9996322294097885, 0.9997431514497066, 0.9951974130556165, 0.9983649750598457, 0.9985019649976827, 0.9943622684781054, 0.9991366173279059, 0.9998903397245456, 0.9984395859359372, 0.9961688271185322, 0.9988302083933331, 0.9977743967182526, 0.9996944102304518, 0.9997238329884046, 0.9991436826362067, 0.995245685178184, 0.9969128694472152, 0.9976588428189511, 0.9988702614330166, 0.9956870709782513, 0.9995929734096018, 0.9995843927354283, 0.9997204456799362, 0.9989128942131871, 0.9993727543393762, 0.9993263876901773, 0.9983298473344547, 0.9983298473344547, 0.9987490127401035, 0.9973676658197499, 0.994873411639419, 0.996457682123815, 0.997876986888005, 0.9941302600913747, 0.9978008093304964, 0.9948202839999268, 0.9997632860934468, 0.9968466590843159, 0.9968854893778467, 0.9994672255572508, 0.9988052879639111, 0.9982257220004066, 0.9938291906831958, 0.9953992211167184, 0.9961428599691369, 0.9987937973839044, 0.9949178441043982, 0.9982146771274151, 0.9978105949955222, 0.9954529192011777, 0.9982935728349104, 0.9948775003984885, 0.9978688607985929, 0.9952474320299494, 0.9916164885546709, 0.9916164885546709, 0.9925759661930919, 0.9966233220434767, 0.9966364581981709, 0.9989606408549055, 0.998795506066859, 0.9966771328735415, 0.9968486821624425, 0.9987111762139659, 0.9931987110467463, 0.9997601014746593, 0.9968854893778467, 0.9989462624819909, 0.9999155692781683, 0.9950901338726421, 0.9974137251467443, 0.9974137251467443, 0.9979009296494755, 0.9961986520641251, 0.9999416284389566, 0.9997319465576133, 0.9952861612291118, 0.9950869698013247, 0.999768460303847, 0.9945361643377202, 0.9948617172530755, 0.9950492503995231, 0.9962818033379719, 0.9980247166186821, 0.9980247166186821, 0.9953443922331071, 0.9953535905512134, 0.9997601812225906, 0.9935508447501266, 0.9976602847836205, 0.9984198586884576, 0.9996046338072078, 0.9984293503041498, 0.9983843459502801, 0.998179877683811, 0.997734005852911, 0.9981611137182813, 0.9972500510636783, 0.9989097824608711, 0.9974158405997074, 0.9996684285303891, 0.9997280656164441, 0.9980592402165923, 0.9982350278023372, 0.9994823898988642, 0.9908526933598457, 0.9971834091363125, 0.9993132119366488, 0.9971926741931852, 0.9978008093304964, 0.9952474320299494, 0.9987931972408658, 0.9911408011141614, 0.9987729113917048, 0.9996680429254257, 0.999138313527721, 0.9995733566878752, 0.9999520672285902, 0.9999546077376692, 0.9933338100701372, 0.9990176413963999, 0.9990223504532826, 0.9998662252343747, 0.999705018113329, 0.9972214761780959, 0.996051601771397, 0.9964038731105876, 0.9990803775743082, 0.999741174719552, 0.9941636263706712, 0.9989097824608711, 0.9997632860934468, 0.998939959363904, 0.9990783095759926, 0.9993309049626077, 0.9996511439200408, 0.9995431873096123, 0.9995871057626915, 0.9955726338541157, 0.9955534420503818, 0.9951702401490499, 0.9998438873045797, 0.9956161576073286, 0.9990149957230486, 0.9990149957230486, 0.9987503595246108, 0.9987503595246108, 0.997031812032884, 0.9997512301034042, 0.9948789739236512, 0.9996158733107634, 0.9963741370062781, 0.9984946668079198, 0.9984946668079198, 0.9985811244560243, 0.999140263527132, 0.9993955324743825, 0.9923993533124568, 0.9997595377277708, 0.9995454727947554, 0.9980231633643155, 0.9996683448504927, 0.9996683448504927, 0.9962710830397197, 0.9997768930970655, 0.9979034593204995, 0.9975852996711184, 0.9963316199343178, 0.9990398862373491, 0.9941297643078186, 0.9950761785029498, 0.9987454242167831, 0.9973427732831511, 0.9993969368278816, 0.9996602858338697, 0.9959950372749208, 0.999806215260415, 0.9978181213568347, 0.9990605006487777, 0.9997481755021055, 0.9996630876115518, 0.9994566350955831, 0.9958962276696773, 0.9953985686611951, 0.9958140053129442, 0.9974129541826835, 0.9959431540088208, 0.9982521539848551, 0.9990095113530607, 0.9994378044443109, 0.9983222501328942, 0.9988108033257086, 0.9988627980581049, 0.999143786116836, 0.9987873177421875, 0.9921683730073846, 0.9997349316076214, 0.9995752023699052, 0.9952244267943476, 0.9988558800406472, 0.9934633161922695, 0.9978196890720101, 0.9912765202816056, 0.9969061220715566, 0.9960893289852344, 0.9989026770855661, 0.9912765202816056, 0.9995702940098941, 0.9996430266474329, 0.9997386829532134, 0.9996971269044697, 0.9995330349172348, 0.9968773772433224, 0.9997203063244839, 0.9990160663163129, 0.9912765202816056, 0.9996684285303891, 0.9965334983967683, 0.9959451242149986, 0.9982865803342409, 0.9965522452478314, 0.9967546176136511, 0.9946061449847526, 0.9913620710931651, 0.9940848752358322, 0.99586404498084, 0.9944000868336212, 0.9949135210778552, 0.9983857531097863, 0.9976778305412064, 0.994950186088495, 0.9982865803342409, 0.9982865803342409, 0.9955761656575649, 0.9959826106596684, 0.998877308045074, 0.9958584182941658, 0.9969768673235025, 0.9938850275305257, 0.996941882689349, 0.9926825028944862, 0.9927627202673374, 0.9938702104831271, 0.9939766328998, 0.9914033795069399, 0.9994958124491333, 0.9998626074035839, 0.9993602094773784, 0.9989878079341443, 0.9990317143977867, 0.9988006575904428, 0.9939047186816452, 0.9993361355613101, 0.9966448235712024, 0.9930603997099308, 0.9990951450589082, 0.9971483804242032, 0.9976856721382453, 0.9957251084269726, 0.9987138205704846, 0.9969577354148069, 0.9982259277807412, 0.9935321610636247, 0.9918531660031108, 0.9927899746490845, 0.9984650405847253, 0.9992355542263489, 0.9973277025977212, 0.998305038404171, 0.999271336395945, 0.9979740248512393, 0.9985334408675093, 0.9992348542660037, 0.992716976118198, 0.9942072401620881, 0.9984262978222703, 0.991875782351138, 0.9916588100852831, 0.9907051440359588, 0.9982397102967434, 0.9941833028112821, 0.9997602303190929, 0.9986204486245577, 0.9964670090238363, 0.9960696902032191, 0.9908910976531158, 0.9925862058669841, 0.9913299075881992, 0.9937806205768533, 0.9965517585432432, 0.9919812760530561, 0.9999045447805909, 0.9963628690166619, 0.9985692770655614, 0.9942026782401203, 0.9907322175928541, 0.9982952050747927, 0.9981039162633276, 0.9914845040424239, 0.9941833028112821, 0.9967533282598268, 0.9900164864182146, 0.9907447688398404, 0.9903126853929073, 0.9983119304537019, 0.9990648644351088, 0.9989013559067544, 0.9973523056586459, 0.9964708824775451, 0.9972822163699182, 0.997921769212213, 0.998233477809118, 0.9915690077904594, 0.9968003946197025, 0.9960513892859656, 0.9984004260434638, 0.9955312780866425, 0.9970754768858533, 0.9959745733730921, 0.9962924743240404, 0.9968513462513722, 0.9959620138127532, 0.9980804371728007, 0.9954436811657253, 0.9925677864766163, 0.9996091310436707, 0.9960898592960648, 0.9984253533586834, 0.9931019673220791, 0.9956271050337631, 0.9926429867880845, 0.9918292573538979, 0.998127423535542, 0.9913243278970111, 0.9994326486876185, 0.9992728200107238, 0.9913286535478211, 0.9908863856010522, 0.9905337866673251, 0.9920049253992416, 0.9912614728787551, 0.9907011803443403, 0.9915668283381827, 0.9942602606591621, 0.9981347778776325, 0.9988056444639498, 0.991181641902312, 0.9958885479791676, 0.9947960573165988, 0.9958124120366536, 0.9931247681017584, 0.998791289543431, 0.998682887004686, 0.9990939957584988, 0.9997543725875705, 0.998656766445859, 0.9986388545080056, 0.997419745855495, 0.9913413202736102, 0.9988893030546601, 0.9989180044740705, 0.998873365315225, 0.9985202267719965, 0.9959615751010145, 0.9996593962452442, 0.9982486357424525, 0.9988686624488776, 0.9985447224734785, 0.9954854957443007, 0.9957100435561064, 0.9953605532506268, 0.992881987343013, 0.9953979705084861, 0.9915191956011014, 0.9994326486876185, 0.9964027169491675, 0.9955590448076828, 0.9996593962452442, 0.9914484380405408, 0.9962875154149652, 0.9986299866343067, 0.9902304763825719, 0.9964392230935306, 0.9935647999092112, 0.9989521546331517, 0.9953755378973613, 0.9950301937454623, 0.9994326486876185, 0.9987007337940488, 0.9994326486876185, 0.9993520533211284, 0.9943772319141295, 0.9923666093987793, 0.9949532224421408, 0.9981198571223507, 0.99673924631948, 0.9939724952048469, 0.9965645799754971, 0.9936867533211368, 0.998994776546231, 0.999861028164698, 0.9939890714486722, 0.9973537602495492, 0.998387165127199, 0.997701813208802, 0.9979810176644379, 0.998172071662142, 0.9998433019560325, 0.9914041786650638, 0.9926649858917911, 0.9937365261709715, 0.9920666559745405, 0.9920850412564509, 0.9920426456544844, 0.9914041786650638, 0.9938026972440015, 0.9914141128120544, 0.9914224074860105, 0.992077368760465, 0.9965978860862318, 0.9943429648369229, 0.9969951449307601, 0.997964094336851, 0.9969992921477508, 0.9943354958622846, 0.9981629080071499, 0.9983081179259926, 0.9976610081864148, 0.9981866647835294, 0.9973563381285162, 0.9982067356749793, 0.9982060167306487, 0.9982848401428764, 0.9920810685972463, 0.99267638380371, 0.9926649858917911, 0.9945254076053053, 0.9945254076053053, 0.9926629147191106, 0.9921006334726323, 0.9932393751310462, 0.9926789185225309, 0.9920828435770792, 0.9947146220985037, 0.9932510078485463, 0.9970005785432206, 0.9945631190411105, 0.9973611247733719, 0.9983500925975588, 0.9973621431565717, 0.9983211303277819, 0.9983360992766653, 0.9918434504833429, 0.9902222898756381, 0.9983912510994282, 0.9975876808950048, 0.9975848593603088, 0.9968899709021747, 0.9963040757633217, 0.996902596262872, 0.9936885005232684, 0.9968899038596246, 0.9968621504782933, 0.9968914064154039, 0.9964603498255232, 0.9921195063246036, 0.9926337586046211, 0.9902190033797582, 0.9968825117097851, 0.9914950045409546, 0.9992098189341174, 0.9973669806218736, 0.9960485491600756, 0.9956411602130666, 0.9917892199170135, 0.9923169380906908, 0.9921114296687676, 0.9920597337658654, 0.9953170719040124, 0.9954477488606195, 0.9959756561424015, 0.99021418882374, 0.9924320979438008, 0.9959456731483458, 0.9900930741461483, 0.9959456731483458, 0.9914408959720483, 0.9901083773310803, 0.9906823745834898, 0.9900930741461483, 0.9959456731483458, 0.9900930741461483, 0.995625050161113, 0.9959456731483458, 0.9940535724804156, 0.9952650257091509, 0.993695125182209, 0.9901548322874351, 0.9910745881135413, 0.9944088067891207, 0.9949145641043182, 0.9932439850944373, 0.9940535724804156, 0.9918526692447266, 0.9918410545179908, 0.9919280724122672, 0.9934340873653371, 0.9902501024768892, 0.9988283439662746, 0.99886423836207, 0.9988196914099791, 0.9998541223539997, 0.9988708715547385, 0.9983549959570115, 0.9988685667194419, 0.9986870215305282, 0.9998594488210745, 0.9983595316827599, 0.9923741083983366, 0.9964248051511626, 0.9985756372569026, 0.9903030778497857, 0.9930429872741269, 0.9927002292151818, 0.9960898592960648, 0.9958909902979354, 0.9921030761974835, 0.9913820426197263, 0.9915913097487145, 0.9932978277167064, 0.9954922308162532, 0.9904916280515125, 0.9928717274118166, 0.9936459277807891, 0.99523557005039, 0.997640062709179, 0.9976459454525883, 0.9960893289852344, 0.9982828065046985, 0.997640062709179, 0.9991756895956694, 0.9943266448653215, 0.9943481588394109, 0.9935487013402429, 0.9950513650614933, 0.9955226498421919, 0.9967765197817804, 0.9990627159247669, 0.9976068598914777, 0.997640062709179, 0.9976459454525883, 0.9953611939156878, 0.9937092713469599, 0.999645441101677, 0.9954663345651019, 0.9960893289852344, 0.9982865803342409, 0.9976119833582402, 0.998531995521182, 0.996323850489395, 0.9960893289852344, 0.9976119833582402, 0.9948066136226291, 0.9982947898083766, 0.9982828065046985, 0.9992514366304318, 0.9958639880196499, 0.9987469659414634, 0.997289999496557, 0.997640062709179, 0.997640062709179, 0.997640062709179, 0.997640062709179, 0.9960893289852344, 0.9990627159247669, 0.9969061220715566, 0.9956928001752122, 0.9988104719825561, 0.9988104719825561, 0.9988253521229382, 0.9920049594248097, 0.9936059891224804, 0.9960893289852344, 0.993626788654769, 0.9976459454525883, 0.9950170518665181, 0.9941878425040536, 0.9986684522546804, 0.9946010734054125, 0.9946010734054125, 0.9997668736678299, 0.997111218358626, 0.9950170518665181, 0.9950170518665181, 0.9956969330050689, 0.995255280275006, 0.9958574618708347, 0.995255280275006, 0.9956059241038551, 0.9977303470238402, 0.993680345668949, 0.993680345668949, 0.9936488717544443, 0.9950170518665181, 0.9963071679036691, 0.9984151329978003, 0.9941878425040536, 0.9926314832549831, 0.995255280275006, 0.995255280275006, 0.9981146978357388, 0.993680345668949, 0.9925123682101173, 0.9918797107540034, 0.9948756193140592, 0.9950170518665181, 0.9900824817057589, 0.9948335550794528, 0.9950170518665181, 0.9964543710373527, 0.9956047690272661, 0.9942215540967656, 0.9964343765389895, 0.9938888630579402, 0.9972602602679236, 0.995255280275006, 0.9983179887591884, 0.9913704330320694, 0.995343397140154, 0.993680345668949, 0.993680345668949, 0.993680345668949, 0.993680345668949, 0.9982915878577281, 0.9958984246607059, 0.9935568861036485, 0.9912551870871867, 0.9936488717544443, 0.9917267821857082, 0.9924415924052705, 0.9979898453335739, 0.9920583596687016, 0.9908071827720064, 0.9951520048468974, 0.9901075060077329, 0.990779250992974, 0.9951520048468974, 0.9962681892435188, 0.9946822163963448, 0.99583114736615, 0.9971870928422274, 0.99583114736615, 0.994168928667446, 0.9909560098534789, 0.9970680864198231, 0.9922779684369566, 0.9952168334244018, 0.9948758586719699, 0.9961195379773908, 0.9979314540335485, 0.991105379620503, 0.9983054777584686, 0.9908538369325519, 0.9933714012720652, 0.9956280516808168, 0.9940123991599381, 0.9963785849147507, 0.9969665342345481, 0.9938660565089682, 0.9963448083942186, 0.9989213314644294, 0.9989213314644294, 0.9961143766870126, 0.9937515250613749, 0.9924592976334137, 0.9912718743233635, 0.9939186554490743, 0.9997488816551965, 0.9919699163853083, 0.9920872171660419, 0.9997488816551965, 0.9995013267433278, 0.9997510006527145, 0.9912826005808795, 0.9990675474328509, 0.9990675474328509, 0.9992044812748051, 0.9989277893569227, 0.9988739369973726, 0.9935468960655555, 0.9987577003901923, 0.9973806982879134, 0.9990946037483306, 0.9948392977676592, 0.9951232418266743, 0.9932406646592863, 0.9996684285303891, 0.9993856087564598, 0.9985947506254683, 0.9980558238077883, 0.9917862467440074, 0.9990487641127156, 0.9976861977781581, 0.9932586553755927, 0.9902799433977075, 0.9958680765558434, 0.9989294072129031, 0.998078221706282, 0.9937646007198678, 0.997906582694918, 0.9951285764578088, 0.9936328542076327, 0.9982978382984055, 0.9920744843245846, 0.9985086360165201, 0.9992805622981937, 0.994064062695163, 0.9925378538695573, 0.9960409659959614, 0.996251593577905, 0.9976855605436811, 0.9982504229386703, 0.9958450643536652, 0.9955149818756434, 0.9961545157892788, 0.9961688271185322, 0.9960967130150971, 0.9960543524259506, 0.9994598965820415, 0.999777818246493, 0.9901514004640107, 0.9900710456463375, 0.9972165248047362, 0.9962700486328248, 0.9967277097909869, 0.9917243292972161, 0.993056231073732, 0.9937976928399558, 0.9989843059261692, 0.9957916823254974, 0.9980374203777681, 0.9989458052719822, 0.9901733081231752, 0.9990782859772872, 0.9967249317846861, 0.996280691530645, 0.9947750654784574, 0.9961005172888086, 0.9986307128515711, 0.996290563203827, 0.9962700486328248, 0.9910859034536118, 0.9989415750028352, 0.9973924898594604, 0.9948111843177466, 0.9945380139645033, 0.9907853131435875, 0.992001532093296, 0.992001532093296, 0.992001532093296, 0.992001532093296, 0.992001532093296, 0.992001532093296, 0.992001532093296, 0.992001532093296, 0.992001532093296, 0.992001532093296, 0.992001532093296, 0.992001532093296, 0.992001532093296, 0.9994550865709243, 0.9993654269446202, 0.9996344953526654, 0.9988266304909044, 0.9973734215040057, 0.9986484904304359, 0.9974801087607471, 0.9984440461082998, 0.9997160183779216, 0.9996684285303891, 0.9958339056682803, 0.9983031820611626, 0.9970269802377816, 0.9991493736022558, 0.9925869855946134, 0.9978506527488813, 0.9998881669687841, 0.9976347248604172, 0.9976247288348412, 0.9997956607100295, 0.9954445923305362, 0.9995887770542801, 0.9993480270305088, 0.999378272580063, 0.9972083158995941, 0.9982057182311009, 0.9991416692015231, 0.993056231073732, 0.9996680429254257, 0.9986904714441076, 0.9970838286042195, 0.9948180698929416, 0.9974801087607471, 0.9984440461082998, 0.9905472461125195, 0.9958107587076173, 0.9989026770855661, 0.9967107954785375, 0.9913971040399842, 0.9905182049071494, 0.994321552126025, 0.9968206122057172, 0.9984132311802864, 0.996038088583471, 0.9944681386529076, 0.9923978894634382, 0.9967596538026843, 0.9975554114835999, 0.9909557785916073, 0.9957190558785852, 0.9956349637615276, 0.9914499210912872, 0.9952632501934533, 0.9992645764446205, 0.9992804722009263, 0.9954459753563929, 0.9987881848982585, 0.9999535581113314, 0.9990820173251581, 0.9957893105897824, 0.9914499210912872, 0.995202923948719, 0.9920577100704161, 0.9909557785916073, 0.9926433513303862, 0.9978715707412709, 0.995591249035088, 0.995591249035088, 0.995591249035088, 0.9978715707412709, 0.9983647952396234, 0.9983647952396234, 0.9978715707412709, 0.997019667506142, 0.9978715707412709, 0.995591249035088, 0.9950895662255336, 0.9950895662255336, 0.9909557785916073, 0.9938205466888007, 0.9977753215028768, 0.9992228343536234, 0.9972318785373236, 0.9970716896492745, 0.9959205163295124, 0.9992592398149702, 0.9909557785916073, 0.9927191988281743, 0.9991137801456897, 0.991935495388329, 0.9970279993549929, 0.9989698244287276, 0.998749847045441, 0.9980947878607577, 0.9999446478395387, 0.9998723273059695, 0.999340346067074, 0.9975913187042862, 0.9995275833121706, 0.9917243292972161, 0.9980362370287438, 0.9960046344265617, 0.9955169752229117, 0.9932324144635265, 0.9954188335441775, 0.9967665003226919, 0.9903686734065689, 0.9978643094137842, 0.9931816087236326, 0.9922604518249937, 0.9903911700222681, 0.9958453349611702, 0.993680345668949, 0.9991417735765273, 0.9966291487199903, 0.9987336134208452, 0.9989971834063612, 0.9979925333108095, 0.9985934551069358, 0.9974545386119934]\n"
     ]
    }
   ],
   "source": [
    "# 군집 내의 유사도 측정\n",
    "# targetIdx : \"과·채주스_파스퇴르발렌시아오렌지주스\"의 index\n",
    "\n",
    "from numpy import dot\n",
    "from numpy.linalg import norm\n",
    "\n",
    "# lialg(Linear Algebra : 선형대수 함수) 라이브러리\n",
    "# norm : 벡터의 크기(magnitude) 또는 길이(length)를 측정하는 방법. \n",
    "# 벡터 공간을 어떤 양의 실수 값으로 매핑하는 함수와 유사함.\n",
    "# norm : https://numpy.org/doc/stable/reference/generated/numpy.linalg.norm.html\n",
    "\n",
    "# 코사인 유사도(cosine similarity) 측정 함수\n",
    "def get_cosine_similarity(m1, m2):\n",
    "    return dot(m1, m2)/(norm(m1)*norm(m2))\n",
    "\n",
    "similarValues = []\n",
    "\n",
    "# ValueError: Expected 2D array, got 1D array instead:\n",
    "# 상기 에러 패치위한 조치 : array.reshape 함수 활용\n",
    "# 주의) 사이킷런의 코사인 유사도 인자는 2차원 배열로 인자를 받으므로 변환이 필요함\n",
    "\n",
    "#print(\"타겟 index : \",  X_features_scaled[targetIdx].reshape(-1, 1))\n",
    "#print(\"다른 index : \", X_features_scaled[1].reshape(-1, 1))\n",
    "\n",
    "#cosine_similarity(X_features_scaled[targetIdx].reshape(-1, 1), X_features_scaled[idx].reshape(-1, 1))\n",
    "\n",
    "cosSimilDict = {} # index(key), 코사인 유사도(value)\n",
    "\n",
    "# 최대의 유사도를 지난 식품은 타겟 식품 자신이므로, 이를 제외하고 검색 \n",
    "for idx in foodIdx:\n",
    "    # print(idx)\n",
    "    # simil_val = cosine_similarity(X_features_scaled[targetIdx].reshape(-1, 1), X_features_scaled[idx].reshape(-1, 1))\n",
    "    similVal = get_cosine_similarity(X_features_scaled[targetIdx], X_features_scaled[idx])\n",
    "    #similarValues.append(similVal)\n",
    "\n",
    "    # 타겟 상품 제외\n",
    "    if (idx != targetIdx):\n",
    "        cosSimilDict[idx] = similVal\n",
    "    #print(simil_val)\n",
    "\n",
    "#print(cosSimilDict)\n",
    "\n",
    "minCosSimilVal = min(cosSimilDict.values())\n",
    "\n",
    "# 최대 유사도 선정시 후보군 선정 유사도 0.99 이상인 제품군 생성\n",
    "maxNearCosSimilVals = [val for val in cosSimilDict.values() if val > 0.99]\n",
    "\n",
    "print('최저 유사도(가장 관계가 적은 식품) : ', minCosSimilVal) # 가장 유사도가 낮은 값  ex) -0.012988934902584414\n",
    "print('최근접 유사도 후보군(0.99 이상) : ', maxNearCosSimilVals)"
   ]
  },
  {
   "cell_type": "code",
   "execution_count": 122,
   "id": "05009659-8912-400b-9943-003bedfeffd2",
   "metadata": {},
   "outputs": [
    {
     "name": "stdout",
     "output_type": "stream",
     "text": [
      "최저 유사도 상품 index : 49991, 상품명 : 식품코드            P117-100010100-0055\n",
      "식품명                    햄_라즈베리허니로스트덕\n",
      "에너지(kcal)                       267\n",
      "탄수화물(g)                        3.33\n",
      "단백질(g)                        16.67\n",
      "지방(g)                          20.0\n",
      "포화지방산(g)                       5.67\n",
      "나트륨(mg)                       433.0\n",
      "clusterLabel                      1\n",
      "Name: 49991, dtype: object, 유사도 : -0.01298893490258441405\n"
     ]
    }
   ],
   "source": [
    "# 최저 코사인 유사도를 가지는 값의 index 및 상품 정보 조회\n",
    "minCosSimilFoodIdx = [idx for idx in cosSimilDict.keys() if cosSimilDict[idx] == minCosSimilVal][0]\n",
    "print(\"최저 유사도 상품 index : %d, 상품명 : %s, 유사도 : %.20f\" % (minCosSimilFoodIdx, foodSet.iloc[minCosSimilFoodIdx], cosSimilDict[minCosSimilFoodIdx]))"
   ]
  },
  {
   "cell_type": "code",
   "execution_count": 123,
   "id": "3545666f-abf3-4853-9fdb-49b151b3c438",
   "metadata": {},
   "outputs": [],
   "source": [
    "# 최대 유사도 선정시 후보군 선정 유사도 0.99 이상인 제품군 소속의 상품들 정보 조회\n",
    "maxCosSimilFoodIdxes = [idx for idx in cosSimilDict.keys() if cosSimilDict[idx] in maxNearCosSimilVals]"
   ]
  },
  {
   "cell_type": "code",
   "execution_count": 124,
   "id": "19a9c18f-ee47-43ed-8c95-3b93e83fa829",
   "metadata": {},
   "outputs": [],
   "source": [
    "# for idx in maxCosSimilFoodIdxes:    \n",
    "    # print(\"최대 유사도 상품 index : %d, 상품명 : %s, 유사도 : %.20f\" % (idx, foodSet.iloc[idx]['식품명'], cosSimilDict[idx]))"
   ]
  },
  {
   "cell_type": "markdown",
   "id": "60d4ccb3-1f46-4025-80d0-bdff636f0875",
   "metadata": {},
   "source": [
    "---"
   ]
  },
  {
   "cell_type": "code",
   "execution_count": 125,
   "id": "fabe6c0a-09a5-4de0-a76b-577b4eceda10",
   "metadata": {},
   "outputs": [],
   "source": [
    "# 이후 단계 전개 절차\n",
    "# ex) 1끼 먹을 음식을 제한적인 갯수로(가령 5개 정도) 한정하여 입력하도록 조치하여 이를 일일권장량 기준의 1/3로 환산하여  \n",
    "# 각 영양소에 대한 부족분을 파악하고, 이에 따라서 임력한 음식(기호 음식)을 중심으로 후보군 내에서 적합한 음식을 필터링하여 추천 음식을 선정함\n",
    "\n",
    "# 구체적인 방안) 한끼 식사에 대한 A ~ E까지 음식이 입력되었다고 전제하고, 권장량에 충족되면 입력 그대로 진행하고 그렇지 않으면, 부족한 영양소를 A ~ E\n",
    "# 음식 순으로 기호에 맞게 유사도가 가까운 음식 후보군 중에서 미달된 영양 충족하는 음식을 선정하여 추천함 "
   ]
  },
  {
   "cell_type": "code",
   "execution_count": 205,
   "id": "10e6ac30-9625-4264-a62c-56b18fd3eec2",
   "metadata": {},
   "outputs": [],
   "source": [
    "inputFoods = {} # 음식(key) : 수량(value)\n",
    "\n",
    "inputFoodA = foodSet.loc[foodSet['식품명'].str.contains('햄버거')].iloc[0]\n",
    "inputFoodA\n",
    "inputFoods[inputFoodA['식품명']] = 2"
   ]
  },
  {
   "cell_type": "code",
   "execution_count": 206,
   "id": "75338cc9-74cf-4125-b694-133225823366",
   "metadata": {},
   "outputs": [],
   "source": [
    "inputFoodB = foodSet.loc[foodSet['식품명'].str.contains('코카콜라')].iloc[0]\n",
    "inputFoodB\n",
    "inputFoods[inputFoodB['식품명']] = 1"
   ]
  },
  {
   "cell_type": "code",
   "execution_count": 207,
   "id": "452f4c09-2822-40bb-baea-b1d9d838727c",
   "metadata": {},
   "outputs": [],
   "source": [
    "inputFoodC = foodSet.loc[foodSet['식품명'].str.contains('감자칩')].iloc[2]\n",
    "inputFoodC\n",
    "inputFoods[inputFoodC['식품명']] = 3"
   ]
  },
  {
   "cell_type": "code",
   "execution_count": 208,
   "id": "f7e2384c-a811-4b0e-8761-236a9028a219",
   "metadata": {},
   "outputs": [],
   "source": [
    "inputFoodD = foodSet.loc[foodSet['식품명'].str.contains('열라면')].iloc[3]\n",
    "inputFoodD\n",
    "inputFoods[inputFoodD['식품명']] = 2"
   ]
  },
  {
   "cell_type": "code",
   "execution_count": 209,
   "id": "06a22c78-03b8-4757-a669-d6773dd754f1",
   "metadata": {},
   "outputs": [],
   "source": [
    "inputFoodE = foodSet.loc[foodSet['식품명'].str.contains('커피')].iloc[1] # 인스턴트커피_커피빈 카페라떼\n",
    "inputFoodE\n",
    "inputFoods[inputFoodE['식품명']] = 1"
   ]
  },
  {
   "cell_type": "code",
   "execution_count": 210,
   "id": "4393ffdc-a915-4197-a988-e160064ad358",
   "metadata": {},
   "outputs": [
    {
     "data": {
      "text/plain": [
       "{'빵_노랑햄버거빵': 2,\n",
       " '탄산음료_코카콜라': 1,\n",
       " '일반과자_트러플 감자칩': 3,\n",
       " '라면_마열라면Cup': 2,\n",
       " '인스턴트커피_커피빈 카페라떼': 1}"
      ]
     },
     "execution_count": 210,
     "metadata": {},
     "output_type": "execute_result"
    }
   ],
   "source": [
    "inputFoods"
   ]
  },
  {
   "cell_type": "markdown",
   "id": "71689e8a-9e74-4e95-a12f-399c148b57b5",
   "metadata": {},
   "source": [
    "---"
   ]
  },
  {
   "cell_type": "code",
   "execution_count": 211,
   "id": "233270c1-b03e-451b-bf65-bd2432c790f8",
   "metadata": {},
   "outputs": [],
   "source": [
    "import os\n",
    "import cx_Oracle\n",
    "\n",
    "# DB 한글 설정에 따른 한글 지원\n",
    "# os.putenv('NLS_LANG', 'KOREAN_KOREA.KO16MSWIN949');\n",
    "os.putenv('NLS_LANG', '.UTF8')\n",
    "\n",
    "conn = cx_Oracle.connect('food', 'food', 'localhost:1521/xe')\n",
    "cursor = conn.cursor()"
   ]
  },
  {
   "cell_type": "code",
   "execution_count": 212,
   "id": "9142efe8-5cf8-4fd0-8681-71da446590e3",
   "metadata": {},
   "outputs": [
    {
     "data": {
      "text/plain": [
       "(5, '남', '19~29', 2600, 130, 65, '10~20', 1500, 300, '15~30', 7, 1)"
      ]
     },
     "execution_count": 212,
     "metadata": {},
     "output_type": "execute_result"
    }
   ],
   "source": [
    "# 성별과 나이대로 식약처 권장 영양 정보 조회\n",
    "def findByGenderAndAge(gender, ageRange):\n",
    "\n",
    "    sql_str = \"select * from nutri_std_tbl where gender=:gender and age=:ageRange\"\n",
    "    records = cursor.execute(sql_str, [gender, ageRange])\n",
    "    record = records.fetchone()\n",
    "\n",
    "    # print('레코드 : ', record)\n",
    "\n",
    "    # ['NUM', 'GENDER', 'AGE', 'CARBOHYDRATE', 'PROTEIN', \n",
    "    #  'SUGAR', 'NATRIUM', 'CHOLESTEROL', 'FAT', 'FATTY_ACID', 'TRANS_FATTY_ACID']\n",
    "   \n",
    "    return record\n",
    "\n",
    "# 특정 나이의 나이대를 판정\n",
    "# ex) 20 => 19~29\n",
    "def calcAgeBand(age):\n",
    "\t\t\n",
    "    result = \"\"\n",
    "    \n",
    "    ageRanges = (\"6~8\", \"9~11\", \"12~14\", \"15~18\", \"19~29\", \"30~49\", \"50~64\", \"65~74\", \"75~\")\n",
    "\n",
    "    # print(ageRanges)\n",
    "    \n",
    "    # 리스트의 나이 최소 나이 추출하여 나이대의 최솟값의 리스트 생성\n",
    "    # 나이대의 최솟값으로  6,9,12,15,19,30, .....\n",
    "    ageRangeMins = [int(ageRange.split(\"~\")[0]) for ageRange in ageRanges]\n",
    "        \n",
    "    # print(ageRangeMins)\n",
    "    \n",
    "    # 해당되는 나이(가령 20) 보다 이하 인(작거나 같은) 나이 중에서 최댓값을 구함 => 19\n",
    "    tempAge = max([ageRangeMin for ageRangeMin in ageRangeMins if ageRangeMin <= age])\n",
    "    \n",
    "    # print(\"tempAge :\", tempAge)\n",
    "    \n",
    "    # 나이대 계산\n",
    "    result = [ageRange for ageRange in ageRanges if str(tempAge) in ageRange]\n",
    "\n",
    "    # print(result[0])\n",
    "        \n",
    "    return result[0]\n",
    "\n",
    "# 성별과 나이대로 식약처 권장 영양 정보 조회\n",
    "def findByGenderAndAge(gender, ageRange):\n",
    "\n",
    "    sql_str = \"select * from nutri_std_tbl where gender=:gender and age=:ageRange\"\n",
    "    records = cursor.execute(sql_str, [gender, ageRange])\n",
    "    record = records.fetchone()\n",
    "\n",
    "    # print('레코드 : ', record)\n",
    "\n",
    "    # ['NUM', 'GENDER', 'AGE', 'ENERGY', 'CARBOHYDRATE', 'PROTEIN', \n",
    "    #  'SUGAR', 'NATRIUM', 'CHOLESTEROL', 'FAT', 'FATTY_ACID', 'TRANS_FATTY_ACID']\n",
    "   \n",
    "    return record\n",
    "\n",
    "findByGenderAndAge('남', calcAgeBand(20))\n",
    "# (5,  '남', '19~29',   2600,         130,          65,     '10~20', 1500,        300,       '15~30',          7,            1)\n",
    "# 번호, 성별, 연령대, 권장열량(kcal), 탄수화물(g), 단백질(g), 지방(g), 당류(g),  나트륨(mg), 콜레스테롤(mg),  포화지방산(g), 트랜스지방(g)"
   ]
  },
  {
   "cell_type": "code",
   "execution_count": 213,
   "id": "4e0e9f1a-234c-4343-a14b-35c53777ee3e",
   "metadata": {},
   "outputs": [],
   "source": [
    "# 성별, 나이, 신장, 체중, PA(Physical Activity:신체활동량)\n",
    "# 영양권장량 (Recommended Dietary Allowance, RDA)\n",
    "\n",
    "# 에너지 요구량 추정치(ESTIMATED ENERGY REQUIREMENT (EER))\n",
    "\n",
    "# 관련 논문(근거) : https://www.ncbi.nlm.nih.gov/pmc/articles/PMC7004509/\n",
    "# https://globalrph.com/medcalcs/estimated-energy-requirement-eer-equation/\n",
    "# https://www.diabetes.or.kr/general/dietary/dietary_02.php?con=2\n",
    "# https://www.eatforhealth.gov.au/nutrition-calculators/daily-energy-requirements-calculator\n",
    "\n",
    "# PA(남성) : 1.1(저활동적), 1.48(매우 활동적)\n",
    "# 원문) PA = 1.0 (sedentary), 1.11 (low active), 1.25 (active), or 1.48 (very active).\n",
    "\n",
    "# PA(여성) : 1.2(저활동적), 1.45(매우 활동적)\n",
    "# 원문) PA = 1.0 (sedentary), 1.12 (low active), 1.27 (active), or 1.45 (very active).\n",
    "\n",
    "# PA 기준안 그림 포함)\n",
    "# https://www.ncbi.nlm.nih.gov/pmc/articles/PMC7004509/\n",
    "# https://www.ncbi.nlm.nih.gov/pmc/articles/PMC7004509/bin/JENB_2019_v23n4_1_f001.jpg\n",
    "\n",
    "# 한국인 영양섭취 기준 : https://www.mohw.go.kr/boardDownload.es?bid=0019&list_no=335863&seq=1\n",
    "\n",
    "# 영양권장량(RDA) 계산\n",
    "# weight(체중) : kg, \n",
    "# height(신장) : m\n",
    "# EER(에너지 요구량 추정치(ESTIMATED ENERGY REQUIREMENT (EER))) : kcal\n",
    "# disease(질병) : 고혈압, 당뇨, 고지혈증, 비만\n",
    "def calculateRDA(disease, gender, age, height, weight, PA=1):\n",
    "\n",
    "    #recom = [] # 권장량\n",
    "\n",
    "    # 에너지 추정량(kcal) : ESTIMATED ENERGY REQUIREMENT (EER) EQUATION\n",
    "    # 관련 논문(근거) : https://www.ncbi.nlm.nih.gov/pmc/articles/PMC7004509/\n",
    "    # https://globalrph.com/medcalcs/estimated-energy-requirement-eer-equation/\n",
    "    EER = 0\n",
    "\n",
    "    if gender == '남':\n",
    "        EER = 622 - 9.53 * age + PA * (15.91 * weight + 536.6 * height)\n",
    "    elif gender == '여':    \n",
    "        EER = 354 - 6.91 * age + PA * (9.36 * weight + 726 * height)\n",
    "\n",
    "    # 식약처 기준량 조회\n",
    "    # 번호, 성별, 연령대, 권장열량(kcal), 탄수화물(g), 단백질(g), 지방(g), 당류(g),  나트륨(mg), 콜레스테롤(mg),  포화지방산(g), 트랜스지방(g)\n",
    "    age_arange = calcAgeBand(age)\n",
    "    print(\"연령대 : \", age_arange)\n",
    "    \n",
    "    nutri_tot = findByGenderAndAge(gender, age_arange)\n",
    "    nutri_recomm = list(nutri_tot)\n",
    "    \n",
    "    # 불필요성분 제거 ex) 번호, 성별, 연령대\n",
    "    nutri_recomm = nutri_recomm[3:]\n",
    "    \n",
    "    # 권장열량(kcal), 탄수화물(g), 단백질(g), 지방(g), 당류(g),  나트륨(mg), 콜레스테롤(mg),  포화지방산(g), 트랜스지방(g)\n",
    "    print(\"권장 섭취량 (일반) : \", nutri_recomm)\n",
    "\n",
    "    # 관련 근거 : https://www.ncbi.nlm.nih.gov/books/NBK218738/\n",
    "\n",
    "    # 참고) 연도별 우리 국민의 1일 나트륨평균 섭취량 추이\n",
    "    # (2022.12.31. 기준, 단위: ㎎/day, 출처: 국민건강영양조사, 질병관리청)\n",
    "    \n",
    "    # 연도           2011 2012  2013  2014  2015  2016  2017  2018  2019  2020  2021\n",
    "    # 나트륨 섭취량 4,831 4,583 4,027 3,890 3,890 3,669 3,478 3,274 3,289 3,220 3,080\n",
    "\n",
    "    # 관련 근거 : 2020 한국인 영양소 섭취기준 활용 자료 개발\n",
    "    # https://e-jnh.org/pdf/10.4163/jnh.2022.55.1.21\n",
    "    \n",
    "    # 질병이 있을 경우  ex) disease(질병) : 고혈압, 당뇨, 고지혈증, 비만\n",
    "\n",
    "    # 참고) 고혈압의 경우 나트륨 권장량이 3700ml로 되어 있는 것은 권장량과 다르나 최근 식약처의 충분량 섭취 제개정 기준 변화로 그대로 수용\n",
    "    # 나트륨 관련 규정 : 2020 한국인 영양소 섭취기준 <보건복지부, 한국영양학회> 1. 한국인 영양소 섭취기준 제·개정 요약 p. 27\n",
    "    # https://www.kns.or.kr/FileRoom/FileRoom_view.asp?idx=108&BoardID=Kdr\n",
    "    \n",
    "    # \"당뇨 환자의 탄수화물 섭취량이 많은 이유 !\"\n",
    "    # 당뇨에 따른 탄수화물 섭취량 관련 논문)\n",
    "    #\n",
    "    # \"당뇨병 환자는 일반적으로 총 열량의 50~60%를 탄수화물로 섭취하도록 권고하고 있으며, 탄수화물, 단백질, \n",
    "    # 지방 섭취량은 식습관, 기호도, 치료목표 등을 고려하여 개별화할 수 있다\"\n",
    "    # 논문 인용) 탄수화물계산을 활용한 임상영양요법 : 김미라 분당서울대학교병원 영양실\n",
    "    # : https://www.e-jkd.org/upload/pdf/jkd-2022-23-2-133.pdf\n",
    "\n",
    "    # 참고) 당뇨 환자 일일 필요 열량 측정 프로그램 : https://www.diabetes.or.kr/general/dietary/dietary_02.php?con=2\n",
    "\n",
    "    if (disease == '고혈압'):\n",
    "        nutri_recomm[5] = 3700 # 단위 mg\n",
    "        print(\"nutri_recomm[5] (나트륨) : \", nutri_recomm[5])\n",
    "    \n",
    "    if (disease == '당뇨'):\n",
    "        nutri_recomm[1] = EER * 0.7 // 4 # 단위 g        \n",
    "        print(\"nutri_recomm[1] (탄수화물) : \", nutri_recomm[1]) # 탄수화물\n",
    "    \n",
    "    if (disease == '고지혈증'):\n",
    "        nutri_recomm[6] = EER * 0.07 // 9 # 단위 g\n",
    "        print(\"nutri_recomm[6] (포화지방산) : \", nutri_recomm[6]) # 포화지방산\n",
    "\n",
    "    print(\"권장 섭취량(유병자 적용 후) : \", nutri_recomm)\n",
    "\n",
    "    return nutri_recomm"
   ]
  },
  {
   "cell_type": "code",
   "execution_count": 214,
   "id": "49ebed2c-4f89-46ea-8e8d-32464fb90027",
   "metadata": {},
   "outputs": [
    {
     "name": "stdout",
     "output_type": "stream",
     "text": [
      "연령대 :  19~29\n",
      "권장 섭취량 (일반) :  [2000, 130, 55, '10~20', 1500, 300, '15~30', 7, 1]\n",
      "권장 섭취량(유병자 적용 후) :  [2000, 130, 55, '10~20', 1500, 300, '15~30', 7, 1]\n"
     ]
    },
    {
     "data": {
      "text/plain": [
       "[2000, 130, 55, '10~20', 1500, 300, '15~30', 7, 1]"
      ]
     },
     "execution_count": 214,
     "metadata": {},
     "output_type": "execute_result"
    }
   ],
   "source": [
    "calculateRDA('', '여', 20, 1.6, 50, 1.25) "
   ]
  },
  {
   "cell_type": "code",
   "execution_count": 215,
   "id": "9bbf23f0-b42d-44b8-bf39-4d7d02b26a0e",
   "metadata": {},
   "outputs": [
    {
     "name": "stdout",
     "output_type": "stream",
     "text": [
      "연령대 :  30~49\n",
      "권장 섭취량 (일반) :  [2500, 130, 65, '10~20', 1500, 300, '15~30', 7, 1]\n",
      "nutri_recomm[5] (나트륨) :  3700\n",
      "권장 섭취량(유병자 적용 후) :  [2500, 130, 65, '10~20', 1500, 3700, '15~30', 7, 1]\n"
     ]
    },
    {
     "data": {
      "text/plain": [
       "[2500, 130, 65, '10~20', 1500, 3700, '15~30', 7, 1]"
      ]
     },
     "execution_count": 215,
     "metadata": {},
     "output_type": "execute_result"
    }
   ],
   "source": [
    "calculateRDA('고혈압', '남', 45, 1.85, 100, 1.11) "
   ]
  },
  {
   "cell_type": "markdown",
   "id": "07d2f5dc-7cad-436f-ade5-2d6527ef5261",
   "metadata": {},
   "source": [
    "calculateRDA('당뇨', '여', 50, 1.75, 90, 1.0) "
   ]
  },
  {
   "cell_type": "code",
   "execution_count": 216,
   "id": "70c8a3b5-bd2f-4fd0-a6ef-f83a317f0300",
   "metadata": {},
   "outputs": [
    {
     "name": "stdout",
     "output_type": "stream",
     "text": [
      "연령대 :  19~29\n",
      "권장 섭취량 (일반) :  [2600, 130, 65, '10~20', 1500, 300, '15~30', 7, 1]\n",
      "nutri_recomm[6] (포화지방산) :  23.0\n",
      "권장 섭취량(유병자 적용 후) :  [2600, 130, 65, '10~20', 1500, 300, 23.0, 7, 1]\n"
     ]
    },
    {
     "data": {
      "text/plain": [
       "[2600, 130, 65, '10~20', 1500, 300, 23.0, 7, 1]"
      ]
     },
     "execution_count": 216,
     "metadata": {},
     "output_type": "execute_result"
    }
   ],
   "source": [
    "calculateRDA('고지혈증', '남', 20, 1.7, 70, 1.25)"
   ]
  },
  {
   "cell_type": "markdown",
   "id": "cc8dff06-ba4b-48a2-8d41-49c530c64da2",
   "metadata": {},
   "source": [
    "---"
   ]
  },
  {
   "cell_type": "code",
   "execution_count": 225,
   "id": "3866eb75-69fb-4ee3-8c39-97d10b6a0b32",
   "metadata": {},
   "outputs": [
    {
     "name": "stdout",
     "output_type": "stream",
     "text": [
      "<class 'pandas.core.frame.DataFrame'>\n",
      "수량 :  2\n",
      "수량 :  1\n",
      "수량 :  3\n",
      "수량 :  2\n",
      "수량 :  1\n"
     ]
    },
    {
     "data": {
      "text/html": [
       "<div>\n",
       "<style scoped>\n",
       "    .dataframe tbody tr th:only-of-type {\n",
       "        vertical-align: middle;\n",
       "    }\n",
       "\n",
       "    .dataframe tbody tr th {\n",
       "        vertical-align: top;\n",
       "    }\n",
       "\n",
       "    .dataframe thead th {\n",
       "        text-align: right;\n",
       "    }\n",
       "</style>\n",
       "<table border=\"1\" class=\"dataframe\">\n",
       "  <thead>\n",
       "    <tr style=\"text-align: right;\">\n",
       "      <th></th>\n",
       "      <th>식품코드</th>\n",
       "      <th>식품명</th>\n",
       "      <th>에너지(kcal)</th>\n",
       "      <th>탄수화물(g)</th>\n",
       "      <th>단백질(g)</th>\n",
       "      <th>지방(g)</th>\n",
       "      <th>포화지방산(g)</th>\n",
       "      <th>나트륨(mg)</th>\n",
       "      <th>clusterLabel</th>\n",
       "    </tr>\n",
       "  </thead>\n",
       "  <tbody>\n",
       "    <tr>\n",
       "      <th>0</th>\n",
       "      <td>P101-405000400-2833</td>\n",
       "      <td>빵_노랑햄버거빵</td>\n",
       "      <td>490</td>\n",
       "      <td>80.00</td>\n",
       "      <td>8.00</td>\n",
       "      <td>8.00</td>\n",
       "      <td>2.00</td>\n",
       "      <td>10.0</td>\n",
       "      <td>0.0</td>\n",
       "    </tr>\n",
       "    <tr>\n",
       "      <th>1</th>\n",
       "      <td>P109-401040100-0479</td>\n",
       "      <td>탄산음료_코카콜라</td>\n",
       "      <td>43</td>\n",
       "      <td>10.67</td>\n",
       "      <td>0.00</td>\n",
       "      <td>0.00</td>\n",
       "      <td>0.00</td>\n",
       "      <td>3.0</td>\n",
       "      <td>1.0</td>\n",
       "    </tr>\n",
       "    <tr>\n",
       "      <th>2</th>\n",
       "      <td>P101-106000100-2563</td>\n",
       "      <td>일반과자_트러플 감자칩</td>\n",
       "      <td>1800</td>\n",
       "      <td>140.01</td>\n",
       "      <td>20.01</td>\n",
       "      <td>129.99</td>\n",
       "      <td>39.99</td>\n",
       "      <td>1599.0</td>\n",
       "      <td>2.0</td>\n",
       "    </tr>\n",
       "    <tr>\n",
       "      <th>3</th>\n",
       "      <td>P108-003000400-0341</td>\n",
       "      <td>라면_마열라면Cup</td>\n",
       "      <td>854</td>\n",
       "      <td>135.48</td>\n",
       "      <td>19.36</td>\n",
       "      <td>25.80</td>\n",
       "      <td>9.68</td>\n",
       "      <td>3290.0</td>\n",
       "      <td>0.0</td>\n",
       "    </tr>\n",
       "    <tr>\n",
       "      <th>4</th>\n",
       "      <td>P109-202020000-0086</td>\n",
       "      <td>인스턴트커피_커피빈 카페라떼</td>\n",
       "      <td>66</td>\n",
       "      <td>8.80</td>\n",
       "      <td>2.00</td>\n",
       "      <td>2.40</td>\n",
       "      <td>1.00</td>\n",
       "      <td>40.0</td>\n",
       "      <td>1.0</td>\n",
       "    </tr>\n",
       "  </tbody>\n",
       "</table>\n",
       "</div>"
      ],
      "text/plain": [
       "                  식품코드              식품명 에너지(kcal)  탄수화물(g)  단백질(g)   지방(g)  \\\n",
       "0  P101-405000400-2833         빵_노랑햄버거빵       490    80.00    8.00    8.00   \n",
       "1  P109-401040100-0479        탄산음료_코카콜라        43    10.67    0.00    0.00   \n",
       "2  P101-106000100-2563     일반과자_트러플 감자칩      1800   140.01   20.01  129.99   \n",
       "3  P108-003000400-0341       라면_마열라면Cup       854   135.48   19.36   25.80   \n",
       "4  P109-202020000-0086  인스턴트커피_커피빈 카페라떼        66     8.80    2.00    2.40   \n",
       "\n",
       "   포화지방산(g)  나트륨(mg)  clusterLabel  \n",
       "0      2.00     10.0           0.0  \n",
       "1      0.00      3.0           1.0  \n",
       "2     39.99   1599.0           2.0  \n",
       "3      9.68   3290.0           0.0  \n",
       "4      1.00     40.0           1.0  "
      ]
     },
     "execution_count": 225,
     "metadata": {},
     "output_type": "execute_result"
    }
   ],
   "source": [
    "import warnings\n",
    "\n",
    "warnings.filterwarnings('ignore')\n",
    "\n",
    "# 전체 입력 음식들에 대한 영양소 현황 집계\n",
    "totFoods = pd.DataFrame(columns=['식품코드', '식품명', '에너지(kcal)', '탄수화물(g)', '단백질(g)', '지방(g)', '포화지방산(g)', '나트륨(mg)']);\n",
    "\n",
    "print(type(totFoods))\n",
    "\n",
    "# inputFoods\n",
    "# print(foodSet.loc[foodSet['식품명'] == inputFoods])\n",
    "\n",
    "count = 0\n",
    "\n",
    "for foodName in inputFoods:\n",
    "\n",
    "    # totFoods = foodSet.loc[foodSet['식품명'] == foodName]        \n",
    "    # print(totFoods.head(1))    \n",
    "    # print(foodSet.loc[foodSet['식품명'] == foodName])   \n",
    "    \n",
    "    foodRow = foodSet.loc[foodSet['식품명'] == foodName].drop_duplicates()\n",
    "\n",
    "    # print(\"행수 : \", len(foodRow))\n",
    "    \n",
    "    if len(foodRow) == 2:\n",
    "        foodRow = foodRow.head(1)\n",
    "\n",
    "    print(\"수량 : \", inputFoods[foodName])\n",
    "\n",
    "    #foodRow = foodRow * inputFoods[foodName] # 식품 * 수량 = 식품별 영양 사항\n",
    "    \n",
    "    foodRow['에너지(kcal)'] *= inputFoods[foodName]\n",
    "    foodRow['탄수화물(g)'] *= inputFoods[foodName]\n",
    "    foodRow['단백질(g)'] *= inputFoods[foodName]\n",
    "    foodRow['지방(g)'] *= inputFoods[foodName]\n",
    "    foodRow['포화지방산(g)'] *= inputFoods[foodName]\n",
    "    foodRow['나트륨(mg)'] *= inputFoods[foodName]\n",
    "    \n",
    "    totFoods = pd.concat([totFoods, foodRow], ignore_index=True)\n",
    "    \n",
    "    # print(\"-------------------------------------------------------\")\n",
    "\n",
    "totFoods"
   ]
  },
  {
   "cell_type": "code",
   "execution_count": 218,
   "id": "8d18e6d6-c49e-4710-b651-9f044428431f",
   "metadata": {},
   "outputs": [
    {
     "data": {
      "text/plain": [
       "3253"
      ]
     },
     "execution_count": 218,
     "metadata": {},
     "output_type": "execute_result"
    }
   ],
   "source": [
    "# 음식에 대한 분야별 총량 계산\n",
    "\n",
    "# sum(totFoods['에너지(kcal)'])\n",
    "totFoods['에너지(kcal)'].sum()\n",
    "# totFoods.describe()"
   ]
  },
  {
   "cell_type": "code",
   "execution_count": 219,
   "id": "de32d456-dc20-4b74-bffa-0ebc4aa8e065",
   "metadata": {},
   "outputs": [
    {
     "name": "stdout",
     "output_type": "stream",
     "text": [
      "연령대 :  30~49\n",
      "권장 섭취량 (일반) :  [2500, 130, 65, '10~20', 1500, 300, '15~30', 7, 1]\n",
      "nutri_recomm[5] (나트륨) :  3700\n",
      "권장 섭취량(유병자 적용 후) :  [2500, 130, 65, '10~20', 1500, 3700, '15~30', 7, 1]\n"
     ]
    }
   ],
   "source": [
    "# 일일권장 섭취량 조회\n",
    "# 권장열량(kcal), 탄수화물(g), 단백질(g), 지방(g), 당류(g),  나트륨(mg), 콜레스테롤(mg),  포화지방산(g), 트랜스지방(g)\n",
    "standardRDA = calculateRDA('고혈압', '남', 45, 1.85, 100, 1.11)"
   ]
  },
  {
   "cell_type": "code",
   "execution_count": 230,
   "id": "46d58d17-7c3a-4561-9e74-24328420289e",
   "metadata": {},
   "outputs": [
    {
     "name": "stdout",
     "output_type": "stream",
     "text": [
      "지방 :  166.19000000000003\n"
     ]
    },
    {
     "data": {
      "text/html": [
       "<div>\n",
       "<style scoped>\n",
       "    .dataframe tbody tr th:only-of-type {\n",
       "        vertical-align: middle;\n",
       "    }\n",
       "\n",
       "    .dataframe tbody tr th {\n",
       "        vertical-align: top;\n",
       "    }\n",
       "\n",
       "    .dataframe thead th {\n",
       "        text-align: right;\n",
       "    }\n",
       "</style>\n",
       "<table border=\"1\" class=\"dataframe\">\n",
       "  <thead>\n",
       "    <tr style=\"text-align: right;\">\n",
       "      <th></th>\n",
       "      <th>에너지(kcal)</th>\n",
       "      <th>탄수화물(g)</th>\n",
       "      <th>단백질(g)</th>\n",
       "      <th>지방(g)</th>\n",
       "      <th>포화지방산(g)</th>\n",
       "      <th>나트륨(mg)</th>\n",
       "    </tr>\n",
       "  </thead>\n",
       "  <tbody>\n",
       "    <tr>\n",
       "      <th>0</th>\n",
       "      <td>753</td>\n",
       "      <td>244.96</td>\n",
       "      <td>-15.63</td>\n",
       "      <td>146.19</td>\n",
       "      <td>45.67</td>\n",
       "      <td>1242.0</td>\n",
       "    </tr>\n",
       "  </tbody>\n",
       "</table>\n",
       "</div>"
      ],
      "text/plain": [
       "   에너지(kcal)  탄수화물(g)  단백질(g)   지방(g)  포화지방산(g)  나트륨(mg)\n",
       "0        753   244.96  -15.63  146.19     45.67   1242.0"
      ]
     },
     "execution_count": 230,
     "metadata": {},
     "output_type": "execute_result"
    }
   ],
   "source": [
    "# 영양 결핍량 측정\n",
    "# 에너지(kcal) 비교\n",
    "# 영양 결핍분 집계 dataframe\n",
    "\n",
    "nutriNeeds = {'에너지(kcal)' : [0], '탄수화물(g)' : [0], '단백질(g)' : [0], '지방(g)' : [0], '포화지방산(g)' : [0], '나트륨(mg)' : [0]}\n",
    "nutriNeedsDF = pd.DataFrame(nutriNeeds, columns=['에너지(kcal)', '탄수화물(g)', '단백질(g)', '지방(g)', '포화지방산(g)', '나트륨(mg)'])\n",
    "\n",
    "nutriNeedsDF['에너지(kcal)'] = totFoods['에너지(kcal)'].sum() - standardRDA[0]\n",
    "nutriNeedsDF['탄수화물(g)']  = totFoods['탄수화물(g)'].sum() - standardRDA[1]\n",
    "nutriNeedsDF['단백질(g)']    = totFoods['단백질(g)'].sum() - standardRDA[2]\n",
    "\n",
    "#nutriNeedsDF['지방(g)']      = totFoods['지방(g)'].sum() - standardRDA[3]\n",
    "\n",
    "# 지방 10~20\n",
    "stdFat = standardRDA[3].split(\"~\")\n",
    "minFat = int(stdFat[0])\n",
    "maxFat = int(stdFat[1])\n",
    "\n",
    "#print(\"지방 : \", totFoods['지방(g)'].sum())\n",
    "\n",
    "if totFoods['지방(g)'].sum() < minFat:\n",
    "    nutriNeedsDF['지방(g)'] = minFat - totFoods['지방(g)'].sum()\n",
    "elif totFoods['지방(g)'].sum() > maxFat:    \n",
    "    nutriNeedsDF['지방(g)'] = totFoods['지방(g)'].sum() - maxFat\n",
    "\n",
    "nutriNeedsDF['포화지방산(g)'] = totFoods['포화지방산(g)'].sum() - standardRDA[7]\n",
    "nutriNeedsDF['나트륨(mg)'] = totFoods['나트륨(mg)'].sum() - standardRDA[5]"
   ]
  },
  {
   "cell_type": "code",
   "execution_count": 231,
   "id": "b75cf990-ecec-4554-ba81-728bbabaa664",
   "metadata": {},
   "outputs": [
    {
     "data": {
      "text/html": [
       "<div>\n",
       "<style scoped>\n",
       "    .dataframe tbody tr th:only-of-type {\n",
       "        vertical-align: middle;\n",
       "    }\n",
       "\n",
       "    .dataframe tbody tr th {\n",
       "        vertical-align: top;\n",
       "    }\n",
       "\n",
       "    .dataframe thead th {\n",
       "        text-align: right;\n",
       "    }\n",
       "</style>\n",
       "<table border=\"1\" class=\"dataframe\">\n",
       "  <thead>\n",
       "    <tr style=\"text-align: right;\">\n",
       "      <th></th>\n",
       "      <th>에너지(kcal)</th>\n",
       "      <th>탄수화물(g)</th>\n",
       "      <th>단백질(g)</th>\n",
       "      <th>지방(g)</th>\n",
       "      <th>포화지방산(g)</th>\n",
       "      <th>나트륨(mg)</th>\n",
       "    </tr>\n",
       "  </thead>\n",
       "  <tbody>\n",
       "    <tr>\n",
       "      <th>0</th>\n",
       "      <td>753</td>\n",
       "      <td>244.96</td>\n",
       "      <td>-15.63</td>\n",
       "      <td>146.19</td>\n",
       "      <td>45.67</td>\n",
       "      <td>1242.0</td>\n",
       "    </tr>\n",
       "  </tbody>\n",
       "</table>\n",
       "</div>"
      ],
      "text/plain": [
       "   에너지(kcal)  탄수화물(g)  단백질(g)   지방(g)  포화지방산(g)  나트륨(mg)\n",
       "0        753   244.96  -15.63  146.19     45.67   1242.0"
      ]
     },
     "execution_count": 231,
     "metadata": {},
     "output_type": "execute_result"
    }
   ],
   "source": [
    "# 영양 성분 분석 결과\n",
    "# 양수 이면 기준량에 대한 과잉분이 출력, 음수이면 기준량 대비 부족분으로 판단 \n",
    "nutriNeedsDF"
   ]
  },
  {
   "cell_type": "code",
   "execution_count": null,
   "id": "4a8386ee-9df7-4d66-8382-dbeefec3bc5e",
   "metadata": {},
   "outputs": [],
   "source": [
    "cursor.close()\n",
    "conn.close()                                                                                                                                                                                                                                                                                                                                                                                                                                                                                                                                                                                                                                                                                                       "
   ]
  }
 ],
 "metadata": {
  "kernelspec": {
   "display_name": "Python 3 (ipykernel)",
   "language": "python",
   "name": "python3"
  },
  "language_info": {
   "codemirror_mode": {
    "name": "ipython",
    "version": 3
   },
   "file_extension": ".py",
   "mimetype": "text/x-python",
   "name": "python",
   "nbconvert_exporter": "python",
   "pygments_lexer": "ipython3",
   "version": "3.12.0"
  }
 },
 "nbformat": 4,
 "nbformat_minor": 5
}
