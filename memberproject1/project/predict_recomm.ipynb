{
 "cells": [
  {
   "cell_type": "code",
   "execution_count": 1,
   "id": "d69e5591-531a-4bf5-9a07-a414eb891d19",
   "metadata": {},
   "outputs": [
    {
     "data": {
      "text/html": [
       "<div>\n",
       "<style scoped>\n",
       "    .dataframe tbody tr th:only-of-type {\n",
       "        vertical-align: middle;\n",
       "    }\n",
       "\n",
       "    .dataframe tbody tr th {\n",
       "        vertical-align: top;\n",
       "    }\n",
       "\n",
       "    .dataframe thead th {\n",
       "        text-align: right;\n",
       "    }\n",
       "</style>\n",
       "<table border=\"1\" class=\"dataframe\">\n",
       "  <thead>\n",
       "    <tr style=\"text-align: right;\">\n",
       "      <th></th>\n",
       "      <th>식품코드</th>\n",
       "      <th>식품명</th>\n",
       "      <th>데이터구분코드</th>\n",
       "      <th>데이터구분명</th>\n",
       "      <th>식품기원코드</th>\n",
       "      <th>식품기원명</th>\n",
       "      <th>식품대분류코드</th>\n",
       "      <th>식품대분류명</th>\n",
       "      <th>대표식품코드</th>\n",
       "      <th>대표식품명</th>\n",
       "      <th>...</th>\n",
       "      <th>유통업체명</th>\n",
       "      <th>수입여부</th>\n",
       "      <th>원산지국코드</th>\n",
       "      <th>원산지국명</th>\n",
       "      <th>데이터생성방법코드</th>\n",
       "      <th>데이터생성방법명</th>\n",
       "      <th>데이터생성일자</th>\n",
       "      <th>데이터기준일자</th>\n",
       "      <th>제공기관코드</th>\n",
       "      <th>제공기관명</th>\n",
       "    </tr>\n",
       "  </thead>\n",
       "  <tbody>\n",
       "    <tr>\n",
       "      <th>0</th>\n",
       "      <td>P109-302030200-2176</td>\n",
       "      <td>과·채주스_프룻밀토마토</td>\n",
       "      <td>P</td>\n",
       "      <td>가공식품</td>\n",
       "      <td>1</td>\n",
       "      <td>가공식품</td>\n",
       "      <td>9</td>\n",
       "      <td>음료류</td>\n",
       "      <td>9302</td>\n",
       "      <td>과·채주스</td>\n",
       "      <td>...</td>\n",
       "      <td>해당없음</td>\n",
       "      <td>N</td>\n",
       "      <td>36.0</td>\n",
       "      <td>해당없음</td>\n",
       "      <td>2</td>\n",
       "      <td>수집</td>\n",
       "      <td>2021-06-30</td>\n",
       "      <td>2024-02-23</td>\n",
       "      <td>1471000</td>\n",
       "      <td>식품의약품안전처</td>\n",
       "    </tr>\n",
       "  </tbody>\n",
       "</table>\n",
       "<p>1 rows × 57 columns</p>\n",
       "</div>"
      ],
      "text/plain": [
       "                  식품코드           식품명 데이터구분코드 데이터구분명  식품기원코드 식품기원명  식품대분류코드  \\\n",
       "0  P109-302030200-2176  과·채주스_프룻밀토마토       P   가공식품       1  가공식품        9   \n",
       "\n",
       "  식품대분류명  대표식품코드  대표식품명  ...  유통업체명 수입여부  원산지국코드 원산지국명  데이터생성방법코드 데이터생성방법명  \\\n",
       "0    음료류    9302  과·채주스  ...   해당없음    N    36.0  해당없음          2       수집   \n",
       "\n",
       "      데이터생성일자     데이터기준일자   제공기관코드     제공기관명  \n",
       "0  2021-06-30  2024-02-23  1471000  식품의약품안전처  \n",
       "\n",
       "[1 rows x 57 columns]"
      ]
     },
     "execution_count": 1,
     "metadata": {},
     "output_type": "execute_result"
    }
   ],
   "source": [
    "import pandas as pd\n",
    "import numpy as np\n",
    "\n",
    "import os\n",
    "import cx_Oracle\n",
    "\n",
    "foods = pd.read_csv('./전국통합식품영양성분정보(가공식품)표준데이터.csv', sep=',', encoding='ms949')\n",
    "foods.head(1)"
   ]
  },
  {
   "cell_type": "code",
   "execution_count": 2,
   "id": "5c23d3fe-23bc-41fe-a344-69cef1410057",
   "metadata": {},
   "outputs": [],
   "source": [
    "foodSet = pd.DataFrame(foods, columns=['식품코드', '식품명', '에너지(kcal)', '탄수화물(g)', '단백질(g)', '지방(g)', '포화지방산(g)', '나트륨(mg)'])\n",
    "\n",
    "# 결측치 제거  : NaN 있을 경우 K Mean 측정에서 문제 발생\n",
    "foodSet.fillna(0, inplace=True)"
   ]
  },
  {
   "cell_type": "code",
   "execution_count": 3,
   "id": "af0f1eb1-1ce0-4eb2-a2d6-9aadd1b4f717",
   "metadata": {},
   "outputs": [
    {
     "data": {
      "text/html": [
       "<div>\n",
       "<style scoped>\n",
       "    .dataframe tbody tr th:only-of-type {\n",
       "        vertical-align: middle;\n",
       "    }\n",
       "\n",
       "    .dataframe tbody tr th {\n",
       "        vertical-align: top;\n",
       "    }\n",
       "\n",
       "    .dataframe thead th {\n",
       "        text-align: right;\n",
       "    }\n",
       "</style>\n",
       "<table border=\"1\" class=\"dataframe\">\n",
       "  <thead>\n",
       "    <tr style=\"text-align: right;\">\n",
       "      <th></th>\n",
       "      <th>식품코드</th>\n",
       "      <th>식품명</th>\n",
       "      <th>에너지(kcal)</th>\n",
       "      <th>탄수화물(g)</th>\n",
       "      <th>단백질(g)</th>\n",
       "      <th>지방(g)</th>\n",
       "      <th>포화지방산(g)</th>\n",
       "      <th>나트륨(mg)</th>\n",
       "    </tr>\n",
       "  </thead>\n",
       "  <tbody>\n",
       "    <tr>\n",
       "      <th>0</th>\n",
       "      <td>P109-302030200-2176</td>\n",
       "      <td>과·채주스_프룻밀토마토</td>\n",
       "      <td>43</td>\n",
       "      <td>10.0</td>\n",
       "      <td>0.47</td>\n",
       "      <td>0.0</td>\n",
       "      <td>0.0</td>\n",
       "      <td>17.0</td>\n",
       "    </tr>\n",
       "  </tbody>\n",
       "</table>\n",
       "</div>"
      ],
      "text/plain": [
       "                  식품코드           식품명  에너지(kcal)  탄수화물(g)  단백질(g)  지방(g)  \\\n",
       "0  P109-302030200-2176  과·채주스_프룻밀토마토         43     10.0    0.47    0.0   \n",
       "\n",
       "   포화지방산(g)  나트륨(mg)  \n",
       "0       0.0     17.0  "
      ]
     },
     "execution_count": 3,
     "metadata": {},
     "output_type": "execute_result"
    }
   ],
   "source": [
    "foodSet.head(1)"
   ]
  },
  {
   "cell_type": "code",
   "execution_count": 4,
   "id": "b2f75e98-5be1-4190-a3b0-5956c04fa5dc",
   "metadata": {},
   "outputs": [],
   "source": [
    "# DB 한글 설정에 따른 한글 지원\n",
    "# os.putenv('NLS_LANG', 'KOREAN_KOREA.KO16MSWIN949');\n",
    "os.putenv('NLS_LANG', '.UTF8')\n",
    "\n",
    "conn = cx_Oracle.connect('food', 'food', 'localhost:1521/xe')\n",
    "cursor = conn.cursor()"
   ]
  },
  {
   "cell_type": "code",
   "execution_count": 5,
   "id": "b06457d0-d8e8-4f75-82dc-80741a1e98ee",
   "metadata": {},
   "outputs": [],
   "source": [
    "# 성별과 나이대로 식약처 권장 영양 정보 조회\n",
    "def findByGenderAndAge(gender, ageRange):\n",
    "\n",
    "    sql_str = \"select * from nutri_std_tbl where gender=:gender and age=:ageRange\"\n",
    "    records = cursor.execute(sql_str, [gender, ageRange])\n",
    "    record = records.fetchone()\n",
    "\n",
    "    # print('레코드 : ', record)\n",
    "\n",
    "    # ['NUM', 'GENDER', 'AGE', 'CARBOHYDRATE', 'PROTEIN', \n",
    "    #  'SUGAR', 'NATRIUM', 'CHOLESTEROL', 'FAT', 'FATTY_ACID', 'TRANS_FATTY_ACID']\n",
    "   \n",
    "    return record"
   ]
  },
  {
   "cell_type": "code",
   "execution_count": 6,
   "id": "657c0413-fb69-4d1e-adfb-d007e2ee6fd3",
   "metadata": {},
   "outputs": [
    {
     "data": {
      "text/plain": [
       "(5, '남', '19~29', 2600, 130, 65, '10~20', 1500, 300, '15~30', 7, 1)"
      ]
     },
     "execution_count": 6,
     "metadata": {},
     "output_type": "execute_result"
    }
   ],
   "source": [
    "# 특정 나이의 나이대를 판정\n",
    "# ex) 20 => 19~29\n",
    "def calcAgeBand(age):\n",
    "\t\t\n",
    "    result = \"\"\n",
    "    \n",
    "    ageRanges = (\"6~8\", \"9~11\", \"12~14\", \"15~18\", \"19~29\", \"30~49\", \"50~64\", \"65~74\", \"75~\")\n",
    "\n",
    "    # print(ageRanges)\n",
    "    \n",
    "    # 리스트의 나이 최소 나이 추출하여 나이대의 최솟값의 리스트 생성\n",
    "    # 나이대의 최솟값으로  6,9,12,15,19,30, .....\n",
    "    ageRangeMins = [int(ageRange.split(\"~\")[0]) for ageRange in ageRanges]\n",
    "        \n",
    "    # print(ageRangeMins)\n",
    "    \n",
    "    # 해당되는 나이(가령 20) 보다 이하 인(작거나 같은) 나이 중에서 최댓값을 구함 => 19\n",
    "    tempAge = max([ageRangeMin for ageRangeMin in ageRangeMins if ageRangeMin <= age])\n",
    "    \n",
    "    # print(\"tempAge :\", tempAge)\n",
    "    \n",
    "    # 나이대 계산\n",
    "    result = [ageRange for ageRange in ageRanges if str(tempAge) in ageRange]\n",
    "\n",
    "    # print(result[0])\n",
    "        \n",
    "    return result[0]\n",
    "\n",
    "# 성별과 나이대로 식약처 권장 영양 정보 조회\n",
    "def findByGenderAndAge(gender, ageRange):\n",
    "\n",
    "    sql_str = \"select * from nutri_std_tbl where gender=:gender and age=:ageRange\"\n",
    "    records = cursor.execute(sql_str, [gender, ageRange])\n",
    "    record = records.fetchone()\n",
    "\n",
    "    # print('레코드 : ', record)\n",
    "\n",
    "    # ['NUM', 'GENDER', 'AGE', 'ENERGY', 'CARBOHYDRATE', 'PROTEIN', \n",
    "    #  'SUGAR', 'NATRIUM', 'CHOLESTEROL', 'FAT', 'FATTY_ACID', 'TRANS_FATTY_ACID']\n",
    "   \n",
    "    return record\n",
    "\n",
    "findByGenderAndAge('남', calcAgeBand(20))\n",
    "# (5,  '남', '19~29',   2600,         130,          65,     '10~20', 1500,        300,       '15~30',          7,            1)\n",
    "# 번호, 성별, 연령대, 권장열량(kcal), 탄수화물(g), 단백질(g), 지방(g), 당류(g),  나트륨(mg), 콜레스테롤(mg),  포화지방산(g), 트랜스지방(g)"
   ]
  },
  {
   "cell_type": "code",
   "execution_count": 7,
   "id": "057a5e51-a1b1-47bd-bb40-6c0b4445da8a",
   "metadata": {},
   "outputs": [],
   "source": [
    "# 성별, 나이, 신장, 체중, PA(Physical Activity:신체활동량)\n",
    "# 영양권장량 (Recommended Dietary Allowance, RDA)\n",
    "\n",
    "# 에너지 요구량 추정치(ESTIMATED ENERGY REQUIREMENT (EER))\n",
    "\n",
    "# 관련 논문(근거) : https://www.ncbi.nlm.nih.gov/pmc/articles/PMC7004509/\n",
    "# https://globalrph.com/medcalcs/estimated-energy-requirement-eer-equation/\n",
    "# https://www.diabetes.or.kr/general/dietary/dietary_02.php?con=2\n",
    "# https://www.eatforhealth.gov.au/nutrition-calculators/daily-energy-requirements-calculator\n",
    "\n",
    "# PA(남성) : 1.1(저활동적), 1.48(매우 활동적)\n",
    "# 원문) PA = 1.0 (sedentary), 1.11 (low active), 1.25 (active), or 1.48 (very active).\n",
    "\n",
    "# PA(여성) : 1.2(저활동적), 1.45(매우 활동적)\n",
    "# 원문) PA = 1.0 (sedentary), 1.12 (low active), 1.27 (active), or 1.45 (very active).\n",
    "\n",
    "# PA 기준안 그림 포함)\n",
    "# https://www.ncbi.nlm.nih.gov/pmc/articles/PMC7004509/\n",
    "# https://www.ncbi.nlm.nih.gov/pmc/articles/PMC7004509/bin/JENB_2019_v23n4_1_f001.jpg\n",
    "\n",
    "# 한국인 영양섭취 기준 : https://www.mohw.go.kr/boardDownload.es?bid=0019&list_no=335863&seq=1\n",
    "\n",
    "# 영양권장량(RDA) 계산\n",
    "# weight(체중) : kg, \n",
    "# height(신장) : m\n",
    "# EER(에너지 요구량 추정치(ESTIMATED ENERGY REQUIREMENT (EER))) : kcal\n",
    "# disease(질병) : 고혈압, 당뇨, 고지혈증, 비만\n",
    "def calculateRDA(disease, gender, age, height, weight, PA=1):\n",
    "\n",
    "    #recom = [] # 권장량\n",
    "\n",
    "    # 에너지 추정량(kcal) : ESTIMATED ENERGY REQUIREMENT (EER) EQUATION\n",
    "    # 관련 논문(근거) : https://www.ncbi.nlm.nih.gov/pmc/articles/PMC7004509/\n",
    "    # https://globalrph.com/medcalcs/estimated-energy-requirement-eer-equation/\n",
    "    EER = 0\n",
    "\n",
    "    if gender == '남':\n",
    "        EER = 622 - 9.53 * age + PA * (15.91 * weight + 536.6 * height)\n",
    "    elif gender == '여':    \n",
    "        EER = 354 - 6.91 * age + PA * (9.36 * weight + 726 * height)\n",
    "\n",
    "    # 식약처 기준량 조회\n",
    "    # 번호, 성별, 연령대, 권장열량(kcal), 탄수화물(g), 단백질(g), 지방(g), 당류(g),  나트륨(mg), 콜레스테롤(mg),  포화지방산(g), 트랜스지방(g)\n",
    "    age_arange = calcAgeBand(age)\n",
    "    print(\"연령대 : \", age_arange)\n",
    "    \n",
    "    nutri_tot = findByGenderAndAge(gender, age_arange)\n",
    "    nutri_recomm = list(nutri_tot)\n",
    "    \n",
    "    # 불필요성분 제거 ex) 번호, 성별, 연령대\n",
    "    nutri_recomm = nutri_recomm[3:]\n",
    "    \n",
    "    # 권장열량(kcal), 탄수화물(g), 단백질(g), 지방(g), 당류(g),  나트륨(mg), 콜레스테롤(mg),  포화지방산(g), 트랜스지방(g)\n",
    "    print(\"권장 섭취량 (일반) : \", nutri_recomm)\n",
    "\n",
    "    # 관련 근거 : https://www.ncbi.nlm.nih.gov/books/NBK218738/\n",
    "\n",
    "    # 참고) 연도별 우리 국민의 1일 나트륨평균 섭취량 추이\n",
    "    # (2022.12.31. 기준, 단위: ㎎/day, 출처: 국민건강영양조사, 질병관리청)\n",
    "    \n",
    "    # 연도           2011 2012  2013  2014  2015  2016  2017  2018  2019  2020  2021\n",
    "    # 나트륨 섭취량 4,831 4,583 4,027 3,890 3,890 3,669 3,478 3,274 3,289 3,220 3,080\n",
    "\n",
    "    # 관련 근거 : 2020 한국인 영양소 섭취기준 활용 자료 개발\n",
    "    # https://e-jnh.org/pdf/10.4163/jnh.2022.55.1.21\n",
    "    \n",
    "    # 질병이 있을 경우  ex) disease(질병) : 고혈압, 당뇨, 고지혈증, 비만\n",
    "\n",
    "    # 참고) 고혈압의 경우 나트륨 권장량이 3700ml로 되어 있는 것은 권장량과 다르나 최근 식약처의 충분량 섭취 제개정 기준 변화로 그대로 수용\n",
    "    # 나트륨 관련 규정 : 2020 한국인 영양소 섭취기준 <보건복지부, 한국영양학회> 1. 한국인 영양소 섭취기준 제·개정 요약 p. 27\n",
    "    # https://www.kns.or.kr/FileRoom/FileRoom_view.asp?idx=108&BoardID=Kdr\n",
    "    \n",
    "    # \"당뇨 환자의 탄수화물 섭뤼량이 많은 이유 !\"\n",
    "    # 당뇨에 따른 탄수화물 섭취량 관련 논문)\n",
    "    #\n",
    "    # \"당뇨병 환자는 일반적으로 총 열량의 50~60%를 탄수화물로 섭취하도록 권고하고 있으며, 탄수화물, 단백질, \n",
    "    # 지방 섭취량은 식습관, 기호도, 치료목표 등을 고려하여 개별화할 수 있다\"\n",
    "    # 논문 인용) 탄수화물계산을 활용한 임상영양요법 : 김미라 분당서울대학교병원 영양실\n",
    "    # : https://www.e-jkd.org/upload/pdf/jkd-2022-23-2-133.pdf\n",
    "\n",
    "    # 참고) 당뇨 환자 일일 필요 열량 측정 프로그램 : https://www.diabetes.or.kr/general/dietary/dietary_02.php?con=2\n",
    "\n",
    "    if (disease == '고혈압'):\n",
    "        nutri_recomm[5] = 3700 # 단위 mg\n",
    "        print(\"nutri_recomm[5] (나트륨) : \", nutri_recomm[5])\n",
    "    \n",
    "    if (disease == '당뇨'):\n",
    "        nutri_recomm[1] = EER * 0.7 // 4 # 단위 g        \n",
    "        print(\"nutri_recomm[1] (탄수화물) : \", nutri_recomm[1]) # 탄수화물\n",
    "    \n",
    "    if (disease == '고지혈증'):\n",
    "        nutri_recomm[6] = EER * 0.07 // 9 # 단위 g\n",
    "        print(\"nutri_recomm[6] (포화지방산) : \", nutri_recomm[6]) # 포화지방산\n",
    "\n",
    "    print(\"권장 섭취량(유병자 적용 후) : \", nutri_recomm)\n",
    "\n",
    "    return nutri_recomm"
   ]
  },
  {
   "cell_type": "code",
   "execution_count": 8,
   "id": "60b080b2-9b30-43bd-a326-3810b2701201",
   "metadata": {},
   "outputs": [
    {
     "name": "stdout",
     "output_type": "stream",
     "text": [
      "연령대 :  19~29\n",
      "권장 섭취량 (일반) :  [2600, 130, 65, '10~20', 1500, 300, '15~30', 7, 1]\n",
      "권장 섭취량(유병자 적용 후) :  [2600, 130, 65, '10~20', 1500, 300, '15~30', 7, 1]\n"
     ]
    },
    {
     "data": {
      "text/plain": [
       "[2600, 130, 65, '10~20', 1500, 300, '15~30', 7, 1]"
      ]
     },
     "execution_count": 8,
     "metadata": {},
     "output_type": "execute_result"
    }
   ],
   "source": [
    "calculateRDA('', '남', 20, 1.7, 70, 1.25) "
   ]
  },
  {
   "cell_type": "code",
   "execution_count": 9,
   "id": "cdbafeb1-d755-4853-8d75-d68b768fb494",
   "metadata": {},
   "outputs": [
    {
     "name": "stdout",
     "output_type": "stream",
     "text": [
      "연령대 :  19~29\n",
      "권장 섭취량 (일반) :  [2600, 130, 65, '10~20', 1500, 300, '15~30', 7, 1]\n",
      "nutri_recomm[5] (나트륨) :  3700\n",
      "권장 섭취량(유병자 적용 후) :  [2600, 130, 65, '10~20', 1500, 3700, '15~30', 7, 1]\n"
     ]
    },
    {
     "data": {
      "text/plain": [
       "[2600, 130, 65, '10~20', 1500, 3700, '15~30', 7, 1]"
      ]
     },
     "execution_count": 9,
     "metadata": {},
     "output_type": "execute_result"
    }
   ],
   "source": [
    "calculateRDA('고혈압', '남', 20, 1.7, 70, 1.25) "
   ]
  },
  {
   "cell_type": "code",
   "execution_count": 10,
   "id": "e405c0ab-688a-468f-a623-4b38c640c0df",
   "metadata": {},
   "outputs": [
    {
     "name": "stdout",
     "output_type": "stream",
     "text": [
      "연령대 :  19~29\n",
      "권장 섭취량 (일반) :  [2600, 130, 65, '10~20', 1500, 300, '15~30', 7, 1]\n",
      "nutri_recomm[1] (탄수화물) :  518.0\n",
      "권장 섭취량(유병자 적용 후) :  [2600, 518.0, 65, '10~20', 1500, 300, '15~30', 7, 1]\n"
     ]
    },
    {
     "data": {
      "text/plain": [
       "[2600, 518.0, 65, '10~20', 1500, 300, '15~30', 7, 1]"
      ]
     },
     "execution_count": 10,
     "metadata": {},
     "output_type": "execute_result"
    }
   ],
   "source": [
    "calculateRDA('당뇨', '남', 20, 1.7, 70, 1.25) "
   ]
  },
  {
   "cell_type": "code",
   "execution_count": 11,
   "id": "43fccf15-e9a7-40e1-9cc9-db81308c7ef6",
   "metadata": {},
   "outputs": [
    {
     "name": "stdout",
     "output_type": "stream",
     "text": [
      "연령대 :  19~29\n",
      "권장 섭취량 (일반) :  [2600, 130, 65, '10~20', 1500, 300, '15~30', 7, 1]\n",
      "nutri_recomm[6] (포화지방산) :  23.0\n",
      "권장 섭취량(유병자 적용 후) :  [2600, 130, 65, '10~20', 1500, 300, 23.0, 7, 1]\n"
     ]
    },
    {
     "data": {
      "text/plain": [
       "[2600, 130, 65, '10~20', 1500, 300, 23.0, 7, 1]"
      ]
     },
     "execution_count": 11,
     "metadata": {},
     "output_type": "execute_result"
    }
   ],
   "source": [
    "calculateRDA('고지혈증', '남', 20, 1.7, 70, 1.25) "
   ]
  },
  {
   "cell_type": "markdown",
   "id": "fc0a7cdd-6518-4da6-bbba-0f94a056b5f5",
   "metadata": {},
   "source": [
    "---"
   ]
  },
  {
   "cell_type": "code",
   "execution_count": 15,
   "id": "a1e9955d-6da1-4a6b-87b3-30fca79adb04",
   "metadata": {},
   "outputs": [
    {
     "data": {
      "text/html": [
       "<div>\n",
       "<style scoped>\n",
       "    .dataframe tbody tr th:only-of-type {\n",
       "        vertical-align: middle;\n",
       "    }\n",
       "\n",
       "    .dataframe tbody tr th {\n",
       "        vertical-align: top;\n",
       "    }\n",
       "\n",
       "    .dataframe thead th {\n",
       "        text-align: right;\n",
       "    }\n",
       "</style>\n",
       "<table border=\"1\" class=\"dataframe\">\n",
       "  <thead>\n",
       "    <tr style=\"text-align: right;\">\n",
       "      <th></th>\n",
       "      <th>Unnamed: 0</th>\n",
       "      <th>식품코드</th>\n",
       "      <th>식품명</th>\n",
       "      <th>에너지(kcal)</th>\n",
       "      <th>탄수화물(g)</th>\n",
       "      <th>단백질(g)</th>\n",
       "      <th>지방(g)</th>\n",
       "      <th>포화지방산(g)</th>\n",
       "      <th>나트륨(mg)</th>\n",
       "      <th>cluster</th>\n",
       "      <th>clusterLabel</th>\n",
       "    </tr>\n",
       "  </thead>\n",
       "  <tbody>\n",
       "    <tr>\n",
       "      <th>0</th>\n",
       "      <td>0</td>\n",
       "      <td>P109-302030200-2176</td>\n",
       "      <td>과·채주스_프룻밀토마토</td>\n",
       "      <td>43</td>\n",
       "      <td>10.0</td>\n",
       "      <td>0.47</td>\n",
       "      <td>0.0</td>\n",
       "      <td>0.0</td>\n",
       "      <td>17.0</td>\n",
       "      <td>2</td>\n",
       "      <td>1</td>\n",
       "    </tr>\n",
       "    <tr>\n",
       "      <th>1</th>\n",
       "      <td>1</td>\n",
       "      <td>P109-302030200-2177</td>\n",
       "      <td>과·채주스_프리마5후르츠칵테일주스</td>\n",
       "      <td>45</td>\n",
       "      <td>10.7</td>\n",
       "      <td>0.30</td>\n",
       "      <td>0.0</td>\n",
       "      <td>0.0</td>\n",
       "      <td>0.0</td>\n",
       "      <td>2</td>\n",
       "      <td>1</td>\n",
       "    </tr>\n",
       "    <tr>\n",
       "      <th>2</th>\n",
       "      <td>2</td>\n",
       "      <td>P109-302030200-2178</td>\n",
       "      <td>과·채주스_프리마셀렉션사과주스</td>\n",
       "      <td>45</td>\n",
       "      <td>11.0</td>\n",
       "      <td>0.20</td>\n",
       "      <td>0.2</td>\n",
       "      <td>0.0</td>\n",
       "      <td>0.0</td>\n",
       "      <td>2</td>\n",
       "      <td>1</td>\n",
       "    </tr>\n",
       "  </tbody>\n",
       "</table>\n",
       "</div>"
      ],
      "text/plain": [
       "   Unnamed: 0                 식품코드                 식품명  에너지(kcal)  탄수화물(g)  \\\n",
       "0           0  P109-302030200-2176        과·채주스_프룻밀토마토         43     10.0   \n",
       "1           1  P109-302030200-2177  과·채주스_프리마5후르츠칵테일주스         45     10.7   \n",
       "2           2  P109-302030200-2178    과·채주스_프리마셀렉션사과주스         45     11.0   \n",
       "\n",
       "   단백질(g)  지방(g)  포화지방산(g)  나트륨(mg)  cluster  clusterLabel  \n",
       "0    0.47    0.0       0.0     17.0        2             1  \n",
       "1    0.30    0.0       0.0      0.0        2             1  \n",
       "2    0.20    0.2       0.0      0.0        2             1  "
      ]
     },
     "execution_count": 15,
     "metadata": {},
     "output_type": "execute_result"
    }
   ],
   "source": [
    "# 특정 음식에 대한 군집 내의 유사 대체품 검색 : 최단거리 탐색\n",
    "# 군집화된 csv 로딩\n",
    "\n",
    "foodSet = pd.read_csv('./Final_Cluster_Result.csv')\n",
    "foodSet.head(3)"
   ]
  },
  {
   "cell_type": "code",
   "execution_count": 40,
   "id": "8f24c915-0691-4573-95a8-3cba208f7cf2",
   "metadata": {},
   "outputs": [
    {
     "data": {
      "text/plain": [
       "Unnamed: 0                      130\n",
       "식품코드            P109-302030200-2068\n",
       "식품명             과·채주스_파스퇴르발렌시아오렌지주스\n",
       "에너지(kcal)                        43\n",
       "탄수화물(g)                        10.0\n",
       "단백질(g)                          0.4\n",
       "지방(g)                           0.1\n",
       "포화지방산(g)                       0.05\n",
       "나트륨(mg)                        10.0\n",
       "cluster                           2\n",
       "clusterLabel                      1\n",
       "Name: 130, dtype: object"
      ]
     },
     "execution_count": 40,
     "metadata": {},
     "output_type": "execute_result"
    }
   ],
   "source": [
    "# 입력 음식(오렌지주스)에 대한 정보 조회\n",
    "\n",
    "# test\n",
    "# foodSet.loc[foodSet['식품명'] == '과·채주스_프리마셀렉션사과주스']\n",
    "\n",
    "# foodSet['식품명'] == '오렌지주스'\n",
    "# 단어 포함 유사검색으로 조회\n",
    "# 다수일 경우 첫번째 행 추출\n",
    "\n",
    "inputFood = foodSet.loc[foodSet['식품명'].str.contains('오렌지주스')].iloc[0]\n"
   ]
  },
  {
   "cell_type": "code",
   "execution_count": 12,
   "id": "f0adc924-a673-456e-8fed-71620aafe8a0",
   "metadata": {},
   "outputs": [],
   "source": [
    "cursor.close()\n",
    "conn.close()"
   ]
  }
 ],
 "metadata": {
  "kernelspec": {
   "display_name": "Python 3 (ipykernel)",
   "language": "python",
   "name": "python3"
  },
  "language_info": {
   "codemirror_mode": {
    "name": "ipython",
    "version": 3
   },
   "file_extension": ".py",
   "mimetype": "text/x-python",
   "name": "python",
   "nbconvert_exporter": "python",
   "pygments_lexer": "ipython3",
   "version": "3.12.0"
  }
 },
 "nbformat": 4,
 "nbformat_minor": 5
}
