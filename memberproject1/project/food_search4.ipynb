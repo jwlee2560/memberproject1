{
 "cells": [
  {
   "cell_type": "code",
   "execution_count": 1,
   "id": "305e6999-a683-42df-b201-75863445be23",
   "metadata": {},
   "outputs": [],
   "source": [
    "import pandas as pd\n",
    "import numpy as np\n",
    "\n",
    "foods = pd.read_csv('./전국통합식품영양성분정보(가공식품)표준데이터.csv', sep=',', encoding='ms949')"
   ]
  },
  {
   "cell_type": "code",
   "execution_count": 2,
   "id": "25a2e828-1ac5-436b-9b66-7245c4320a0e",
   "metadata": {},
   "outputs": [],
   "source": [
    "# foodSet = pd.DataFrame(foods, columns=['식품코드', '식품명', '에너지(kcal)', '탄수화물(g)', '단백질(g)', '지방(g)', '포화지방산(g)', '나트륨(mg)'])\n",
    "foodSet = pd.DataFrame(foods, columns=['식품코드', '식품명', '대표식품명', '식품대분류명', '식품중분류명', '식품소분류명', '에너지(kcal)', '탄수화물(g)', '단백질(g)', '지방(g)', '포화지방산(g)', '나트륨(mg)'])"
   ]
  },
  {
   "cell_type": "code",
   "execution_count": 3,
   "id": "35d87db2-7c19-4952-806d-c49e7fff7d1a",
   "metadata": {},
   "outputs": [
    {
     "data": {
      "text/plain": [
       "45196"
      ]
     },
     "execution_count": 3,
     "metadata": {},
     "output_type": "execute_result"
    }
   ],
   "source": [
    "# 추가 : '식품대분류명' = '식용유지류', '잼류', '당류', '장류', '조미식품' 배제\n",
    "#print(foodSet['식품대분류명'])\n",
    "\n",
    "foodSet = foodSet.loc[(foodSet['식품대분류명'] != '식용유지류') & \\\n",
    "                      (foodSet['식품대분류명'] != '잼류') & \\\n",
    "                      (foodSet['식품대분류명'] != '당류') & \\\n",
    "                      (foodSet['식품대분류명'] != '장류') & \\\n",
    "                      (foodSet['식품대분류명'] != '조미식품')]\n",
    "len(foodSet)"
   ]
  },
  {
   "cell_type": "code",
   "execution_count": 4,
   "id": "8dbc0be7-6ea6-4e82-a579-3a94e13e6702",
   "metadata": {},
   "outputs": [],
   "source": [
    "# 결측치 제거  : NaN 있을 경우 K Mean 측정에서 문제 발생\n",
    "foodSet.fillna(0, inplace=True)"
   ]
  },
  {
   "cell_type": "code",
   "execution_count": 5,
   "id": "58f0dc1d-cfa5-4751-9e7e-701426a7387d",
   "metadata": {},
   "outputs": [],
   "source": [
    "from konlpy.tag import Okt\n",
    "from konlpy.tag import Kkma\n",
    "\n",
    "import re;\n",
    "\n",
    "okt = Okt()\n",
    "kkma = Kkma()"
   ]
  },
  {
   "cell_type": "code",
   "execution_count": 6,
   "id": "8b4306ac-84bd-457c-9404-7e96ab03e55c",
   "metadata": {},
   "outputs": [],
   "source": [
    "def extractIngredients():\n",
    "    \n",
    "    # 식약처 음식 목록에서 유효단어(가령 음식 구성 단어들)만 추출\n",
    "    ingredients = set()\n",
    "    \n",
    "    for foodname in foodSet['식품명'] :\n",
    "    \n",
    "        foodWords = okt.nouns(foodname)\n",
    "        \n",
    "        for ingre in foodWords:\n",
    "            ingredients.add(ingre)\n",
    "        \n",
    "    return ingredients"
   ]
  },
  {
   "cell_type": "code",
   "execution_count": 7,
   "id": "ad60c70c-e193-437c-af45-079dba20d9b4",
   "metadata": {},
   "outputs": [
    {
     "data": {
      "text/plain": [
       "'송이버섯 버터 굴소스 볶음 반찬'"
      ]
     },
     "execution_count": 7,
     "metadata": {},
     "output_type": "execute_result"
    }
   ],
   "source": [
    "ingreList = extractIngredients()\n",
    "\n",
    "# 불용어 제거\n",
    "def cleanWords(foodname):\n",
    "    \n",
    "    result = ''\n",
    "    foodWords = okt.nouns(foodname)\n",
    "    \n",
    "    for food in foodWords:\n",
    "\n",
    "        if food in ingreList: # 식약처 음식 목록에서 추출한 구성 단어들외에는 제거\n",
    "            result += food + ' '\n",
    "        \n",
    "    return result.strip()\n",
    "\n",
    "cleanWords('새송이버섯버터굴소스볶음 간단반찬')"
   ]
  },
  {
   "cell_type": "code",
   "execution_count": 8,
   "id": "588b6d1e-f295-417d-b6e4-9c81b0481383",
   "metadata": {},
   "outputs": [
    {
     "name": "stdout",
     "output_type": "stream",
     "text": [
      "foodname :  이지밀한우새송이진밥\n",
      "targetFoodnames :  {'볶음', '송이버섯', '버터', '간단', '굴소스', '반찬'}\n",
      "foodnames :  {'밥', '한우', '지밀', '송이진'}\n",
      "타겟 음식 token 길이 :  6\n",
      "소스 음식 token 길이 :  4\n",
      "foundWords :  set()\n"
     ]
    },
    {
     "data": {
      "text/plain": [
       "0"
      ]
     },
     "execution_count": 8,
     "metadata": {},
     "output_type": "execute_result"
    }
   ],
   "source": [
    "# foodname : 식약처 음식 목록 ex) 영·유아용 이유식_완료기밥흰살생선감자조림밥\n",
    "# targetFoodname :  만개의 레시피 음식명  ex) 도시락 반찬으로 최고! 스팸감자조림♡\n",
    "def searchSimilarFood(foodname, targetFoodname):\n",
    "    \n",
    "    # 식품명에 \"_\" 포함시 뒤부분은 token만 식품명으로 추출\n",
    "    if \"_\" in foodname:\n",
    "        foodname = foodname.split(\"_\")[1] # 완료기밥흰살생선감자조림밥\n",
    "\n",
    "    if \"_\" in targetFoodname:\n",
    "        targetFoodname = targetFoodname.split(\"_\")[1] # \n",
    "    \n",
    "    foodnames = set(okt.nouns(foodname))  \n",
    "    targetFoodnames = set(okt.nouns(targetFoodname)) # 도시락 반찬 최고 스팸 감자 조림\n",
    "\n",
    "    print(\"foodname : \", foodname)\n",
    "    print(\"targetFoodnames : \", targetFoodnames)\n",
    "    print(\"foodnames : \", foodnames)\n",
    "\n",
    "    print(\"타겟 음식 token 길이 : \", len(targetFoodnames))\n",
    "    print(\"소스 음식 token 길이 : \", len(foodnames))\n",
    "\n",
    "    foundWords = [] # 발견된 단어들\n",
    "    \n",
    "    for food in foodnames:\n",
    "        \n",
    "        if food in targetFoodnames:            \n",
    "            foundWords.append(food)\n",
    "\n",
    "\n",
    "        for targetFood in targetFoodnames : \n",
    "           if targetFood in food:\n",
    "               foundWords.append(food)\n",
    "               print(\"해당 단어 : \", food)\n",
    "\n",
    "    foundWords = set(foundWords)\n",
    "    \n",
    "    print(\"foundWords : \", foundWords)\n",
    "\n",
    "    trueCount = len(foundWords)\n",
    "\n",
    "    if trueCount == 0:\n",
    "        similarRate = 0\n",
    "    else:            \n",
    "        # 소스/타겟 간의 단어수 비교\n",
    "        # wordCompareCountRate = len(foodnames) / len(targetFoodnames)\n",
    "        # print(\"wordCompareCountRate\", wordCompareCountRate)        \n",
    "\n",
    "        # 단어 일치비율\n",
    "        similarRate = round(trueCount / len(targetFoodnames) * 100, 2)\n",
    "\n",
    "        print(\"단어 match count : \", similarRate)\n",
    "        \n",
    "        # 일치하는 단어 갯수가 비율이 적으면 배제\n",
    "        # 최소 비율 50%    \n",
    "        # if wordCompareCountRate < 0.5:            \n",
    "        #     similarRate = similarRate * wordCompareCountRate        \n",
    "        \n",
    "    return round(similarRate, 2)\n",
    "\n",
    "targetFoodname = '새송이버섯버터굴소스볶음 간단반찬'\n",
    "foodname = '영·유아용 이유식_이지밀한우새송이진밥'\n",
    "searchSimilarFood(foodname, targetFoodname) "
   ]
  },
  {
   "cell_type": "code",
   "execution_count": 9,
   "id": "f933a4d2-c700-4815-ad70-408c7f532822",
   "metadata": {},
   "outputs": [
    {
     "name": "stdout",
     "output_type": "stream",
     "text": [
      "foodname :  이지밀한우새송이진밥\n",
      "targetFoodnames :  {'밥', '한우', '지밀', '송이진'}\n",
      "foodnames :  {'밥', '한우', '지밀', '송이진'}\n",
      "타겟 음식 token 길이 :  4\n",
      "소스 음식 token 길이 :  4\n",
      "해당 단어 :  밥\n",
      "해당 단어 :  한우\n",
      "해당 단어 :  지밀\n",
      "해당 단어 :  송이진\n",
      "foundWords :  {'밥', '한우', '지밀', '송이진'}\n",
      "단어 match count :  100.0\n"
     ]
    },
    {
     "data": {
      "text/plain": [
       "100.0"
      ]
     },
     "execution_count": 9,
     "metadata": {},
     "output_type": "execute_result"
    }
   ],
   "source": [
    "searchSimilarFood(foodname, foodname) # 100%"
   ]
  },
  {
   "cell_type": "code",
   "execution_count": 10,
   "id": "c1dd3631-f9bb-4be3-b1b5-91db0eef9957",
   "metadata": {},
   "outputs": [
    {
     "name": "stdout",
     "output_type": "stream",
     "text": [
      "foodname :  넓은감자당면\n",
      "targetFoodnames :  {'도시락', '감자', '스팸', '최고', '조림', '반찬'}\n",
      "foodnames :  {'감자'}\n",
      "타겟 음식 token 길이 :  6\n",
      "소스 음식 token 길이 :  1\n",
      "해당 단어 :  감자\n",
      "foundWords :  {'감자'}\n",
      "단어 match count :  16.67\n"
     ]
    },
    {
     "data": {
      "text/plain": [
       "16.67"
      ]
     },
     "execution_count": 10,
     "metadata": {},
     "output_type": "execute_result"
    }
   ],
   "source": [
    "targetFoodname = '도시락 반찬으로 최고! 스팸감자조림♡'\n",
    "foodname = '당면_넓은감자당면'\n",
    "searchSimilarFood(foodname, targetFoodname) "
   ]
  },
  {
   "cell_type": "code",
   "execution_count": 18,
   "id": "f3019d67-0ab1-4fa3-a192-c7bb418e2ea4",
   "metadata": {},
   "outputs": [
    {
     "name": "stdout",
     "output_type": "stream",
     "text": [
      "foodname :  감자조림\n",
      "targetFoodnames :  {'묵은지', '김치', '마지막', '콩나물국'}\n",
      "foodnames :  {'감자', '조림'}\n",
      "타겟 음식 token 길이 :  4\n",
      "소스 음식 token 길이 :  2\n",
      "foundWords :  set()\n"
     ]
    },
    {
     "data": {
      "text/plain": [
       "0"
      ]
     },
     "execution_count": 18,
     "metadata": {},
     "output_type": "execute_result"
    }
   ],
   "source": [
    "targetFoodname = '마지막 묵은지 털어 끓인 김치 콩나물국..'\n",
    "foodname = '기타 조림_감자조림'\n",
    "searchSimilarFood(foodname, targetFoodname) "
   ]
  },
  {
   "cell_type": "code",
   "execution_count": 12,
   "id": "ef9b1850-1990-4c0e-b4e6-5d8c922fb64d",
   "metadata": {},
   "outputs": [
    {
     "data": {
      "text/plain": [
       "True"
      ]
     },
     "execution_count": 12,
     "metadata": {},
     "output_type": "execute_result"
    }
   ],
   "source": [
    "\"_\" in \"과·채주스_프룻밀토마토\""
   ]
  },
  {
   "cell_type": "code",
   "execution_count": 13,
   "id": "3be8d0de-858e-4ca4-9a29-0e311c33465b",
   "metadata": {},
   "outputs": [],
   "source": [
    "# foodname : 식약처 음식 목록 ex) 영·유아용 이유식_완료기밥흰살생선감자조림밥\n",
    "# targetFoodname :  만개의 레시피 음식명  ex) 도시락 반찬으로 최고! 스팸감자조림♡\n",
    "# searchSimilarFood 함수에서 print 로그 부분을 뺀 함수\n",
    "def searchSimilarFoodNotComment(foodname, targetFoodname):\n",
    "    \n",
    "    # 식품명에 \"_\" 포함시 뒤부분은 token만 식품명으로 추출\n",
    "    if \"_\" in foodname:\n",
    "        foodname = foodname.split(\"_\")[1] # 완료기밥흰살생선감자조림밥\n",
    "\n",
    "    if \"_\" in targetFoodname:\n",
    "        targetFoodname = targetFoodname.split(\"_\")[1] # \n",
    "    \n",
    "    foodnames = set(okt.nouns(foodname))  \n",
    "    targetFoodnames = set(okt.nouns(targetFoodname)) # 도시락 반찬 최고 스팸 감자 조림\n",
    "\n",
    "    # print(\"foodname : \", foodname)\n",
    "    # print(\"targetFoodnames : \", targetFoodnames)\n",
    "    # print(\"foodnames : \", foodnames)\n",
    "\n",
    "    # print(\"타겟 음식 token 길이 : \", len(targetFoodnames))\n",
    "    # print(\"소스 음식 token 길이 : \", len(foodnames))\n",
    "\n",
    "    foundWords = [] # 발견된 단어들\n",
    "    \n",
    "    for food in foodnames:\n",
    "        \n",
    "        if food in targetFoodnames:            \n",
    "            foundWords.append(food)\n",
    "\n",
    "\n",
    "        for targetFood in targetFoodnames : \n",
    "           if targetFood in food:\n",
    "               foundWords.append(food)\n",
    "               # print(\"해당 단어 : \", food)\n",
    "\n",
    "    foundWords = set(foundWords)\n",
    "    \n",
    "    # print(\"foundWords : \", foundWords)\n",
    "\n",
    "    trueCount = len(foundWords)\n",
    "\n",
    "    if trueCount == 0:\n",
    "        similarRate = 0\n",
    "    else:            \n",
    "        # 소스/타겟 간의 단어수 비교\n",
    "        # wordCompareCountRate = len(foodnames) / len(targetFoodnames)\n",
    "        # print(\"wordCompareCountRate\", wordCompareCountRate)        \n",
    "\n",
    "        # 단어 일치비율\n",
    "        similarRate = round(trueCount / len(targetFoodnames) * 100, 2)\n",
    "\n",
    "        #print(\"단어 match count : \", similarRate)\n",
    "        \n",
    "        # 일치하는 단어 갯수가 비율이 적으면 배제\n",
    "        # 최소 비율 50%    \n",
    "        # if wordCompareCountRate < 0.5:            \n",
    "        #     similarRate = similarRate * wordCompareCountRate        \n",
    "        \n",
    "    return round(similarRate, 2)"
   ]
  },
  {
   "cell_type": "code",
   "execution_count": 17,
   "id": "89c4379e-4298-4ea3-980b-4dba2e30b556",
   "metadata": {},
   "outputs": [
    {
     "name": "stdout",
     "output_type": "stream",
     "text": [
      "단어 일치율 : 33.33, 음식 : 칼국수_100국산순도토리칼국수\n",
      "단어 일치율 : 33.33, 음식 : 칼국수_국수가락 생칼국수\n",
      "단어 일치율 : 33.33, 음식 : 칼국수_오늘좋은 감자생칼국수\n",
      "단어 일치율 : 33.33, 음식 : 칼국수_감자생칼국수\n",
      "단어 일치율 : 33.33, 음식 : 칼국수_감자생칼국수\n",
      "단어 일치율 : 33.33, 음식 : 칼국수_감자생칼국수\n",
      "단어 일치율 : 33.33, 음식 : 칼국수_감자생칼국수\n",
      "단어 일치율 : 33.33, 음식 : 칼국수_감자칼국수\n",
      "단어 일치율 : 33.33, 음식 : 쌀국수_후루룩쌀국수 미역국\n",
      "단어 일치율 : 33.33, 음식 : 쌀국수_농심쌀국수 소고기장국\n",
      "단어 일치율 : 33.33, 음식 : 쌀국수_태국팟타이볶음쌀국수\n",
      "단어 일치율 : 33.33, 음식 : 쌀국수_더 조은 쌀국수 면발의 비법 미분당전용\n",
      "단어 일치율 : 33.33, 음식 : 메밀국수/냉면국수_풍국면 들기름 막국수\n",
      "단어 일치율 : 33.33, 음식 : 라면_국내산감자로만든감자라면\n",
      "단어 일치율 : 33.33, 음식 : 라면_국내산미역을가득담은미역국라면\n",
      "단어 일치율 : 33.33, 음식 : 국수_풍국쫄깃국수\n",
      "단어 일치율 : 33.33, 음식 : 국수_복만네콩국수用국수\n",
      "단어 일치율 : 33.33, 음식 : 국수_봉평촌감자국수\n",
      "단어 일치율 : 33.33, 음식 : 국수_계란국수\n",
      "단어 일치율 : 33.33, 음식 : 국수_가야곡쫄깃감자국수\n",
      "단어 일치율 : 33.33, 음식 : 국수_감자국수\n",
      "단어 일치율 : 33.33, 음식 : 두부_농협 한국농협두부 국산콩두부\n",
      "단어 일치율 : 33.33, 음식 : 두부_농협 한국농협두부 국산콩두부\n",
      "단어 일치율 : 33.33, 음식 : 두부_농협 한국농협두부 국산콩두부 부침용\n",
      "단어 일치율 : 33.33, 음식 : 두부_농협 한국농협두부 국산콩두부 찌개용\n",
      "단어 일치율 : 33.33, 음식 : 떡_미정당 국산쌀로 만든 국물떡볶이\n",
      "단어 일치율 : 33.33, 음식 : 떡_대숲맑은 담양 쌀떡국떡\n",
      "단어 일치율 : 33.33, 음식 : 일반과자_감자스틱간장계란버터\n",
      "단어 일치율 : 33.33, 음식 : 영·유아용 이유식_배추감자국\n",
      "단어 일치율 : 33.33, 음식 : 영·유아용 이유식_연두부계란국\n",
      "단어 일치율 : 33.33, 음식 : 영·유아용 이유식_한우참나물감자아기밥\n",
      "단어 일치율 : 33.33, 음식 : 기타 농산가공품_국산 감자맛전분\n",
      "단어 일치율 : 33.33, 음식 : 기타 농산가공품_한끼거뜬황태계란북엇국누룽지\n",
      "단어 일치율 : 33.33, 음식 : 기타 농산가공품_국산감자칩\n",
      "None\n"
     ]
    }
   ],
   "source": [
    "#targetFoodname = '도시락 반찬으로 최고! 스팸감자조림♡'\n",
    "targetFoodname = '맑은 감자계란국 끓이는법 아기계란국'\n",
    "\n",
    "for foodname in foodSet['식품명']:\n",
    "\n",
    "    similarRate = searchSimilarFoodNotComment(foodname, targetFoodname)\n",
    "\n",
    "    result = list()\n",
    "    \n",
    "    if similarRate > 50:\n",
    "        print(\"단어 일치율 : %.2f, 음식 : %s\" % (similarRate, foodname))\n",
    "        result.append(foodname)\n",
    "\n",
    "    # 검색이 안되면.... 30%대로 조정\n",
    "    if len(result) == 0:\n",
    "        if similarRate > 30:\n",
    "            print(\"단어 일치율 : %.2f, 음식 : %s\" % (similarRate, foodname))\n",
    "            result.append(foodname)        \n",
    "\n",
    "result = result.sort(reverse=True) # 내림차순 정렬\n",
    "\n",
    "#print(len(result))\n",
    "print(result)"
   ]
  },
  {
   "cell_type": "code",
   "execution_count": 16,
   "id": "974da838-5e9a-45f0-acfb-f7a333017546",
   "metadata": {},
   "outputs": [
    {
     "name": "stdout",
     "output_type": "stream",
     "text": [
      "단어 일치율 : 50.00, 음식 : 라면_송송썰린김치가푸짐한김치찌개라면\n",
      "단어 일치율 : 50.00, 음식 : 라면_수미네 묵은지 김치찌개라면\n",
      "단어 일치율 : 50.00, 음식 : 배추김치_더테이블 숙성배추김치(묵은지)\n",
      "단어 일치율 : 50.00, 음식 : 기타김치_손김치 갓김치\n",
      "단어 일치율 : 50.00, 음식 : 기타김치_손김치 총각김치\n",
      "단어 일치율 : 50.00, 음식 : 기타김치_보스김치찌개용김치\n",
      "단어 일치율 : 50.00, 음식 : 기타김치_알타리김치/총각김치\n",
      "None\n"
     ]
    }
   ],
   "source": [
    "targetFoodname = '마지막 묵은지 털어 끓인 김치 콩나물국..'\n",
    "\n",
    "for foodname in foodSet['식품명']:\n",
    "\n",
    "    similarRate = searchSimilarFoodNotComment(foodname, targetFoodname)\n",
    "\n",
    "    result = list()\n",
    "    \n",
    "    if similarRate > 50:\n",
    "        print(\"단어 일치율 : %.2f, 음식 : %s\" % (similarRate, foodname))\n",
    "        result.append(foodname)\n",
    "\n",
    "    # 검색이 안되면.... 30%대로 조정\n",
    "    if len(result) == 0:\n",
    "        if similarRate > 30:\n",
    "            print(\"단어 일치율 : %.2f, 음식 : %s\" % (similarRate, foodname))\n",
    "            result.append(foodname)        \n",
    "\n",
    "result = result.sort(reverse=True) # 내림차순 정렬\n",
    "\n",
    "#print(len(result))\n",
    "print(result)"
   ]
  }
 ],
 "metadata": {
  "kernelspec": {
   "display_name": "Python 3 (ipykernel)",
   "language": "python",
   "name": "python3"
  },
  "language_info": {
   "codemirror_mode": {
    "name": "ipython",
    "version": 3
   },
   "file_extension": ".py",
   "mimetype": "text/x-python",
   "name": "python",
   "nbconvert_exporter": "python",
   "pygments_lexer": "ipython3",
   "version": "3.12.0"
  }
 },
 "nbformat": 4,
 "nbformat_minor": 5
}
