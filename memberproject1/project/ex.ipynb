{
 "cells": [
  {
   "cell_type": "code",
   "execution_count": 2,
   "id": "703edc72-ddd2-46d3-8205-7b17dd58a369",
   "metadata": {},
   "outputs": [
    {
     "data": {
      "text/html": [
       "<div>\n",
       "<style scoped>\n",
       "    .dataframe tbody tr th:only-of-type {\n",
       "        vertical-align: middle;\n",
       "    }\n",
       "\n",
       "    .dataframe tbody tr th {\n",
       "        vertical-align: top;\n",
       "    }\n",
       "\n",
       "    .dataframe thead th {\n",
       "        text-align: right;\n",
       "    }\n",
       "</style>\n",
       "<table border=\"1\" class=\"dataframe\">\n",
       "  <thead>\n",
       "    <tr style=\"text-align: right;\">\n",
       "      <th></th>\n",
       "      <th>식품명</th>\n",
       "      <th>대표식품명</th>\n",
       "      <th>식품중분류명</th>\n",
       "      <th>식품소분류명</th>\n",
       "      <th>에너지(kcal)</th>\n",
       "      <th>탄수화물(g)</th>\n",
       "      <th>단백질(g)</th>\n",
       "      <th>지방(g)</th>\n",
       "      <th>포화지방산(g)</th>\n",
       "      <th>나트륨(mg)</th>\n",
       "    </tr>\n",
       "  </thead>\n",
       "  <tbody>\n",
       "    <tr>\n",
       "      <th>0</th>\n",
       "      <td>과·채주스_프룻밀토마토</td>\n",
       "      <td>과·채주스</td>\n",
       "      <td>과일·채소류음료</td>\n",
       "      <td>과·채주스</td>\n",
       "      <td>43</td>\n",
       "      <td>10.0</td>\n",
       "      <td>0.47</td>\n",
       "      <td>0.0</td>\n",
       "      <td>0.0</td>\n",
       "      <td>17.0</td>\n",
       "    </tr>\n",
       "    <tr>\n",
       "      <th>1</th>\n",
       "      <td>과·채주스_프리마5후르츠칵테일주스</td>\n",
       "      <td>과·채주스</td>\n",
       "      <td>과일·채소류음료</td>\n",
       "      <td>과·채주스</td>\n",
       "      <td>45</td>\n",
       "      <td>10.7</td>\n",
       "      <td>0.30</td>\n",
       "      <td>0.0</td>\n",
       "      <td>0.0</td>\n",
       "      <td>0.0</td>\n",
       "    </tr>\n",
       "  </tbody>\n",
       "</table>\n",
       "</div>"
      ],
      "text/plain": [
       "                  식품명  대표식품명    식품중분류명 식품소분류명  에너지(kcal)  탄수화물(g)  단백질(g)  \\\n",
       "0        과·채주스_프룻밀토마토  과·채주스  과일·채소류음료  과·채주스         43     10.0    0.47   \n",
       "1  과·채주스_프리마5후르츠칵테일주스  과·채주스  과일·채소류음료  과·채주스         45     10.7    0.30   \n",
       "\n",
       "   지방(g)  포화지방산(g)  나트륨(mg)  \n",
       "0    0.0       0.0     17.0  \n",
       "1    0.0       0.0      0.0  "
      ]
     },
     "execution_count": 2,
     "metadata": {},
     "output_type": "execute_result"
    }
   ],
   "source": [
    "import pandas as pd\n",
    "\n",
    "patientFoods = pd.read_csv('./전국통합식품영양성분정보(가공식품)표준데이터.csv', sep=',', encoding='ms949')\n",
    "patientFoodDF = pd.DataFrame(patientFoods, columns=['식품명', '대표식품명', '식품중분류명', '식품소분류명', '에너지(kcal)', '탄수화물(g)', '단백질(g)', '지방(g)', '포화지방산(g)', '나트륨(mg)'])\n",
    "\n",
    "\n",
    "patientFoodDF.head(2)"
   ]
  },
  {
   "cell_type": "code",
   "execution_count": null,
   "id": "13c8e750-ac0d-47dd-8508-45ebc7b7a586",
   "metadata": {},
   "outputs": [],
   "source": []
  }
 ],
 "metadata": {
  "kernelspec": {
   "display_name": "Python 3 (ipykernel)",
   "language": "python",
   "name": "python3"
  },
  "language_info": {
   "codemirror_mode": {
    "name": "ipython",
    "version": 3
   },
   "file_extension": ".py",
   "mimetype": "text/x-python",
   "name": "python",
   "nbconvert_exporter": "python",
   "pygments_lexer": "ipython3",
   "version": "3.12.0"
  }
 },
 "nbformat": 4,
 "nbformat_minor": 5
}
